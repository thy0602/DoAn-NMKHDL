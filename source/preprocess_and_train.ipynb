{
 "cells": [
  {
   "cell_type": "markdown",
   "metadata": {},
   "source": [
    "# ĐỒ ÁN CUỐI KỲ - NHẬP MÔN KHOA HỌC DỮ LIỆU\n",
    "\n",
    "## Đề tài: Ước lượng giá laptop\n",
    "\n",
    "### Sinh viên:\n",
    "        1. MSSV: 18120058        Tên: Phạm Công Minh\n",
    "        2. MSSV: 18120090        Tên: Phạm Nguyên Minh Thy"
   ]
  },
  {
   "cell_type": "markdown",
   "metadata": {},
   "source": [
    "---"
   ]
  },
  {
   "cell_type": "markdown",
   "metadata": {},
   "source": [
    "## Import"
   ]
  },
  {
   "cell_type": "code",
   "execution_count": 1,
   "metadata": {},
   "outputs": [],
   "source": [
    "import pandas as pd\n",
    "import numpy as np\n",
    "\n",
    "from sklearn.model_selection import train_test_split\n",
    "from sklearn.preprocessing import OneHotEncoder, StandardScaler, FunctionTransformer\n",
    "from sklearn.impute import SimpleImputer\n",
    "from sklearn.base import BaseEstimator, TransformerMixin\n",
    "from sklearn.pipeline import Pipeline, make_pipeline\n",
    "from sklearn.compose import ColumnTransformer, make_column_transformer\n",
    "#from sklearn.neural_network import MLPRegressor\n",
    "from sklearn import set_config\n",
    "set_config(display='diagram') # Để trực quan hóa pipeline"
   ]
  },
  {
   "cell_type": "code",
   "execution_count": 2,
   "metadata": {},
   "outputs": [
    {
     "data": {
      "text/plain": [
       "'0.23.1'"
      ]
     },
     "execution_count": 2,
     "metadata": {},
     "output_type": "execute_result"
    }
   ],
   "source": [
    "import sklearn\n",
    "sklearn.__version__"
   ]
  },
  {
   "cell_type": "markdown",
   "metadata": {},
   "source": [
    "## Đọc dữ liệu"
   ]
  },
  {
   "cell_type": "code",
   "execution_count": 3,
   "metadata": {
    "scrolled": true
   },
   "outputs": [
    {
     "data": {
      "text/html": [
       "<div>\n",
       "<style scoped>\n",
       "    .dataframe tbody tr th:only-of-type {\n",
       "        vertical-align: middle;\n",
       "    }\n",
       "\n",
       "    .dataframe tbody tr th {\n",
       "        vertical-align: top;\n",
       "    }\n",
       "\n",
       "    .dataframe thead th {\n",
       "        text-align: right;\n",
       "    }\n",
       "</style>\n",
       "<table border=\"1\" class=\"dataframe\">\n",
       "  <thead>\n",
       "    <tr style=\"text-align: right;\">\n",
       "      <th></th>\n",
       "      <th>producer</th>\n",
       "      <th>processor prod</th>\n",
       "      <th>processor model</th>\n",
       "      <th>cores</th>\n",
       "      <th>core base speed (GHz)</th>\n",
       "      <th>core boost speed (GHz)</th>\n",
       "      <th>ram type</th>\n",
       "      <th>ram cap (GB)</th>\n",
       "      <th>ssd (GB)</th>\n",
       "      <th>hdd (GB)</th>\n",
       "      <th>...</th>\n",
       "      <th>gpu boost speed (GHz)</th>\n",
       "      <th>screen type</th>\n",
       "      <th>screen size (inch)</th>\n",
       "      <th>screen horizontal resolution</th>\n",
       "      <th>screen vertical resolution</th>\n",
       "      <th>sRGB (%)</th>\n",
       "      <th>weight (kg)</th>\n",
       "      <th>os</th>\n",
       "      <th>battery capacity (WHr)</th>\n",
       "      <th>price(USD)</th>\n",
       "    </tr>\n",
       "  </thead>\n",
       "  <tbody>\n",
       "    <tr>\n",
       "      <th>299</th>\n",
       "      <td>dell</td>\n",
       "      <td>intel</td>\n",
       "      <td>i5</td>\n",
       "      <td>4</td>\n",
       "      <td>1.6</td>\n",
       "      <td>4.2</td>\n",
       "      <td>ddr3</td>\n",
       "      <td>8</td>\n",
       "      <td>0</td>\n",
       "      <td>256</td>\n",
       "      <td>...</td>\n",
       "      <td>1100</td>\n",
       "      <td>led ips</td>\n",
       "      <td>13.3</td>\n",
       "      <td>1920</td>\n",
       "      <td>1080</td>\n",
       "      <td>90</td>\n",
       "      <td>1.24</td>\n",
       "      <td>windows home 10.00</td>\n",
       "      <td>45.0</td>\n",
       "      <td>723.0</td>\n",
       "    </tr>\n",
       "    <tr>\n",
       "      <th>500</th>\n",
       "      <td>hp</td>\n",
       "      <td>intel</td>\n",
       "      <td>i7</td>\n",
       "      <td>4</td>\n",
       "      <td>1.8</td>\n",
       "      <td>4.9</td>\n",
       "      <td>ddr4</td>\n",
       "      <td>8</td>\n",
       "      <td>0</td>\n",
       "      <td>512</td>\n",
       "      <td>...</td>\n",
       "      <td>1150</td>\n",
       "      <td>led ips</td>\n",
       "      <td>15.6</td>\n",
       "      <td>1920</td>\n",
       "      <td>1080</td>\n",
       "      <td>60</td>\n",
       "      <td>2.05</td>\n",
       "      <td>windows home 10.00</td>\n",
       "      <td>53.2</td>\n",
       "      <td>885.5</td>\n",
       "    </tr>\n",
       "    <tr>\n",
       "      <th>303</th>\n",
       "      <td>dell</td>\n",
       "      <td>intel</td>\n",
       "      <td>i5</td>\n",
       "      <td>4</td>\n",
       "      <td>2.4</td>\n",
       "      <td>4.2</td>\n",
       "      <td>ddr4</td>\n",
       "      <td>8</td>\n",
       "      <td>0</td>\n",
       "      <td>256</td>\n",
       "      <td>...</td>\n",
       "      <td>1300</td>\n",
       "      <td>led ips</td>\n",
       "      <td>14.5</td>\n",
       "      <td>2560</td>\n",
       "      <td>1600</td>\n",
       "      <td>100</td>\n",
       "      <td>1.26</td>\n",
       "      <td>windows home 10.00</td>\n",
       "      <td>52.0</td>\n",
       "      <td>730.0</td>\n",
       "    </tr>\n",
       "    <tr>\n",
       "      <th>40</th>\n",
       "      <td>acer</td>\n",
       "      <td>intel</td>\n",
       "      <td>i7</td>\n",
       "      <td>4</td>\n",
       "      <td>1.8</td>\n",
       "      <td>4.6</td>\n",
       "      <td>ddr3</td>\n",
       "      <td>8</td>\n",
       "      <td>0</td>\n",
       "      <td>256</td>\n",
       "      <td>...</td>\n",
       "      <td>1468</td>\n",
       "      <td>led ips</td>\n",
       "      <td>14.0</td>\n",
       "      <td>1920</td>\n",
       "      <td>1080</td>\n",
       "      <td>100</td>\n",
       "      <td>1.35</td>\n",
       "      <td>windows home 10.00</td>\n",
       "      <td>48.0</td>\n",
       "      <td>949.0</td>\n",
       "    </tr>\n",
       "    <tr>\n",
       "      <th>495</th>\n",
       "      <td>hp</td>\n",
       "      <td>intel</td>\n",
       "      <td>i7</td>\n",
       "      <td>4</td>\n",
       "      <td>1.8</td>\n",
       "      <td>4.6</td>\n",
       "      <td>ddr4</td>\n",
       "      <td>8</td>\n",
       "      <td>0</td>\n",
       "      <td>256</td>\n",
       "      <td>...</td>\n",
       "      <td>1150</td>\n",
       "      <td>led tn</td>\n",
       "      <td>17.3</td>\n",
       "      <td>1600</td>\n",
       "      <td>900</td>\n",
       "      <td>80</td>\n",
       "      <td>2.45</td>\n",
       "      <td>windows home 10.00</td>\n",
       "      <td>41.0</td>\n",
       "      <td>830.0</td>\n",
       "    </tr>\n",
       "  </tbody>\n",
       "</table>\n",
       "<p>5 rows × 23 columns</p>\n",
       "</div>"
      ],
      "text/plain": [
       "    producer processor prod processor model  cores  core base speed (GHz)  \\\n",
       "299     dell          intel              i5      4                    1.6   \n",
       "500       hp          intel              i7      4                    1.8   \n",
       "303     dell          intel              i5      4                    2.4   \n",
       "40      acer          intel              i7      4                    1.8   \n",
       "495       hp          intel              i7      4                    1.8   \n",
       "\n",
       "     core boost speed (GHz) ram type  ram cap (GB)  ssd (GB)  hdd (GB)  ...  \\\n",
       "299                     4.2     ddr3             8         0       256  ...   \n",
       "500                     4.9     ddr4             8         0       512  ...   \n",
       "303                     4.2     ddr4             8         0       256  ...   \n",
       "40                      4.6     ddr3             8         0       256  ...   \n",
       "495                     4.6     ddr4             8         0       256  ...   \n",
       "\n",
       "    gpu boost speed (GHz)  screen type  screen size (inch)  \\\n",
       "299                  1100      led ips                13.3   \n",
       "500                  1150      led ips                15.6   \n",
       "303                  1300      led ips                14.5   \n",
       "40                   1468      led ips                14.0   \n",
       "495                  1150       led tn                17.3   \n",
       "\n",
       "     screen horizontal resolution screen vertical resolution  sRGB (%)  \\\n",
       "299                          1920                       1080        90   \n",
       "500                          1920                       1080        60   \n",
       "303                          2560                       1600       100   \n",
       "40                           1920                       1080       100   \n",
       "495                          1600                        900        80   \n",
       "\n",
       "     weight (kg)                  os  battery capacity (WHr)  price(USD)  \n",
       "299         1.24  windows home 10.00                    45.0       723.0  \n",
       "500         2.05  windows home 10.00                    53.2       885.5  \n",
       "303         1.26  windows home 10.00                    52.0       730.0  \n",
       "40          1.35  windows home 10.00                    48.0       949.0  \n",
       "495         2.45  windows home 10.00                    41.0       830.0  \n",
       "\n",
       "[5 rows x 23 columns]"
      ]
     },
     "execution_count": 3,
     "metadata": {},
     "output_type": "execute_result"
    }
   ],
   "source": [
    "# Do data lấy theo tứ tự producer nên cần phải shuffle\n",
    "from sklearn.utils import shuffle\n",
    "data_df = pd.read_csv('data.csv')\n",
    "data_df = shuffle(data_df, random_state=0)\n",
    "data_df.head()"
   ]
  },
  {
   "cell_type": "markdown",
   "metadata": {},
   "source": [
    "## Ý nghĩa các cột"
   ]
  },
  {
   "cell_type": "markdown",
   "metadata": {},
   "source": [
    "    1. producer                         tên nhà sản xuất laptop\n",
    "    2. processor prod                   nhà sản xuất CPU\n",
    "    3. processor model                  dòng CPU\n",
    "    4. cores                            số nhân của CPU\n",
    "    5. core base speed (GHz)            tốc độ xung nhịp cơ bản của CPU\n",
    "    6. core boost speed (GHz)           tốc độ xung nhịp tối đa của CPU\n",
    "    7. ram type                         loại RAM\n",
    "    8. ram cap (GB)                     dung lượng RAM\n",
    "    9. ssd (GB)                         dung lượng SSD\n",
    "    10. hdd (GB)                        dung lượng HDD\n",
    "    11. gpu prod                        nhà sản xuất card màn hình\n",
    "    12. gpu size (MB)                   dung lượng card màn hình\n",
    "    13. gpu base speed (GHz)            tốc độ xung nhịp cơ bản của GPU\n",
    "    14. gpu boost speed (GHz)           tốc độ xung nhịp tối đa của GPU\n",
    "    15. screen type                     loại màn hình\n",
    "    16. screen size (inch)              kích thước màn hình\n",
    "    17. creen horizontal resolution     độ phân giải màn hình theo chiều ngang\n",
    "    18. screen vertical resolution      độ phân giải màn hình theo chiều dọc\n",
    "    19. sRGB (%)                        độ phủ màu của màn hình dựa trên tiêu chuẩn sRGB\n",
    "    20. weight (kg)                     trọng lượng máy\n",
    "    21. os                              hệ điều hành\n",
    "    22. battery capacity (Whr)          dung lượng pin\n",
    "    23. price(USD)                      giá"
   ]
  },
  {
   "cell_type": "markdown",
   "metadata": {},
   "source": [
    "---"
   ]
  },
  {
   "cell_type": "markdown",
   "metadata": {},
   "source": [
    "# Khám phá dữ liệu"
   ]
  },
  {
   "cell_type": "code",
   "execution_count": 4,
   "metadata": {},
   "outputs": [
    {
     "data": {
      "text/plain": [
       "(800, 23)"
      ]
     },
     "execution_count": 4,
     "metadata": {},
     "output_type": "execute_result"
    }
   ],
   "source": [
    "# Dữ liệu có bao nhiêu dòng, bao nhiêu cột?\n",
    "data_df.shape"
   ]
  },
  {
   "cell_type": "code",
   "execution_count": 5,
   "metadata": {},
   "outputs": [
    {
     "data": {
      "text/plain": [
       "0"
      ]
     },
     "execution_count": 5,
     "metadata": {},
     "output_type": "execute_result"
    }
   ],
   "source": [
    "# Dữ liệu có dòng bị lặp không?\n",
    "data_df.index.duplicated().sum()"
   ]
  },
  {
   "cell_type": "code",
   "execution_count": 6,
   "metadata": {},
   "outputs": [
    {
     "data": {
      "text/plain": [
       "dtype('float64')"
      ]
     },
     "execution_count": 6,
     "metadata": {},
     "output_type": "execute_result"
    }
   ],
   "source": [
    "# Cột output hiện có kiểu dữ liệu gì?\n",
    "data_df[\"price(USD)\"].dtype"
   ]
  },
  {
   "cell_type": "code",
   "execution_count": 7,
   "metadata": {},
   "outputs": [
    {
     "data": {
      "text/plain": [
       "0"
      ]
     },
     "execution_count": 7,
     "metadata": {},
     "output_type": "execute_result"
    }
   ],
   "source": [
    "# Cột output có giá trị thiếu không?\n",
    "data_df[\"price(USD)\"].isna().sum()"
   ]
  },
  {
   "cell_type": "markdown",
   "metadata": {},
   "source": [
    "## Câu hỏi cần trả lời:"
   ]
  },
  {
   "cell_type": "markdown",
   "metadata": {},
   "source": [
    "**Câu hỏi có dạng:** *Tính giá tiền laptop (`price(USD)`) dựa trên các thuộc tính của laptop*\n",
    "\n",
    "**Lợi ích khi trả lời câu hỏi:** Dự đoán giá laptop dựa trên các thuộc tính giúp cho việc lựa chọn mẫu khi có dự định mua laptop, có 2 hướng đưa ra quyết định:\n",
    "- Chọn trước các mẫu phù hợp túi tiền rồi lấy cấu hình tính ra giá dự đoán và so sánh với giá niêm yết của cửa hàng => chọn mẫu laptop có tỷ lệ giá thực tế/giá dự đoán thấp nhất.\n",
    "- Đưa ra những cấu hình mong muốn để dự đoán giá của máy tính rồi từ khoảng giá tiền đó tìm những mẫu máy tính có những thuộc tính gần với mong muốn.\n",
    "\n",
    "** Đây chỉ là một trong nhiều yếu tố để quyết định việc chọn mẫu laptop phù hợp.*\n",
    "\n",
    "**Nguồn cảm hứng của câu hỏi:**\n",
    "- Việc chọn cách định giá một sản phẩm nào đó lấy cảm hứng từ các bài làm khác đã thấy qua (qua thầy giới thiệu việc tính giá nhà, các bài tập Machine Learning trên mạng,...).\n",
    "- Việc chọn laptop để dự đoán giá lấy cảm hứng từ chính bản thân khi đã từng phân vân trong việc chọn mẫu laptop để mua và chưa có những cơ sở đủ mạnh để đưa ra quyết định."
   ]
  },
  {
   "cell_type": "markdown",
   "metadata": {},
   "source": [
    "---"
   ]
  },
  {
   "cell_type": "markdown",
   "metadata": {},
   "source": [
    "# Tiền xử lý"
   ]
  },
  {
   "cell_type": "markdown",
   "metadata": {},
   "source": [
    "## Tách các tập"
   ]
  },
  {
   "cell_type": "code",
   "execution_count": 8,
   "metadata": {},
   "outputs": [],
   "source": [
    "# Tách X và y\n",
    "y_sr = data_df[\"price(USD)\"]\n",
    "X_df = data_df.drop(\"price(USD)\", axis=1)"
   ]
  },
  {
   "cell_type": "code",
   "execution_count": 9,
   "metadata": {},
   "outputs": [],
   "source": [
    "# Tách từ dữ liệu ra tập test theo tỉ lệ 70%:30%\n",
    "X_df, test_X_df, y_sr, test_y_sr = train_test_split(X_df, y_sr, test_size=0.5, random_state=0)\n",
    "# Từ 70% dữ liệu còn lại tách tập train và tập validation theo tỉ lệ 70%:30%\n",
    "train_X_df, val_X_df, train_y_sr, val_y_sr = train_test_split(X_df, y_sr, test_size=0.4, random_state=0)"
   ]
  },
  {
   "cell_type": "markdown",
   "metadata": {},
   "source": [
    "---"
   ]
  },
  {
   "cell_type": "markdown",
   "metadata": {},
   "source": [
    "## Khám phá dữ liệu (tập huấn luyện)"
   ]
  },
  {
   "cell_type": "code",
   "execution_count": 10,
   "metadata": {},
   "outputs": [
    {
     "data": {
      "text/plain": [
       "producer                         object\n",
       "processor prod                   object\n",
       "processor model                  object\n",
       "cores                             int64\n",
       "core base speed (GHz)           float64\n",
       "core boost speed (GHz)          float64\n",
       "ram type                         object\n",
       "ram cap (GB)                      int64\n",
       "ssd (GB)                          int64\n",
       "hdd (GB)                          int64\n",
       "gpu prod                         object\n",
       "gpu size (MB)                     int64\n",
       "gpu base speed (GHz)              int64\n",
       "gpu boost speed (GHz)             int64\n",
       "screen type                      object\n",
       "screen size (inch)              float64\n",
       "screen horizontal resolution      int64\n",
       "screen vertical resolution        int64\n",
       "sRGB (%)                          int64\n",
       "weight (kg)                     float64\n",
       "os                               object\n",
       "battery capacity (WHr)          float64\n",
       "dtype: object"
      ]
     },
     "execution_count": 10,
     "metadata": {},
     "output_type": "execute_result"
    }
   ],
   "source": [
    "# Xem kiểu dữ liệu của các cột\n",
    "train_X_df.dtypes"
   ]
  },
  {
   "cell_type": "markdown",
   "metadata": {},
   "source": [
    "Các cột đều có kiểu dữ liệu phù hợp."
   ]
  },
  {
   "cell_type": "markdown",
   "metadata": {},
   "source": [
    "##### Xét sự phân bố giá trị của các thuộc tính dạng số"
   ]
  },
  {
   "cell_type": "code",
   "execution_count": 11,
   "metadata": {},
   "outputs": [
    {
     "data": {
      "text/html": [
       "<div>\n",
       "<style scoped>\n",
       "    .dataframe tbody tr th:only-of-type {\n",
       "        vertical-align: middle;\n",
       "    }\n",
       "\n",
       "    .dataframe tbody tr th {\n",
       "        vertical-align: top;\n",
       "    }\n",
       "\n",
       "    .dataframe thead th {\n",
       "        text-align: right;\n",
       "    }\n",
       "</style>\n",
       "<table border=\"1\" class=\"dataframe\">\n",
       "  <thead>\n",
       "    <tr style=\"text-align: right;\">\n",
       "      <th></th>\n",
       "      <th>cores</th>\n",
       "      <th>core base speed (GHz)</th>\n",
       "      <th>core boost speed (GHz)</th>\n",
       "      <th>ram cap (GB)</th>\n",
       "      <th>ssd (GB)</th>\n",
       "      <th>hdd (GB)</th>\n",
       "      <th>gpu size (MB)</th>\n",
       "      <th>gpu base speed (GHz)</th>\n",
       "      <th>gpu boost speed (GHz)</th>\n",
       "      <th>screen size (inch)</th>\n",
       "      <th>screen horizontal resolution</th>\n",
       "      <th>screen vertical resolution</th>\n",
       "      <th>sRGB (%)</th>\n",
       "      <th>weight (kg)</th>\n",
       "      <th>battery capacity (WHr)</th>\n",
       "    </tr>\n",
       "  </thead>\n",
       "  <tbody>\n",
       "    <tr>\n",
       "      <th>missing_ratio</th>\n",
       "      <td>0.0</td>\n",
       "      <td>0.0</td>\n",
       "      <td>0.0</td>\n",
       "      <td>0.0</td>\n",
       "      <td>0.0</td>\n",
       "      <td>0.0</td>\n",
       "      <td>0.0</td>\n",
       "      <td>0.0</td>\n",
       "      <td>0.0</td>\n",
       "      <td>0.0</td>\n",
       "      <td>0.0</td>\n",
       "      <td>0.0</td>\n",
       "      <td>0.0</td>\n",
       "      <td>0.00</td>\n",
       "      <td>0.0</td>\n",
       "    </tr>\n",
       "    <tr>\n",
       "      <th>min</th>\n",
       "      <td>2.0</td>\n",
       "      <td>1.0</td>\n",
       "      <td>3.0</td>\n",
       "      <td>4.0</td>\n",
       "      <td>0.0</td>\n",
       "      <td>0.0</td>\n",
       "      <td>128.0</td>\n",
       "      <td>200.0</td>\n",
       "      <td>500.0</td>\n",
       "      <td>12.3</td>\n",
       "      <td>1366.0</td>\n",
       "      <td>768.0</td>\n",
       "      <td>0.0</td>\n",
       "      <td>0.85</td>\n",
       "      <td>30.0</td>\n",
       "    </tr>\n",
       "    <tr>\n",
       "      <th>lower_quartile</th>\n",
       "      <td>4.0</td>\n",
       "      <td>1.6</td>\n",
       "      <td>3.9</td>\n",
       "      <td>8.0</td>\n",
       "      <td>0.0</td>\n",
       "      <td>256.0</td>\n",
       "      <td>1700.0</td>\n",
       "      <td>300.0</td>\n",
       "      <td>1100.0</td>\n",
       "      <td>14.0</td>\n",
       "      <td>1920.0</td>\n",
       "      <td>1080.0</td>\n",
       "      <td>60.0</td>\n",
       "      <td>1.40</td>\n",
       "      <td>45.0</td>\n",
       "    </tr>\n",
       "    <tr>\n",
       "      <th>median</th>\n",
       "      <td>4.0</td>\n",
       "      <td>2.1</td>\n",
       "      <td>4.2</td>\n",
       "      <td>8.0</td>\n",
       "      <td>0.0</td>\n",
       "      <td>256.0</td>\n",
       "      <td>2048.0</td>\n",
       "      <td>400.0</td>\n",
       "      <td>1200.0</td>\n",
       "      <td>15.6</td>\n",
       "      <td>1920.0</td>\n",
       "      <td>1080.0</td>\n",
       "      <td>90.0</td>\n",
       "      <td>1.80</td>\n",
       "      <td>52.5</td>\n",
       "    </tr>\n",
       "    <tr>\n",
       "      <th>upper_quartile</th>\n",
       "      <td>6.0</td>\n",
       "      <td>2.6</td>\n",
       "      <td>4.5</td>\n",
       "      <td>16.0</td>\n",
       "      <td>0.0</td>\n",
       "      <td>512.0</td>\n",
       "      <td>6144.0</td>\n",
       "      <td>1140.0</td>\n",
       "      <td>1468.0</td>\n",
       "      <td>15.6</td>\n",
       "      <td>1920.0</td>\n",
       "      <td>1080.0</td>\n",
       "      <td>100.0</td>\n",
       "      <td>2.10</td>\n",
       "      <td>66.2</td>\n",
       "    </tr>\n",
       "    <tr>\n",
       "      <th>max</th>\n",
       "      <td>8.0</td>\n",
       "      <td>3.0</td>\n",
       "      <td>5.1</td>\n",
       "      <td>128.0</td>\n",
       "      <td>2000.0</td>\n",
       "      <td>6144.0</td>\n",
       "      <td>16384.0</td>\n",
       "      <td>1531.0</td>\n",
       "      <td>1725.0</td>\n",
       "      <td>17.3</td>\n",
       "      <td>3840.0</td>\n",
       "      <td>2400.0</td>\n",
       "      <td>100.0</td>\n",
       "      <td>4.70</td>\n",
       "      <td>100.0</td>\n",
       "    </tr>\n",
       "  </tbody>\n",
       "</table>\n",
       "</div>"
      ],
      "text/plain": [
       "                cores  core base speed (GHz)  core boost speed (GHz)  \\\n",
       "missing_ratio     0.0                    0.0                     0.0   \n",
       "min               2.0                    1.0                     3.0   \n",
       "lower_quartile    4.0                    1.6                     3.9   \n",
       "median            4.0                    2.1                     4.2   \n",
       "upper_quartile    6.0                    2.6                     4.5   \n",
       "max               8.0                    3.0                     5.1   \n",
       "\n",
       "                ram cap (GB)  ssd (GB)  hdd (GB)  gpu size (MB)  \\\n",
       "missing_ratio            0.0       0.0       0.0            0.0   \n",
       "min                      4.0       0.0       0.0          128.0   \n",
       "lower_quartile           8.0       0.0     256.0         1700.0   \n",
       "median                   8.0       0.0     256.0         2048.0   \n",
       "upper_quartile          16.0       0.0     512.0         6144.0   \n",
       "max                    128.0    2000.0    6144.0        16384.0   \n",
       "\n",
       "                gpu base speed (GHz)  gpu boost speed (GHz)  \\\n",
       "missing_ratio                    0.0                    0.0   \n",
       "min                            200.0                  500.0   \n",
       "lower_quartile                 300.0                 1100.0   \n",
       "median                         400.0                 1200.0   \n",
       "upper_quartile                1140.0                 1468.0   \n",
       "max                           1531.0                 1725.0   \n",
       "\n",
       "                screen size (inch)  screen horizontal resolution  \\\n",
       "missing_ratio                  0.0                           0.0   \n",
       "min                           12.3                        1366.0   \n",
       "lower_quartile                14.0                        1920.0   \n",
       "median                        15.6                        1920.0   \n",
       "upper_quartile                15.6                        1920.0   \n",
       "max                           17.3                        3840.0   \n",
       "\n",
       "                screen vertical resolution  sRGB (%)  weight (kg)  \\\n",
       "missing_ratio                          0.0       0.0         0.00   \n",
       "min                                  768.0       0.0         0.85   \n",
       "lower_quartile                      1080.0      60.0         1.40   \n",
       "median                              1080.0      90.0         1.80   \n",
       "upper_quartile                      1080.0     100.0         2.10   \n",
       "max                                 2400.0     100.0         4.70   \n",
       "\n",
       "                battery capacity (WHr)  \n",
       "missing_ratio                      0.0  \n",
       "min                               30.0  \n",
       "lower_quartile                    45.0  \n",
       "median                            52.5  \n",
       "upper_quartile                    66.2  \n",
       "max                              100.0  "
      ]
     },
     "execution_count": 11,
     "metadata": {},
     "output_type": "execute_result"
    }
   ],
   "source": [
    "num_cols = ['cores',\n",
    "            'core base speed (GHz)', \n",
    "            'core boost speed (GHz)',\n",
    "            'ram cap (GB)',\n",
    "            'ssd (GB)', 'hdd (GB)', \n",
    "            'gpu size (MB)', \n",
    "            'gpu base speed (GHz)',\n",
    "            'gpu boost speed (GHz)',\n",
    "            'screen size (inch)',\n",
    "            'screen horizontal resolution',\n",
    "            'screen vertical resolution',\n",
    "            'sRGB (%)',\n",
    "            'weight (kg)',\n",
    "            'battery capacity (WHr)']\n",
    "\n",
    "df = train_X_df[num_cols]\n",
    "def missing_ratio(df):\n",
    "    return (df.isna().mean() * 100).round(1)\n",
    "def lower_quartile(df):\n",
    "    return df.quantile(0.25).round(1)\n",
    "def median(df):\n",
    "    return df.quantile(0.5).round(1)\n",
    "def upper_quartile(df):\n",
    "    return df.quantile(0.75).round(1)\n",
    "df.agg([missing_ratio, 'min', lower_quartile, median, upper_quartile, 'max'])"
   ]
  },
  {
   "cell_type": "markdown",
   "metadata": {},
   "source": [
    "##### Xét sự phân bố giá trị của các thuộc tính không phải dạng số"
   ]
  },
  {
   "cell_type": "code",
   "execution_count": 12,
   "metadata": {},
   "outputs": [
    {
     "data": {
      "text/html": [
       "<div>\n",
       "<style scoped>\n",
       "    .dataframe tbody tr th:only-of-type {\n",
       "        vertical-align: middle;\n",
       "    }\n",
       "\n",
       "    .dataframe tbody tr th {\n",
       "        vertical-align: top;\n",
       "    }\n",
       "\n",
       "    .dataframe thead th {\n",
       "        text-align: right;\n",
       "    }\n",
       "</style>\n",
       "<table border=\"1\" class=\"dataframe\">\n",
       "  <thead>\n",
       "    <tr style=\"text-align: right;\">\n",
       "      <th></th>\n",
       "      <th>ram type</th>\n",
       "      <th>producer</th>\n",
       "      <th>screen type</th>\n",
       "      <th>os</th>\n",
       "      <th>processor prod</th>\n",
       "      <th>gpu prod</th>\n",
       "      <th>processor model</th>\n",
       "    </tr>\n",
       "  </thead>\n",
       "  <tbody>\n",
       "    <tr>\n",
       "      <th>missing_ratio</th>\n",
       "      <td>0</td>\n",
       "      <td>0</td>\n",
       "      <td>0</td>\n",
       "      <td>0</td>\n",
       "      <td>0</td>\n",
       "      <td>0</td>\n",
       "      <td>0</td>\n",
       "    </tr>\n",
       "    <tr>\n",
       "      <th>num_values</th>\n",
       "      <td>2</td>\n",
       "      <td>6</td>\n",
       "      <td>4</td>\n",
       "      <td>6</td>\n",
       "      <td>2</td>\n",
       "      <td>3</td>\n",
       "      <td>6</td>\n",
       "    </tr>\n",
       "    <tr>\n",
       "      <th>value_ratios</th>\n",
       "      <td>{'ddr4': 96.7, 'ddr3': 3.3}</td>\n",
       "      <td>{'lenovo': 29.6, 'dell': 20.8, 'asus': 19.6, 'hp': 19.6, 'acer': 8.8, 'apple': 1.7}</td>\n",
       "      <td>{'led ips': 87.9, 'led tn': 10.0, 'oled': 1.7, 'led tn wva': 0.4}</td>\n",
       "      <td>{'windows home 10.00': 60.8, 'windows pro 10.00': 33.3, 'linux ubuntu 0.00': 2.5, 'macos  11.00': 1.7, 'no os  0.00': 1.2, 'chrome os  0.00': 0.4}</td>\n",
       "      <td>{'intel': 86.7, 'amd': 13.3}</td>\n",
       "      <td>{'intel': 52.1, 'nvidia': 34.6, 'amd': 13.3}</td>\n",
       "      <td>{'i7': 43.3, 'i5': 36.7, 'ryzen5': 9.6, 'i3': 6.7, 'ryzen3': 2.1, 'ryzen7': 1.7}</td>\n",
       "    </tr>\n",
       "  </tbody>\n",
       "</table>\n",
       "</div>"
      ],
      "text/plain": [
       "                                  ram type  \\\n",
       "missing_ratio                            0   \n",
       "num_values                               2   \n",
       "value_ratios   {'ddr4': 96.7, 'ddr3': 3.3}   \n",
       "\n",
       "                                                                                          producer  \\\n",
       "missing_ratio                                                                                    0   \n",
       "num_values                                                                                       6   \n",
       "value_ratios   {'lenovo': 29.6, 'dell': 20.8, 'asus': 19.6, 'hp': 19.6, 'acer': 8.8, 'apple': 1.7}   \n",
       "\n",
       "                                                                     screen type  \\\n",
       "missing_ratio                                                                  0   \n",
       "num_values                                                                     4   \n",
       "value_ratios   {'led ips': 87.9, 'led tn': 10.0, 'oled': 1.7, 'led tn wva': 0.4}   \n",
       "\n",
       "                                                                                                                                                               os  \\\n",
       "missing_ratio                                                                                                                                                   0   \n",
       "num_values                                                                                                                                                      6   \n",
       "value_ratios   {'windows home 10.00': 60.8, 'windows pro 10.00': 33.3, 'linux ubuntu 0.00': 2.5, 'macos  11.00': 1.7, 'no os  0.00': 1.2, 'chrome os  0.00': 0.4}   \n",
       "\n",
       "                             processor prod  \\\n",
       "missing_ratio                             0   \n",
       "num_values                                2   \n",
       "value_ratios   {'intel': 86.7, 'amd': 13.3}   \n",
       "\n",
       "                                                   gpu prod  \\\n",
       "missing_ratio                                             0   \n",
       "num_values                                                3   \n",
       "value_ratios   {'intel': 52.1, 'nvidia': 34.6, 'amd': 13.3}   \n",
       "\n",
       "                                                                                processor model  \n",
       "missing_ratio                                                                                 0  \n",
       "num_values                                                                                    6  \n",
       "value_ratios   {'i7': 43.3, 'i5': 36.7, 'ryzen5': 9.6, 'i3': 6.7, 'ryzen3': 2.1, 'ryzen7': 1.7}  "
      ]
     },
     "execution_count": 12,
     "metadata": {},
     "output_type": "execute_result"
    }
   ],
   "source": [
    "pd.set_option('display.max_colwidth', 200) # Để nhìn rõ hơn\n",
    "cat_cols = list(set(train_X_df.columns) - set(num_cols))\n",
    "df = train_X_df[cat_cols]\n",
    "def missing_ratio(df):\n",
    "    return (df.isna().mean() * 100).round(1)\n",
    "def num_values(df):\n",
    "    return df.nunique()\n",
    "def value_ratios(c):\n",
    "    return dict((c.value_counts(normalize=True) * 100).round(1))\n",
    "df.agg([missing_ratio, num_values, value_ratios])"
   ]
  },
  {
   "cell_type": "markdown",
   "metadata": {},
   "source": [
    "##### Xét sự phân bố giá trị của Output"
   ]
  },
  {
   "cell_type": "code",
   "execution_count": 13,
   "metadata": {},
   "outputs": [
    {
     "data": {
      "text/plain": [
       "missing_ratio        0.0\n",
       "min                319.0\n",
       "lower_quartile     757.2\n",
       "median            1019.0\n",
       "upper_quartile    1400.8\n",
       "max               4300.0\n",
       "Name: price(USD), dtype: float64"
      ]
     },
     "execution_count": 13,
     "metadata": {},
     "output_type": "execute_result"
    }
   ],
   "source": [
    "train_y_sr.agg([missing_ratio, 'min', lower_quartile, median, upper_quartile, 'max'])"
   ]
  },
  {
   "cell_type": "markdown",
   "metadata": {},
   "source": [
    "Kết luận: Có vẻ là không có gì bất thường."
   ]
  },
  {
   "cell_type": "markdown",
   "metadata": {},
   "source": [
    "## Tiền xử lý (tập huấn luyện)"
   ]
  },
  {
   "cell_type": "markdown",
   "metadata": {},
   "source": [
    "Các bước tiền xử lý đầu tiền (tách, xóa cột):\n",
    "- Tách `processor model` ra thành 2 cột: 1 cột gồm các processor của intel, 1 cột gồm các processor của amd; do cách tách này nên cột `processor prod` không còn cần thiết nữa. Vì muốn chuyển cột `processor model` thành thuộc tính dạng số có **thứ tự** mà các giá trị gồm các dòng chip của 2 nhà sản xuất khác nhau nên việc sắp thứ tự chung với nhau là điều không hợp lý => tách ra thành 2 cột của từng nhà sản xuất rồi mới đánh thứ tự với từng cột \n",
    "- 2 cột `producer` và `os` có nhiều giá trị khác nhau nên sẽ chọn các giá trị xuất hiện nhiều nhất theo `num_top_producer` và `num_top_os` các giá trị khác được thay bằng giá trị \"others\".\n",
    "- Do đã chọn thuộc tính từ trước ở bước thu thập dữ liệu nên không có thuộc tính nào không cần thiết"
   ]
  },
  {
   "cell_type": "code",
   "execution_count": 14,
   "metadata": {},
   "outputs": [
    {
     "data": {
      "text/html": [
       "<div>\n",
       "<style scoped>\n",
       "    .dataframe tbody tr th:only-of-type {\n",
       "        vertical-align: middle;\n",
       "    }\n",
       "\n",
       "    .dataframe tbody tr th {\n",
       "        vertical-align: top;\n",
       "    }\n",
       "\n",
       "    .dataframe thead th {\n",
       "        text-align: right;\n",
       "    }\n",
       "</style>\n",
       "<table border=\"1\" class=\"dataframe\">\n",
       "  <thead>\n",
       "    <tr style=\"text-align: right;\">\n",
       "      <th></th>\n",
       "      <th>producer</th>\n",
       "      <th>processor prod</th>\n",
       "      <th>processor model</th>\n",
       "      <th>cores</th>\n",
       "      <th>core base speed (GHz)</th>\n",
       "      <th>core boost speed (GHz)</th>\n",
       "      <th>ram type</th>\n",
       "      <th>ram cap (GB)</th>\n",
       "      <th>ssd (GB)</th>\n",
       "      <th>hdd (GB)</th>\n",
       "      <th>...</th>\n",
       "      <th>gpu base speed (GHz)</th>\n",
       "      <th>gpu boost speed (GHz)</th>\n",
       "      <th>screen type</th>\n",
       "      <th>screen size (inch)</th>\n",
       "      <th>screen horizontal resolution</th>\n",
       "      <th>screen vertical resolution</th>\n",
       "      <th>sRGB (%)</th>\n",
       "      <th>weight (kg)</th>\n",
       "      <th>os</th>\n",
       "      <th>battery capacity (WHr)</th>\n",
       "    </tr>\n",
       "  </thead>\n",
       "  <tbody>\n",
       "    <tr>\n",
       "      <th>105</th>\n",
       "      <td>asus</td>\n",
       "      <td>intel</td>\n",
       "      <td>i5</td>\n",
       "      <td>4</td>\n",
       "      <td>2.4</td>\n",
       "      <td>4.2</td>\n",
       "      <td>ddr4</td>\n",
       "      <td>8</td>\n",
       "      <td>0</td>\n",
       "      <td>512</td>\n",
       "      <td>...</td>\n",
       "      <td>400</td>\n",
       "      <td>1300</td>\n",
       "      <td>led ips</td>\n",
       "      <td>13.3</td>\n",
       "      <td>1920</td>\n",
       "      <td>1080</td>\n",
       "      <td>60</td>\n",
       "      <td>1.18</td>\n",
       "      <td>windows home 10.00</td>\n",
       "      <td>50.0</td>\n",
       "    </tr>\n",
       "    <tr>\n",
       "      <th>542</th>\n",
       "      <td>hp</td>\n",
       "      <td>intel</td>\n",
       "      <td>i5</td>\n",
       "      <td>4</td>\n",
       "      <td>1.6</td>\n",
       "      <td>4.2</td>\n",
       "      <td>ddr4</td>\n",
       "      <td>8</td>\n",
       "      <td>0</td>\n",
       "      <td>128</td>\n",
       "      <td>...</td>\n",
       "      <td>300</td>\n",
       "      <td>1100</td>\n",
       "      <td>led ips</td>\n",
       "      <td>13.3</td>\n",
       "      <td>1920</td>\n",
       "      <td>1080</td>\n",
       "      <td>60</td>\n",
       "      <td>1.31</td>\n",
       "      <td>windows home 10.00</td>\n",
       "      <td>53.0</td>\n",
       "    </tr>\n",
       "    <tr>\n",
       "      <th>754</th>\n",
       "      <td>lenovo</td>\n",
       "      <td>intel</td>\n",
       "      <td>i7</td>\n",
       "      <td>6</td>\n",
       "      <td>2.6</td>\n",
       "      <td>4.5</td>\n",
       "      <td>ddr4</td>\n",
       "      <td>16</td>\n",
       "      <td>0</td>\n",
       "      <td>1024</td>\n",
       "      <td>...</td>\n",
       "      <td>1020</td>\n",
       "      <td>1245</td>\n",
       "      <td>led ips</td>\n",
       "      <td>15.6</td>\n",
       "      <td>3840</td>\n",
       "      <td>2160</td>\n",
       "      <td>100</td>\n",
       "      <td>1.90</td>\n",
       "      <td>windows home 10.00</td>\n",
       "      <td>69.0</td>\n",
       "    </tr>\n",
       "    <tr>\n",
       "      <th>118</th>\n",
       "      <td>asus</td>\n",
       "      <td>intel</td>\n",
       "      <td>i5</td>\n",
       "      <td>4</td>\n",
       "      <td>2.5</td>\n",
       "      <td>4.5</td>\n",
       "      <td>ddr4</td>\n",
       "      <td>8</td>\n",
       "      <td>0</td>\n",
       "      <td>256</td>\n",
       "      <td>...</td>\n",
       "      <td>1530</td>\n",
       "      <td>1725</td>\n",
       "      <td>led ips</td>\n",
       "      <td>15.6</td>\n",
       "      <td>1920</td>\n",
       "      <td>1080</td>\n",
       "      <td>0</td>\n",
       "      <td>2.30</td>\n",
       "      <td>windows home 10.00</td>\n",
       "      <td>48.0</td>\n",
       "    </tr>\n",
       "    <tr>\n",
       "      <th>157</th>\n",
       "      <td>asus</td>\n",
       "      <td>intel</td>\n",
       "      <td>i5</td>\n",
       "      <td>4</td>\n",
       "      <td>1.6</td>\n",
       "      <td>3.9</td>\n",
       "      <td>ddr3</td>\n",
       "      <td>8</td>\n",
       "      <td>0</td>\n",
       "      <td>256</td>\n",
       "      <td>...</td>\n",
       "      <td>300</td>\n",
       "      <td>1100</td>\n",
       "      <td>led ips</td>\n",
       "      <td>14.0</td>\n",
       "      <td>1920</td>\n",
       "      <td>1080</td>\n",
       "      <td>90</td>\n",
       "      <td>1.19</td>\n",
       "      <td>windows home 10.00</td>\n",
       "      <td>50.0</td>\n",
       "    </tr>\n",
       "  </tbody>\n",
       "</table>\n",
       "<p>5 rows × 22 columns</p>\n",
       "</div>"
      ],
      "text/plain": [
       "    producer processor prod processor model  cores  core base speed (GHz)  \\\n",
       "105     asus          intel              i5      4                    2.4   \n",
       "542       hp          intel              i5      4                    1.6   \n",
       "754   lenovo          intel              i7      6                    2.6   \n",
       "118     asus          intel              i5      4                    2.5   \n",
       "157     asus          intel              i5      4                    1.6   \n",
       "\n",
       "     core boost speed (GHz) ram type  ram cap (GB)  ssd (GB)  hdd (GB)  ...  \\\n",
       "105                     4.2     ddr4             8         0       512  ...   \n",
       "542                     4.2     ddr4             8         0       128  ...   \n",
       "754                     4.5     ddr4            16         0      1024  ...   \n",
       "118                     4.5     ddr4             8         0       256  ...   \n",
       "157                     3.9     ddr3             8         0       256  ...   \n",
       "\n",
       "    gpu base speed (GHz)  gpu boost speed (GHz)  screen type  \\\n",
       "105                  400                   1300      led ips   \n",
       "542                  300                   1100      led ips   \n",
       "754                 1020                   1245      led ips   \n",
       "118                 1530                   1725      led ips   \n",
       "157                  300                   1100      led ips   \n",
       "\n",
       "     screen size (inch) screen horizontal resolution  \\\n",
       "105                13.3                         1920   \n",
       "542                13.3                         1920   \n",
       "754                15.6                         3840   \n",
       "118                15.6                         1920   \n",
       "157                14.0                         1920   \n",
       "\n",
       "     screen vertical resolution  sRGB (%)  weight (kg)                  os  \\\n",
       "105                        1080        60         1.18  windows home 10.00   \n",
       "542                        1080        60         1.31  windows home 10.00   \n",
       "754                        2160       100         1.90  windows home 10.00   \n",
       "118                        1080         0         2.30  windows home 10.00   \n",
       "157                        1080        90         1.19  windows home 10.00   \n",
       "\n",
       "     battery capacity (WHr)  \n",
       "105                    50.0  \n",
       "542                    53.0  \n",
       "754                    69.0  \n",
       "118                    48.0  \n",
       "157                    50.0  \n",
       "\n",
       "[5 rows x 22 columns]"
      ]
     },
     "execution_count": 14,
     "metadata": {},
     "output_type": "execute_result"
    }
   ],
   "source": [
    "train_X_df.head()"
   ]
  },
  {
   "cell_type": "code",
   "execution_count": 15,
   "metadata": {},
   "outputs": [],
   "source": [
    "# Hàm định nghĩa transformer tách giá trị của thuộc tính processor_model thành 2 cột: \n",
    "# - 1 cột gồm các processor của intel\n",
    "# - 1 cột gồm các processor của amd\n",
    "# Và chuyển về dạng số bằng phương pháp ranking\n",
    "# Đồng thời xóa 2 cột \"processor prod\" và \"processor model\"\n",
    "def split_processor_model(X):\n",
    "    intel_processor_rank = {'i3': 1,\n",
    "                            'i5': 2,\n",
    "                            'i7': 3,\n",
    "                            'ryzen3': 0,\n",
    "                            'ryzen5': 0,\n",
    "                            'ryzen7': 0}\n",
    "    intel_processor_model = X['processor model'].replace(intel_processor_rank)\n",
    "\n",
    "\n",
    "    amd_processor_rank = {'i3': 0,\n",
    "                          'i5': 0,\n",
    "                          'i7': 0,\n",
    "                          'ryzen3': 1,\n",
    "                          'ryzen5': 2,\n",
    "                          'ryzen7': 3}\n",
    "    amd_processor_model = X['processor model'].replace(amd_processor_rank)\n",
    "    \n",
    "    return X.assign(intel_processor_model=intel_processor_model, amd_processor_model=amd_processor_model).drop([\"processor prod\", \"processor model\"], axis=1)"
   ]
  },
  {
   "cell_type": "code",
   "execution_count": 16,
   "metadata": {},
   "outputs": [
    {
     "data": {
      "text/html": [
       "<div>\n",
       "<style scoped>\n",
       "    .dataframe tbody tr th:only-of-type {\n",
       "        vertical-align: middle;\n",
       "    }\n",
       "\n",
       "    .dataframe tbody tr th {\n",
       "        vertical-align: top;\n",
       "    }\n",
       "\n",
       "    .dataframe thead th {\n",
       "        text-align: right;\n",
       "    }\n",
       "</style>\n",
       "<table border=\"1\" class=\"dataframe\">\n",
       "  <thead>\n",
       "    <tr style=\"text-align: right;\">\n",
       "      <th></th>\n",
       "      <th>producer</th>\n",
       "      <th>cores</th>\n",
       "      <th>core base speed (GHz)</th>\n",
       "      <th>core boost speed (GHz)</th>\n",
       "      <th>ram type</th>\n",
       "      <th>ram cap (GB)</th>\n",
       "      <th>ssd (GB)</th>\n",
       "      <th>hdd (GB)</th>\n",
       "      <th>gpu prod</th>\n",
       "      <th>gpu size (MB)</th>\n",
       "      <th>...</th>\n",
       "      <th>screen type</th>\n",
       "      <th>screen size (inch)</th>\n",
       "      <th>screen horizontal resolution</th>\n",
       "      <th>screen vertical resolution</th>\n",
       "      <th>sRGB (%)</th>\n",
       "      <th>weight (kg)</th>\n",
       "      <th>os</th>\n",
       "      <th>battery capacity (WHr)</th>\n",
       "      <th>intel_processor_model</th>\n",
       "      <th>amd_processor_model</th>\n",
       "    </tr>\n",
       "  </thead>\n",
       "  <tbody>\n",
       "    <tr>\n",
       "      <th>105</th>\n",
       "      <td>asus</td>\n",
       "      <td>4</td>\n",
       "      <td>2.4</td>\n",
       "      <td>4.2</td>\n",
       "      <td>ddr4</td>\n",
       "      <td>8</td>\n",
       "      <td>0</td>\n",
       "      <td>512</td>\n",
       "      <td>intel</td>\n",
       "      <td>8192</td>\n",
       "      <td>...</td>\n",
       "      <td>led ips</td>\n",
       "      <td>13.3</td>\n",
       "      <td>1920</td>\n",
       "      <td>1080</td>\n",
       "      <td>60</td>\n",
       "      <td>1.18</td>\n",
       "      <td>windows home 10.00</td>\n",
       "      <td>50.0</td>\n",
       "      <td>2</td>\n",
       "      <td>0</td>\n",
       "    </tr>\n",
       "    <tr>\n",
       "      <th>542</th>\n",
       "      <td>hp</td>\n",
       "      <td>4</td>\n",
       "      <td>1.6</td>\n",
       "      <td>4.2</td>\n",
       "      <td>ddr4</td>\n",
       "      <td>8</td>\n",
       "      <td>0</td>\n",
       "      <td>128</td>\n",
       "      <td>intel</td>\n",
       "      <td>1700</td>\n",
       "      <td>...</td>\n",
       "      <td>led ips</td>\n",
       "      <td>13.3</td>\n",
       "      <td>1920</td>\n",
       "      <td>1080</td>\n",
       "      <td>60</td>\n",
       "      <td>1.31</td>\n",
       "      <td>windows home 10.00</td>\n",
       "      <td>53.0</td>\n",
       "      <td>2</td>\n",
       "      <td>0</td>\n",
       "    </tr>\n",
       "    <tr>\n",
       "      <th>754</th>\n",
       "      <td>lenovo</td>\n",
       "      <td>6</td>\n",
       "      <td>2.6</td>\n",
       "      <td>4.5</td>\n",
       "      <td>ddr4</td>\n",
       "      <td>16</td>\n",
       "      <td>0</td>\n",
       "      <td>1024</td>\n",
       "      <td>nvidia</td>\n",
       "      <td>4096</td>\n",
       "      <td>...</td>\n",
       "      <td>led ips</td>\n",
       "      <td>15.6</td>\n",
       "      <td>3840</td>\n",
       "      <td>2160</td>\n",
       "      <td>100</td>\n",
       "      <td>1.90</td>\n",
       "      <td>windows home 10.00</td>\n",
       "      <td>69.0</td>\n",
       "      <td>3</td>\n",
       "      <td>0</td>\n",
       "    </tr>\n",
       "    <tr>\n",
       "      <th>118</th>\n",
       "      <td>asus</td>\n",
       "      <td>4</td>\n",
       "      <td>2.5</td>\n",
       "      <td>4.5</td>\n",
       "      <td>ddr4</td>\n",
       "      <td>8</td>\n",
       "      <td>0</td>\n",
       "      <td>256</td>\n",
       "      <td>nvidia</td>\n",
       "      <td>4096</td>\n",
       "      <td>...</td>\n",
       "      <td>led ips</td>\n",
       "      <td>15.6</td>\n",
       "      <td>1920</td>\n",
       "      <td>1080</td>\n",
       "      <td>0</td>\n",
       "      <td>2.30</td>\n",
       "      <td>windows home 10.00</td>\n",
       "      <td>48.0</td>\n",
       "      <td>2</td>\n",
       "      <td>0</td>\n",
       "    </tr>\n",
       "    <tr>\n",
       "      <th>157</th>\n",
       "      <td>asus</td>\n",
       "      <td>4</td>\n",
       "      <td>1.6</td>\n",
       "      <td>3.9</td>\n",
       "      <td>ddr3</td>\n",
       "      <td>8</td>\n",
       "      <td>0</td>\n",
       "      <td>256</td>\n",
       "      <td>intel</td>\n",
       "      <td>1700</td>\n",
       "      <td>...</td>\n",
       "      <td>led ips</td>\n",
       "      <td>14.0</td>\n",
       "      <td>1920</td>\n",
       "      <td>1080</td>\n",
       "      <td>90</td>\n",
       "      <td>1.19</td>\n",
       "      <td>windows home 10.00</td>\n",
       "      <td>50.0</td>\n",
       "      <td>2</td>\n",
       "      <td>0</td>\n",
       "    </tr>\n",
       "  </tbody>\n",
       "</table>\n",
       "<p>5 rows × 22 columns</p>\n",
       "</div>"
      ],
      "text/plain": [
       "    producer  cores  core base speed (GHz)  core boost speed (GHz) ram type  \\\n",
       "105     asus      4                    2.4                     4.2     ddr4   \n",
       "542       hp      4                    1.6                     4.2     ddr4   \n",
       "754   lenovo      6                    2.6                     4.5     ddr4   \n",
       "118     asus      4                    2.5                     4.5     ddr4   \n",
       "157     asus      4                    1.6                     3.9     ddr3   \n",
       "\n",
       "     ram cap (GB)  ssd (GB)  hdd (GB) gpu prod  gpu size (MB)  ...  \\\n",
       "105             8         0       512    intel           8192  ...   \n",
       "542             8         0       128    intel           1700  ...   \n",
       "754            16         0      1024   nvidia           4096  ...   \n",
       "118             8         0       256   nvidia           4096  ...   \n",
       "157             8         0       256    intel           1700  ...   \n",
       "\n",
       "     screen type  screen size (inch) screen horizontal resolution  \\\n",
       "105      led ips                13.3                         1920   \n",
       "542      led ips                13.3                         1920   \n",
       "754      led ips                15.6                         3840   \n",
       "118      led ips                15.6                         1920   \n",
       "157      led ips                14.0                         1920   \n",
       "\n",
       "     screen vertical resolution  sRGB (%)  weight (kg)                  os  \\\n",
       "105                        1080        60         1.18  windows home 10.00   \n",
       "542                        1080        60         1.31  windows home 10.00   \n",
       "754                        2160       100         1.90  windows home 10.00   \n",
       "118                        1080         0         2.30  windows home 10.00   \n",
       "157                        1080        90         1.19  windows home 10.00   \n",
       "\n",
       "     battery capacity (WHr) intel_processor_model  amd_processor_model  \n",
       "105                    50.0                     2                    0  \n",
       "542                    53.0                     2                    0  \n",
       "754                    69.0                     3                    0  \n",
       "118                    48.0                     2                    0  \n",
       "157                    50.0                     2                    0  \n",
       "\n",
       "[5 rows x 22 columns]"
      ]
     },
     "execution_count": 16,
     "metadata": {},
     "output_type": "execute_result"
    }
   ],
   "source": [
    "# TEST\n",
    "split_processor_model(train_X_df).head()"
   ]
  },
  {
   "cell_type": "code",
   "execution_count": 17,
   "metadata": {},
   "outputs": [],
   "source": [
    "# Hàm chọn các giá trị xuất hiện nhiều nhất theo \"num_top_producer\" đối với cột \"producer\" và \"num_top_os\" đối với cột \"os\"\n",
    "# và các giá trị khác được thay bằng giá trị \"others\"\n",
    "class ColAdderDropper(BaseEstimator, TransformerMixin):\n",
    "    def __init__(self, num_top_producers=1, num_top_os=1):\n",
    "        self.num_top_producers = num_top_producers\n",
    "        self.num_top_os = num_top_os\n",
    "    def fit(self, X_df, y=None):\n",
    "        producer_col = X_df.producer\n",
    "        self.producer_counts_ = producer_col.value_counts()\n",
    "        producers = list(self.producer_counts_.index)\n",
    "        self.top_producers_ = producers[:max(1, min(self.num_top_producers, len(producers)))]\n",
    "        \n",
    "        os_col = X_df.os\n",
    "        self.os_counts_ = os_col.value_counts()\n",
    "        os = list(self.os_counts_.index)\n",
    "        self.top_os_ = os[:max(1, min(self.num_top_os, len(os)))]\n",
    "        \n",
    "        return self\n",
    "    def transform(self, X_df, y=None):\n",
    "        X = X_df.copy()\n",
    "        X.loc[:, \"producer\"].replace(list(set(X.producer.unique())-set(self.top_producers_)), 'others', inplace=True)\n",
    "        X.loc[:, \"os\"].replace(list(set(X.os.unique())-set(self.top_os_)), 'others', inplace=True)\n",
    "        return X"
   ]
  },
  {
   "cell_type": "code",
   "execution_count": 18,
   "metadata": {},
   "outputs": [
    {
     "name": "stdout",
     "output_type": "stream",
     "text": [
      "lenovo    71\n",
      "dell      50\n",
      "asus      47\n",
      "hp        47\n",
      "acer      21\n",
      "apple      4\n",
      "Name: producer, dtype: int64\n",
      "\n",
      "['lenovo', 'dell', 'asus', 'hp']\n",
      "\n",
      "windows home 10.00    146\n",
      "windows pro 10.00      80\n",
      "linux ubuntu 0.00       6\n",
      "macos  11.00            4\n",
      "no os  0.00             3\n",
      "chrome os  0.00         1\n",
      "Name: os, dtype: int64\n",
      "\n",
      "['windows home 10.00', 'windows pro 10.00', 'linux ubuntu 0.00', 'macos  11.00']\n"
     ]
    }
   ],
   "source": [
    "# TEST\n",
    "col_adderdropper = ColAdderDropper(num_top_producers=4, num_top_os=4)\n",
    "col_adderdropper.fit(split_processor_model(train_X_df))\n",
    "print(col_adderdropper.producer_counts_)\n",
    "print()\n",
    "print(col_adderdropper.top_producers_)\n",
    "print()\n",
    "print(col_adderdropper.os_counts_)\n",
    "print()\n",
    "print(col_adderdropper.top_os_)"
   ]
  },
  {
   "cell_type": "code",
   "execution_count": 19,
   "metadata": {},
   "outputs": [],
   "source": [
    "fewer_cols_train_X_df = col_adderdropper.transform(split_processor_model(train_X_df))"
   ]
  },
  {
   "cell_type": "code",
   "execution_count": 20,
   "metadata": {},
   "outputs": [
    {
     "data": {
      "text/plain": [
       "array(['windows home 10.00', 'macos  11.00', 'windows pro 10.00',\n",
       "       'linux ubuntu 0.00', 'others'], dtype=object)"
      ]
     },
     "execution_count": 20,
     "metadata": {},
     "output_type": "execute_result"
    }
   ],
   "source": [
    "# Kiểm tra lại cột \"os\" đã xử lý đúng chưa\n",
    "fewer_cols_train_X_df.os.unique()"
   ]
  },
  {
   "cell_type": "code",
   "execution_count": 21,
   "metadata": {},
   "outputs": [
    {
     "data": {
      "text/plain": [
       "array(['asus', 'hp', 'lenovo', 'others', 'dell'], dtype=object)"
      ]
     },
     "execution_count": 21,
     "metadata": {},
     "output_type": "execute_result"
    }
   ],
   "source": [
    "# Kiểm tra lại cột \"producer\" đã xử lý đúng chưa\n",
    "fewer_cols_train_X_df.producer.unique()"
   ]
  },
  {
   "cell_type": "code",
   "execution_count": 22,
   "metadata": {},
   "outputs": [
    {
     "data": {
      "text/html": [
       "<div>\n",
       "<style scoped>\n",
       "    .dataframe tbody tr th:only-of-type {\n",
       "        vertical-align: middle;\n",
       "    }\n",
       "\n",
       "    .dataframe tbody tr th {\n",
       "        vertical-align: top;\n",
       "    }\n",
       "\n",
       "    .dataframe thead th {\n",
       "        text-align: right;\n",
       "    }\n",
       "</style>\n",
       "<table border=\"1\" class=\"dataframe\">\n",
       "  <thead>\n",
       "    <tr style=\"text-align: right;\">\n",
       "      <th></th>\n",
       "      <th>producer</th>\n",
       "      <th>cores</th>\n",
       "      <th>core base speed (GHz)</th>\n",
       "      <th>core boost speed (GHz)</th>\n",
       "      <th>ram type</th>\n",
       "      <th>ram cap (GB)</th>\n",
       "      <th>ssd (GB)</th>\n",
       "      <th>hdd (GB)</th>\n",
       "      <th>gpu prod</th>\n",
       "      <th>gpu size (MB)</th>\n",
       "      <th>...</th>\n",
       "      <th>screen type</th>\n",
       "      <th>screen size (inch)</th>\n",
       "      <th>screen horizontal resolution</th>\n",
       "      <th>screen vertical resolution</th>\n",
       "      <th>sRGB (%)</th>\n",
       "      <th>weight (kg)</th>\n",
       "      <th>os</th>\n",
       "      <th>battery capacity (WHr)</th>\n",
       "      <th>intel_processor_model</th>\n",
       "      <th>amd_processor_model</th>\n",
       "    </tr>\n",
       "  </thead>\n",
       "  <tbody>\n",
       "    <tr>\n",
       "      <th>105</th>\n",
       "      <td>asus</td>\n",
       "      <td>4</td>\n",
       "      <td>2.4</td>\n",
       "      <td>4.2</td>\n",
       "      <td>ddr4</td>\n",
       "      <td>8</td>\n",
       "      <td>0</td>\n",
       "      <td>512</td>\n",
       "      <td>intel</td>\n",
       "      <td>8192</td>\n",
       "      <td>...</td>\n",
       "      <td>led ips</td>\n",
       "      <td>13.3</td>\n",
       "      <td>1920</td>\n",
       "      <td>1080</td>\n",
       "      <td>60</td>\n",
       "      <td>1.18</td>\n",
       "      <td>windows home 10.00</td>\n",
       "      <td>50.0</td>\n",
       "      <td>2</td>\n",
       "      <td>0</td>\n",
       "    </tr>\n",
       "    <tr>\n",
       "      <th>542</th>\n",
       "      <td>hp</td>\n",
       "      <td>4</td>\n",
       "      <td>1.6</td>\n",
       "      <td>4.2</td>\n",
       "      <td>ddr4</td>\n",
       "      <td>8</td>\n",
       "      <td>0</td>\n",
       "      <td>128</td>\n",
       "      <td>intel</td>\n",
       "      <td>1700</td>\n",
       "      <td>...</td>\n",
       "      <td>led ips</td>\n",
       "      <td>13.3</td>\n",
       "      <td>1920</td>\n",
       "      <td>1080</td>\n",
       "      <td>60</td>\n",
       "      <td>1.31</td>\n",
       "      <td>windows home 10.00</td>\n",
       "      <td>53.0</td>\n",
       "      <td>2</td>\n",
       "      <td>0</td>\n",
       "    </tr>\n",
       "    <tr>\n",
       "      <th>754</th>\n",
       "      <td>lenovo</td>\n",
       "      <td>6</td>\n",
       "      <td>2.6</td>\n",
       "      <td>4.5</td>\n",
       "      <td>ddr4</td>\n",
       "      <td>16</td>\n",
       "      <td>0</td>\n",
       "      <td>1024</td>\n",
       "      <td>nvidia</td>\n",
       "      <td>4096</td>\n",
       "      <td>...</td>\n",
       "      <td>led ips</td>\n",
       "      <td>15.6</td>\n",
       "      <td>3840</td>\n",
       "      <td>2160</td>\n",
       "      <td>100</td>\n",
       "      <td>1.90</td>\n",
       "      <td>windows home 10.00</td>\n",
       "      <td>69.0</td>\n",
       "      <td>3</td>\n",
       "      <td>0</td>\n",
       "    </tr>\n",
       "    <tr>\n",
       "      <th>118</th>\n",
       "      <td>asus</td>\n",
       "      <td>4</td>\n",
       "      <td>2.5</td>\n",
       "      <td>4.5</td>\n",
       "      <td>ddr4</td>\n",
       "      <td>8</td>\n",
       "      <td>0</td>\n",
       "      <td>256</td>\n",
       "      <td>nvidia</td>\n",
       "      <td>4096</td>\n",
       "      <td>...</td>\n",
       "      <td>led ips</td>\n",
       "      <td>15.6</td>\n",
       "      <td>1920</td>\n",
       "      <td>1080</td>\n",
       "      <td>0</td>\n",
       "      <td>2.30</td>\n",
       "      <td>windows home 10.00</td>\n",
       "      <td>48.0</td>\n",
       "      <td>2</td>\n",
       "      <td>0</td>\n",
       "    </tr>\n",
       "    <tr>\n",
       "      <th>157</th>\n",
       "      <td>asus</td>\n",
       "      <td>4</td>\n",
       "      <td>1.6</td>\n",
       "      <td>3.9</td>\n",
       "      <td>ddr3</td>\n",
       "      <td>8</td>\n",
       "      <td>0</td>\n",
       "      <td>256</td>\n",
       "      <td>intel</td>\n",
       "      <td>1700</td>\n",
       "      <td>...</td>\n",
       "      <td>led ips</td>\n",
       "      <td>14.0</td>\n",
       "      <td>1920</td>\n",
       "      <td>1080</td>\n",
       "      <td>90</td>\n",
       "      <td>1.19</td>\n",
       "      <td>windows home 10.00</td>\n",
       "      <td>50.0</td>\n",
       "      <td>2</td>\n",
       "      <td>0</td>\n",
       "    </tr>\n",
       "  </tbody>\n",
       "</table>\n",
       "<p>5 rows × 22 columns</p>\n",
       "</div>"
      ],
      "text/plain": [
       "    producer  cores  core base speed (GHz)  core boost speed (GHz) ram type  \\\n",
       "105     asus      4                    2.4                     4.2     ddr4   \n",
       "542       hp      4                    1.6                     4.2     ddr4   \n",
       "754   lenovo      6                    2.6                     4.5     ddr4   \n",
       "118     asus      4                    2.5                     4.5     ddr4   \n",
       "157     asus      4                    1.6                     3.9     ddr3   \n",
       "\n",
       "     ram cap (GB)  ssd (GB)  hdd (GB) gpu prod  gpu size (MB)  ...  \\\n",
       "105             8         0       512    intel           8192  ...   \n",
       "542             8         0       128    intel           1700  ...   \n",
       "754            16         0      1024   nvidia           4096  ...   \n",
       "118             8         0       256   nvidia           4096  ...   \n",
       "157             8         0       256    intel           1700  ...   \n",
       "\n",
       "     screen type  screen size (inch) screen horizontal resolution  \\\n",
       "105      led ips                13.3                         1920   \n",
       "542      led ips                13.3                         1920   \n",
       "754      led ips                15.6                         3840   \n",
       "118      led ips                15.6                         1920   \n",
       "157      led ips                14.0                         1920   \n",
       "\n",
       "     screen vertical resolution  sRGB (%)  weight (kg)                  os  \\\n",
       "105                        1080        60         1.18  windows home 10.00   \n",
       "542                        1080        60         1.31  windows home 10.00   \n",
       "754                        2160       100         1.90  windows home 10.00   \n",
       "118                        1080         0         2.30  windows home 10.00   \n",
       "157                        1080        90         1.19  windows home 10.00   \n",
       "\n",
       "     battery capacity (WHr) intel_processor_model  amd_processor_model  \n",
       "105                    50.0                     2                    0  \n",
       "542                    53.0                     2                    0  \n",
       "754                    69.0                     3                    0  \n",
       "118                    48.0                     2                    0  \n",
       "157                    50.0                     2                    0  \n",
       "\n",
       "[5 rows x 22 columns]"
      ]
     },
     "execution_count": 22,
     "metadata": {},
     "output_type": "execute_result"
    }
   ],
   "source": [
    "fewer_cols_train_X_df.head()"
   ]
  },
  {
   "cell_type": "markdown",
   "metadata": {},
   "source": [
    "   \n",
    "\n",
    "Các bước tiền xử lý tiếp theo: (như Bài tập 3)\n",
    "- Với các cột dạng số (`nume_cols`), ta sẽ điền giá trị thiếu bằng giá trị mean của cột (dùng `SimpleImputer`). Với *tất cả* các cột dạng số trong tập huấn luyện, ta đều cần tính mean, vì ta không biết được cột nào sẽ bị thiếu giá trị khi dự đoán với các véc-tơ input mới. \n",
    "- Với các cột không phải dạng số và không có thứ tự (`unorder_cate_cols`):\n",
    "    - Ta sẽ điền giá trị thiếu bằng giá trị mode (giá trị xuất hiện nhiều nhất) của cột (dùng `SimpleImputer`). Với *tất cả* các cột không có dạng số và không có thứ tự, ta đều cần tính mode, vì ta không biết được cột nào sẽ bị thiếu giá trị khi dự đoán với các véc-tơ input mới.\n",
    "    - Sau đó, ta sẽ chuyển sang dạng số bằng phương pháp mã hóa one-hot (dùng `OneHotEncoder`).\n",
    "- Với cột không phải dạng số và có thứ tự (`order_cate_cols`):\n",
    "    - Ta sẽ điền giá trị thiếu bằng giá trị mode (giá trị xuất hiện nhiều nhất) của cột.\n",
    "    - Cột này đã được chuyển sang dạng số rồi nên ta không cần chuyển nữa.\n",
    "- Cuối cùng, khi tất cả các cột đã được điền giá trị thiếu và đã có dạng số, ta sẽ tiến hành chuẩn hóa bằng cách trừ đi mean và chia cho độ lệch chuẩn của cột để giúp cho các thuật toán cực tiểu hóa như Gradient Descent, LBFGS, ... hội tụ nhanh hơn (dùng `StandardScaler`)."
   ]
  },
  {
   "cell_type": "code",
   "execution_count": 23,
   "metadata": {},
   "outputs": [],
   "source": [
    "nume_cols = ['cores',\n",
    "            'core base speed (GHz)', \n",
    "            'core boost speed (GHz)',\n",
    "            'ram cap (GB)',\n",
    "            'ssd (GB)', 'hdd (GB)', \n",
    "            'gpu size (MB)', \n",
    "            'gpu base speed (GHz)',\n",
    "            'gpu boost speed (GHz)',\n",
    "            'screen size (inch)',\n",
    "            'screen horizontal resolution',\n",
    "            'screen vertical resolution',\n",
    "            'sRGB (%)',\n",
    "            'weight (kg)',\n",
    "            'battery capacity (WHr)']\n",
    "unorder_cate_cols = ['producer', 'ram type', 'gpu prod', 'screen type', 'os']\n",
    "order_cate_cols = ['intel_processor_model', 'amd_processor_model']\n",
    "\n",
    "unorder_cate_cols_transformer = make_pipeline(SimpleImputer(strategy='most_frequent'), OneHotEncoder(handle_unknown='ignore'))\n",
    "column_transformer = make_column_transformer((SimpleImputer(strategy='mean'), nume_cols),\n",
    "                                            (unorder_cate_cols_transformer, unorder_cate_cols),\n",
    "                                            (SimpleImputer(strategy='most_frequent'), order_cate_cols))\n",
    "preprocess_pipeline = make_pipeline(FunctionTransformer(split_processor_model), \n",
    "                                    ColAdderDropper(num_top_producers=4, num_top_os=4),\n",
    "                                    column_transformer, StandardScaler())\n",
    "\n",
    "preprocessed_train_X = preprocess_pipeline.fit_transform(train_X_df)"
   ]
  },
  {
   "cell_type": "code",
   "execution_count": 24,
   "metadata": {},
   "outputs": [
    {
     "data": {
      "text/plain": [
       "array([[-0.39509163,  0.61502274, -0.076989  , ..., -0.70710678,\n",
       "        -0.09885336, -0.37682688],\n",
       "       [-0.39509163, -0.95943548, -0.076989  , ..., -0.70710678,\n",
       "        -0.09885336, -0.37682688],\n",
       "       [ 1.19855529,  1.0086373 ,  0.57515308, ..., -0.70710678,\n",
       "         0.88968025, -0.37682688],\n",
       "       ...,\n",
       "       [ 0.40173183, -1.35305004, -2.68555731, ...,  1.41421356,\n",
       "        -0.09885336, -0.37682688],\n",
       "       [-0.39509163, -0.95943548, -0.72913107, ...,  1.41421356,\n",
       "        -0.09885336, -0.37682688],\n",
       "       [ 1.19855529,  0.41821547,  0.79253377, ..., -0.70710678,\n",
       "         0.88968025, -0.37682688]])"
      ]
     },
     "execution_count": 24,
     "metadata": {},
     "output_type": "execute_result"
    }
   ],
   "source": [
    "preprocessed_train_X"
   ]
  },
  {
   "cell_type": "markdown",
   "metadata": {},
   "source": [
    "##### Trực quan hóa pipeline tiền xử lý"
   ]
  },
  {
   "cell_type": "code",
   "execution_count": 25,
   "metadata": {
    "scrolled": true
   },
   "outputs": [
    {
     "data": {
      "text/html": [
       "<style>div.sk-top-container {color: black;background-color: white;}div.sk-toggleable {background-color: white;}label.sk-toggleable__label {cursor: pointer;display: block;width: 100%;margin-bottom: 0;padding: 0.2em 0.3em;box-sizing: border-box;text-align: center;}div.sk-toggleable__content {max-height: 0;max-width: 0;overflow: hidden;text-align: left;background-color: #f0f8ff;}div.sk-toggleable__content pre {margin: 0.2em;color: black;border-radius: 0.25em;background-color: #f0f8ff;}input.sk-toggleable__control:checked~div.sk-toggleable__content {max-height: 200px;max-width: 100%;overflow: auto;}div.sk-estimator input.sk-toggleable__control:checked~label.sk-toggleable__label {background-color: #d4ebff;}div.sk-label input.sk-toggleable__control:checked~label.sk-toggleable__label {background-color: #d4ebff;}input.sk-hidden--visually {border: 0;clip: rect(1px 1px 1px 1px);clip: rect(1px, 1px, 1px, 1px);height: 1px;margin: -1px;overflow: hidden;padding: 0;position: absolute;width: 1px;}div.sk-estimator {font-family: monospace;background-color: #f0f8ff;margin: 0.25em 0.25em;border: 1px dotted black;border-radius: 0.25em;box-sizing: border-box;}div.sk-estimator:hover {background-color: #d4ebff;}div.sk-parallel-item::after {content: \"\";width: 100%;border-bottom: 1px solid gray;flex-grow: 1;}div.sk-label:hover label.sk-toggleable__label {background-color: #d4ebff;}div.sk-serial::before {content: \"\";position: absolute;border-left: 1px solid gray;box-sizing: border-box;top: 2em;bottom: 0;left: 50%;}div.sk-serial {display: flex;flex-direction: column;align-items: center;background-color: white;}div.sk-item {z-index: 1;}div.sk-parallel {display: flex;align-items: stretch;justify-content: center;background-color: white;}div.sk-parallel-item {display: flex;flex-direction: column;position: relative;background-color: white;}div.sk-parallel-item:first-child::after {align-self: flex-end;width: 50%;}div.sk-parallel-item:last-child::after {align-self: flex-start;width: 50%;}div.sk-parallel-item:only-child::after {width: 0;}div.sk-dashed-wrapped {border: 1px dashed gray;margin: 0.2em;box-sizing: border-box;padding-bottom: 0.1em;background-color: white;position: relative;}div.sk-label label {font-family: monospace;font-weight: bold;background-color: white;display: inline-block;line-height: 1.2em;}div.sk-label-container {position: relative;z-index: 2;text-align: center;}div.sk-container {display: inline-block;position: relative;}</style><div class=\"sk-top-container\"><div class=\"sk-container\"><div class=\"sk-item sk-dashed-wrapped\"><div class=\"sk-label-container\"><div class=\"sk-label sk-toggleable\"><input class=\"sk-toggleable__control sk-hidden--visually\" id=\"b4bff2a4-af66-4fec-a5da-229006c783a5\" type=\"checkbox\" ><label class=\"sk-toggleable__label\" for=\"b4bff2a4-af66-4fec-a5da-229006c783a5\">Pipeline</label><div class=\"sk-toggleable__content\"><pre>Pipeline(steps=[('functiontransformer',\n",
       "                 FunctionTransformer(func=<function split_processor_model at 0x0000022429080DC0>)),\n",
       "                ('coladderdropper',\n",
       "                 ColAdderDropper(num_top_os=4, num_top_producers=4)),\n",
       "                ('columntransformer',\n",
       "                 ColumnTransformer(transformers=[('simpleimputer-1',\n",
       "                                                  SimpleImputer(),\n",
       "                                                  ['cores',\n",
       "                                                   'core base speed (GHz)',\n",
       "                                                   'core boost speed (GHz)',\n",
       "                                                   'ram cap (GB)', 'ssd (GB)'...\n",
       "                                                   'battery capacity (WHr)']),\n",
       "                                                 ('pipeline',\n",
       "                                                  Pipeline(steps=[('simpleimputer',\n",
       "                                                                   SimpleImputer(strategy='most_frequent')),\n",
       "                                                                  ('onehotencoder',\n",
       "                                                                   OneHotEncoder(handle_unknown='ignore'))]),\n",
       "                                                  ['producer', 'ram type',\n",
       "                                                   'gpu prod', 'screen type',\n",
       "                                                   'os']),\n",
       "                                                 ('simpleimputer-2',\n",
       "                                                  SimpleImputer(strategy='most_frequent'),\n",
       "                                                  ['intel_processor_model',\n",
       "                                                   'amd_processor_model'])])),\n",
       "                ('standardscaler', StandardScaler())])</pre></div></div></div><div class=\"sk-serial\"><div class=\"sk-item\"><div class=\"sk-estimator sk-toggleable\"><input class=\"sk-toggleable__control sk-hidden--visually\" id=\"9cb4d87c-ba4c-4f6f-bf08-ee80f494c821\" type=\"checkbox\" ><label class=\"sk-toggleable__label\" for=\"9cb4d87c-ba4c-4f6f-bf08-ee80f494c821\">FunctionTransformer</label><div class=\"sk-toggleable__content\"><pre>FunctionTransformer(func=<function split_processor_model at 0x0000022429080DC0>)</pre></div></div></div><div class=\"sk-item\"><div class=\"sk-estimator sk-toggleable\"><input class=\"sk-toggleable__control sk-hidden--visually\" id=\"7f460532-ddb6-4711-b359-cf1bb5315197\" type=\"checkbox\" ><label class=\"sk-toggleable__label\" for=\"7f460532-ddb6-4711-b359-cf1bb5315197\">ColAdderDropper</label><div class=\"sk-toggleable__content\"><pre>ColAdderDropper(num_top_os=4, num_top_producers=4)</pre></div></div></div><div class=\"sk-item sk-dashed-wrapped\"><div class=\"sk-label-container\"><div class=\"sk-label sk-toggleable\"><input class=\"sk-toggleable__control sk-hidden--visually\" id=\"b2efe118-d77b-4a7c-8a66-80a6189360f2\" type=\"checkbox\" ><label class=\"sk-toggleable__label\" for=\"b2efe118-d77b-4a7c-8a66-80a6189360f2\">columntransformer: ColumnTransformer</label><div class=\"sk-toggleable__content\"><pre>ColumnTransformer(transformers=[('simpleimputer-1', SimpleImputer(),\n",
       "                                 ['cores', 'core base speed (GHz)',\n",
       "                                  'core boost speed (GHz)', 'ram cap (GB)',\n",
       "                                  'ssd (GB)', 'hdd (GB)', 'gpu size (MB)',\n",
       "                                  'gpu base speed (GHz)',\n",
       "                                  'gpu boost speed (GHz)', 'screen size (inch)',\n",
       "                                  'screen horizontal resolution',\n",
       "                                  'screen vertical resolution', 'sRGB (%)',\n",
       "                                  'weight (kg)', 'battery capacity (WHr)']),\n",
       "                                ('pipeline',\n",
       "                                 Pipeline(steps=[('simpleimputer',\n",
       "                                                  SimpleImputer(strategy='most_frequent')),\n",
       "                                                 ('onehotencoder',\n",
       "                                                  OneHotEncoder(handle_unknown='ignore'))]),\n",
       "                                 ['producer', 'ram type', 'gpu prod',\n",
       "                                  'screen type', 'os']),\n",
       "                                ('simpleimputer-2',\n",
       "                                 SimpleImputer(strategy='most_frequent'),\n",
       "                                 ['intel_processor_model',\n",
       "                                  'amd_processor_model'])])</pre></div></div></div><div class=\"sk-parallel\"><div class=\"sk-parallel-item\"><div class=\"sk-item\"><div class=\"sk-label-container\"><div class=\"sk-label sk-toggleable\"><input class=\"sk-toggleable__control sk-hidden--visually\" id=\"263ea1c2-daec-4509-a705-c1d8ad15cd4a\" type=\"checkbox\" ><label class=\"sk-toggleable__label\" for=\"263ea1c2-daec-4509-a705-c1d8ad15cd4a\">simpleimputer-1</label><div class=\"sk-toggleable__content\"><pre>['cores', 'core base speed (GHz)', 'core boost speed (GHz)', 'ram cap (GB)', 'ssd (GB)', 'hdd (GB)', 'gpu size (MB)', 'gpu base speed (GHz)', 'gpu boost speed (GHz)', 'screen size (inch)', 'screen horizontal resolution', 'screen vertical resolution', 'sRGB (%)', 'weight (kg)', 'battery capacity (WHr)']</pre></div></div></div><div class=\"sk-serial\"><div class=\"sk-item\"><div class=\"sk-estimator sk-toggleable\"><input class=\"sk-toggleable__control sk-hidden--visually\" id=\"708e3fdf-cffb-446a-9be6-f0b89a3794a7\" type=\"checkbox\" ><label class=\"sk-toggleable__label\" for=\"708e3fdf-cffb-446a-9be6-f0b89a3794a7\">SimpleImputer</label><div class=\"sk-toggleable__content\"><pre>SimpleImputer()</pre></div></div></div></div></div></div><div class=\"sk-parallel-item\"><div class=\"sk-item\"><div class=\"sk-label-container\"><div class=\"sk-label sk-toggleable\"><input class=\"sk-toggleable__control sk-hidden--visually\" id=\"df5f3a7b-ede0-4a9e-86c0-aa5279c652c5\" type=\"checkbox\" ><label class=\"sk-toggleable__label\" for=\"df5f3a7b-ede0-4a9e-86c0-aa5279c652c5\">pipeline</label><div class=\"sk-toggleable__content\"><pre>['producer', 'ram type', 'gpu prod', 'screen type', 'os']</pre></div></div></div><div class=\"sk-serial\"><div class=\"sk-item\"><div class=\"sk-serial\"><div class=\"sk-item\"><div class=\"sk-estimator sk-toggleable\"><input class=\"sk-toggleable__control sk-hidden--visually\" id=\"1e02ca83-986d-474e-8587-1302a970330b\" type=\"checkbox\" ><label class=\"sk-toggleable__label\" for=\"1e02ca83-986d-474e-8587-1302a970330b\">SimpleImputer</label><div class=\"sk-toggleable__content\"><pre>SimpleImputer(strategy='most_frequent')</pre></div></div></div><div class=\"sk-item\"><div class=\"sk-estimator sk-toggleable\"><input class=\"sk-toggleable__control sk-hidden--visually\" id=\"d0b73e4b-73a5-446b-868e-b69bab3749af\" type=\"checkbox\" ><label class=\"sk-toggleable__label\" for=\"d0b73e4b-73a5-446b-868e-b69bab3749af\">OneHotEncoder</label><div class=\"sk-toggleable__content\"><pre>OneHotEncoder(handle_unknown='ignore')</pre></div></div></div></div></div></div></div></div><div class=\"sk-parallel-item\"><div class=\"sk-item\"><div class=\"sk-label-container\"><div class=\"sk-label sk-toggleable\"><input class=\"sk-toggleable__control sk-hidden--visually\" id=\"ed7f434f-657a-4b03-bba2-592b2304a0de\" type=\"checkbox\" ><label class=\"sk-toggleable__label\" for=\"ed7f434f-657a-4b03-bba2-592b2304a0de\">simpleimputer-2</label><div class=\"sk-toggleable__content\"><pre>['intel_processor_model', 'amd_processor_model']</pre></div></div></div><div class=\"sk-serial\"><div class=\"sk-item\"><div class=\"sk-estimator sk-toggleable\"><input class=\"sk-toggleable__control sk-hidden--visually\" id=\"91f4c055-e272-4303-bd16-fc345f82e6e5\" type=\"checkbox\" ><label class=\"sk-toggleable__label\" for=\"91f4c055-e272-4303-bd16-fc345f82e6e5\">SimpleImputer</label><div class=\"sk-toggleable__content\"><pre>SimpleImputer(strategy='most_frequent')</pre></div></div></div></div></div></div></div></div><div class=\"sk-item\"><div class=\"sk-estimator sk-toggleable\"><input class=\"sk-toggleable__control sk-hidden--visually\" id=\"66be2438-30c0-477b-aff4-01b23bce198d\" type=\"checkbox\" ><label class=\"sk-toggleable__label\" for=\"66be2438-30c0-477b-aff4-01b23bce198d\">StandardScaler</label><div class=\"sk-toggleable__content\"><pre>StandardScaler()</pre></div></div></div></div></div></div></div>"
      ],
      "text/plain": [
       "Pipeline(steps=[('functiontransformer',\n",
       "                 FunctionTransformer(func=<function split_processor_model at 0x0000022429080DC0>)),\n",
       "                ('coladderdropper',\n",
       "                 ColAdderDropper(num_top_os=4, num_top_producers=4)),\n",
       "                ('columntransformer',\n",
       "                 ColumnTransformer(transformers=[('simpleimputer-1',\n",
       "                                                  SimpleImputer(),\n",
       "                                                  ['cores',\n",
       "                                                   'core base speed (GHz)',\n",
       "                                                   'core boost speed (GHz)',\n",
       "                                                   'ram cap (GB)', 'ssd (GB)'...\n",
       "                                                   'battery capacity (WHr)']),\n",
       "                                                 ('pipeline',\n",
       "                                                  Pipeline(steps=[('simpleimputer',\n",
       "                                                                   SimpleImputer(strategy='most_frequent')),\n",
       "                                                                  ('onehotencoder',\n",
       "                                                                   OneHotEncoder(handle_unknown='ignore'))]),\n",
       "                                                  ['producer', 'ram type',\n",
       "                                                   'gpu prod', 'screen type',\n",
       "                                                   'os']),\n",
       "                                                 ('simpleimputer-2',\n",
       "                                                  SimpleImputer(strategy='most_frequent'),\n",
       "                                                  ['intel_processor_model',\n",
       "                                                   'amd_processor_model'])])),\n",
       "                ('standardscaler', StandardScaler())])"
      ]
     },
     "execution_count": 25,
     "metadata": {},
     "output_type": "execute_result"
    }
   ],
   "source": [
    "preprocess_pipeline"
   ]
  },
  {
   "cell_type": "markdown",
   "metadata": {},
   "source": [
    "---"
   ]
  },
  {
   "cell_type": "markdown",
   "metadata": {},
   "source": [
    "# Mô hình hóa"
   ]
  },
  {
   "cell_type": "markdown",
   "metadata": {},
   "source": [
    "## Sử dụng mô hình Linear Regression (hàm cực tiểu hóa là Stochastic Gradient Descent)\n",
    "\n",
    "Sử dụng thuật toán Stochastic Gradient Descent cho bài toán Linear Regression\n",
    "\n",
    "Chạy thử nghiệm các siêu tham số:\n",
    "- `alpha`\n",
    "- `num_top_producers`\n",
    "- `num_top_os`\n",
    "\n",
    "Chọn các giá trị của các siêu tham số cho độ lỗi nhỏ nhất trên tập validation"
   ]
  },
  {
   "cell_type": "code",
   "execution_count": 26,
   "metadata": {},
   "outputs": [],
   "source": [
    "from sklearn.linear_model import SGDRegressor"
   ]
  },
  {
   "cell_type": "code",
   "execution_count": 27,
   "metadata": {},
   "outputs": [],
   "source": [
    "# Hàm tính độ đo r^2\n",
    "def compute_mse(y, preds):\n",
    "    return ((y - preds) ** 2).mean()\n",
    "def compute_rr(y, preds, baseline_preds):\n",
    "    return 1 - compute_mse(y, preds) / compute_mse(y, baseline_preds)\n",
    "baseline_preds = train_y_sr.mean()"
   ]
  },
  {
   "cell_type": "code",
   "execution_count": 28,
   "metadata": {},
   "outputs": [],
   "source": [
    "full_pipeline = make_pipeline(FunctionTransformer(split_processor_model), \n",
    "                              ColAdderDropper(num_top_producers=4, num_top_os=4),\n",
    "                              column_transformer, StandardScaler(),\n",
    "                              SGDRegressor(penalty='l2', random_state=0))\n",
    "\n",
    "train_errs = []\n",
    "val_errs = []\n",
    "alphas = [0.01, 0.1, 1, 10, 100]\n",
    "num_top_producers_s = range(1, 8)\n",
    "num_top_os_s = range(1, 7)\n",
    "best_val_err = float('inf'); best_num_top_os = None; best_num_top_producers = None; best_alpha = None\n",
    "for alpha in alphas:\n",
    "    for num_top_producers in num_top_producers_s:\n",
    "        for num_top_os in num_top_os_s:\n",
    "            full_pipeline.set_params(coladderdropper__num_top_producers=num_top_producers, coladderdropper__num_top_os=num_top_os, sgdregressor__alpha=alpha)\n",
    "            full_pipeline.fit(train_X_df, train_y_sr)\n",
    "            train_errs.append(round(100 - compute_rr(train_y_sr, full_pipeline.predict(train_X_df), baseline_preds) * 100, 2))\n",
    "            val_errs.append(round(100 - compute_rr(val_y_sr, full_pipeline.predict(val_X_df), baseline_preds) * 100, 2))\n",
    "            if val_errs[-1] < best_val_err:\n",
    "                best_val_err = val_errs[-1]\n",
    "                best_alpha = alpha\n",
    "                best_num_top_producers = num_top_producers\n",
    "                best_num_top_os = num_top_os"
   ]
  },
  {
   "cell_type": "code",
   "execution_count": 29,
   "metadata": {
    "scrolled": true
   },
   "outputs": [
    {
     "name": "stdout",
     "output_type": "stream",
     "text": [
      "val_errs:\n",
      "[30.02, 29.44, 29.5, 29.51, 29.6, 29.6, 30.01, 29.44, 29.5, 29.51, 29.59, 29.59, 30.73, 30.2, 30.36, 30.34, 30.4, 30.4, 30.74, 30.28, 30.5, 30.51, 30.57, 30.57, 30.61, 30.36, 30.48, 30.54, 30.59, 30.59, 30.61, 30.36, 30.48, 30.54, 30.59, 30.59, 30.61, 30.36, 30.48, 30.54, 30.59, 30.59, 28.7, 28.26, 28.32, 28.25, 28.27, 28.27, 28.69, 28.26, 28.32, 28.24, 28.27, 28.27, 29.37, 29.0, 29.15, 29.08, 29.11, 29.11, 29.37, 29.07, 29.28, 29.31, 29.34, 29.34, 29.51, 29.32, 29.4, 29.42, 29.45, 29.45, 29.51, 29.32, 29.4, 29.42, 29.45, 29.45, 29.51, 29.32, 29.4, 29.42, 29.45, 29.45, 32.12, 31.92, 31.85, 31.65, 31.65, 31.65, 32.11, 31.91, 31.84, 31.65, 31.65, 31.65, 32.81, 32.65, 32.61, 32.4, 32.4, 32.4, 32.69, 32.58, 32.54, 32.48, 32.48, 32.48, 32.94, 32.92, 32.92, 32.92, 32.93, 32.93, 32.94, 32.92, 32.92, 32.92, 32.93, 32.93, 32.94, 32.92, 32.92, 32.92, 32.93, 32.93, 73.86, 73.85, 73.77, 73.43, 73.42, 73.42, 67.45, 67.46, 73.76, 73.42, 73.41, 73.41, 67.56, 67.57, 67.47, 73.56, 73.56, 73.56, 67.39, 67.41, 67.31, 73.42, 73.41, 73.41, 73.38, 73.4, 73.33, 73.07, 73.06, 73.06, 73.38, 73.4, 73.33, 73.07, 73.06, 73.06, 73.38, 73.4, 73.33, 73.07, 73.06, 73.06, 95.3, 95.29, 95.28, 95.24, 95.23, 95.23, 95.3, 95.29, 95.28, 95.24, 95.23, 95.23, 95.32, 95.32, 95.3, 95.26, 95.26, 95.26, 95.38, 95.37, 95.36, 95.32, 95.31, 95.31, 95.3, 95.29, 95.28, 95.24, 95.23, 95.23, 95.3, 95.29, 95.28, 95.24, 95.23, 95.23, 95.3, 95.29, 95.28, 95.24, 95.23, 95.23]\n"
     ]
    }
   ],
   "source": [
    "print(\"val_errs:\")\n",
    "print(val_errs)"
   ]
  },
  {
   "cell_type": "code",
   "execution_count": 30,
   "metadata": {},
   "outputs": [],
   "source": [
    "full_pipeline = make_pipeline(FunctionTransformer(split_processor_model), \n",
    "                              ColAdderDropper(num_top_producers=4, num_top_os=4),\n",
    "                              column_transformer, StandardScaler(),\n",
    "                              SGDRegressor(penalty='l1', random_state=0))\n",
    "\n",
    "train_errs = []\n",
    "val_errs = []\n",
    "alphas = [0.01, 0.1, 1, 10, 100]\n",
    "num_top_producers_s = range(1, 8)\n",
    "num_top_os_s = range(1, 7)\n",
    "best_val_err = float('inf'); best_num_top_os = None; best_num_top_producers = None; best_alpha = None\n",
    "for alpha in alphas:\n",
    "    for num_top_producers in num_top_producers_s:\n",
    "        for num_top_os in num_top_os_s:\n",
    "            full_pipeline.set_params(coladderdropper__num_top_producers=num_top_producers, coladderdropper__num_top_os=num_top_os, sgdregressor__alpha=alpha)\n",
    "            full_pipeline.fit(train_X_df, train_y_sr)\n",
    "            train_errs.append(round(100 - compute_rr(train_y_sr, full_pipeline.predict(train_X_df), baseline_preds) * 100, 2))\n",
    "            val_errs.append(round(100 - compute_rr(val_y_sr, full_pipeline.predict(val_X_df), baseline_preds) * 100, 2))\n",
    "            if val_errs[-1] < best_val_err:\n",
    "                best_val_err = val_errs[-1]\n",
    "                best_alpha = alpha\n",
    "                best_num_top_producers = num_top_producers\n",
    "                best_num_top_os = num_top_os"
   ]
  },
  {
   "cell_type": "code",
   "execution_count": 31,
   "metadata": {},
   "outputs": [
    {
     "name": "stdout",
     "output_type": "stream",
     "text": [
      "val_errs:\n",
      "[30.24, 29.63, 29.69, 29.8, 29.86, 29.86, 30.23, 29.64, 29.72, 29.79, 29.85, 29.85, 30.96, 30.4, 30.56, 30.55, 30.61, 30.61, 30.97, 30.48, 30.7, 30.71, 30.77, 30.77, 30.8, 30.54, 30.7, 30.73, 30.79, 30.79, 30.8, 30.54, 30.7, 30.73, 30.79, 30.79, 30.8, 30.54, 30.7, 30.73, 30.79, 30.79, 30.21, 29.61, 29.65, 29.76, 29.81, 29.81, 30.19, 29.6, 29.69, 29.75, 29.8, 29.8, 30.94, 30.38, 30.54, 30.53, 30.59, 30.59, 30.94, 30.46, 30.68, 30.69, 30.78, 30.78, 30.78, 30.52, 30.65, 30.71, 30.77, 30.77, 30.78, 30.52, 30.65, 30.71, 30.77, 30.77, 30.78, 30.52, 30.65, 30.71, 30.77, 30.77, 30.06, 29.36, 29.4, 29.46, 29.5, 29.5, 30.06, 29.39, 29.41, 29.47, 29.5, 29.5, 31.0, 30.17, 30.35, 30.32, 30.37, 30.37, 30.68, 30.22, 30.46, 30.46, 30.51, 30.51, 30.56, 30.47, 30.65, 30.49, 30.55, 30.55, 30.56, 30.47, 30.65, 30.49, 30.55, 30.55, 30.56, 30.47, 30.65, 30.49, 30.55, 30.55, 29.08, 28.63, 28.73, 28.57, 28.55, 28.55, 29.03, 28.58, 28.72, 28.57, 28.54, 28.54, 29.48, 29.03, 29.21, 29.06, 29.01, 29.01, 29.48, 29.03, 29.17, 29.05, 29.03, 29.03, 29.23, 29.08, 29.24, 29.22, 29.2, 29.2, 29.23, 29.08, 29.24, 29.22, 29.2, 29.2, 29.23, 29.08, 29.24, 29.22, 29.2, 29.2, 34.89, 34.92, 34.93, 34.93, 34.93, 34.93, 34.89, 34.92, 34.92, 34.93, 34.93, 34.93, 34.89, 34.92, 34.92, 34.93, 34.93, 34.93, 34.89, 34.92, 34.93, 34.93, 34.93, 34.93, 34.89, 34.92, 34.93, 34.93, 34.93, 34.93, 34.89, 34.92, 34.93, 34.93, 34.93, 34.93, 34.89, 34.92, 34.93, 34.93, 34.93, 34.93]\n"
     ]
    }
   ],
   "source": [
    "print(\"val_errs:\")\n",
    "print(val_errs)"
   ]
  },
  {
   "cell_type": "markdown",
   "metadata": {},
   "source": [
    "##### Lựa chọn mô hình"
   ]
  },
  {
   "cell_type": "markdown",
   "metadata": {},
   "source": [
    "Rút ra nhận xét và chọn mô hình khi thử nghiệm với tham số `penalty` khác nhau (`l2` (mặc định của SGD) và `l1`): L2 xuất hiện các err rất cao (lên tới 100%), còn L1 thì các err không chênh lệch nhiều \n",
    "=> Cho thấy L2 xử lý vấn đề overfitting không tốt bằng L1\n",
    "\n",
    "Vậy chọn`penalty` = L1 "
   ]
  },
  {
   "cell_type": "code",
   "execution_count": 32,
   "metadata": {},
   "outputs": [
    {
     "name": "stdout",
     "output_type": "stream",
     "text": [
      "Độ lỗi tốt nhất trên tập validation:\n",
      "28.54\n",
      "best_alpha:\n",
      "10\n",
      "best_num_top_producers\n",
      "2\n",
      "best_num_top_os\n",
      "5\n"
     ]
    }
   ],
   "source": [
    "print(\"Độ lỗi tốt nhất trên tập validation:\")\n",
    "print(best_val_err)\n",
    "print(\"best_alpha:\")\n",
    "print(best_alpha)\n",
    "print(\"best_num_top_producers\")\n",
    "print(best_num_top_producers)\n",
    "print(\"best_num_top_os\")\n",
    "print(best_num_top_os)"
   ]
  },
  {
   "cell_type": "markdown",
   "metadata": {},
   "source": [
    "## Đánh giá mô hình tìm được"
   ]
  },
  {
   "cell_type": "markdown",
   "metadata": {},
   "source": [
    "Huấn luyện lại `full_pipeline` trên `X_df` và `y_sr` (tập huấn luyện + tập validation) với `best_alpha`\n",
    ", `best_num_top_producers` và `best_num_top_os` tìm được ở trên để ra được mô hình cụ thể cuối cùng"
   ]
  },
  {
   "cell_type": "code",
   "execution_count": 33,
   "metadata": {
    "scrolled": true
   },
   "outputs": [
    {
     "data": {
      "text/html": [
       "<style>div.sk-top-container {color: black;background-color: white;}div.sk-toggleable {background-color: white;}label.sk-toggleable__label {cursor: pointer;display: block;width: 100%;margin-bottom: 0;padding: 0.2em 0.3em;box-sizing: border-box;text-align: center;}div.sk-toggleable__content {max-height: 0;max-width: 0;overflow: hidden;text-align: left;background-color: #f0f8ff;}div.sk-toggleable__content pre {margin: 0.2em;color: black;border-radius: 0.25em;background-color: #f0f8ff;}input.sk-toggleable__control:checked~div.sk-toggleable__content {max-height: 200px;max-width: 100%;overflow: auto;}div.sk-estimator input.sk-toggleable__control:checked~label.sk-toggleable__label {background-color: #d4ebff;}div.sk-label input.sk-toggleable__control:checked~label.sk-toggleable__label {background-color: #d4ebff;}input.sk-hidden--visually {border: 0;clip: rect(1px 1px 1px 1px);clip: rect(1px, 1px, 1px, 1px);height: 1px;margin: -1px;overflow: hidden;padding: 0;position: absolute;width: 1px;}div.sk-estimator {font-family: monospace;background-color: #f0f8ff;margin: 0.25em 0.25em;border: 1px dotted black;border-radius: 0.25em;box-sizing: border-box;}div.sk-estimator:hover {background-color: #d4ebff;}div.sk-parallel-item::after {content: \"\";width: 100%;border-bottom: 1px solid gray;flex-grow: 1;}div.sk-label:hover label.sk-toggleable__label {background-color: #d4ebff;}div.sk-serial::before {content: \"\";position: absolute;border-left: 1px solid gray;box-sizing: border-box;top: 2em;bottom: 0;left: 50%;}div.sk-serial {display: flex;flex-direction: column;align-items: center;background-color: white;}div.sk-item {z-index: 1;}div.sk-parallel {display: flex;align-items: stretch;justify-content: center;background-color: white;}div.sk-parallel-item {display: flex;flex-direction: column;position: relative;background-color: white;}div.sk-parallel-item:first-child::after {align-self: flex-end;width: 50%;}div.sk-parallel-item:last-child::after {align-self: flex-start;width: 50%;}div.sk-parallel-item:only-child::after {width: 0;}div.sk-dashed-wrapped {border: 1px dashed gray;margin: 0.2em;box-sizing: border-box;padding-bottom: 0.1em;background-color: white;position: relative;}div.sk-label label {font-family: monospace;font-weight: bold;background-color: white;display: inline-block;line-height: 1.2em;}div.sk-label-container {position: relative;z-index: 2;text-align: center;}div.sk-container {display: inline-block;position: relative;}</style><div class=\"sk-top-container\"><div class=\"sk-container\"><div class=\"sk-item sk-dashed-wrapped\"><div class=\"sk-label-container\"><div class=\"sk-label sk-toggleable\"><input class=\"sk-toggleable__control sk-hidden--visually\" id=\"00262288-ce75-4725-9d4e-7593a232f963\" type=\"checkbox\" ><label class=\"sk-toggleable__label\" for=\"00262288-ce75-4725-9d4e-7593a232f963\">Pipeline</label><div class=\"sk-toggleable__content\"><pre>Pipeline(steps=[('functiontransformer',\n",
       "                 FunctionTransformer(func=<function split_processor_model at 0x0000022429080DC0>)),\n",
       "                ('coladderdropper',\n",
       "                 ColAdderDropper(num_top_os=6, num_top_producers=7)),\n",
       "                ('columntransformer',\n",
       "                 ColumnTransformer(transformers=[('simpleimputer-1',\n",
       "                                                  SimpleImputer(),\n",
       "                                                  ['cores',\n",
       "                                                   'core base speed (GHz)',\n",
       "                                                   'core boost speed (GHz)',\n",
       "                                                   'ram cap (GB)', 'ssd (GB)'...\n",
       "                                                                   SimpleImputer(strategy='most_frequent')),\n",
       "                                                                  ('onehotencoder',\n",
       "                                                                   OneHotEncoder(handle_unknown='ignore'))]),\n",
       "                                                  ['producer', 'ram type',\n",
       "                                                   'gpu prod', 'screen type',\n",
       "                                                   'os']),\n",
       "                                                 ('simpleimputer-2',\n",
       "                                                  SimpleImputer(strategy='most_frequent'),\n",
       "                                                  ['intel_processor_model',\n",
       "                                                   'amd_processor_model'])])),\n",
       "                ('standardscaler', StandardScaler()),\n",
       "                ('sgdregressor',\n",
       "                 SGDRegressor(alpha=100, penalty='l1', random_state=0))])</pre></div></div></div><div class=\"sk-serial\"><div class=\"sk-item\"><div class=\"sk-estimator sk-toggleable\"><input class=\"sk-toggleable__control sk-hidden--visually\" id=\"d33e4cb3-6655-48b8-a87d-534c38bcd70c\" type=\"checkbox\" ><label class=\"sk-toggleable__label\" for=\"d33e4cb3-6655-48b8-a87d-534c38bcd70c\">FunctionTransformer</label><div class=\"sk-toggleable__content\"><pre>FunctionTransformer(func=<function split_processor_model at 0x0000022429080DC0>)</pre></div></div></div><div class=\"sk-item\"><div class=\"sk-estimator sk-toggleable\"><input class=\"sk-toggleable__control sk-hidden--visually\" id=\"d104a0ae-1fe2-43a4-ab25-8e28b20f35d8\" type=\"checkbox\" ><label class=\"sk-toggleable__label\" for=\"d104a0ae-1fe2-43a4-ab25-8e28b20f35d8\">ColAdderDropper</label><div class=\"sk-toggleable__content\"><pre>ColAdderDropper(num_top_os=6, num_top_producers=7)</pre></div></div></div><div class=\"sk-item sk-dashed-wrapped\"><div class=\"sk-label-container\"><div class=\"sk-label sk-toggleable\"><input class=\"sk-toggleable__control sk-hidden--visually\" id=\"f1d68682-6738-4b50-917b-eaf8e6583e3d\" type=\"checkbox\" ><label class=\"sk-toggleable__label\" for=\"f1d68682-6738-4b50-917b-eaf8e6583e3d\">columntransformer: ColumnTransformer</label><div class=\"sk-toggleable__content\"><pre>ColumnTransformer(transformers=[('simpleimputer-1', SimpleImputer(),\n",
       "                                 ['cores', 'core base speed (GHz)',\n",
       "                                  'core boost speed (GHz)', 'ram cap (GB)',\n",
       "                                  'ssd (GB)', 'hdd (GB)', 'gpu size (MB)',\n",
       "                                  'gpu base speed (GHz)',\n",
       "                                  'gpu boost speed (GHz)', 'screen size (inch)',\n",
       "                                  'screen horizontal resolution',\n",
       "                                  'screen vertical resolution', 'sRGB (%)',\n",
       "                                  'weight (kg)', 'battery capacity (WHr)']),\n",
       "                                ('pipeline',\n",
       "                                 Pipeline(steps=[('simpleimputer',\n",
       "                                                  SimpleImputer(strategy='most_frequent')),\n",
       "                                                 ('onehotencoder',\n",
       "                                                  OneHotEncoder(handle_unknown='ignore'))]),\n",
       "                                 ['producer', 'ram type', 'gpu prod',\n",
       "                                  'screen type', 'os']),\n",
       "                                ('simpleimputer-2',\n",
       "                                 SimpleImputer(strategy='most_frequent'),\n",
       "                                 ['intel_processor_model',\n",
       "                                  'amd_processor_model'])])</pre></div></div></div><div class=\"sk-parallel\"><div class=\"sk-parallel-item\"><div class=\"sk-item\"><div class=\"sk-label-container\"><div class=\"sk-label sk-toggleable\"><input class=\"sk-toggleable__control sk-hidden--visually\" id=\"b03f786b-bfd4-4ba5-9b6e-672b75551fbf\" type=\"checkbox\" ><label class=\"sk-toggleable__label\" for=\"b03f786b-bfd4-4ba5-9b6e-672b75551fbf\">simpleimputer-1</label><div class=\"sk-toggleable__content\"><pre>['cores', 'core base speed (GHz)', 'core boost speed (GHz)', 'ram cap (GB)', 'ssd (GB)', 'hdd (GB)', 'gpu size (MB)', 'gpu base speed (GHz)', 'gpu boost speed (GHz)', 'screen size (inch)', 'screen horizontal resolution', 'screen vertical resolution', 'sRGB (%)', 'weight (kg)', 'battery capacity (WHr)']</pre></div></div></div><div class=\"sk-serial\"><div class=\"sk-item\"><div class=\"sk-estimator sk-toggleable\"><input class=\"sk-toggleable__control sk-hidden--visually\" id=\"74b86123-75ff-46ad-ab5b-f1d7ea909939\" type=\"checkbox\" ><label class=\"sk-toggleable__label\" for=\"74b86123-75ff-46ad-ab5b-f1d7ea909939\">SimpleImputer</label><div class=\"sk-toggleable__content\"><pre>SimpleImputer()</pre></div></div></div></div></div></div><div class=\"sk-parallel-item\"><div class=\"sk-item\"><div class=\"sk-label-container\"><div class=\"sk-label sk-toggleable\"><input class=\"sk-toggleable__control sk-hidden--visually\" id=\"1bdc9a16-a91c-4302-b65c-812a186f1552\" type=\"checkbox\" ><label class=\"sk-toggleable__label\" for=\"1bdc9a16-a91c-4302-b65c-812a186f1552\">pipeline</label><div class=\"sk-toggleable__content\"><pre>['producer', 'ram type', 'gpu prod', 'screen type', 'os']</pre></div></div></div><div class=\"sk-serial\"><div class=\"sk-item\"><div class=\"sk-serial\"><div class=\"sk-item\"><div class=\"sk-estimator sk-toggleable\"><input class=\"sk-toggleable__control sk-hidden--visually\" id=\"5aa23d4c-ee4d-43a9-b8ab-f7405412cc56\" type=\"checkbox\" ><label class=\"sk-toggleable__label\" for=\"5aa23d4c-ee4d-43a9-b8ab-f7405412cc56\">SimpleImputer</label><div class=\"sk-toggleable__content\"><pre>SimpleImputer(strategy='most_frequent')</pre></div></div></div><div class=\"sk-item\"><div class=\"sk-estimator sk-toggleable\"><input class=\"sk-toggleable__control sk-hidden--visually\" id=\"b2936146-3082-4d83-a14a-745abba9009c\" type=\"checkbox\" ><label class=\"sk-toggleable__label\" for=\"b2936146-3082-4d83-a14a-745abba9009c\">OneHotEncoder</label><div class=\"sk-toggleable__content\"><pre>OneHotEncoder(handle_unknown='ignore')</pre></div></div></div></div></div></div></div></div><div class=\"sk-parallel-item\"><div class=\"sk-item\"><div class=\"sk-label-container\"><div class=\"sk-label sk-toggleable\"><input class=\"sk-toggleable__control sk-hidden--visually\" id=\"0e87ff8d-8ce4-4664-bab2-565892a4be64\" type=\"checkbox\" ><label class=\"sk-toggleable__label\" for=\"0e87ff8d-8ce4-4664-bab2-565892a4be64\">simpleimputer-2</label><div class=\"sk-toggleable__content\"><pre>['intel_processor_model', 'amd_processor_model']</pre></div></div></div><div class=\"sk-serial\"><div class=\"sk-item\"><div class=\"sk-estimator sk-toggleable\"><input class=\"sk-toggleable__control sk-hidden--visually\" id=\"e2e509fc-f28e-4135-8257-bcfdc75fb8cd\" type=\"checkbox\" ><label class=\"sk-toggleable__label\" for=\"e2e509fc-f28e-4135-8257-bcfdc75fb8cd\">SimpleImputer</label><div class=\"sk-toggleable__content\"><pre>SimpleImputer(strategy='most_frequent')</pre></div></div></div></div></div></div></div></div><div class=\"sk-item\"><div class=\"sk-estimator sk-toggleable\"><input class=\"sk-toggleable__control sk-hidden--visually\" id=\"6db4dedd-5131-4efd-bf7d-32e589cfc851\" type=\"checkbox\" ><label class=\"sk-toggleable__label\" for=\"6db4dedd-5131-4efd-bf7d-32e589cfc851\">StandardScaler</label><div class=\"sk-toggleable__content\"><pre>StandardScaler()</pre></div></div></div><div class=\"sk-item\"><div class=\"sk-estimator sk-toggleable\"><input class=\"sk-toggleable__control sk-hidden--visually\" id=\"1d2321c6-a96a-4e9b-87c2-db32578adf95\" type=\"checkbox\" ><label class=\"sk-toggleable__label\" for=\"1d2321c6-a96a-4e9b-87c2-db32578adf95\">SGDRegressor</label><div class=\"sk-toggleable__content\"><pre>SGDRegressor(alpha=100, penalty='l1', random_state=0)</pre></div></div></div></div></div></div></div>"
      ],
      "text/plain": [
       "Pipeline(steps=[('functiontransformer',\n",
       "                 FunctionTransformer(func=<function split_processor_model at 0x0000022429080DC0>)),\n",
       "                ('coladderdropper',\n",
       "                 ColAdderDropper(num_top_os=6, num_top_producers=7)),\n",
       "                ('columntransformer',\n",
       "                 ColumnTransformer(transformers=[('simpleimputer-1',\n",
       "                                                  SimpleImputer(),\n",
       "                                                  ['cores',\n",
       "                                                   'core base speed (GHz)',\n",
       "                                                   'core boost speed (GHz)',\n",
       "                                                   'ram cap (GB)', 'ssd (GB)'...\n",
       "                                                                   SimpleImputer(strategy='most_frequent')),\n",
       "                                                                  ('onehotencoder',\n",
       "                                                                   OneHotEncoder(handle_unknown='ignore'))]),\n",
       "                                                  ['producer', 'ram type',\n",
       "                                                   'gpu prod', 'screen type',\n",
       "                                                   'os']),\n",
       "                                                 ('simpleimputer-2',\n",
       "                                                  SimpleImputer(strategy='most_frequent'),\n",
       "                                                  ['intel_processor_model',\n",
       "                                                   'amd_processor_model'])])),\n",
       "                ('standardscaler', StandardScaler()),\n",
       "                ('sgdregressor',\n",
       "                 SGDRegressor(alpha=100, penalty='l1', random_state=0))])"
      ]
     },
     "execution_count": 33,
     "metadata": {},
     "output_type": "execute_result"
    }
   ],
   "source": [
    "full_pipeline = make_pipeline(FunctionTransformer(split_processor_model), \n",
    "                              ColAdderDropper(num_top_producers=4, num_top_os=4),\n",
    "                              column_transformer, StandardScaler(),\n",
    "                              SGDRegressor(penalty='l1', random_state=0))\n",
    "full_pipeline.set_params(coladderdropper__num_top_producers=num_top_producers, coladderdropper__num_top_os=num_top_os, sgdregressor__alpha=alpha)\n",
    "full_pipeline.fit(X_df, y_sr)"
   ]
  },
  {
   "cell_type": "markdown",
   "metadata": {},
   "source": [
    "#### Độ lỗi trên tập Test"
   ]
  },
  {
   "cell_type": "code",
   "execution_count": 34,
   "metadata": {},
   "outputs": [
    {
     "data": {
      "text/plain": [
       "32.978945109747855"
      ]
     },
     "execution_count": 34,
     "metadata": {},
     "output_type": "execute_result"
    }
   ],
   "source": [
    "# Đặt lại baseline_preds\n",
    "baseline_preds = y_sr.mean()\n",
    "100 - compute_rr(test_y_sr, full_pipeline.predict(test_X_df), baseline_preds) * 100"
   ]
  },
  {
   "cell_type": "markdown",
   "metadata": {},
   "source": [
    "---"
   ]
  },
  {
   "cell_type": "markdown",
   "metadata": {},
   "source": [
    "# NHÌN LẠI QUÁ TRÌNH LÀM ĐỒ ÁN"
   ]
  },
  {
   "cell_type": "markdown",
   "metadata": {},
   "source": [
    "### Những khó khăn đã gặp phải:\n",
    "- Trong quá trình tìm chủ đề: phải chọn được chủ đề phù hợp với khả năng (phải lấy được dữ liệu và tìm hiểu về các thuộc tính để xử lý dữ liệu)\n",
    "- Trong quá trình thu thập dữ liệu: khó khăn trong việc tìm kiếm API (phải tìm được API đáng tin cậy, dữ liệu rõ ràng) và lấy dữ liệu tự động từ API - số lượt request tối đa mỗi ngày chỉ có 1000 lần (1000 lần thì chỉ lấy được khoảng 400-500 mẫu) dẫn đến tốn thời gian trong việc thu thập dữ liệu\n",
    "- Trong quá trình tiền xử lý: không có khó khăn\n",
    "- Trong quá trình mô hình hóa: Khó khăn trong việc lựa chọn mô hình và các tham số cho mô hình cần phải tìm hiểu để chọn cho hợp lý: Mô hình MLP không hội tụ được và cho độ lỗi quá cao, Mô hình SGD với tham số penalty mặc định (L2) thì gặp phải vấn đề overfitting"
   ]
  },
  {
   "cell_type": "markdown",
   "metadata": {},
   "source": [
    "### Những gì đã học được:\n",
    "- Hiểu rõ thêm về quy trình thu thập, xử lý và mô hình hóa dữ liệu\n",
    "- Học được cách làm việc nhóm trên Github\n",
    "- Cách code để thu thập dữ liệu tự động từ API\n",
    "- Hiểu thêm về các thuật toán mô hình hóa và các tham số\n",
    "- Không phải model có độ lỗi trên tập validation thấp thì sẽ tốt khi chạy trên tập kiểm tra"
   ]
  },
  {
   "cell_type": "markdown",
   "metadata": {},
   "source": [
    "### Những cải thiện nếu có thêm thời gian:\n",
    "- Cải thiện mô hình:\n",
    "    - Thu thập thêm dữ liệu\n",
    "    - kiểm tra lại dữ liệu đã thu thập, bỏ những mẫu dữ liệu nhiễu, không chính xác\n",
    "    - Tìm hiểu thêm để lựa chọn thêm thuộc tính hoặc xóa bỏ các thuộc tính không cần thiết\n",
    "    - Tìm hiểu thêm về các thuật toán mô hình hóa để lựa chọn và đặt các tham số phù hợp với bài toán hơn\n",
    "- Viết slide báo cáo hoàn chỉnh hơn\n",
    "- Tìm hiểu thêm về Github để làm việc nhóm hiệu quả hơn"
   ]
  },
  {
   "cell_type": "markdown",
   "metadata": {},
   "source": [
    "---"
   ]
  },
  {
   "cell_type": "markdown",
   "metadata": {},
   "source": [
    "# TÀI LIỆU THAM KHẢO"
   ]
  },
  {
   "cell_type": "markdown",
   "metadata": {},
   "source": [
    "1. scikit-learn.org\n",
    "2. Slide bài giảng môn \"Nhập môn Khoa học Dữ liệu\" của thầy Nguyễn Trần Trung Kiên\n",
    "3. Các bài tập và các file Demo môn \"Nhập môn Khoa học Dữ liệu\" của thầy Nguyễn Trần Trung Kiên"
   ]
  }
 ],
 "metadata": {
  "kernelspec": {
   "display_name": "Python 3",
   "language": "python",
   "name": "python3"
  },
  "language_info": {
   "codemirror_mode": {
    "name": "ipython",
    "version": 3
   },
   "file_extension": ".py",
   "mimetype": "text/x-python",
   "name": "python",
   "nbconvert_exporter": "python",
   "pygments_lexer": "ipython3",
   "version": "3.8.3"
  }
 },
 "nbformat": 4,
 "nbformat_minor": 4
}
