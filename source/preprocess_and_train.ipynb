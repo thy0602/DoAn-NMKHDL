{
 "cells": [
  {
   "cell_type": "markdown",
   "metadata": {},
   "source": [
    "# ĐỒ ÁN CUỐI KỲ - NHẬP MÔN KHOA HỌC DỮ LIỆU\n",
    "\n",
    "## Đề tài: Ước lượng giá laptop\n",
    "\n",
    "### Sinh viên:\n",
    "        1. MSSV: 18120058        Tên: Phạm Công Minh\n",
    "        2. MSSV: 18120090        Tên: Phạm Nguyên Minh Thy"
   ]
  },
  {
   "cell_type": "markdown",
   "metadata": {},
   "source": [
    "---"
   ]
  },
  {
   "cell_type": "markdown",
   "metadata": {},
   "source": [
    "## Import"
   ]
  },
  {
   "cell_type": "code",
   "execution_count": 1,
   "metadata": {},
   "outputs": [],
   "source": [
    "import pandas as pd\n",
    "import numpy as np\n",
    "\n",
    "from sklearn.model_selection import train_test_split\n",
    "from sklearn.preprocessing import OneHotEncoder, StandardScaler, FunctionTransformer\n",
    "from sklearn.impute import SimpleImputer\n",
    "from sklearn.base import BaseEstimator, TransformerMixin\n",
    "from sklearn.pipeline import Pipeline, make_pipeline\n",
    "from sklearn.compose import ColumnTransformer, make_column_transformer\n",
    "#from sklearn.neural_network import MLPRegressor\n",
    "from sklearn import set_config\n",
    "set_config(display='diagram') # Để trực quan hóa pipeline"
   ]
  },
  {
   "cell_type": "code",
   "execution_count": 2,
   "metadata": {},
   "outputs": [
    {
     "data": {
      "text/plain": [
       "'0.23.1'"
      ]
     },
     "execution_count": 2,
     "metadata": {},
     "output_type": "execute_result"
    }
   ],
   "source": [
    "import sklearn\n",
    "sklearn.__version__"
   ]
  },
  {
   "cell_type": "markdown",
   "metadata": {},
   "source": [
    "## Đọc dữ liệu"
   ]
  },
  {
   "cell_type": "code",
   "execution_count": 3,
   "metadata": {
    "scrolled": true
   },
   "outputs": [
    {
     "data": {
      "text/html": [
       "<div>\n",
       "<style scoped>\n",
       "    .dataframe tbody tr th:only-of-type {\n",
       "        vertical-align: middle;\n",
       "    }\n",
       "\n",
       "    .dataframe tbody tr th {\n",
       "        vertical-align: top;\n",
       "    }\n",
       "\n",
       "    .dataframe thead th {\n",
       "        text-align: right;\n",
       "    }\n",
       "</style>\n",
       "<table border=\"1\" class=\"dataframe\">\n",
       "  <thead>\n",
       "    <tr style=\"text-align: right;\">\n",
       "      <th></th>\n",
       "      <th>producer</th>\n",
       "      <th>processor prod</th>\n",
       "      <th>processor model</th>\n",
       "      <th>cores</th>\n",
       "      <th>core base speed (GHz)</th>\n",
       "      <th>core boost speed (GHz)</th>\n",
       "      <th>ram type</th>\n",
       "      <th>ram cap (GB)</th>\n",
       "      <th>ssd (GB)</th>\n",
       "      <th>hdd (GB)</th>\n",
       "      <th>...</th>\n",
       "      <th>gpu boost speed (GHz)</th>\n",
       "      <th>screen type</th>\n",
       "      <th>screen size (inch)</th>\n",
       "      <th>screen horizontal resolution</th>\n",
       "      <th>screen vertical resolution</th>\n",
       "      <th>sRGB (%)</th>\n",
       "      <th>weight (kg)</th>\n",
       "      <th>os</th>\n",
       "      <th>battery capacity (WHr)</th>\n",
       "      <th>price(USD)</th>\n",
       "    </tr>\n",
       "  </thead>\n",
       "  <tbody>\n",
       "    <tr>\n",
       "      <th>615</th>\n",
       "      <td>asus</td>\n",
       "      <td>intel</td>\n",
       "      <td>i7</td>\n",
       "      <td>6</td>\n",
       "      <td>2.6</td>\n",
       "      <td>5.0</td>\n",
       "      <td>ddr4</td>\n",
       "      <td>24</td>\n",
       "      <td>0</td>\n",
       "      <td>2048</td>\n",
       "      <td>...</td>\n",
       "      <td>1725</td>\n",
       "      <td>led ips</td>\n",
       "      <td>15.6</td>\n",
       "      <td>1920</td>\n",
       "      <td>1080</td>\n",
       "      <td>90</td>\n",
       "      <td>2.00</td>\n",
       "      <td>windows home 10.00</td>\n",
       "      <td>42.0</td>\n",
       "      <td>1496.5</td>\n",
       "    </tr>\n",
       "    <tr>\n",
       "      <th>202</th>\n",
       "      <td>lenovo</td>\n",
       "      <td>amd</td>\n",
       "      <td>ryzen3</td>\n",
       "      <td>4</td>\n",
       "      <td>2.5</td>\n",
       "      <td>3.7</td>\n",
       "      <td>ddr4</td>\n",
       "      <td>4</td>\n",
       "      <td>0</td>\n",
       "      <td>256</td>\n",
       "      <td>...</td>\n",
       "      <td>1400</td>\n",
       "      <td>led tn</td>\n",
       "      <td>14.0</td>\n",
       "      <td>1366</td>\n",
       "      <td>768</td>\n",
       "      <td>0</td>\n",
       "      <td>1.61</td>\n",
       "      <td>windows pro 10.00</td>\n",
       "      <td>45.0</td>\n",
       "      <td>740.0</td>\n",
       "    </tr>\n",
       "    <tr>\n",
       "      <th>55</th>\n",
       "      <td>lenovo</td>\n",
       "      <td>amd</td>\n",
       "      <td>ryzen3</td>\n",
       "      <td>4</td>\n",
       "      <td>2.7</td>\n",
       "      <td>3.7</td>\n",
       "      <td>ddr4</td>\n",
       "      <td>8</td>\n",
       "      <td>0</td>\n",
       "      <td>256</td>\n",
       "      <td>...</td>\n",
       "      <td>1400</td>\n",
       "      <td>led ips</td>\n",
       "      <td>14.0</td>\n",
       "      <td>1920</td>\n",
       "      <td>1080</td>\n",
       "      <td>60</td>\n",
       "      <td>1.50</td>\n",
       "      <td>windows home 10.00</td>\n",
       "      <td>52.5</td>\n",
       "      <td>549.0</td>\n",
       "    </tr>\n",
       "    <tr>\n",
       "      <th>479</th>\n",
       "      <td>hp</td>\n",
       "      <td>intel</td>\n",
       "      <td>i5</td>\n",
       "      <td>4</td>\n",
       "      <td>1.6</td>\n",
       "      <td>4.1</td>\n",
       "      <td>ddr4</td>\n",
       "      <td>16</td>\n",
       "      <td>0</td>\n",
       "      <td>512</td>\n",
       "      <td>...</td>\n",
       "      <td>1100</td>\n",
       "      <td>led ips</td>\n",
       "      <td>13.3</td>\n",
       "      <td>1920</td>\n",
       "      <td>1080</td>\n",
       "      <td>0</td>\n",
       "      <td>1.55</td>\n",
       "      <td>windows pro 10.00</td>\n",
       "      <td>50.0</td>\n",
       "      <td>1147.0</td>\n",
       "    </tr>\n",
       "    <tr>\n",
       "      <th>27</th>\n",
       "      <td>acer</td>\n",
       "      <td>intel</td>\n",
       "      <td>i5</td>\n",
       "      <td>4</td>\n",
       "      <td>2.4</td>\n",
       "      <td>4.2</td>\n",
       "      <td>ddr4</td>\n",
       "      <td>8</td>\n",
       "      <td>0</td>\n",
       "      <td>512</td>\n",
       "      <td>...</td>\n",
       "      <td>1300</td>\n",
       "      <td>led ips</td>\n",
       "      <td>15.6</td>\n",
       "      <td>1920</td>\n",
       "      <td>1080</td>\n",
       "      <td>50</td>\n",
       "      <td>1.90</td>\n",
       "      <td>windows home 10.00</td>\n",
       "      <td>48.0</td>\n",
       "      <td>480.5</td>\n",
       "    </tr>\n",
       "  </tbody>\n",
       "</table>\n",
       "<p>5 rows × 23 columns</p>\n",
       "</div>"
      ],
      "text/plain": [
       "    producer processor prod processor model  cores  core base speed (GHz)  \\\n",
       "615     asus          intel              i7      6                    2.6   \n",
       "202   lenovo            amd          ryzen3      4                    2.5   \n",
       "55    lenovo            amd          ryzen3      4                    2.7   \n",
       "479       hp          intel              i5      4                    1.6   \n",
       "27      acer          intel              i5      4                    2.4   \n",
       "\n",
       "     core boost speed (GHz) ram type  ram cap (GB)  ssd (GB)  hdd (GB)  ...  \\\n",
       "615                     5.0     ddr4            24         0      2048  ...   \n",
       "202                     3.7     ddr4             4         0       256  ...   \n",
       "55                      3.7     ddr4             8         0       256  ...   \n",
       "479                     4.1     ddr4            16         0       512  ...   \n",
       "27                      4.2     ddr4             8         0       512  ...   \n",
       "\n",
       "    gpu boost speed (GHz)  screen type  screen size (inch)  \\\n",
       "615                  1725      led ips                15.6   \n",
       "202                  1400       led tn                14.0   \n",
       "55                   1400      led ips                14.0   \n",
       "479                  1100      led ips                13.3   \n",
       "27                   1300      led ips                15.6   \n",
       "\n",
       "     screen horizontal resolution screen vertical resolution  sRGB (%)  \\\n",
       "615                          1920                       1080        90   \n",
       "202                          1366                        768         0   \n",
       "55                           1920                       1080        60   \n",
       "479                          1920                       1080         0   \n",
       "27                           1920                       1080        50   \n",
       "\n",
       "     weight (kg)                  os  battery capacity (WHr)  price(USD)  \n",
       "615         2.00  windows home 10.00                    42.0      1496.5  \n",
       "202         1.61   windows pro 10.00                    45.0       740.0  \n",
       "55          1.50  windows home 10.00                    52.5       549.0  \n",
       "479         1.55   windows pro 10.00                    50.0      1147.0  \n",
       "27          1.90  windows home 10.00                    48.0       480.5  \n",
       "\n",
       "[5 rows x 23 columns]"
      ]
     },
     "execution_count": 3,
     "metadata": {},
     "output_type": "execute_result"
    }
   ],
   "source": [
    "# Do data lấy theo tứ tự producer nên cần phải shuffle\n",
    "from sklearn.utils import shuffle\n",
    "data_df = pd.read_csv('data.csv')\n",
    "data_df = shuffle(data_df, random_state=0)\n",
    "data_df.head()"
   ]
  },
  {
   "cell_type": "markdown",
   "metadata": {},
   "source": [
    "## Ý nghĩa các cột"
   ]
  },
  {
   "cell_type": "markdown",
   "metadata": {},
   "source": [
    "    1. producer                         tên nhà sản xuất laptop\n",
    "    2. processor prod                   nhà sản xuất CPU\n",
    "    3. processor model                  dòng CPU\n",
    "    4. cores                            số nhân của CPU\n",
    "    5. core base speed (GHz)            tốc độ xung nhịp cơ bản của CPU\n",
    "    6. core boost speed (GHz)           tốc độ xung nhịp tối đa của CPU\n",
    "    7. ram type                         loại RAM\n",
    "    8. ram cap (GB)                     dung lượng RAM\n",
    "    9. ssd (GB)                         dung lượng SSD\n",
    "    10. hdd (GB)                        dung lượng HDD\n",
    "    11. gpu prod                        nhà sản xuất card màn hình\n",
    "    12. gpu size (MB)                   dung lượng card màn hình\n",
    "    13. gpu base speed (GHz)            tốc độ xung nhịp cơ bản của GPU\n",
    "    14. gpu boost speed (GHz)           tốc độ xung nhịp tối đa của GPU\n",
    "    15. screen type                     loại màn hình\n",
    "    16. screen size (inch)              kích thước màn hình\n",
    "    17. creen horizontal resolution     độ phân giải màn hình theo chiều ngang\n",
    "    18. screen vertical resolution      độ phân giải màn hình theo chiều dọc\n",
    "    19. sRGB (%)                        độ phủ màu của màn hình dựa trên tiêu chuẩn sRGB\n",
    "    20. weight (kg)                     trọng lượng máy\n",
    "    21. os                              hệ điều hành\n",
    "    22. battery capacity (Whr)          dung lượng pin\n",
    "    23. price(USD)                      giá"
   ]
  },
  {
   "cell_type": "markdown",
   "metadata": {},
   "source": [
    "---"
   ]
  },
  {
   "cell_type": "markdown",
   "metadata": {},
   "source": [
    "# Khám phá dữ liệu"
   ]
  },
  {
   "cell_type": "code",
   "execution_count": 4,
   "metadata": {},
   "outputs": [
    {
     "data": {
      "text/plain": [
       "(813, 23)"
      ]
     },
     "execution_count": 4,
     "metadata": {},
     "output_type": "execute_result"
    }
   ],
   "source": [
    "# Dữ liệu có bao nhiêu dòng, bao nhiêu cột?\n",
    "data_df.shape"
   ]
  },
  {
   "cell_type": "code",
   "execution_count": 5,
   "metadata": {},
   "outputs": [
    {
     "data": {
      "text/plain": [
       "0"
      ]
     },
     "execution_count": 5,
     "metadata": {},
     "output_type": "execute_result"
    }
   ],
   "source": [
    "# Dữ liệu có dòng bị lặp không?\n",
    "data_df.index.duplicated().sum()"
   ]
  },
  {
   "cell_type": "code",
   "execution_count": 6,
   "metadata": {},
   "outputs": [
    {
     "data": {
      "text/plain": [
       "dtype('float64')"
      ]
     },
     "execution_count": 6,
     "metadata": {},
     "output_type": "execute_result"
    }
   ],
   "source": [
    "# Cột output hiện có kiểu dữ liệu gì?\n",
    "data_df[\"price(USD)\"].dtype"
   ]
  },
  {
   "cell_type": "code",
   "execution_count": 7,
   "metadata": {},
   "outputs": [
    {
     "data": {
      "text/plain": [
       "0"
      ]
     },
     "execution_count": 7,
     "metadata": {},
     "output_type": "execute_result"
    }
   ],
   "source": [
    "# Cột output có giá trị thiếu không?\n",
    "data_df[\"price(USD)\"].isna().sum()"
   ]
  },
  {
   "cell_type": "markdown",
   "metadata": {},
   "source": [
    "## Câu hỏi cần trả lời:"
   ]
  },
  {
   "cell_type": "markdown",
   "metadata": {},
   "source": [
    "**Câu hỏi có dạng:** *Tính giá tiền laptop (`price(USD)`) dựa trên các thuộc tính của laptop*\n",
    "\n",
    "**Lợi ích khi trả lời câu hỏi:** Dự đoán giá laptop dựa trên các thuộc tính giúp cho việc lựa chọn mẫu khi có dự định mua laptop, có 2 hướng đưa ra quyết định:\n",
    "- Chọn trước các mẫu phù hợp túi tiền rồi lấy cấu hình tính ra giá dự đoán và so sánh với giá niêm yết của cửa hàng => chọn mẫu laptop có tỷ lệ giá thực tế/giá dự đoán thấp nhất.\n",
    "- Đưa ra những cấu hình mong muốn để dự đoán giá của máy tính rồi từ khoảng giá tiền đó tìm những mẫu máy tính có những thuộc tính gần với mong muốn.\n",
    "\n",
    "** Đây chỉ là một trong nhiều yếu tố để quyết định việc chọn mẫu laptop phù hợp.*\n",
    "\n",
    "**Nguồn cảm hứng của câu hỏi:**\n",
    "- Việc chọn cách định giá một sản phẩm nào đó lấy cảm hứng từ các bài làm khác đã thấy qua (qua thầy giới thiệu việc tính giá nhà, các bài tập Machine Learning trên mạng,...).\n",
    "- Việc chọn laptop để dự đoán giá lấy cảm hứng từ chính bản thân khi đã từng phân vân trong việc chọn mẫu laptop để mua và chưa có những cơ sở đủ mạnh để đưa ra quyết định."
   ]
  },
  {
   "cell_type": "markdown",
   "metadata": {},
   "source": [
    "---"
   ]
  },
  {
   "cell_type": "markdown",
   "metadata": {},
   "source": [
    "# Tiền xử lý"
   ]
  },
  {
   "cell_type": "markdown",
   "metadata": {},
   "source": [
    "## Tách các tập"
   ]
  },
  {
   "cell_type": "code",
   "execution_count": 8,
   "metadata": {},
   "outputs": [],
   "source": [
    "# Tách X và y\n",
    "y_sr = data_df[\"price(USD)\"]\n",
    "X_df = data_df.drop(\"price(USD)\", axis=1)"
   ]
  },
  {
   "cell_type": "code",
   "execution_count": 9,
   "metadata": {},
   "outputs": [],
   "source": [
    "# Tách từ dữ liệu ra tập test theo tỉ lệ 70%:30%\n",
    "X_df, test_X_df, y_sr, test_y_sr = train_test_split(X_df, y_sr, test_size=0.4, random_state=0)\n",
    "# Từ 70% dữ liệu còn lại tách tập train và tập validation theo tỉ lệ 70%:30%\n",
    "train_X_df, val_X_df, train_y_sr, val_y_sr = train_test_split(X_df, y_sr, test_size=0.3, random_state=0)"
   ]
  },
  {
   "cell_type": "markdown",
   "metadata": {},
   "source": [
    "---"
   ]
  },
  {
   "cell_type": "markdown",
   "metadata": {},
   "source": [
    "## Khám phá dữ liệu (tập huấn luyện)"
   ]
  },
  {
   "cell_type": "code",
   "execution_count": 10,
   "metadata": {},
   "outputs": [
    {
     "data": {
      "text/plain": [
       "producer                         object\n",
       "processor prod                   object\n",
       "processor model                  object\n",
       "cores                             int64\n",
       "core base speed (GHz)           float64\n",
       "core boost speed (GHz)          float64\n",
       "ram type                         object\n",
       "ram cap (GB)                      int64\n",
       "ssd (GB)                          int64\n",
       "hdd (GB)                          int64\n",
       "gpu prod                         object\n",
       "gpu size (MB)                     int64\n",
       "gpu base speed (GHz)              int64\n",
       "gpu boost speed (GHz)             int64\n",
       "screen type                      object\n",
       "screen size (inch)              float64\n",
       "screen horizontal resolution      int64\n",
       "screen vertical resolution        int64\n",
       "sRGB (%)                          int64\n",
       "weight (kg)                     float64\n",
       "os                               object\n",
       "battery capacity (WHr)          float64\n",
       "dtype: object"
      ]
     },
     "execution_count": 10,
     "metadata": {},
     "output_type": "execute_result"
    }
   ],
   "source": [
    "# Xem kiểu dữ liệu của các cột\n",
    "train_X_df.dtypes"
   ]
  },
  {
   "cell_type": "markdown",
   "metadata": {},
   "source": [
    "Các cột đều có kiểu dữ liệu phù hợp."
   ]
  },
  {
   "cell_type": "markdown",
   "metadata": {},
   "source": [
    "##### Xét sự phân bố giá trị của các thuộc tính dạng số"
   ]
  },
  {
   "cell_type": "code",
   "execution_count": 11,
   "metadata": {},
   "outputs": [
    {
     "data": {
      "text/html": [
       "<div>\n",
       "<style scoped>\n",
       "    .dataframe tbody tr th:only-of-type {\n",
       "        vertical-align: middle;\n",
       "    }\n",
       "\n",
       "    .dataframe tbody tr th {\n",
       "        vertical-align: top;\n",
       "    }\n",
       "\n",
       "    .dataframe thead th {\n",
       "        text-align: right;\n",
       "    }\n",
       "</style>\n",
       "<table border=\"1\" class=\"dataframe\">\n",
       "  <thead>\n",
       "    <tr style=\"text-align: right;\">\n",
       "      <th></th>\n",
       "      <th>cores</th>\n",
       "      <th>core base speed (GHz)</th>\n",
       "      <th>core boost speed (GHz)</th>\n",
       "      <th>ram cap (GB)</th>\n",
       "      <th>ssd (GB)</th>\n",
       "      <th>hdd (GB)</th>\n",
       "      <th>gpu size (MB)</th>\n",
       "      <th>gpu base speed (GHz)</th>\n",
       "      <th>gpu boost speed (GHz)</th>\n",
       "      <th>screen size (inch)</th>\n",
       "      <th>screen horizontal resolution</th>\n",
       "      <th>screen vertical resolution</th>\n",
       "      <th>sRGB (%)</th>\n",
       "      <th>weight (kg)</th>\n",
       "      <th>battery capacity (WHr)</th>\n",
       "    </tr>\n",
       "  </thead>\n",
       "  <tbody>\n",
       "    <tr>\n",
       "      <th>missing_ratio</th>\n",
       "      <td>0.0</td>\n",
       "      <td>0.0</td>\n",
       "      <td>0.0</td>\n",
       "      <td>0.0</td>\n",
       "      <td>0.0</td>\n",
       "      <td>0.0</td>\n",
       "      <td>0.0</td>\n",
       "      <td>0.0</td>\n",
       "      <td>0.0</td>\n",
       "      <td>0.0</td>\n",
       "      <td>0.0</td>\n",
       "      <td>0.0</td>\n",
       "      <td>0.0</td>\n",
       "      <td>0.00</td>\n",
       "      <td>0.0</td>\n",
       "    </tr>\n",
       "    <tr>\n",
       "      <th>min</th>\n",
       "      <td>2.0</td>\n",
       "      <td>1.0</td>\n",
       "      <td>2.7</td>\n",
       "      <td>4.0</td>\n",
       "      <td>0.0</td>\n",
       "      <td>0.0</td>\n",
       "      <td>128.0</td>\n",
       "      <td>200.0</td>\n",
       "      <td>500.0</td>\n",
       "      <td>11.6</td>\n",
       "      <td>1366.0</td>\n",
       "      <td>768.0</td>\n",
       "      <td>0.0</td>\n",
       "      <td>0.85</td>\n",
       "      <td>32.0</td>\n",
       "    </tr>\n",
       "    <tr>\n",
       "      <th>lower_quartile</th>\n",
       "      <td>4.0</td>\n",
       "      <td>1.6</td>\n",
       "      <td>3.9</td>\n",
       "      <td>8.0</td>\n",
       "      <td>0.0</td>\n",
       "      <td>256.0</td>\n",
       "      <td>1700.0</td>\n",
       "      <td>300.0</td>\n",
       "      <td>1100.0</td>\n",
       "      <td>14.0</td>\n",
       "      <td>1920.0</td>\n",
       "      <td>1080.0</td>\n",
       "      <td>60.0</td>\n",
       "      <td>1.40</td>\n",
       "      <td>46.0</td>\n",
       "    </tr>\n",
       "    <tr>\n",
       "      <th>median</th>\n",
       "      <td>4.0</td>\n",
       "      <td>2.1</td>\n",
       "      <td>4.2</td>\n",
       "      <td>8.0</td>\n",
       "      <td>0.0</td>\n",
       "      <td>256.0</td>\n",
       "      <td>2048.0</td>\n",
       "      <td>400.0</td>\n",
       "      <td>1200.0</td>\n",
       "      <td>15.6</td>\n",
       "      <td>1920.0</td>\n",
       "      <td>1080.0</td>\n",
       "      <td>90.0</td>\n",
       "      <td>1.80</td>\n",
       "      <td>53.0</td>\n",
       "    </tr>\n",
       "    <tr>\n",
       "      <th>upper_quartile</th>\n",
       "      <td>6.0</td>\n",
       "      <td>2.6</td>\n",
       "      <td>4.5</td>\n",
       "      <td>16.0</td>\n",
       "      <td>0.0</td>\n",
       "      <td>512.0</td>\n",
       "      <td>6144.0</td>\n",
       "      <td>1215.0</td>\n",
       "      <td>1468.0</td>\n",
       "      <td>15.6</td>\n",
       "      <td>1920.0</td>\n",
       "      <td>1080.0</td>\n",
       "      <td>100.0</td>\n",
       "      <td>2.20</td>\n",
       "      <td>68.0</td>\n",
       "    </tr>\n",
       "    <tr>\n",
       "      <th>max</th>\n",
       "      <td>8.0</td>\n",
       "      <td>3.0</td>\n",
       "      <td>5.1</td>\n",
       "      <td>128.0</td>\n",
       "      <td>2000.0</td>\n",
       "      <td>6144.0</td>\n",
       "      <td>16384.0</td>\n",
       "      <td>1557.0</td>\n",
       "      <td>1725.0</td>\n",
       "      <td>17.3</td>\n",
       "      <td>3840.0</td>\n",
       "      <td>2200.0</td>\n",
       "      <td>100.0</td>\n",
       "      <td>4.70</td>\n",
       "      <td>102.0</td>\n",
       "    </tr>\n",
       "  </tbody>\n",
       "</table>\n",
       "</div>"
      ],
      "text/plain": [
       "                cores  core base speed (GHz)  core boost speed (GHz)  \\\n",
       "missing_ratio     0.0                    0.0                     0.0   \n",
       "min               2.0                    1.0                     2.7   \n",
       "lower_quartile    4.0                    1.6                     3.9   \n",
       "median            4.0                    2.1                     4.2   \n",
       "upper_quartile    6.0                    2.6                     4.5   \n",
       "max               8.0                    3.0                     5.1   \n",
       "\n",
       "                ram cap (GB)  ssd (GB)  hdd (GB)  gpu size (MB)  \\\n",
       "missing_ratio            0.0       0.0       0.0            0.0   \n",
       "min                      4.0       0.0       0.0          128.0   \n",
       "lower_quartile           8.0       0.0     256.0         1700.0   \n",
       "median                   8.0       0.0     256.0         2048.0   \n",
       "upper_quartile          16.0       0.0     512.0         6144.0   \n",
       "max                    128.0    2000.0    6144.0        16384.0   \n",
       "\n",
       "                gpu base speed (GHz)  gpu boost speed (GHz)  \\\n",
       "missing_ratio                    0.0                    0.0   \n",
       "min                            200.0                  500.0   \n",
       "lower_quartile                 300.0                 1100.0   \n",
       "median                         400.0                 1200.0   \n",
       "upper_quartile                1215.0                 1468.0   \n",
       "max                           1557.0                 1725.0   \n",
       "\n",
       "                screen size (inch)  screen horizontal resolution  \\\n",
       "missing_ratio                  0.0                           0.0   \n",
       "min                           11.6                        1366.0   \n",
       "lower_quartile                14.0                        1920.0   \n",
       "median                        15.6                        1920.0   \n",
       "upper_quartile                15.6                        1920.0   \n",
       "max                           17.3                        3840.0   \n",
       "\n",
       "                screen vertical resolution  sRGB (%)  weight (kg)  \\\n",
       "missing_ratio                          0.0       0.0         0.00   \n",
       "min                                  768.0       0.0         0.85   \n",
       "lower_quartile                      1080.0      60.0         1.40   \n",
       "median                              1080.0      90.0         1.80   \n",
       "upper_quartile                      1080.0     100.0         2.20   \n",
       "max                                 2200.0     100.0         4.70   \n",
       "\n",
       "                battery capacity (WHr)  \n",
       "missing_ratio                      0.0  \n",
       "min                               32.0  \n",
       "lower_quartile                    46.0  \n",
       "median                            53.0  \n",
       "upper_quartile                    68.0  \n",
       "max                              102.0  "
      ]
     },
     "execution_count": 11,
     "metadata": {},
     "output_type": "execute_result"
    }
   ],
   "source": [
    "num_cols = ['cores',\n",
    "            'core base speed (GHz)', \n",
    "            'core boost speed (GHz)',\n",
    "            'ram cap (GB)',\n",
    "            'ssd (GB)', 'hdd (GB)', \n",
    "            'gpu size (MB)', \n",
    "            'gpu base speed (GHz)',\n",
    "            'gpu boost speed (GHz)',\n",
    "            'screen size (inch)',\n",
    "            'screen horizontal resolution',\n",
    "            'screen vertical resolution',\n",
    "            'sRGB (%)',\n",
    "            'weight (kg)',\n",
    "            'battery capacity (WHr)']\n",
    "\n",
    "df = train_X_df[num_cols]\n",
    "def missing_ratio(df):\n",
    "    return (df.isna().mean() * 100).round(1)\n",
    "def lower_quartile(df):\n",
    "    return df.quantile(0.25).round(1)\n",
    "def median(df):\n",
    "    return df.quantile(0.5).round(1)\n",
    "def upper_quartile(df):\n",
    "    return df.quantile(0.75).round(1)\n",
    "df.agg([missing_ratio, 'min', lower_quartile, median, upper_quartile, 'max'])"
   ]
  },
  {
   "cell_type": "markdown",
   "metadata": {},
   "source": [
    "##### Xét sự phân bố giá trị của các thuộc tính không phải dạng số"
   ]
  },
  {
   "cell_type": "code",
   "execution_count": 12,
   "metadata": {},
   "outputs": [
    {
     "data": {
      "text/html": [
       "<div>\n",
       "<style scoped>\n",
       "    .dataframe tbody tr th:only-of-type {\n",
       "        vertical-align: middle;\n",
       "    }\n",
       "\n",
       "    .dataframe tbody tr th {\n",
       "        vertical-align: top;\n",
       "    }\n",
       "\n",
       "    .dataframe thead th {\n",
       "        text-align: right;\n",
       "    }\n",
       "</style>\n",
       "<table border=\"1\" class=\"dataframe\">\n",
       "  <thead>\n",
       "    <tr style=\"text-align: right;\">\n",
       "      <th></th>\n",
       "      <th>processor model</th>\n",
       "      <th>producer</th>\n",
       "      <th>ram type</th>\n",
       "      <th>gpu prod</th>\n",
       "      <th>processor prod</th>\n",
       "      <th>os</th>\n",
       "      <th>screen type</th>\n",
       "    </tr>\n",
       "  </thead>\n",
       "  <tbody>\n",
       "    <tr>\n",
       "      <th>missing_ratio</th>\n",
       "      <td>0</td>\n",
       "      <td>0</td>\n",
       "      <td>0</td>\n",
       "      <td>0</td>\n",
       "      <td>0</td>\n",
       "      <td>0</td>\n",
       "      <td>0</td>\n",
       "    </tr>\n",
       "    <tr>\n",
       "      <th>num_values</th>\n",
       "      <td>6</td>\n",
       "      <td>6</td>\n",
       "      <td>2</td>\n",
       "      <td>3</td>\n",
       "      <td>2</td>\n",
       "      <td>6</td>\n",
       "      <td>4</td>\n",
       "    </tr>\n",
       "    <tr>\n",
       "      <th>value_ratios</th>\n",
       "      <td>{'i7': 41.8, 'i5': 37.1, 'i3': 8.8, 'ryzen5': 7.1, 'ryzen7': 3.2, 'ryzen3': 2.1}</td>\n",
       "      <td>{'lenovo': 28.8, 'dell': 23.5, 'asus': 22.9, 'hp': 16.2, 'acer': 6.2, 'apple': 2.4}</td>\n",
       "      <td>{'ddr4': 95.9, 'ddr3': 4.1}</td>\n",
       "      <td>{'intel': 48.2, 'nvidia': 40.0, 'amd': 11.8}</td>\n",
       "      <td>{'intel': 87.6, 'amd': 12.4}</td>\n",
       "      <td>{'windows home 10.00': 55.9, 'windows pro 10.00': 37.1, 'macos  11.00': 2.4, 'chrome os  0.00': 2.1, 'linux ubuntu 0.00': 2.1, 'no os  0.00': 0.6}</td>\n",
       "      <td>{'led ips': 88.2, 'led tn': 10.0, 'oled': 1.5, 'led tn wva': 0.3}</td>\n",
       "    </tr>\n",
       "  </tbody>\n",
       "</table>\n",
       "</div>"
      ],
      "text/plain": [
       "                                                                                processor model  \\\n",
       "missing_ratio                                                                                 0   \n",
       "num_values                                                                                    6   \n",
       "value_ratios   {'i7': 41.8, 'i5': 37.1, 'i3': 8.8, 'ryzen5': 7.1, 'ryzen7': 3.2, 'ryzen3': 2.1}   \n",
       "\n",
       "                                                                                          producer  \\\n",
       "missing_ratio                                                                                    0   \n",
       "num_values                                                                                       6   \n",
       "value_ratios   {'lenovo': 28.8, 'dell': 23.5, 'asus': 22.9, 'hp': 16.2, 'acer': 6.2, 'apple': 2.4}   \n",
       "\n",
       "                                  ram type  \\\n",
       "missing_ratio                            0   \n",
       "num_values                               2   \n",
       "value_ratios   {'ddr4': 95.9, 'ddr3': 4.1}   \n",
       "\n",
       "                                                   gpu prod  \\\n",
       "missing_ratio                                             0   \n",
       "num_values                                                3   \n",
       "value_ratios   {'intel': 48.2, 'nvidia': 40.0, 'amd': 11.8}   \n",
       "\n",
       "                             processor prod  \\\n",
       "missing_ratio                             0   \n",
       "num_values                                2   \n",
       "value_ratios   {'intel': 87.6, 'amd': 12.4}   \n",
       "\n",
       "                                                                                                                                                               os  \\\n",
       "missing_ratio                                                                                                                                                   0   \n",
       "num_values                                                                                                                                                      6   \n",
       "value_ratios   {'windows home 10.00': 55.9, 'windows pro 10.00': 37.1, 'macos  11.00': 2.4, 'chrome os  0.00': 2.1, 'linux ubuntu 0.00': 2.1, 'no os  0.00': 0.6}   \n",
       "\n",
       "                                                                     screen type  \n",
       "missing_ratio                                                                  0  \n",
       "num_values                                                                     4  \n",
       "value_ratios   {'led ips': 88.2, 'led tn': 10.0, 'oled': 1.5, 'led tn wva': 0.3}  "
      ]
     },
     "execution_count": 12,
     "metadata": {},
     "output_type": "execute_result"
    }
   ],
   "source": [
    "pd.set_option('display.max_colwidth', 200) # Để nhìn rõ hơn\n",
    "cat_cols = list(set(train_X_df.columns) - set(num_cols))\n",
    "df = train_X_df[cat_cols]\n",
    "def missing_ratio(df):\n",
    "    return (df.isna().mean() * 100).round(1)\n",
    "def num_values(df):\n",
    "    return df.nunique()\n",
    "def value_ratios(c):\n",
    "    return dict((c.value_counts(normalize=True) * 100).round(1))\n",
    "df.agg([missing_ratio, num_values, value_ratios])"
   ]
  },
  {
   "cell_type": "markdown",
   "metadata": {},
   "source": [
    "##### Xét sự phân bố giá trị của Output"
   ]
  },
  {
   "cell_type": "code",
   "execution_count": 13,
   "metadata": {},
   "outputs": [
    {
     "data": {
      "text/plain": [
       "missing_ratio        0.0\n",
       "min                341.0\n",
       "lower_quartile     799.5\n",
       "median            1102.0\n",
       "upper_quartile    1599.6\n",
       "max               6786.5\n",
       "Name: price(USD), dtype: float64"
      ]
     },
     "execution_count": 13,
     "metadata": {},
     "output_type": "execute_result"
    }
   ],
   "source": [
    "train_y_sr.agg([missing_ratio, 'min', lower_quartile, median, upper_quartile, 'max'])"
   ]
  },
  {
   "cell_type": "markdown",
   "metadata": {},
   "source": [
    "Kết luận: Có vẻ là không có gì bất thường."
   ]
  },
  {
   "cell_type": "markdown",
   "metadata": {},
   "source": [
    "## Tiền xử lý (tập huấn luyện)"
   ]
  },
  {
   "cell_type": "markdown",
   "metadata": {},
   "source": [
    "Các bước tiền xử lý đầu tiền (tách, xóa cột):\n",
    "- Tách `processor model` ra thành 2 cột: 1 cột gồm các processor của intel, 1 cột gồm các processor của amd; do cách tách này nên cột `processor prod` không còn cần thiết nữa. Vì muốn chuyển cột `processor model` thành thuộc tính dạng số có **thứ tự** mà các giá trị gồm các dòng chip của 2 nhà sản xuất khác nhau nên việc sắp thứ tự chung với nhau là điều không hợp lý => tách ra thành 2 cột của từng nhà sản xuất rồi mới đánh thứ tự với từng cột \n",
    "- 2 cột `producer` và `os` có nhiều giá trị khác nhau nên sẽ chọn các giá trị xuất hiện nhiều nhất theo `num_top_producer` và `num_top_os` các giá trị khác được thay bằng giá trị \"others\".\n",
    "- Do đã chọn thuộc tính từ trước ở bước thu thập dữ liệu nên không có thuộc tính nào không cần thiết"
   ]
  },
  {
   "cell_type": "code",
   "execution_count": 14,
   "metadata": {},
   "outputs": [
    {
     "data": {
      "text/html": [
       "<div>\n",
       "<style scoped>\n",
       "    .dataframe tbody tr th:only-of-type {\n",
       "        vertical-align: middle;\n",
       "    }\n",
       "\n",
       "    .dataframe tbody tr th {\n",
       "        vertical-align: top;\n",
       "    }\n",
       "\n",
       "    .dataframe thead th {\n",
       "        text-align: right;\n",
       "    }\n",
       "</style>\n",
       "<table border=\"1\" class=\"dataframe\">\n",
       "  <thead>\n",
       "    <tr style=\"text-align: right;\">\n",
       "      <th></th>\n",
       "      <th>producer</th>\n",
       "      <th>processor prod</th>\n",
       "      <th>processor model</th>\n",
       "      <th>cores</th>\n",
       "      <th>core base speed (GHz)</th>\n",
       "      <th>core boost speed (GHz)</th>\n",
       "      <th>ram type</th>\n",
       "      <th>ram cap (GB)</th>\n",
       "      <th>ssd (GB)</th>\n",
       "      <th>hdd (GB)</th>\n",
       "      <th>...</th>\n",
       "      <th>gpu base speed (GHz)</th>\n",
       "      <th>gpu boost speed (GHz)</th>\n",
       "      <th>screen type</th>\n",
       "      <th>screen size (inch)</th>\n",
       "      <th>screen horizontal resolution</th>\n",
       "      <th>screen vertical resolution</th>\n",
       "      <th>sRGB (%)</th>\n",
       "      <th>weight (kg)</th>\n",
       "      <th>os</th>\n",
       "      <th>battery capacity (WHr)</th>\n",
       "    </tr>\n",
       "  </thead>\n",
       "  <tbody>\n",
       "    <tr>\n",
       "      <th>481</th>\n",
       "      <td>dell</td>\n",
       "      <td>intel</td>\n",
       "      <td>i7</td>\n",
       "      <td>6</td>\n",
       "      <td>2.7</td>\n",
       "      <td>5.1</td>\n",
       "      <td>ddr4</td>\n",
       "      <td>4</td>\n",
       "      <td>500</td>\n",
       "      <td>0</td>\n",
       "      <td>...</td>\n",
       "      <td>1519</td>\n",
       "      <td>1582</td>\n",
       "      <td>led ips</td>\n",
       "      <td>15.6</td>\n",
       "      <td>1920</td>\n",
       "      <td>1080</td>\n",
       "      <td>90</td>\n",
       "      <td>1.89</td>\n",
       "      <td>windows pro 10.00</td>\n",
       "      <td>51.0</td>\n",
       "    </tr>\n",
       "    <tr>\n",
       "      <th>693</th>\n",
       "      <td>lenovo</td>\n",
       "      <td>intel</td>\n",
       "      <td>i7</td>\n",
       "      <td>4</td>\n",
       "      <td>1.3</td>\n",
       "      <td>3.9</td>\n",
       "      <td>ddr4</td>\n",
       "      <td>16</td>\n",
       "      <td>0</td>\n",
       "      <td>512</td>\n",
       "      <td>...</td>\n",
       "      <td>300</td>\n",
       "      <td>1100</td>\n",
       "      <td>led ips</td>\n",
       "      <td>14.0</td>\n",
       "      <td>1920</td>\n",
       "      <td>1080</td>\n",
       "      <td>100</td>\n",
       "      <td>1.25</td>\n",
       "      <td>windows pro 10.00</td>\n",
       "      <td>52.0</td>\n",
       "    </tr>\n",
       "    <tr>\n",
       "      <th>449</th>\n",
       "      <td>asus</td>\n",
       "      <td>intel</td>\n",
       "      <td>i5</td>\n",
       "      <td>4</td>\n",
       "      <td>2.4</td>\n",
       "      <td>4.1</td>\n",
       "      <td>ddr4</td>\n",
       "      <td>8</td>\n",
       "      <td>0</td>\n",
       "      <td>512</td>\n",
       "      <td>...</td>\n",
       "      <td>1455</td>\n",
       "      <td>1590</td>\n",
       "      <td>led ips</td>\n",
       "      <td>15.6</td>\n",
       "      <td>1920</td>\n",
       "      <td>1080</td>\n",
       "      <td>60</td>\n",
       "      <td>2.40</td>\n",
       "      <td>windows home 10.00</td>\n",
       "      <td>66.0</td>\n",
       "    </tr>\n",
       "    <tr>\n",
       "      <th>804</th>\n",
       "      <td>asus</td>\n",
       "      <td>intel</td>\n",
       "      <td>i7</td>\n",
       "      <td>8</td>\n",
       "      <td>2.3</td>\n",
       "      <td>5.1</td>\n",
       "      <td>ddr4</td>\n",
       "      <td>48</td>\n",
       "      <td>0</td>\n",
       "      <td>6144</td>\n",
       "      <td>...</td>\n",
       "      <td>735</td>\n",
       "      <td>1080</td>\n",
       "      <td>led ips</td>\n",
       "      <td>15.6</td>\n",
       "      <td>1920</td>\n",
       "      <td>1080</td>\n",
       "      <td>100</td>\n",
       "      <td>2.00</td>\n",
       "      <td>windows home 10.00</td>\n",
       "      <td>76.0</td>\n",
       "    </tr>\n",
       "    <tr>\n",
       "      <th>279</th>\n",
       "      <td>dell</td>\n",
       "      <td>intel</td>\n",
       "      <td>i5</td>\n",
       "      <td>4</td>\n",
       "      <td>1.6</td>\n",
       "      <td>3.4</td>\n",
       "      <td>ddr4</td>\n",
       "      <td>8</td>\n",
       "      <td>500</td>\n",
       "      <td>0</td>\n",
       "      <td>...</td>\n",
       "      <td>300</td>\n",
       "      <td>1100</td>\n",
       "      <td>led ips</td>\n",
       "      <td>14.0</td>\n",
       "      <td>1366</td>\n",
       "      <td>768</td>\n",
       "      <td>0</td>\n",
       "      <td>1.72</td>\n",
       "      <td>windows pro 10.00</td>\n",
       "      <td>56.0</td>\n",
       "    </tr>\n",
       "  </tbody>\n",
       "</table>\n",
       "<p>5 rows × 22 columns</p>\n",
       "</div>"
      ],
      "text/plain": [
       "    producer processor prod processor model  cores  core base speed (GHz)  \\\n",
       "481     dell          intel              i7      6                    2.7   \n",
       "693   lenovo          intel              i7      4                    1.3   \n",
       "449     asus          intel              i5      4                    2.4   \n",
       "804     asus          intel              i7      8                    2.3   \n",
       "279     dell          intel              i5      4                    1.6   \n",
       "\n",
       "     core boost speed (GHz) ram type  ram cap (GB)  ssd (GB)  hdd (GB)  ...  \\\n",
       "481                     5.1     ddr4             4       500         0  ...   \n",
       "693                     3.9     ddr4            16         0       512  ...   \n",
       "449                     4.1     ddr4             8         0       512  ...   \n",
       "804                     5.1     ddr4            48         0      6144  ...   \n",
       "279                     3.4     ddr4             8       500         0  ...   \n",
       "\n",
       "    gpu base speed (GHz)  gpu boost speed (GHz)  screen type  \\\n",
       "481                 1519                   1582      led ips   \n",
       "693                  300                   1100      led ips   \n",
       "449                 1455                   1590      led ips   \n",
       "804                  735                   1080      led ips   \n",
       "279                  300                   1100      led ips   \n",
       "\n",
       "     screen size (inch) screen horizontal resolution  \\\n",
       "481                15.6                         1920   \n",
       "693                14.0                         1920   \n",
       "449                15.6                         1920   \n",
       "804                15.6                         1920   \n",
       "279                14.0                         1366   \n",
       "\n",
       "     screen vertical resolution  sRGB (%)  weight (kg)                  os  \\\n",
       "481                        1080        90         1.89   windows pro 10.00   \n",
       "693                        1080       100         1.25   windows pro 10.00   \n",
       "449                        1080        60         2.40  windows home 10.00   \n",
       "804                        1080       100         2.00  windows home 10.00   \n",
       "279                         768         0         1.72   windows pro 10.00   \n",
       "\n",
       "     battery capacity (WHr)  \n",
       "481                    51.0  \n",
       "693                    52.0  \n",
       "449                    66.0  \n",
       "804                    76.0  \n",
       "279                    56.0  \n",
       "\n",
       "[5 rows x 22 columns]"
      ]
     },
     "execution_count": 14,
     "metadata": {},
     "output_type": "execute_result"
    }
   ],
   "source": [
    "train_X_df.head()"
   ]
  },
  {
   "cell_type": "code",
   "execution_count": 15,
   "metadata": {},
   "outputs": [],
   "source": [
    "# Hàm định nghĩa transformer tách giá trị của thuộc tính processor_model thành 2 cột: \n",
    "# - 1 cột gồm các processor của intel\n",
    "# - 1 cột gồm các processor của amd\n",
    "# Và chuyển về dạng số bằng phương pháp ranking\n",
    "# Đồng thời xóa 2 cột \"processor prod\" và \"processor model\"\n",
    "def split_processor_model(X):\n",
    "    intel_processor_rank = {'i3': 1,\n",
    "                            'i5': 2,\n",
    "                            'i7': 3,\n",
    "                            'ryzen3': 0,\n",
    "                            'ryzen5': 0,\n",
    "                            'ryzen7': 0}\n",
    "    intel_processor_model = X['processor model'].replace(intel_processor_rank)\n",
    "\n",
    "\n",
    "    amd_processor_rank = {'i3': 0,\n",
    "                          'i5': 0,\n",
    "                          'i7': 0,\n",
    "                          'ryzen3': 1,\n",
    "                          'ryzen5': 2,\n",
    "                          'ryzen7': 3}\n",
    "    amd_processor_model = X['processor model'].replace(amd_processor_rank)\n",
    "    \n",
    "    return X.assign(intel_processor_model=intel_processor_model, amd_processor_model=amd_processor_model).drop([\"processor prod\", \"processor model\"], axis=1)"
   ]
  },
  {
   "cell_type": "code",
   "execution_count": 16,
   "metadata": {},
   "outputs": [
    {
     "data": {
      "text/html": [
       "<div>\n",
       "<style scoped>\n",
       "    .dataframe tbody tr th:only-of-type {\n",
       "        vertical-align: middle;\n",
       "    }\n",
       "\n",
       "    .dataframe tbody tr th {\n",
       "        vertical-align: top;\n",
       "    }\n",
       "\n",
       "    .dataframe thead th {\n",
       "        text-align: right;\n",
       "    }\n",
       "</style>\n",
       "<table border=\"1\" class=\"dataframe\">\n",
       "  <thead>\n",
       "    <tr style=\"text-align: right;\">\n",
       "      <th></th>\n",
       "      <th>producer</th>\n",
       "      <th>cores</th>\n",
       "      <th>core base speed (GHz)</th>\n",
       "      <th>core boost speed (GHz)</th>\n",
       "      <th>ram type</th>\n",
       "      <th>ram cap (GB)</th>\n",
       "      <th>ssd (GB)</th>\n",
       "      <th>hdd (GB)</th>\n",
       "      <th>gpu prod</th>\n",
       "      <th>gpu size (MB)</th>\n",
       "      <th>...</th>\n",
       "      <th>screen type</th>\n",
       "      <th>screen size (inch)</th>\n",
       "      <th>screen horizontal resolution</th>\n",
       "      <th>screen vertical resolution</th>\n",
       "      <th>sRGB (%)</th>\n",
       "      <th>weight (kg)</th>\n",
       "      <th>os</th>\n",
       "      <th>battery capacity (WHr)</th>\n",
       "      <th>intel_processor_model</th>\n",
       "      <th>amd_processor_model</th>\n",
       "    </tr>\n",
       "  </thead>\n",
       "  <tbody>\n",
       "    <tr>\n",
       "      <th>481</th>\n",
       "      <td>dell</td>\n",
       "      <td>6</td>\n",
       "      <td>2.7</td>\n",
       "      <td>5.1</td>\n",
       "      <td>ddr4</td>\n",
       "      <td>4</td>\n",
       "      <td>500</td>\n",
       "      <td>0</td>\n",
       "      <td>nvidia</td>\n",
       "      <td>2048</td>\n",
       "      <td>...</td>\n",
       "      <td>led ips</td>\n",
       "      <td>15.6</td>\n",
       "      <td>1920</td>\n",
       "      <td>1080</td>\n",
       "      <td>90</td>\n",
       "      <td>1.89</td>\n",
       "      <td>windows pro 10.00</td>\n",
       "      <td>51.0</td>\n",
       "      <td>3</td>\n",
       "      <td>0</td>\n",
       "    </tr>\n",
       "    <tr>\n",
       "      <th>693</th>\n",
       "      <td>lenovo</td>\n",
       "      <td>4</td>\n",
       "      <td>1.3</td>\n",
       "      <td>3.9</td>\n",
       "      <td>ddr4</td>\n",
       "      <td>16</td>\n",
       "      <td>0</td>\n",
       "      <td>512</td>\n",
       "      <td>intel</td>\n",
       "      <td>8192</td>\n",
       "      <td>...</td>\n",
       "      <td>led ips</td>\n",
       "      <td>14.0</td>\n",
       "      <td>1920</td>\n",
       "      <td>1080</td>\n",
       "      <td>100</td>\n",
       "      <td>1.25</td>\n",
       "      <td>windows pro 10.00</td>\n",
       "      <td>52.0</td>\n",
       "      <td>3</td>\n",
       "      <td>0</td>\n",
       "    </tr>\n",
       "    <tr>\n",
       "      <th>449</th>\n",
       "      <td>asus</td>\n",
       "      <td>4</td>\n",
       "      <td>2.4</td>\n",
       "      <td>4.1</td>\n",
       "      <td>ddr4</td>\n",
       "      <td>8</td>\n",
       "      <td>0</td>\n",
       "      <td>512</td>\n",
       "      <td>nvidia</td>\n",
       "      <td>6144</td>\n",
       "      <td>...</td>\n",
       "      <td>led ips</td>\n",
       "      <td>15.6</td>\n",
       "      <td>1920</td>\n",
       "      <td>1080</td>\n",
       "      <td>60</td>\n",
       "      <td>2.40</td>\n",
       "      <td>windows home 10.00</td>\n",
       "      <td>66.0</td>\n",
       "      <td>2</td>\n",
       "      <td>0</td>\n",
       "    </tr>\n",
       "    <tr>\n",
       "      <th>804</th>\n",
       "      <td>asus</td>\n",
       "      <td>8</td>\n",
       "      <td>2.3</td>\n",
       "      <td>5.1</td>\n",
       "      <td>ddr4</td>\n",
       "      <td>48</td>\n",
       "      <td>0</td>\n",
       "      <td>6144</td>\n",
       "      <td>nvidia</td>\n",
       "      <td>8192</td>\n",
       "      <td>...</td>\n",
       "      <td>led ips</td>\n",
       "      <td>15.6</td>\n",
       "      <td>1920</td>\n",
       "      <td>1080</td>\n",
       "      <td>100</td>\n",
       "      <td>2.00</td>\n",
       "      <td>windows home 10.00</td>\n",
       "      <td>76.0</td>\n",
       "      <td>3</td>\n",
       "      <td>0</td>\n",
       "    </tr>\n",
       "    <tr>\n",
       "      <th>279</th>\n",
       "      <td>dell</td>\n",
       "      <td>4</td>\n",
       "      <td>1.6</td>\n",
       "      <td>3.4</td>\n",
       "      <td>ddr4</td>\n",
       "      <td>8</td>\n",
       "      <td>500</td>\n",
       "      <td>0</td>\n",
       "      <td>intel</td>\n",
       "      <td>1700</td>\n",
       "      <td>...</td>\n",
       "      <td>led ips</td>\n",
       "      <td>14.0</td>\n",
       "      <td>1366</td>\n",
       "      <td>768</td>\n",
       "      <td>0</td>\n",
       "      <td>1.72</td>\n",
       "      <td>windows pro 10.00</td>\n",
       "      <td>56.0</td>\n",
       "      <td>2</td>\n",
       "      <td>0</td>\n",
       "    </tr>\n",
       "  </tbody>\n",
       "</table>\n",
       "<p>5 rows × 22 columns</p>\n",
       "</div>"
      ],
      "text/plain": [
       "    producer  cores  core base speed (GHz)  core boost speed (GHz) ram type  \\\n",
       "481     dell      6                    2.7                     5.1     ddr4   \n",
       "693   lenovo      4                    1.3                     3.9     ddr4   \n",
       "449     asus      4                    2.4                     4.1     ddr4   \n",
       "804     asus      8                    2.3                     5.1     ddr4   \n",
       "279     dell      4                    1.6                     3.4     ddr4   \n",
       "\n",
       "     ram cap (GB)  ssd (GB)  hdd (GB) gpu prod  gpu size (MB)  ...  \\\n",
       "481             4       500         0   nvidia           2048  ...   \n",
       "693            16         0       512    intel           8192  ...   \n",
       "449             8         0       512   nvidia           6144  ...   \n",
       "804            48         0      6144   nvidia           8192  ...   \n",
       "279             8       500         0    intel           1700  ...   \n",
       "\n",
       "     screen type  screen size (inch) screen horizontal resolution  \\\n",
       "481      led ips                15.6                         1920   \n",
       "693      led ips                14.0                         1920   \n",
       "449      led ips                15.6                         1920   \n",
       "804      led ips                15.6                         1920   \n",
       "279      led ips                14.0                         1366   \n",
       "\n",
       "     screen vertical resolution  sRGB (%)  weight (kg)                  os  \\\n",
       "481                        1080        90         1.89   windows pro 10.00   \n",
       "693                        1080       100         1.25   windows pro 10.00   \n",
       "449                        1080        60         2.40  windows home 10.00   \n",
       "804                        1080       100         2.00  windows home 10.00   \n",
       "279                         768         0         1.72   windows pro 10.00   \n",
       "\n",
       "     battery capacity (WHr) intel_processor_model  amd_processor_model  \n",
       "481                    51.0                     3                    0  \n",
       "693                    52.0                     3                    0  \n",
       "449                    66.0                     2                    0  \n",
       "804                    76.0                     3                    0  \n",
       "279                    56.0                     2                    0  \n",
       "\n",
       "[5 rows x 22 columns]"
      ]
     },
     "execution_count": 16,
     "metadata": {},
     "output_type": "execute_result"
    }
   ],
   "source": [
    "# TEST\n",
    "split_processor_model(train_X_df).head()"
   ]
  },
  {
   "cell_type": "code",
   "execution_count": 17,
   "metadata": {},
   "outputs": [],
   "source": [
    "# Hàm chọn các giá trị xuất hiện nhiều nhất theo \"num_top_producer\" đối với cột \"producer\" và \"num_top_os\" đối với cột \"os\"\n",
    "# và các giá trị khác được thay bằng giá trị \"others\"\n",
    "class ColAdderDropper(BaseEstimator, TransformerMixin):\n",
    "    def __init__(self, num_top_producers=1, num_top_os=1):\n",
    "        self.num_top_producers = num_top_producers\n",
    "        self.num_top_os = num_top_os\n",
    "    def fit(self, X_df, y=None):\n",
    "        producer_col = X_df.producer\n",
    "        self.producer_counts_ = producer_col.value_counts()\n",
    "        producers = list(self.producer_counts_.index)\n",
    "        self.top_producers_ = producers[:max(1, min(self.num_top_producers, len(producers)))]\n",
    "        \n",
    "        os_col = X_df.os\n",
    "        self.os_counts_ = os_col.value_counts()\n",
    "        os = list(self.os_counts_.index)\n",
    "        self.top_os_ = os[:max(1, min(self.num_top_os, len(os)))]\n",
    "        \n",
    "        return self\n",
    "    def transform(self, X_df, y=None):\n",
    "        X = X_df.copy()\n",
    "        X.loc[:, \"producer\"].replace(list(set(X.producer.unique())-set(self.top_producers_)), 'others', inplace=True)\n",
    "        X.loc[:, \"os\"].replace(list(set(X.os.unique())-set(self.top_os_)), 'others', inplace=True)\n",
    "        return X"
   ]
  },
  {
   "cell_type": "code",
   "execution_count": 18,
   "metadata": {},
   "outputs": [
    {
     "name": "stdout",
     "output_type": "stream",
     "text": [
      "lenovo    98\n",
      "dell      80\n",
      "asus      78\n",
      "hp        55\n",
      "acer      21\n",
      "apple      8\n",
      "Name: producer, dtype: int64\n",
      "\n",
      "['lenovo', 'dell', 'asus', 'hp']\n",
      "\n",
      "windows home 10.00    190\n",
      "windows pro 10.00     126\n",
      "macos  11.00            8\n",
      "chrome os  0.00         7\n",
      "linux ubuntu 0.00       7\n",
      "no os  0.00             2\n",
      "Name: os, dtype: int64\n",
      "\n",
      "['windows home 10.00', 'windows pro 10.00', 'macos  11.00', 'chrome os  0.00']\n"
     ]
    }
   ],
   "source": [
    "# TEST\n",
    "col_adderdropper = ColAdderDropper(num_top_producers=4, num_top_os=4)\n",
    "col_adderdropper.fit(split_processor_model(train_X_df))\n",
    "print(col_adderdropper.producer_counts_)\n",
    "print()\n",
    "print(col_adderdropper.top_producers_)\n",
    "print()\n",
    "print(col_adderdropper.os_counts_)\n",
    "print()\n",
    "print(col_adderdropper.top_os_)"
   ]
  },
  {
   "cell_type": "code",
   "execution_count": 19,
   "metadata": {},
   "outputs": [],
   "source": [
    "fewer_cols_train_X_df = col_adderdropper.transform(split_processor_model(train_X_df))"
   ]
  },
  {
   "cell_type": "code",
   "execution_count": 20,
   "metadata": {},
   "outputs": [
    {
     "data": {
      "text/plain": [
       "array(['windows pro 10.00', 'windows home 10.00', 'macos  11.00',\n",
       "       'others', 'chrome os  0.00'], dtype=object)"
      ]
     },
     "execution_count": 20,
     "metadata": {},
     "output_type": "execute_result"
    }
   ],
   "source": [
    "# Kiểm tra lại cột \"os\" đã xử lý đúng chưa\n",
    "fewer_cols_train_X_df.os.unique()"
   ]
  },
  {
   "cell_type": "code",
   "execution_count": 21,
   "metadata": {},
   "outputs": [
    {
     "data": {
      "text/plain": [
       "array(['dell', 'lenovo', 'asus', 'others', 'hp'], dtype=object)"
      ]
     },
     "execution_count": 21,
     "metadata": {},
     "output_type": "execute_result"
    }
   ],
   "source": [
    "# Kiểm tra lại cột \"producer\" đã xử lý đúng chưa\n",
    "fewer_cols_train_X_df.producer.unique()"
   ]
  },
  {
   "cell_type": "code",
   "execution_count": 22,
   "metadata": {},
   "outputs": [
    {
     "data": {
      "text/html": [
       "<div>\n",
       "<style scoped>\n",
       "    .dataframe tbody tr th:only-of-type {\n",
       "        vertical-align: middle;\n",
       "    }\n",
       "\n",
       "    .dataframe tbody tr th {\n",
       "        vertical-align: top;\n",
       "    }\n",
       "\n",
       "    .dataframe thead th {\n",
       "        text-align: right;\n",
       "    }\n",
       "</style>\n",
       "<table border=\"1\" class=\"dataframe\">\n",
       "  <thead>\n",
       "    <tr style=\"text-align: right;\">\n",
       "      <th></th>\n",
       "      <th>producer</th>\n",
       "      <th>cores</th>\n",
       "      <th>core base speed (GHz)</th>\n",
       "      <th>core boost speed (GHz)</th>\n",
       "      <th>ram type</th>\n",
       "      <th>ram cap (GB)</th>\n",
       "      <th>ssd (GB)</th>\n",
       "      <th>hdd (GB)</th>\n",
       "      <th>gpu prod</th>\n",
       "      <th>gpu size (MB)</th>\n",
       "      <th>...</th>\n",
       "      <th>screen type</th>\n",
       "      <th>screen size (inch)</th>\n",
       "      <th>screen horizontal resolution</th>\n",
       "      <th>screen vertical resolution</th>\n",
       "      <th>sRGB (%)</th>\n",
       "      <th>weight (kg)</th>\n",
       "      <th>os</th>\n",
       "      <th>battery capacity (WHr)</th>\n",
       "      <th>intel_processor_model</th>\n",
       "      <th>amd_processor_model</th>\n",
       "    </tr>\n",
       "  </thead>\n",
       "  <tbody>\n",
       "    <tr>\n",
       "      <th>481</th>\n",
       "      <td>dell</td>\n",
       "      <td>6</td>\n",
       "      <td>2.7</td>\n",
       "      <td>5.1</td>\n",
       "      <td>ddr4</td>\n",
       "      <td>4</td>\n",
       "      <td>500</td>\n",
       "      <td>0</td>\n",
       "      <td>nvidia</td>\n",
       "      <td>2048</td>\n",
       "      <td>...</td>\n",
       "      <td>led ips</td>\n",
       "      <td>15.6</td>\n",
       "      <td>1920</td>\n",
       "      <td>1080</td>\n",
       "      <td>90</td>\n",
       "      <td>1.89</td>\n",
       "      <td>windows pro 10.00</td>\n",
       "      <td>51.0</td>\n",
       "      <td>3</td>\n",
       "      <td>0</td>\n",
       "    </tr>\n",
       "    <tr>\n",
       "      <th>693</th>\n",
       "      <td>lenovo</td>\n",
       "      <td>4</td>\n",
       "      <td>1.3</td>\n",
       "      <td>3.9</td>\n",
       "      <td>ddr4</td>\n",
       "      <td>16</td>\n",
       "      <td>0</td>\n",
       "      <td>512</td>\n",
       "      <td>intel</td>\n",
       "      <td>8192</td>\n",
       "      <td>...</td>\n",
       "      <td>led ips</td>\n",
       "      <td>14.0</td>\n",
       "      <td>1920</td>\n",
       "      <td>1080</td>\n",
       "      <td>100</td>\n",
       "      <td>1.25</td>\n",
       "      <td>windows pro 10.00</td>\n",
       "      <td>52.0</td>\n",
       "      <td>3</td>\n",
       "      <td>0</td>\n",
       "    </tr>\n",
       "    <tr>\n",
       "      <th>449</th>\n",
       "      <td>asus</td>\n",
       "      <td>4</td>\n",
       "      <td>2.4</td>\n",
       "      <td>4.1</td>\n",
       "      <td>ddr4</td>\n",
       "      <td>8</td>\n",
       "      <td>0</td>\n",
       "      <td>512</td>\n",
       "      <td>nvidia</td>\n",
       "      <td>6144</td>\n",
       "      <td>...</td>\n",
       "      <td>led ips</td>\n",
       "      <td>15.6</td>\n",
       "      <td>1920</td>\n",
       "      <td>1080</td>\n",
       "      <td>60</td>\n",
       "      <td>2.40</td>\n",
       "      <td>windows home 10.00</td>\n",
       "      <td>66.0</td>\n",
       "      <td>2</td>\n",
       "      <td>0</td>\n",
       "    </tr>\n",
       "    <tr>\n",
       "      <th>804</th>\n",
       "      <td>asus</td>\n",
       "      <td>8</td>\n",
       "      <td>2.3</td>\n",
       "      <td>5.1</td>\n",
       "      <td>ddr4</td>\n",
       "      <td>48</td>\n",
       "      <td>0</td>\n",
       "      <td>6144</td>\n",
       "      <td>nvidia</td>\n",
       "      <td>8192</td>\n",
       "      <td>...</td>\n",
       "      <td>led ips</td>\n",
       "      <td>15.6</td>\n",
       "      <td>1920</td>\n",
       "      <td>1080</td>\n",
       "      <td>100</td>\n",
       "      <td>2.00</td>\n",
       "      <td>windows home 10.00</td>\n",
       "      <td>76.0</td>\n",
       "      <td>3</td>\n",
       "      <td>0</td>\n",
       "    </tr>\n",
       "    <tr>\n",
       "      <th>279</th>\n",
       "      <td>dell</td>\n",
       "      <td>4</td>\n",
       "      <td>1.6</td>\n",
       "      <td>3.4</td>\n",
       "      <td>ddr4</td>\n",
       "      <td>8</td>\n",
       "      <td>500</td>\n",
       "      <td>0</td>\n",
       "      <td>intel</td>\n",
       "      <td>1700</td>\n",
       "      <td>...</td>\n",
       "      <td>led ips</td>\n",
       "      <td>14.0</td>\n",
       "      <td>1366</td>\n",
       "      <td>768</td>\n",
       "      <td>0</td>\n",
       "      <td>1.72</td>\n",
       "      <td>windows pro 10.00</td>\n",
       "      <td>56.0</td>\n",
       "      <td>2</td>\n",
       "      <td>0</td>\n",
       "    </tr>\n",
       "  </tbody>\n",
       "</table>\n",
       "<p>5 rows × 22 columns</p>\n",
       "</div>"
      ],
      "text/plain": [
       "    producer  cores  core base speed (GHz)  core boost speed (GHz) ram type  \\\n",
       "481     dell      6                    2.7                     5.1     ddr4   \n",
       "693   lenovo      4                    1.3                     3.9     ddr4   \n",
       "449     asus      4                    2.4                     4.1     ddr4   \n",
       "804     asus      8                    2.3                     5.1     ddr4   \n",
       "279     dell      4                    1.6                     3.4     ddr4   \n",
       "\n",
       "     ram cap (GB)  ssd (GB)  hdd (GB) gpu prod  gpu size (MB)  ...  \\\n",
       "481             4       500         0   nvidia           2048  ...   \n",
       "693            16         0       512    intel           8192  ...   \n",
       "449             8         0       512   nvidia           6144  ...   \n",
       "804            48         0      6144   nvidia           8192  ...   \n",
       "279             8       500         0    intel           1700  ...   \n",
       "\n",
       "     screen type  screen size (inch) screen horizontal resolution  \\\n",
       "481      led ips                15.6                         1920   \n",
       "693      led ips                14.0                         1920   \n",
       "449      led ips                15.6                         1920   \n",
       "804      led ips                15.6                         1920   \n",
       "279      led ips                14.0                         1366   \n",
       "\n",
       "     screen vertical resolution  sRGB (%)  weight (kg)                  os  \\\n",
       "481                        1080        90         1.89   windows pro 10.00   \n",
       "693                        1080       100         1.25   windows pro 10.00   \n",
       "449                        1080        60         2.40  windows home 10.00   \n",
       "804                        1080       100         2.00  windows home 10.00   \n",
       "279                         768         0         1.72   windows pro 10.00   \n",
       "\n",
       "     battery capacity (WHr) intel_processor_model  amd_processor_model  \n",
       "481                    51.0                     3                    0  \n",
       "693                    52.0                     3                    0  \n",
       "449                    66.0                     2                    0  \n",
       "804                    76.0                     3                    0  \n",
       "279                    56.0                     2                    0  \n",
       "\n",
       "[5 rows x 22 columns]"
      ]
     },
     "execution_count": 22,
     "metadata": {},
     "output_type": "execute_result"
    }
   ],
   "source": [
    "fewer_cols_train_X_df.head()"
   ]
  },
  {
   "cell_type": "markdown",
   "metadata": {},
   "source": [
    "   \n",
    "\n",
    "Các bước tiền xử lý tiếp theo: (như Bài tập 3)\n",
    "- Với các cột dạng số (`nume_cols`), ta sẽ điền giá trị thiếu bằng giá trị mean của cột (dùng `SimpleImputer`). Với *tất cả* các cột dạng số trong tập huấn luyện, ta đều cần tính mean, vì ta không biết được cột nào sẽ bị thiếu giá trị khi dự đoán với các véc-tơ input mới. \n",
    "- Với các cột không phải dạng số và không có thứ tự (`unorder_cate_cols`):\n",
    "    - Ta sẽ điền giá trị thiếu bằng giá trị mode (giá trị xuất hiện nhiều nhất) của cột (dùng `SimpleImputer`). Với *tất cả* các cột không có dạng số và không có thứ tự, ta đều cần tính mode, vì ta không biết được cột nào sẽ bị thiếu giá trị khi dự đoán với các véc-tơ input mới.\n",
    "    - Sau đó, ta sẽ chuyển sang dạng số bằng phương pháp mã hóa one-hot (dùng `OneHotEncoder`).\n",
    "- Với cột không phải dạng số và có thứ tự (`order_cate_cols`):\n",
    "    - Ta sẽ điền giá trị thiếu bằng giá trị mode (giá trị xuất hiện nhiều nhất) của cột.\n",
    "    - Cột này đã được chuyển sang dạng số rồi nên ta không cần chuyển nữa.\n",
    "- Cuối cùng, khi tất cả các cột đã được điền giá trị thiếu và đã có dạng số, ta sẽ tiến hành chuẩn hóa bằng cách trừ đi mean và chia cho độ lệch chuẩn của cột để giúp cho các thuật toán cực tiểu hóa như Gradient Descent, LBFGS, ... hội tụ nhanh hơn (dùng `StandardScaler`)."
   ]
  },
  {
   "cell_type": "code",
   "execution_count": 23,
   "metadata": {},
   "outputs": [],
   "source": [
    "nume_cols = ['cores',\n",
    "            'core base speed (GHz)', \n",
    "            'core boost speed (GHz)',\n",
    "            'ram cap (GB)',\n",
    "            'ssd (GB)', 'hdd (GB)', \n",
    "            'gpu size (MB)', \n",
    "            'gpu base speed (GHz)',\n",
    "            'gpu boost speed (GHz)',\n",
    "            'screen size (inch)',\n",
    "            'screen horizontal resolution',\n",
    "            'screen vertical resolution',\n",
    "            'sRGB (%)',\n",
    "            'weight (kg)',\n",
    "            'battery capacity (WHr)']\n",
    "unorder_cate_cols = ['producer', 'ram type', 'gpu prod', 'screen type', 'os']\n",
    "order_cate_cols = ['intel_processor_model', 'amd_processor_model']\n",
    "\n",
    "unorder_cate_cols_transformer = make_pipeline(SimpleImputer(strategy='most_frequent'), OneHotEncoder(handle_unknown='ignore'))\n",
    "column_transformer = make_column_transformer((SimpleImputer(strategy='mean'), nume_cols),\n",
    "                                            (unorder_cate_cols_transformer, unorder_cate_cols),\n",
    "                                            (SimpleImputer(strategy='most_frequent'), order_cate_cols))\n",
    "preprocess_pipeline = make_pipeline(FunctionTransformer(split_processor_model), \n",
    "                                    ColAdderDropper(num_top_producers=4, num_top_os=4),\n",
    "                                    column_transformer, StandardScaler())\n",
    "\n",
    "preprocessed_train_X = preprocess_pipeline.fit_transform(train_X_df)"
   ]
  },
  {
   "cell_type": "code",
   "execution_count": 24,
   "metadata": {},
   "outputs": [
    {
     "data": {
      "text/plain": [
       "array([[ 1.06483732,  1.17418285,  1.77958984, ...,  1.30323164,\n",
       "         0.92077472, -0.35648864],\n",
       "       [-0.37184795, -1.53897753, -0.64469281, ...,  1.30323164,\n",
       "         0.92077472, -0.35648864],\n",
       "       [-0.37184795,  0.59279134, -0.2406457 , ..., -0.7673233 ,\n",
       "        -0.08263363, -0.35648864],\n",
       "       ...,\n",
       "       [ 1.06483732,  0.98038568,  1.57756628, ..., -0.7673233 ,\n",
       "         0.92077472, -0.35648864],\n",
       "       [-0.37184795, -0.95758602, -0.03862215, ..., -0.7673233 ,\n",
       "        -0.08263363, -0.35648864],\n",
       "       [ 1.06483732,  0.98038568,  0.1634014 , ...,  1.30323164,\n",
       "         0.92077472, -0.35648864]])"
      ]
     },
     "execution_count": 24,
     "metadata": {},
     "output_type": "execute_result"
    }
   ],
   "source": [
    "preprocessed_train_X"
   ]
  },
  {
   "cell_type": "markdown",
   "metadata": {},
   "source": [
    "##### Trực quan hóa pipeline tiền xử lý"
   ]
  },
  {
   "cell_type": "code",
   "execution_count": 25,
   "metadata": {
    "scrolled": true
   },
   "outputs": [
    {
     "data": {
      "text/html": [
       "<style>div.sk-top-container {color: black;background-color: white;}div.sk-toggleable {background-color: white;}label.sk-toggleable__label {cursor: pointer;display: block;width: 100%;margin-bottom: 0;padding: 0.2em 0.3em;box-sizing: border-box;text-align: center;}div.sk-toggleable__content {max-height: 0;max-width: 0;overflow: hidden;text-align: left;background-color: #f0f8ff;}div.sk-toggleable__content pre {margin: 0.2em;color: black;border-radius: 0.25em;background-color: #f0f8ff;}input.sk-toggleable__control:checked~div.sk-toggleable__content {max-height: 200px;max-width: 100%;overflow: auto;}div.sk-estimator input.sk-toggleable__control:checked~label.sk-toggleable__label {background-color: #d4ebff;}div.sk-label input.sk-toggleable__control:checked~label.sk-toggleable__label {background-color: #d4ebff;}input.sk-hidden--visually {border: 0;clip: rect(1px 1px 1px 1px);clip: rect(1px, 1px, 1px, 1px);height: 1px;margin: -1px;overflow: hidden;padding: 0;position: absolute;width: 1px;}div.sk-estimator {font-family: monospace;background-color: #f0f8ff;margin: 0.25em 0.25em;border: 1px dotted black;border-radius: 0.25em;box-sizing: border-box;}div.sk-estimator:hover {background-color: #d4ebff;}div.sk-parallel-item::after {content: \"\";width: 100%;border-bottom: 1px solid gray;flex-grow: 1;}div.sk-label:hover label.sk-toggleable__label {background-color: #d4ebff;}div.sk-serial::before {content: \"\";position: absolute;border-left: 1px solid gray;box-sizing: border-box;top: 2em;bottom: 0;left: 50%;}div.sk-serial {display: flex;flex-direction: column;align-items: center;background-color: white;}div.sk-item {z-index: 1;}div.sk-parallel {display: flex;align-items: stretch;justify-content: center;background-color: white;}div.sk-parallel-item {display: flex;flex-direction: column;position: relative;background-color: white;}div.sk-parallel-item:first-child::after {align-self: flex-end;width: 50%;}div.sk-parallel-item:last-child::after {align-self: flex-start;width: 50%;}div.sk-parallel-item:only-child::after {width: 0;}div.sk-dashed-wrapped {border: 1px dashed gray;margin: 0.2em;box-sizing: border-box;padding-bottom: 0.1em;background-color: white;position: relative;}div.sk-label label {font-family: monospace;font-weight: bold;background-color: white;display: inline-block;line-height: 1.2em;}div.sk-label-container {position: relative;z-index: 2;text-align: center;}div.sk-container {display: inline-block;position: relative;}</style><div class=\"sk-top-container\"><div class=\"sk-container\"><div class=\"sk-item sk-dashed-wrapped\"><div class=\"sk-label-container\"><div class=\"sk-label sk-toggleable\"><input class=\"sk-toggleable__control sk-hidden--visually\" id=\"b3e9f5c3-6336-4ee9-a535-b31d40d784a0\" type=\"checkbox\" ><label class=\"sk-toggleable__label\" for=\"b3e9f5c3-6336-4ee9-a535-b31d40d784a0\">Pipeline</label><div class=\"sk-toggleable__content\"><pre>Pipeline(steps=[('functiontransformer',\n",
       "                 FunctionTransformer(func=<function split_processor_model at 0x000001E7EF02EE50>)),\n",
       "                ('coladderdropper',\n",
       "                 ColAdderDropper(num_top_os=4, num_top_producers=4)),\n",
       "                ('columntransformer',\n",
       "                 ColumnTransformer(transformers=[('simpleimputer-1',\n",
       "                                                  SimpleImputer(),\n",
       "                                                  ['cores',\n",
       "                                                   'core base speed (GHz)',\n",
       "                                                   'core boost speed (GHz)',\n",
       "                                                   'ram cap (GB)', 'ssd (GB)'...\n",
       "                                                   'battery capacity (WHr)']),\n",
       "                                                 ('pipeline',\n",
       "                                                  Pipeline(steps=[('simpleimputer',\n",
       "                                                                   SimpleImputer(strategy='most_frequent')),\n",
       "                                                                  ('onehotencoder',\n",
       "                                                                   OneHotEncoder(handle_unknown='ignore'))]),\n",
       "                                                  ['producer', 'ram type',\n",
       "                                                   'gpu prod', 'screen type',\n",
       "                                                   'os']),\n",
       "                                                 ('simpleimputer-2',\n",
       "                                                  SimpleImputer(strategy='most_frequent'),\n",
       "                                                  ['intel_processor_model',\n",
       "                                                   'amd_processor_model'])])),\n",
       "                ('standardscaler', StandardScaler())])</pre></div></div></div><div class=\"sk-serial\"><div class=\"sk-item\"><div class=\"sk-estimator sk-toggleable\"><input class=\"sk-toggleable__control sk-hidden--visually\" id=\"efd751ca-ecea-4bff-9c31-2d0776a9c862\" type=\"checkbox\" ><label class=\"sk-toggleable__label\" for=\"efd751ca-ecea-4bff-9c31-2d0776a9c862\">FunctionTransformer</label><div class=\"sk-toggleable__content\"><pre>FunctionTransformer(func=<function split_processor_model at 0x000001E7EF02EE50>)</pre></div></div></div><div class=\"sk-item\"><div class=\"sk-estimator sk-toggleable\"><input class=\"sk-toggleable__control sk-hidden--visually\" id=\"ed834994-9e30-4b1c-b636-66915d844ade\" type=\"checkbox\" ><label class=\"sk-toggleable__label\" for=\"ed834994-9e30-4b1c-b636-66915d844ade\">ColAdderDropper</label><div class=\"sk-toggleable__content\"><pre>ColAdderDropper(num_top_os=4, num_top_producers=4)</pre></div></div></div><div class=\"sk-item sk-dashed-wrapped\"><div class=\"sk-label-container\"><div class=\"sk-label sk-toggleable\"><input class=\"sk-toggleable__control sk-hidden--visually\" id=\"dea39636-ee2f-41f7-8100-3466b4c6f15c\" type=\"checkbox\" ><label class=\"sk-toggleable__label\" for=\"dea39636-ee2f-41f7-8100-3466b4c6f15c\">columntransformer: ColumnTransformer</label><div class=\"sk-toggleable__content\"><pre>ColumnTransformer(transformers=[('simpleimputer-1', SimpleImputer(),\n",
       "                                 ['cores', 'core base speed (GHz)',\n",
       "                                  'core boost speed (GHz)', 'ram cap (GB)',\n",
       "                                  'ssd (GB)', 'hdd (GB)', 'gpu size (MB)',\n",
       "                                  'gpu base speed (GHz)',\n",
       "                                  'gpu boost speed (GHz)', 'screen size (inch)',\n",
       "                                  'screen horizontal resolution',\n",
       "                                  'screen vertical resolution', 'sRGB (%)',\n",
       "                                  'weight (kg)', 'battery capacity (WHr)']),\n",
       "                                ('pipeline',\n",
       "                                 Pipeline(steps=[('simpleimputer',\n",
       "                                                  SimpleImputer(strategy='most_frequent')),\n",
       "                                                 ('onehotencoder',\n",
       "                                                  OneHotEncoder(handle_unknown='ignore'))]),\n",
       "                                 ['producer', 'ram type', 'gpu prod',\n",
       "                                  'screen type', 'os']),\n",
       "                                ('simpleimputer-2',\n",
       "                                 SimpleImputer(strategy='most_frequent'),\n",
       "                                 ['intel_processor_model',\n",
       "                                  'amd_processor_model'])])</pre></div></div></div><div class=\"sk-parallel\"><div class=\"sk-parallel-item\"><div class=\"sk-item\"><div class=\"sk-label-container\"><div class=\"sk-label sk-toggleable\"><input class=\"sk-toggleable__control sk-hidden--visually\" id=\"cf212321-d1eb-41d9-a1dc-b8e218adfda5\" type=\"checkbox\" ><label class=\"sk-toggleable__label\" for=\"cf212321-d1eb-41d9-a1dc-b8e218adfda5\">simpleimputer-1</label><div class=\"sk-toggleable__content\"><pre>['cores', 'core base speed (GHz)', 'core boost speed (GHz)', 'ram cap (GB)', 'ssd (GB)', 'hdd (GB)', 'gpu size (MB)', 'gpu base speed (GHz)', 'gpu boost speed (GHz)', 'screen size (inch)', 'screen horizontal resolution', 'screen vertical resolution', 'sRGB (%)', 'weight (kg)', 'battery capacity (WHr)']</pre></div></div></div><div class=\"sk-serial\"><div class=\"sk-item\"><div class=\"sk-estimator sk-toggleable\"><input class=\"sk-toggleable__control sk-hidden--visually\" id=\"68f687fb-b4ce-4350-a9fa-36d435999493\" type=\"checkbox\" ><label class=\"sk-toggleable__label\" for=\"68f687fb-b4ce-4350-a9fa-36d435999493\">SimpleImputer</label><div class=\"sk-toggleable__content\"><pre>SimpleImputer()</pre></div></div></div></div></div></div><div class=\"sk-parallel-item\"><div class=\"sk-item\"><div class=\"sk-label-container\"><div class=\"sk-label sk-toggleable\"><input class=\"sk-toggleable__control sk-hidden--visually\" id=\"a80d0592-ffd3-4c58-b2c3-02c42f601cac\" type=\"checkbox\" ><label class=\"sk-toggleable__label\" for=\"a80d0592-ffd3-4c58-b2c3-02c42f601cac\">pipeline</label><div class=\"sk-toggleable__content\"><pre>['producer', 'ram type', 'gpu prod', 'screen type', 'os']</pre></div></div></div><div class=\"sk-serial\"><div class=\"sk-item\"><div class=\"sk-serial\"><div class=\"sk-item\"><div class=\"sk-estimator sk-toggleable\"><input class=\"sk-toggleable__control sk-hidden--visually\" id=\"ddf01ef6-9650-4c32-af6d-4cbb553faa60\" type=\"checkbox\" ><label class=\"sk-toggleable__label\" for=\"ddf01ef6-9650-4c32-af6d-4cbb553faa60\">SimpleImputer</label><div class=\"sk-toggleable__content\"><pre>SimpleImputer(strategy='most_frequent')</pre></div></div></div><div class=\"sk-item\"><div class=\"sk-estimator sk-toggleable\"><input class=\"sk-toggleable__control sk-hidden--visually\" id=\"73da6e35-112e-45a2-9781-70ab4ecd143a\" type=\"checkbox\" ><label class=\"sk-toggleable__label\" for=\"73da6e35-112e-45a2-9781-70ab4ecd143a\">OneHotEncoder</label><div class=\"sk-toggleable__content\"><pre>OneHotEncoder(handle_unknown='ignore')</pre></div></div></div></div></div></div></div></div><div class=\"sk-parallel-item\"><div class=\"sk-item\"><div class=\"sk-label-container\"><div class=\"sk-label sk-toggleable\"><input class=\"sk-toggleable__control sk-hidden--visually\" id=\"cbe0b815-776e-4ce8-a5fe-5e0108317fa5\" type=\"checkbox\" ><label class=\"sk-toggleable__label\" for=\"cbe0b815-776e-4ce8-a5fe-5e0108317fa5\">simpleimputer-2</label><div class=\"sk-toggleable__content\"><pre>['intel_processor_model', 'amd_processor_model']</pre></div></div></div><div class=\"sk-serial\"><div class=\"sk-item\"><div class=\"sk-estimator sk-toggleable\"><input class=\"sk-toggleable__control sk-hidden--visually\" id=\"529f80c4-6001-4253-bbe6-3f515d704768\" type=\"checkbox\" ><label class=\"sk-toggleable__label\" for=\"529f80c4-6001-4253-bbe6-3f515d704768\">SimpleImputer</label><div class=\"sk-toggleable__content\"><pre>SimpleImputer(strategy='most_frequent')</pre></div></div></div></div></div></div></div></div><div class=\"sk-item\"><div class=\"sk-estimator sk-toggleable\"><input class=\"sk-toggleable__control sk-hidden--visually\" id=\"37bc9948-2101-4d91-be1f-55924689a075\" type=\"checkbox\" ><label class=\"sk-toggleable__label\" for=\"37bc9948-2101-4d91-be1f-55924689a075\">StandardScaler</label><div class=\"sk-toggleable__content\"><pre>StandardScaler()</pre></div></div></div></div></div></div></div>"
      ],
      "text/plain": [
       "Pipeline(steps=[('functiontransformer',\n",
       "                 FunctionTransformer(func=<function split_processor_model at 0x000001E7EF02EE50>)),\n",
       "                ('coladderdropper',\n",
       "                 ColAdderDropper(num_top_os=4, num_top_producers=4)),\n",
       "                ('columntransformer',\n",
       "                 ColumnTransformer(transformers=[('simpleimputer-1',\n",
       "                                                  SimpleImputer(),\n",
       "                                                  ['cores',\n",
       "                                                   'core base speed (GHz)',\n",
       "                                                   'core boost speed (GHz)',\n",
       "                                                   'ram cap (GB)', 'ssd (GB)'...\n",
       "                                                   'battery capacity (WHr)']),\n",
       "                                                 ('pipeline',\n",
       "                                                  Pipeline(steps=[('simpleimputer',\n",
       "                                                                   SimpleImputer(strategy='most_frequent')),\n",
       "                                                                  ('onehotencoder',\n",
       "                                                                   OneHotEncoder(handle_unknown='ignore'))]),\n",
       "                                                  ['producer', 'ram type',\n",
       "                                                   'gpu prod', 'screen type',\n",
       "                                                   'os']),\n",
       "                                                 ('simpleimputer-2',\n",
       "                                                  SimpleImputer(strategy='most_frequent'),\n",
       "                                                  ['intel_processor_model',\n",
       "                                                   'amd_processor_model'])])),\n",
       "                ('standardscaler', StandardScaler())])"
      ]
     },
     "execution_count": 25,
     "metadata": {},
     "output_type": "execute_result"
    }
   ],
   "source": [
    "preprocess_pipeline"
   ]
  },
  {
   "cell_type": "markdown",
   "metadata": {},
   "source": [
    "---"
   ]
  },
  {
   "cell_type": "markdown",
   "metadata": {},
   "source": [
    "# Mô hình hóa"
   ]
  },
  {
   "cell_type": "markdown",
   "metadata": {},
   "source": [
    "## Sử dụng mô hình Linear Regression (hàm cực tiểu hóa là Stochastic Gradient Descent)\n",
    "\n",
    "Sử dụng thuật toán Stochastic Gradient Descent cho bài toán Linear Regression\n",
    "\n",
    "Chạy thử nghiệm các siêu tham số:\n",
    "- `alpha`\n",
    "- `num_top_producers`\n",
    "- `num_top_os`\n",
    "\n",
    "Chọn các giá trị của các siêu tham số cho độ lỗi nhỏ nhất trên tập validation"
   ]
  },
  {
   "cell_type": "code",
   "execution_count": 26,
   "metadata": {},
   "outputs": [],
   "source": [
    "from sklearn.linear_model import SGDRegressor"
   ]
  },
  {
   "cell_type": "code",
   "execution_count": 27,
   "metadata": {},
   "outputs": [],
   "source": [
    "# Hàm tính độ đo r^2\n",
    "def compute_mse(y, preds):\n",
    "    return ((y - preds) ** 2).mean()\n",
    "def compute_rr(y, preds, baseline_preds):\n",
    "    return 1 - compute_mse(y, preds) / compute_mse(y, baseline_preds)\n",
    "baseline_preds = train_y_sr.mean()"
   ]
  },
  {
   "cell_type": "code",
   "execution_count": 28,
   "metadata": {},
   "outputs": [],
   "source": [
    "full_pipeline = make_pipeline(FunctionTransformer(split_processor_model), \n",
    "                              ColAdderDropper(num_top_producers=4, num_top_os=4),\n",
    "                              column_transformer, StandardScaler(),\n",
    "                              SGDRegressor(penalty='l2', random_state=0))\n",
    "\n",
    "train_errs = []\n",
    "val_errs = []\n",
    "alphas = [0.001, 0.01, 0.1, 1, 10]\n",
    "num_top_producers_s = range(1, 8)\n",
    "num_top_os_s = range(1, 7)\n",
    "best_val_err = float('inf'); best_num_top_os = None; best_num_top_producers = None; best_alpha = None\n",
    "for alpha in alphas:\n",
    "    for num_top_producers in num_top_producers_s:\n",
    "        for num_top_os in num_top_os_s:\n",
    "            full_pipeline.set_params(coladderdropper__num_top_producers=num_top_producers, coladderdropper__num_top_os=num_top_os, sgdregressor__alpha=alpha)\n",
    "            full_pipeline.fit(train_X_df, train_y_sr)\n",
    "            train_errs.append(100 - compute_rr(train_y_sr, full_pipeline.predict(train_X_df), baseline_preds) * 100)\n",
    "            val_errs.append(100 - compute_rr(val_y_sr, full_pipeline.predict(val_X_df), baseline_preds) * 100)\n",
    "            if val_errs[-1] < best_val_err:\n",
    "                best_val_err = val_errs[-1]\n",
    "                best_alpha = alpha\n",
    "                best_num_top_producers = num_top_producers\n",
    "                best_num_top_os = num_top_os"
   ]
  },
  {
   "cell_type": "code",
   "execution_count": 29,
   "metadata": {},
   "outputs": [
    {
     "name": "stdout",
     "output_type": "stream",
     "text": [
      "val_errs:\n",
      "[36.437873305502364, 36.15458237850241, 36.24731967554568, 36.14179159504973, 36.30114374386915, 36.30114374386915, 36.612989376860774, 36.319422537958346, 36.3994638246929, 36.29601639883897, 36.437452689201464, 36.437452689201464, 36.544085722922645, 35.722849068090895, 35.76156580595658, 36.057730231125774, 36.17485477987024, 36.17485477987024, 36.95073670473092, 36.10021968469961, 36.13484595128889, 36.48613239625791, 36.161276959875764, 36.161276959875764, 36.52593801895674, 36.1413023760293, 36.13553514924581, 36.03954868229262, 36.16164898843582, 36.16164898843582, 36.525938018956715, 36.1413023760293, 36.13553514924581, 36.03954868229262, 36.16164898843582, 36.16164898843582, 36.525938018956715, 36.1413023760293, 36.13553514924581, 36.03954868229262, 36.16164898843582, 36.16164898843582, 36.23229619287983, 35.945159527072605, 36.035174578221465, 35.92868002849504, 36.08365447652202, 36.08365447652202, 36.402174834623956, 36.104984187513, 36.1835753174468, 36.078297373237646, 36.21612652218458, 36.21612652218458, 36.340337030034, 35.90095443512172, 35.973728346797614, 35.84808377113218, 35.96226017578098, 35.96226017578098, 36.72643137407072, 36.31414876410965, 36.39177177611135, 36.2615410373056, 36.4076520593715, 36.4076520593715, 36.68301954694936, 36.35739166876273, 36.383088703818835, 36.25175856420644, 36.3985950545078, 36.3985950545078, 36.68301954694937, 36.357391668762716, 36.383088703818835, 36.25175856420645, 36.39859505450778, 36.39859505450778, 36.68301954694937, 36.357391668762716, 36.383088703818835, 36.25175856420645, 36.39859505450778, 36.39859505450778, 34.46227633441595, 34.17349566274427, 34.22763373655047, 34.155402658822624, 34.25422380306124, 34.25422380306124, 34.56303034503826, 34.27230801686407, 34.31812491324831, 34.244247266919984, 34.66290435212443, 34.66290435212443, 34.49648399111662, 34.08741366279848, 34.10563800644876, 34.010697437217544, 34.32209907707313, 34.32209907707313, 35.048011592871546, 34.62558022696433, 34.69633668323209, 34.56002199912005, 34.663056507260066, 34.663056507260066, 34.96433852827796, 34.68209873305548, 34.47535387500295, 34.37541656937475, 34.68521910760755, 34.68521910760755, 34.96433852827795, 34.6820987330555, 34.47535387500295, 34.375416569374735, 34.68521910760755, 34.68521910760755, 34.96433852827795, 34.6820987330555, 34.47535387500295, 34.375416569374735, 34.68521910760755, 34.68521910760755, 34.25501312436546, 33.90998264557474, 33.86888505760538, 33.906393163724815, 34.021495446499856, 34.021495446499856, 34.296270998275716, 33.944644870717156, 33.897498628500415, 33.925214935827626, 34.04890277046452, 34.04890277046452, 34.13428162770926, 33.70964011121194, 33.622404953035456, 33.6414053277434, 33.76466543213141, 33.76466543213141, 34.083252935610716, 33.69500729963765, 33.650180883732446, 33.66453551595441, 33.79216124180131, 33.79216124180131, 33.70608329562336, 33.522583813242534, 33.58223643360361, 33.599577059170755, 33.72681466690646, 33.72681466690646, 33.70608329562336, 33.522583813242534, 33.58223643360361, 33.599577059170755, 33.72681466690646, 33.72681466690646, 33.70608329562336, 33.522583813242534, 33.58223643360361, 33.599577059170755, 33.72681466690646, 33.72681466690646, 72.9762681122923, 72.99413999653154, 72.83287690088858, 72.85409220208108, 72.87417426449456, 72.87417426449456, 72.99156974793418, 73.0093919479819, 72.84814041953042, 72.86758380552519, 72.8885604221424, 72.8885604221424, 72.84748672260108, 72.8604855094051, 72.69325425763186, 72.71069452889705, 72.73332487387498, 72.73332487387498, 72.79731584969846, 72.81281137730463, 72.65557228014085, 72.67152440434629, 72.6950695308083, 72.6950695308083, 72.25508957876717, 72.28491575017472, 72.16668544249741, 72.1826786354055, 72.20607538727268, 72.20607538727268, 72.25508957876717, 72.2849157501747, 72.16668544249741, 72.1826786354055, 72.20607538727268, 72.20607538727268, 72.25508957876717, 72.2849157501747, 72.16668544249741, 72.1826786354055, 72.20607538727268, 72.20607538727268]\n"
     ]
    }
   ],
   "source": [
    "print(\"val_errs:\")\n",
    "print(val_errs)"
   ]
  },
  {
   "cell_type": "code",
   "execution_count": 30,
   "metadata": {},
   "outputs": [],
   "source": [
    "full_pipeline = make_pipeline(FunctionTransformer(split_processor_model), \n",
    "                              ColAdderDropper(num_top_producers=4, num_top_os=4),\n",
    "                              column_transformer, StandardScaler(),\n",
    "                              SGDRegressor(penalty='l1', random_state=0))\n",
    "\n",
    "train_errs = []\n",
    "val_errs = []\n",
    "alphas = [0.001, 0.01, 0.1, 1, 10]\n",
    "num_top_producers_s = range(1, 8)\n",
    "num_top_os_s = range(1, 7)\n",
    "best_val_err = float('inf'); best_num_top_os = None; best_num_top_producers = None; best_alpha = None\n",
    "for alpha in alphas:\n",
    "    for num_top_producers in num_top_producers_s:\n",
    "        for num_top_os in num_top_os_s:\n",
    "            full_pipeline.set_params(coladderdropper__num_top_producers=num_top_producers, coladderdropper__num_top_os=num_top_os, sgdregressor__alpha=alpha)\n",
    "            full_pipeline.fit(train_X_df, train_y_sr)\n",
    "            train_errs.append(100 - compute_rr(train_y_sr, full_pipeline.predict(train_X_df), baseline_preds) * 100)\n",
    "            val_errs.append(100 - compute_rr(val_y_sr, full_pipeline.predict(val_X_df), baseline_preds) * 100)\n",
    "            if val_errs[-1] < best_val_err:\n",
    "                best_val_err = val_errs[-1]\n",
    "                best_alpha = alpha\n",
    "                best_num_top_producers = num_top_producers\n",
    "                best_num_top_os = num_top_os"
   ]
  },
  {
   "cell_type": "code",
   "execution_count": 31,
   "metadata": {},
   "outputs": [
    {
     "name": "stdout",
     "output_type": "stream",
     "text": [
      "val_errs:\n",
      "[36.461212382348066, 36.1783640489866, 36.27139359588296, 36.165999607208036, 36.32587214380175, 36.32587214380175, 36.6368984994226, 36.34376712413997, 36.423972629771775, 36.32073849219959, 36.46259434854658, 36.46259434854658, 36.56724586255309, 35.74561088948154, 35.78459672858256, 36.08156489816563, 36.199039256717626, 36.199039256717626, 36.97619081521547, 36.124703424256325, 36.15913465781554, 36.511610318339095, 36.186501491098554, 36.186501491098554, 36.55146822779678, 36.16526931378594, 36.15937426570933, 36.063588225128406, 36.18640633660506, 36.18640633660506, 36.55146822779676, 36.165269313785956, 36.15937426570931, 36.063588225128406, 36.18640633660506, 36.18640633660506, 36.55146822779676, 36.165269313785956, 36.15937426570931, 36.063588225128406, 36.18640633660506, 36.18640633660506, 36.457103092726584, 36.17435569353109, 36.2673029526324, 36.16205126332306, 36.321867225168916, 36.321867225168916, 36.632677133986725, 36.33979355542394, 36.42004881296677, 36.31672169443573, 36.458473222176224, 36.458473222176224, 36.563574129233785, 35.74097483985467, 36.20137229904592, 36.07786987092976, 36.195303577747296, 36.195303577747296, 36.972077325641585, 36.119286352004146, 36.15379260943352, 36.50745237562326, 36.180683810132706, 36.180683810132706, 36.54420498480939, 36.16006176916222, 36.1542757748574, 36.492891185554946, 36.18084210983532, 36.18084210983532, 36.54420498480938, 36.16006176916221, 36.1542757748574, 36.492891185554946, 36.18084210983532, 36.18084210983532, 36.54420498480938, 36.16006176916221, 36.1542757748574, 36.492891185554946, 36.18084210983532, 36.18084210983532, 36.419495564743166, 36.1345706541284, 36.227517644481644, 36.12313189133868, 36.28434545189588, 36.28434545189588, 36.59306030117442, 36.30083793354872, 36.380591470866364, 36.277672660213234, 36.419796218217336, 36.419796218217336, 36.52741010036769, 36.087421692687016, 36.16478376675877, 36.04227058276195, 36.15933266960997, 36.15933266960997, 36.93129531493018, 36.516357151501346, 36.59374926101453, 36.46677317344873, 36.617243839324274, 36.617243839324274, 36.88150903273593, 36.55819982182684, 36.58272479967912, 36.4543095223262, 36.605658472844446, 36.605658472844446, 36.88150903273591, 36.55819982182684, 36.5827247996791, 36.4543095223262, 36.60565847284446, 36.60565847284446, 36.88150903273591, 36.55819982182684, 36.5827247996791, 36.4543095223262, 36.60565847284446, 36.60565847284446, 36.17626184279932, 35.87047200927289, 35.966712398031305, 35.87434509212595, 36.03274228190392, 36.03274228190392, 36.341623229479914, 36.032082214615336, 36.1223033206546, 36.027348069307116, 36.17353554375961, 36.17353554375961, 36.272645683636625, 35.82887824724294, 35.90884108594774, 35.79378102556741, 35.911152871838624, 35.911152871838624, 36.63242150288536, 36.20903491545351, 36.28634815642082, 36.1678360974623, 36.318432413137735, 36.318432413137735, 36.586900793811864, 36.25663805683248, 36.299114924761035, 36.17862111062068, 36.33026071540161, 36.33026071540161, 36.586900793811886, 36.25663805683246, 36.299114924761035, 36.17862111062069, 36.33026071540162, 36.33026071540162, 36.586900793811886, 36.25663805683246, 36.299114924761035, 36.17862111062069, 36.33026071540162, 36.33026071540162, 34.693386570986945, 34.47821765362933, 34.58360406392511, 34.52170458913817, 34.60379109881329, 34.60379109881329, 34.70812484722755, 34.50141393326507, 34.60139737146247, 34.55253893553423, 34.620271914573024, 34.620271914573024, 34.6185375899082, 34.25033158634885, 34.39223765412068, 34.31514719672683, 34.44352633373127, 34.44352633373127, 34.608700953628485, 34.309636826999366, 34.421127836826386, 34.32703914138308, 34.473696528080794, 34.473696528080794, 34.70935420272767, 34.37841936497409, 34.54300513581994, 34.47518034843857, 34.57041210590262, 34.57041210590262, 34.70935420272764, 34.37841936497409, 34.54300513581994, 34.47518034843857, 34.57041210590262, 34.57041210590262, 34.70935420272764, 34.37841936497409, 34.54300513581994, 34.47518034843857, 34.57041210590262, 34.57041210590262]\n"
     ]
    }
   ],
   "source": [
    "print(\"val_errs:\")\n",
    "print(val_errs)"
   ]
  },
  {
   "cell_type": "markdown",
   "metadata": {},
   "source": [
    "##### Lựa chọn mô hình"
   ]
  },
  {
   "cell_type": "markdown",
   "metadata": {},
   "source": [
    "Rút ra nhận xét và chọn mô hình khi thử nghiệm với tham số `penalty` khác nhau (`l2` (mặc định của SGD) và `l1`): L2 xuất hiện các err rất cao (lên tới 70%), còn L1 thì các err không chênh lệch nhiều \n",
    "=> Cho thấy L2 sử lý vấn đề overfitting không tốt bằng L1\n",
    "\n",
    "Vậy chọn`penalty` = L1 "
   ]
  },
  {
   "cell_type": "code",
   "execution_count": 32,
   "metadata": {},
   "outputs": [
    {
     "name": "stdout",
     "output_type": "stream",
     "text": [
      "Độ lỗi tốt nhất trên tập validation:\n",
      "34.25033158634885\n",
      "best_alpha:\n",
      "10\n",
      "best_num_top_producers\n",
      "3\n",
      "best_num_top_os\n",
      "2\n"
     ]
    }
   ],
   "source": [
    "print(\"Độ lỗi tốt nhất trên tập validation:\")\n",
    "print(best_val_err)\n",
    "print(\"best_alpha:\")\n",
    "print(best_alpha)\n",
    "print(\"best_num_top_producers\")\n",
    "print(best_num_top_producers)\n",
    "print(\"best_num_top_os\")\n",
    "print(best_num_top_os)"
   ]
  },
  {
   "cell_type": "markdown",
   "metadata": {},
   "source": [
    "## Đánh giá mô hình tìm được"
   ]
  },
  {
   "cell_type": "markdown",
   "metadata": {},
   "source": [
    "Huấn luyện lại `full_pipeline` trên `X_df` và `y_sr` (tập huấn luyện + tập validation) với `best_alpha`\n",
    ", `best_num_top_producers` và `best_num_top_os` tìm được ở trên để ra được mô hình cụ thể cuối cùng"
   ]
  },
  {
   "cell_type": "code",
   "execution_count": 33,
   "metadata": {
    "scrolled": true
   },
   "outputs": [
    {
     "data": {
      "text/html": [
       "<style>div.sk-top-container {color: black;background-color: white;}div.sk-toggleable {background-color: white;}label.sk-toggleable__label {cursor: pointer;display: block;width: 100%;margin-bottom: 0;padding: 0.2em 0.3em;box-sizing: border-box;text-align: center;}div.sk-toggleable__content {max-height: 0;max-width: 0;overflow: hidden;text-align: left;background-color: #f0f8ff;}div.sk-toggleable__content pre {margin: 0.2em;color: black;border-radius: 0.25em;background-color: #f0f8ff;}input.sk-toggleable__control:checked~div.sk-toggleable__content {max-height: 200px;max-width: 100%;overflow: auto;}div.sk-estimator input.sk-toggleable__control:checked~label.sk-toggleable__label {background-color: #d4ebff;}div.sk-label input.sk-toggleable__control:checked~label.sk-toggleable__label {background-color: #d4ebff;}input.sk-hidden--visually {border: 0;clip: rect(1px 1px 1px 1px);clip: rect(1px, 1px, 1px, 1px);height: 1px;margin: -1px;overflow: hidden;padding: 0;position: absolute;width: 1px;}div.sk-estimator {font-family: monospace;background-color: #f0f8ff;margin: 0.25em 0.25em;border: 1px dotted black;border-radius: 0.25em;box-sizing: border-box;}div.sk-estimator:hover {background-color: #d4ebff;}div.sk-parallel-item::after {content: \"\";width: 100%;border-bottom: 1px solid gray;flex-grow: 1;}div.sk-label:hover label.sk-toggleable__label {background-color: #d4ebff;}div.sk-serial::before {content: \"\";position: absolute;border-left: 1px solid gray;box-sizing: border-box;top: 2em;bottom: 0;left: 50%;}div.sk-serial {display: flex;flex-direction: column;align-items: center;background-color: white;}div.sk-item {z-index: 1;}div.sk-parallel {display: flex;align-items: stretch;justify-content: center;background-color: white;}div.sk-parallel-item {display: flex;flex-direction: column;position: relative;background-color: white;}div.sk-parallel-item:first-child::after {align-self: flex-end;width: 50%;}div.sk-parallel-item:last-child::after {align-self: flex-start;width: 50%;}div.sk-parallel-item:only-child::after {width: 0;}div.sk-dashed-wrapped {border: 1px dashed gray;margin: 0.2em;box-sizing: border-box;padding-bottom: 0.1em;background-color: white;position: relative;}div.sk-label label {font-family: monospace;font-weight: bold;background-color: white;display: inline-block;line-height: 1.2em;}div.sk-label-container {position: relative;z-index: 2;text-align: center;}div.sk-container {display: inline-block;position: relative;}</style><div class=\"sk-top-container\"><div class=\"sk-container\"><div class=\"sk-item sk-dashed-wrapped\"><div class=\"sk-label-container\"><div class=\"sk-label sk-toggleable\"><input class=\"sk-toggleable__control sk-hidden--visually\" id=\"6e20f48d-3b0f-4680-a123-f16297f88d9c\" type=\"checkbox\" ><label class=\"sk-toggleable__label\" for=\"6e20f48d-3b0f-4680-a123-f16297f88d9c\">Pipeline</label><div class=\"sk-toggleable__content\"><pre>Pipeline(steps=[('functiontransformer',\n",
       "                 FunctionTransformer(func=<function split_processor_model at 0x000001E7EF02EE50>)),\n",
       "                ('coladderdropper',\n",
       "                 ColAdderDropper(num_top_os=6, num_top_producers=7)),\n",
       "                ('columntransformer',\n",
       "                 ColumnTransformer(transformers=[('simpleimputer-1',\n",
       "                                                  SimpleImputer(),\n",
       "                                                  ['cores',\n",
       "                                                   'core base speed (GHz)',\n",
       "                                                   'core boost speed (GHz)',\n",
       "                                                   'ram cap (GB)', 'ssd (GB)'...\n",
       "                                                                   SimpleImputer(strategy='most_frequent')),\n",
       "                                                                  ('onehotencoder',\n",
       "                                                                   OneHotEncoder(handle_unknown='ignore'))]),\n",
       "                                                  ['producer', 'ram type',\n",
       "                                                   'gpu prod', 'screen type',\n",
       "                                                   'os']),\n",
       "                                                 ('simpleimputer-2',\n",
       "                                                  SimpleImputer(strategy='most_frequent'),\n",
       "                                                  ['intel_processor_model',\n",
       "                                                   'amd_processor_model'])])),\n",
       "                ('standardscaler', StandardScaler()),\n",
       "                ('sgdregressor',\n",
       "                 SGDRegressor(alpha=10, penalty='l1', random_state=0))])</pre></div></div></div><div class=\"sk-serial\"><div class=\"sk-item\"><div class=\"sk-estimator sk-toggleable\"><input class=\"sk-toggleable__control sk-hidden--visually\" id=\"4743c569-6e2b-494e-9e77-0e2c971be909\" type=\"checkbox\" ><label class=\"sk-toggleable__label\" for=\"4743c569-6e2b-494e-9e77-0e2c971be909\">FunctionTransformer</label><div class=\"sk-toggleable__content\"><pre>FunctionTransformer(func=<function split_processor_model at 0x000001E7EF02EE50>)</pre></div></div></div><div class=\"sk-item\"><div class=\"sk-estimator sk-toggleable\"><input class=\"sk-toggleable__control sk-hidden--visually\" id=\"127502f9-7735-4f19-b68b-a1b169b30875\" type=\"checkbox\" ><label class=\"sk-toggleable__label\" for=\"127502f9-7735-4f19-b68b-a1b169b30875\">ColAdderDropper</label><div class=\"sk-toggleable__content\"><pre>ColAdderDropper(num_top_os=6, num_top_producers=7)</pre></div></div></div><div class=\"sk-item sk-dashed-wrapped\"><div class=\"sk-label-container\"><div class=\"sk-label sk-toggleable\"><input class=\"sk-toggleable__control sk-hidden--visually\" id=\"241685a9-9b28-4cf6-819d-a320d65b5313\" type=\"checkbox\" ><label class=\"sk-toggleable__label\" for=\"241685a9-9b28-4cf6-819d-a320d65b5313\">columntransformer: ColumnTransformer</label><div class=\"sk-toggleable__content\"><pre>ColumnTransformer(transformers=[('simpleimputer-1', SimpleImputer(),\n",
       "                                 ['cores', 'core base speed (GHz)',\n",
       "                                  'core boost speed (GHz)', 'ram cap (GB)',\n",
       "                                  'ssd (GB)', 'hdd (GB)', 'gpu size (MB)',\n",
       "                                  'gpu base speed (GHz)',\n",
       "                                  'gpu boost speed (GHz)', 'screen size (inch)',\n",
       "                                  'screen horizontal resolution',\n",
       "                                  'screen vertical resolution', 'sRGB (%)',\n",
       "                                  'weight (kg)', 'battery capacity (WHr)']),\n",
       "                                ('pipeline',\n",
       "                                 Pipeline(steps=[('simpleimputer',\n",
       "                                                  SimpleImputer(strategy='most_frequent')),\n",
       "                                                 ('onehotencoder',\n",
       "                                                  OneHotEncoder(handle_unknown='ignore'))]),\n",
       "                                 ['producer', 'ram type', 'gpu prod',\n",
       "                                  'screen type', 'os']),\n",
       "                                ('simpleimputer-2',\n",
       "                                 SimpleImputer(strategy='most_frequent'),\n",
       "                                 ['intel_processor_model',\n",
       "                                  'amd_processor_model'])])</pre></div></div></div><div class=\"sk-parallel\"><div class=\"sk-parallel-item\"><div class=\"sk-item\"><div class=\"sk-label-container\"><div class=\"sk-label sk-toggleable\"><input class=\"sk-toggleable__control sk-hidden--visually\" id=\"3536836c-27b2-415c-a3f9-a02c3a041d85\" type=\"checkbox\" ><label class=\"sk-toggleable__label\" for=\"3536836c-27b2-415c-a3f9-a02c3a041d85\">simpleimputer-1</label><div class=\"sk-toggleable__content\"><pre>['cores', 'core base speed (GHz)', 'core boost speed (GHz)', 'ram cap (GB)', 'ssd (GB)', 'hdd (GB)', 'gpu size (MB)', 'gpu base speed (GHz)', 'gpu boost speed (GHz)', 'screen size (inch)', 'screen horizontal resolution', 'screen vertical resolution', 'sRGB (%)', 'weight (kg)', 'battery capacity (WHr)']</pre></div></div></div><div class=\"sk-serial\"><div class=\"sk-item\"><div class=\"sk-estimator sk-toggleable\"><input class=\"sk-toggleable__control sk-hidden--visually\" id=\"779bb529-5126-4700-8768-399c6dbe834d\" type=\"checkbox\" ><label class=\"sk-toggleable__label\" for=\"779bb529-5126-4700-8768-399c6dbe834d\">SimpleImputer</label><div class=\"sk-toggleable__content\"><pre>SimpleImputer()</pre></div></div></div></div></div></div><div class=\"sk-parallel-item\"><div class=\"sk-item\"><div class=\"sk-label-container\"><div class=\"sk-label sk-toggleable\"><input class=\"sk-toggleable__control sk-hidden--visually\" id=\"3f0db922-7134-4298-9101-7e04ae53b6d2\" type=\"checkbox\" ><label class=\"sk-toggleable__label\" for=\"3f0db922-7134-4298-9101-7e04ae53b6d2\">pipeline</label><div class=\"sk-toggleable__content\"><pre>['producer', 'ram type', 'gpu prod', 'screen type', 'os']</pre></div></div></div><div class=\"sk-serial\"><div class=\"sk-item\"><div class=\"sk-serial\"><div class=\"sk-item\"><div class=\"sk-estimator sk-toggleable\"><input class=\"sk-toggleable__control sk-hidden--visually\" id=\"c4f72f68-8859-4991-8ead-117c9a10cb7b\" type=\"checkbox\" ><label class=\"sk-toggleable__label\" for=\"c4f72f68-8859-4991-8ead-117c9a10cb7b\">SimpleImputer</label><div class=\"sk-toggleable__content\"><pre>SimpleImputer(strategy='most_frequent')</pre></div></div></div><div class=\"sk-item\"><div class=\"sk-estimator sk-toggleable\"><input class=\"sk-toggleable__control sk-hidden--visually\" id=\"46f0b472-8aa1-4ede-84ee-b3a2cfc47d85\" type=\"checkbox\" ><label class=\"sk-toggleable__label\" for=\"46f0b472-8aa1-4ede-84ee-b3a2cfc47d85\">OneHotEncoder</label><div class=\"sk-toggleable__content\"><pre>OneHotEncoder(handle_unknown='ignore')</pre></div></div></div></div></div></div></div></div><div class=\"sk-parallel-item\"><div class=\"sk-item\"><div class=\"sk-label-container\"><div class=\"sk-label sk-toggleable\"><input class=\"sk-toggleable__control sk-hidden--visually\" id=\"e9944fc2-b090-42e9-9a7e-1381d8bb8db0\" type=\"checkbox\" ><label class=\"sk-toggleable__label\" for=\"e9944fc2-b090-42e9-9a7e-1381d8bb8db0\">simpleimputer-2</label><div class=\"sk-toggleable__content\"><pre>['intel_processor_model', 'amd_processor_model']</pre></div></div></div><div class=\"sk-serial\"><div class=\"sk-item\"><div class=\"sk-estimator sk-toggleable\"><input class=\"sk-toggleable__control sk-hidden--visually\" id=\"33f097be-583a-4539-88b8-86386b71759e\" type=\"checkbox\" ><label class=\"sk-toggleable__label\" for=\"33f097be-583a-4539-88b8-86386b71759e\">SimpleImputer</label><div class=\"sk-toggleable__content\"><pre>SimpleImputer(strategy='most_frequent')</pre></div></div></div></div></div></div></div></div><div class=\"sk-item\"><div class=\"sk-estimator sk-toggleable\"><input class=\"sk-toggleable__control sk-hidden--visually\" id=\"ec58f8ae-42b7-494f-82b4-d339f6bb3774\" type=\"checkbox\" ><label class=\"sk-toggleable__label\" for=\"ec58f8ae-42b7-494f-82b4-d339f6bb3774\">StandardScaler</label><div class=\"sk-toggleable__content\"><pre>StandardScaler()</pre></div></div></div><div class=\"sk-item\"><div class=\"sk-estimator sk-toggleable\"><input class=\"sk-toggleable__control sk-hidden--visually\" id=\"b6c9547d-5e30-4037-b1bf-c94306642a6e\" type=\"checkbox\" ><label class=\"sk-toggleable__label\" for=\"b6c9547d-5e30-4037-b1bf-c94306642a6e\">SGDRegressor</label><div class=\"sk-toggleable__content\"><pre>SGDRegressor(alpha=10, penalty='l1', random_state=0)</pre></div></div></div></div></div></div></div>"
      ],
      "text/plain": [
       "Pipeline(steps=[('functiontransformer',\n",
       "                 FunctionTransformer(func=<function split_processor_model at 0x000001E7EF02EE50>)),\n",
       "                ('coladderdropper',\n",
       "                 ColAdderDropper(num_top_os=6, num_top_producers=7)),\n",
       "                ('columntransformer',\n",
       "                 ColumnTransformer(transformers=[('simpleimputer-1',\n",
       "                                                  SimpleImputer(),\n",
       "                                                  ['cores',\n",
       "                                                   'core base speed (GHz)',\n",
       "                                                   'core boost speed (GHz)',\n",
       "                                                   'ram cap (GB)', 'ssd (GB)'...\n",
       "                                                                   SimpleImputer(strategy='most_frequent')),\n",
       "                                                                  ('onehotencoder',\n",
       "                                                                   OneHotEncoder(handle_unknown='ignore'))]),\n",
       "                                                  ['producer', 'ram type',\n",
       "                                                   'gpu prod', 'screen type',\n",
       "                                                   'os']),\n",
       "                                                 ('simpleimputer-2',\n",
       "                                                  SimpleImputer(strategy='most_frequent'),\n",
       "                                                  ['intel_processor_model',\n",
       "                                                   'amd_processor_model'])])),\n",
       "                ('standardscaler', StandardScaler()),\n",
       "                ('sgdregressor',\n",
       "                 SGDRegressor(alpha=10, penalty='l1', random_state=0))])"
      ]
     },
     "execution_count": 33,
     "metadata": {},
     "output_type": "execute_result"
    }
   ],
   "source": [
    "full_pipeline = make_pipeline(FunctionTransformer(split_processor_model), \n",
    "                              ColAdderDropper(num_top_producers=4, num_top_os=4),\n",
    "                              column_transformer, StandardScaler(),\n",
    "                              SGDRegressor(penalty='l1', random_state=0))\n",
    "full_pipeline.set_params(coladderdropper__num_top_producers=num_top_producers, coladderdropper__num_top_os=num_top_os, sgdregressor__alpha=alpha)\n",
    "full_pipeline.fit(X_df, y_sr)"
   ]
  },
  {
   "cell_type": "markdown",
   "metadata": {},
   "source": [
    "#### Độ lỗi trên tập Test"
   ]
  },
  {
   "cell_type": "code",
   "execution_count": 34,
   "metadata": {},
   "outputs": [
    {
     "data": {
      "text/plain": [
       "27.515443756890676"
      ]
     },
     "execution_count": 34,
     "metadata": {},
     "output_type": "execute_result"
    }
   ],
   "source": [
    "# Đặt lại baseline_preds\n",
    "baseline_preds = y_sr.mean()\n",
    "100 - compute_rr(test_y_sr, full_pipeline.predict(test_X_df), baseline_preds) * 100"
   ]
  },
  {
   "cell_type": "markdown",
   "metadata": {},
   "source": [
    "---"
   ]
  },
  {
   "cell_type": "markdown",
   "metadata": {},
   "source": [
    "# NHÌN LẠI QUÁ TRÌNH LÀM ĐỒ ÁN"
   ]
  },
  {
   "cell_type": "markdown",
   "metadata": {},
   "source": [
    "### Những khó khăn đã gặp phải:\n",
    "- Trong quá trình tìm chủ đề: phải chọn được chủ đề phù hợp với khả năng (phải lấy được dữ liệu và tìm hiểu về các thuộc tính để xử lý dữ liệu)\n",
    "- Trong quá trình thu thập dữ liệu: khó khăn trong việc tìm kiếm API (phải tìm được API đáng tin cậy, dữ liệu rõ ràng) và lấy dữ liệu tự động từ API - số lượt request tối đa mỗi ngày chỉ có 1000 lần (1000 lần thì chỉ lấy được khoảng 400-500 mẫu) dẫn đến tốn thời gian trong việc thu thập dữ liệu\n",
    "- Trong quá trình tiền xử lý: không có khó khăn\n",
    "- Trong quá trình mô hình hóa: Khó khăn trong việc lựa chọn mô hình và các tham số cho mô hình cần phải tìm hiểu để chọn cho hợp lý: Mô hình MLP không hội tụ được và cho độ lỗi quá cao, Mô hình SGD với tham số penalty mặc định (L2) thì gặp phải vấn đề overfitting"
   ]
  },
  {
   "cell_type": "markdown",
   "metadata": {},
   "source": [
    "### Những gì đã học được:\n",
    "- Hiểu rõ thêm về quy trình thu thập, xử lý và mô hình hóa dữ liệu\n",
    "- Học được cách làm việc nhóm trên Github\n",
    "- Cách code để thu thập dữ liệu tự động từ API\n",
    "- Hiểu thêm về các thuật toán mô hình hóa và các tham số\n",
    "- Không phải model có độ lỗi trên tập validation thấp thì sẽ tốt khi chạy trên tập kiểm tra"
   ]
  },
  {
   "cell_type": "markdown",
   "metadata": {},
   "source": [
    "### Những cải thiện nếu có thêm thời gian:\n",
    "- Cải thiện mô hình:\n",
    "    - Thu thập thêm dữ liệu\n",
    "    - kiểm tra lại dữ liệu đã thu thập, bỏ những mẫu dữ liệu nhiễu, không chính xác\n",
    "    - Tìm hiểu thêm để lựa chọn thêm thuộc tính hoặc xóa bỏ các thuộc tính không cần thiết\n",
    "    - Tìm hiểu thêm về các thuật toán mô hình hóa để lựa chọn và đặt các tham số phù hợp với bài toán hơn\n",
    "- Viết slide báo cáo hoàn chỉnh hơn\n",
    "- Tìm hiểu thêm về Github để làm việc nhóm hiệu quả hơn"
   ]
  },
  {
   "cell_type": "markdown",
   "metadata": {},
   "source": [
    "---"
   ]
  },
  {
   "cell_type": "markdown",
   "metadata": {},
   "source": [
    "# TÀI LIỆU THAM KHẢO"
   ]
  },
  {
   "cell_type": "markdown",
   "metadata": {},
   "source": [
    "1. scikit-learn.org\n",
    "2. Slide bài giảng môn \"Nhập môn Khoa học Dữ liệu\" của thầy Nguyễn Trần Trung Kiên\n",
    "3. Các bài tập và các file Demo môn \"Nhập môn Khoa học Dữ liệu\" của thầy Nguyễn Trần Trung Kiên"
   ]
  }
 ],
 "metadata": {
  "kernelspec": {
   "display_name": "Python 3",
   "language": "python",
   "name": "python3"
  },
  "language_info": {
   "codemirror_mode": {
    "name": "ipython",
    "version": 3
   },
   "file_extension": ".py",
   "mimetype": "text/x-python",
   "name": "python",
   "nbconvert_exporter": "python",
   "pygments_lexer": "ipython3",
   "version": "3.8.3"
  }
 },
 "nbformat": 4,
 "nbformat_minor": 4
}
