{
 "cells": [
  {
   "cell_type": "markdown",
   "metadata": {},
   "source": [
    "# ĐỒ ÁN CUỐI KỲ - NHẬP MÔN KHOA HỌC DỮ LIỆU\n",
    "\n",
    "## Đề tài: Ước lượng giá laptop\n",
    "\n",
    "### Sinh viên:\n",
    "        1. MSSV: 18120058        Tên: Phạm Công Minh\n",
    "        2. MSSV: 18120090        Tên: Phạm Nguyên Minh Thy"
   ]
  },
  {
   "cell_type": "code",
   "execution_count": 1,
   "metadata": {},
   "outputs": [],
   "source": [
    "import pandas as pd\n",
    "import numpy as np\n",
    "\n",
    "from sklearn.model_selection import train_test_split\n",
    "from sklearn.preprocessing import OneHotEncoder, StandardScaler, FunctionTransformer\n",
    "from sklearn.impute import SimpleImputer\n",
    "from sklearn.base import BaseEstimator, TransformerMixin\n",
    "from sklearn.pipeline import Pipeline, make_pipeline\n",
    "from sklearn.compose import ColumnTransformer, make_column_transformer\n",
    "#from sklearn.neural_network import MLPClassifier\n",
    "from sklearn import set_config\n",
    "set_config(display='diagram') # Để trực quan hóa pipeline"
   ]
  },
  {
   "cell_type": "code",
   "execution_count": 2,
   "metadata": {},
   "outputs": [
    {
     "data": {
      "text/plain": [
       "'0.23.1'"
      ]
     },
     "execution_count": 2,
     "metadata": {},
     "output_type": "execute_result"
    }
   ],
   "source": [
    "import sklearn\n",
    "sklearn.__version__"
   ]
  },
  {
   "cell_type": "code",
   "execution_count": 3,
   "metadata": {
    "scrolled": false
   },
   "outputs": [
    {
     "data": {
      "text/html": [
       "<div>\n",
       "<style scoped>\n",
       "    .dataframe tbody tr th:only-of-type {\n",
       "        vertical-align: middle;\n",
       "    }\n",
       "\n",
       "    .dataframe tbody tr th {\n",
       "        vertical-align: top;\n",
       "    }\n",
       "\n",
       "    .dataframe thead th {\n",
       "        text-align: right;\n",
       "    }\n",
       "</style>\n",
       "<table border=\"1\" class=\"dataframe\">\n",
       "  <thead>\n",
       "    <tr style=\"text-align: right;\">\n",
       "      <th></th>\n",
       "      <th>producer</th>\n",
       "      <th>processor prod</th>\n",
       "      <th>processor model</th>\n",
       "      <th>cores</th>\n",
       "      <th>core base speed (GHz)</th>\n",
       "      <th>ram type</th>\n",
       "      <th>ram cap (GB)</th>\n",
       "      <th>ssd (GB)</th>\n",
       "      <th>hdd (GB)</th>\n",
       "      <th>gpu prod</th>\n",
       "      <th>gpu size (MB)</th>\n",
       "      <th>screen type</th>\n",
       "      <th>screen size (inch)</th>\n",
       "      <th>weight (kg)</th>\n",
       "      <th>os</th>\n",
       "      <th>price(USD)</th>\n",
       "    </tr>\n",
       "  </thead>\n",
       "  <tbody>\n",
       "    <tr>\n",
       "      <th>0</th>\n",
       "      <td>apple</td>\n",
       "      <td>intel</td>\n",
       "      <td>i7</td>\n",
       "      <td>6</td>\n",
       "      <td>2.6</td>\n",
       "      <td>ddr4</td>\n",
       "      <td>16</td>\n",
       "      <td>0</td>\n",
       "      <td>256</td>\n",
       "      <td>amd</td>\n",
       "      <td>4096</td>\n",
       "      <td>led ips</td>\n",
       "      <td>15.4</td>\n",
       "      <td>1.83</td>\n",
       "      <td>macos  11.00</td>\n",
       "      <td>2499.5</td>\n",
       "    </tr>\n",
       "    <tr>\n",
       "      <th>1</th>\n",
       "      <td>apple</td>\n",
       "      <td>intel</td>\n",
       "      <td>i3</td>\n",
       "      <td>2</td>\n",
       "      <td>1.1</td>\n",
       "      <td>ddr4</td>\n",
       "      <td>8</td>\n",
       "      <td>0</td>\n",
       "      <td>256</td>\n",
       "      <td>intel</td>\n",
       "      <td>8192</td>\n",
       "      <td>led ips</td>\n",
       "      <td>13.3</td>\n",
       "      <td>1.25</td>\n",
       "      <td>macos  11.00</td>\n",
       "      <td>799.5</td>\n",
       "    </tr>\n",
       "    <tr>\n",
       "      <th>2</th>\n",
       "      <td>apple</td>\n",
       "      <td>intel</td>\n",
       "      <td>i5</td>\n",
       "      <td>4</td>\n",
       "      <td>1.4</td>\n",
       "      <td>ddr3</td>\n",
       "      <td>8</td>\n",
       "      <td>0</td>\n",
       "      <td>256</td>\n",
       "      <td>intel</td>\n",
       "      <td>128</td>\n",
       "      <td>led ips</td>\n",
       "      <td>13.3</td>\n",
       "      <td>1.37</td>\n",
       "      <td>macos  11.00</td>\n",
       "      <td>1049.0</td>\n",
       "    </tr>\n",
       "    <tr>\n",
       "      <th>3</th>\n",
       "      <td>apple</td>\n",
       "      <td>intel</td>\n",
       "      <td>i7</td>\n",
       "      <td>6</td>\n",
       "      <td>2.6</td>\n",
       "      <td>ddr4</td>\n",
       "      <td>16</td>\n",
       "      <td>0</td>\n",
       "      <td>512</td>\n",
       "      <td>amd</td>\n",
       "      <td>4096</td>\n",
       "      <td>led ips</td>\n",
       "      <td>16.1</td>\n",
       "      <td>2.00</td>\n",
       "      <td>macos  11.00</td>\n",
       "      <td>2199.5</td>\n",
       "    </tr>\n",
       "    <tr>\n",
       "      <th>4</th>\n",
       "      <td>apple</td>\n",
       "      <td>intel</td>\n",
       "      <td>i5</td>\n",
       "      <td>4</td>\n",
       "      <td>2.0</td>\n",
       "      <td>ddr4</td>\n",
       "      <td>16</td>\n",
       "      <td>0</td>\n",
       "      <td>512</td>\n",
       "      <td>intel</td>\n",
       "      <td>8192</td>\n",
       "      <td>led ips</td>\n",
       "      <td>13.3</td>\n",
       "      <td>1.40</td>\n",
       "      <td>macos  11.00</td>\n",
       "      <td>1699.5</td>\n",
       "    </tr>\n",
       "  </tbody>\n",
       "</table>\n",
       "</div>"
      ],
      "text/plain": [
       "  producer processor prod processor model  cores  core base speed (GHz)  \\\n",
       "0    apple          intel              i7      6                    2.6   \n",
       "1    apple          intel              i3      2                    1.1   \n",
       "2    apple          intel              i5      4                    1.4   \n",
       "3    apple          intel              i7      6                    2.6   \n",
       "4    apple          intel              i5      4                    2.0   \n",
       "\n",
       "  ram type  ram cap (GB)  ssd (GB)  hdd (GB) gpu prod  gpu size (MB)  \\\n",
       "0     ddr4            16         0       256      amd           4096   \n",
       "1     ddr4             8         0       256    intel           8192   \n",
       "2     ddr3             8         0       256    intel            128   \n",
       "3     ddr4            16         0       512      amd           4096   \n",
       "4     ddr4            16         0       512    intel           8192   \n",
       "\n",
       "  screen type  screen size (inch)  weight (kg)            os  price(USD)  \n",
       "0     led ips                15.4         1.83  macos  11.00      2499.5  \n",
       "1     led ips                13.3         1.25  macos  11.00       799.5  \n",
       "2     led ips                13.3         1.37  macos  11.00      1049.0  \n",
       "3     led ips                16.1         2.00  macos  11.00      2199.5  \n",
       "4     led ips                13.3         1.40  macos  11.00      1699.5  "
      ]
     },
     "execution_count": 3,
     "metadata": {},
     "output_type": "execute_result"
    }
   ],
   "source": [
    "data_df = pd.read_csv('data.csv')\n",
    "data_df.head()"
   ]
  },
  {
   "cell_type": "markdown",
   "metadata": {},
   "source": [
    "## Ý nghĩa các cột"
   ]
  },
  {
   "cell_type": "markdown",
   "metadata": {},
   "source": [
    "    1. producer                 tên nhà sản xuất laptop\n",
    "    2. processor prod           nhà sản xuất vi xử lý\n",
    "    3. processor model          mẫu vi xử lý\n",
    "    4. cores                    số nhân của vi xử lý\n",
    "    5. core base speed (GHz)    tốc độ cơ bản của vi xử lý\n",
    "    6. ram type                 loại RAM\n",
    "    7. ram cap (GB)             dung lượng RAM\n",
    "    8. ssd (GB)                 dung lượng SSD\n",
    "    9. hdd (GB)                 dung lượng HDD\n",
    "    10. gpu prod                nhà sản xuất card màn hình\n",
    "    11. gpu size (MB)           dung lượng card màn hình\n",
    "    12. screen type             loại màn hình\n",
    "    13. screen size (inch)      kích thước màn hình\n",
    "    14. weight (kg)             trọng lượng máy\n",
    "    15. os                      hệ điều hành\n",
    "    16. price(USD)              giá"
   ]
  },
  {
   "cell_type": "markdown",
   "metadata": {},
   "source": [
    "---"
   ]
  },
  {
   "cell_type": "markdown",
   "metadata": {},
   "source": [
    "## Khám phá dữ liệu"
   ]
  },
  {
   "cell_type": "code",
   "execution_count": 4,
   "metadata": {},
   "outputs": [
    {
     "data": {
      "text/plain": [
       "(938, 16)"
      ]
     },
     "execution_count": 4,
     "metadata": {},
     "output_type": "execute_result"
    }
   ],
   "source": [
    "# Dữ liệu có bao nhiêu dòng, bao nhiêu cột?\n",
    "data_df.shape"
   ]
  },
  {
   "cell_type": "code",
   "execution_count": 5,
   "metadata": {},
   "outputs": [
    {
     "data": {
      "text/plain": [
       "0"
      ]
     },
     "execution_count": 5,
     "metadata": {},
     "output_type": "execute_result"
    }
   ],
   "source": [
    "# Dữ liệu có dòng bị lặp không?\n",
    "data_df.index.duplicated().sum()"
   ]
  },
  {
   "cell_type": "code",
   "execution_count": 6,
   "metadata": {},
   "outputs": [
    {
     "data": {
      "text/plain": [
       "dtype('float64')"
      ]
     },
     "execution_count": 6,
     "metadata": {},
     "output_type": "execute_result"
    }
   ],
   "source": [
    "# Cột output hiện có kiểu dữ liệu gì?\n",
    "data_df[\"price(USD)\"].dtype"
   ]
  },
  {
   "cell_type": "code",
   "execution_count": 7,
   "metadata": {},
   "outputs": [
    {
     "data": {
      "text/plain": [
       "0"
      ]
     },
     "execution_count": 7,
     "metadata": {},
     "output_type": "execute_result"
    }
   ],
   "source": [
    "# Cột output có giá trị thiếu không?\n",
    "data_df[\"price(USD)\"].isna().sum()"
   ]
  },
  {
   "cell_type": "markdown",
   "metadata": {},
   "source": [
    "## Câu hỏi cần trả lời:"
   ]
  },
  {
   "cell_type": "markdown",
   "metadata": {},
   "source": [
    "**Câu hỏi có dạng:** *Tính giá tiền laptop (`price(USD)`) dựa trên các thuộc tính của laptop*\n",
    "\n",
    "**Lợi ích khi trả lời câu hỏi:** Dự đoán giá laptop dựa trên các thuộc tính giúp cho việc lựa chọn mẫu khi có dự định mua laptop, có 2 hướng đưa ra quyết định:\n",
    "- Chọn trước các mẫu phù hợp túi tiền rồi lấy cấu hình tính ra giá dự đoán và so sánh với giá niêm yết của cửa hàng => chọn mẫu laptop có tỷ lệ giá thực tế/giá dự đoán thấp nhất.\n",
    "- Đưa ra những cấu hình mong muốn để dự đoán giá của máy tính rồi từ khoảng giá tiền đó tìm những mẫu máy tính có những thuộc tính gần với mong muốn.\n",
    "\n",
    "** Đây chỉ là một trong nhiều yếu tố để quyết định việc chọn mẫu laptop phù hợp.*\n",
    "\n",
    "**Nguồn cảm hứng của câu hỏi:**\n",
    "- Việc chọn cách định giá một sản phẩm nào đó lấy cảm hứng từ các bài làm khác đã thấy qua (qua thầy giới thiệu việc tính giá nhà, các bài tập Machine Learning trên mạng,...).\n",
    "- Việc chọn laptop để dự đoán giá lấy cảm hứng từ chính bản thân khi đã từng phân vân trong việc chọn mẫu laptop để mua và chưa có những cơ sở đủ mạnh để đưa ra quyết định."
   ]
  },
  {
   "cell_type": "markdown",
   "metadata": {},
   "source": [
    "---"
   ]
  },
  {
   "cell_type": "markdown",
   "metadata": {},
   "source": [
    "## Tiền xử lý (tách các tập)"
   ]
  },
  {
   "cell_type": "code",
   "execution_count": 8,
   "metadata": {},
   "outputs": [],
   "source": [
    "# Tách X và y\n",
    "y_sr = data_df[\"price(USD)\"]\n",
    "X_df = data_df.drop(\"price(USD)\", axis=1)"
   ]
  },
  {
   "cell_type": "code",
   "execution_count": 9,
   "metadata": {},
   "outputs": [],
   "source": [
    "# Tách từ dữ liệu ra tập test theo tỉ lệ 70%:30%\n",
    "X_df, test_X_df, y_sr, test_y_sr = train_test_split(X_df, y_sr, test_size=0.3, random_state=0)\n",
    "# Từ 70% dữ liệu còn lại tách tập train và tập validation theo tỉ lệ 70%:30%\n",
    "train_X_df, val_X_df, train_y_sr, val_y_sr = train_test_split(X_df, y_sr, test_size=0.3, random_state=0)"
   ]
  },
  {
   "cell_type": "markdown",
   "metadata": {},
   "source": [
    "---"
   ]
  },
  {
   "cell_type": "markdown",
   "metadata": {},
   "source": [
    "## Khám phá dữ liệu (tập huấn luyện)"
   ]
  },
  {
   "cell_type": "code",
   "execution_count": 10,
   "metadata": {},
   "outputs": [
    {
     "data": {
      "text/plain": [
       "producer                  object\n",
       "processor prod            object\n",
       "processor model           object\n",
       "cores                      int64\n",
       "core base speed (GHz)    float64\n",
       "ram type                  object\n",
       "ram cap (GB)               int64\n",
       "ssd (GB)                   int64\n",
       "hdd (GB)                   int64\n",
       "gpu prod                  object\n",
       "gpu size (MB)              int64\n",
       "screen type               object\n",
       "screen size (inch)       float64\n",
       "weight (kg)              float64\n",
       "os                        object\n",
       "dtype: object"
      ]
     },
     "execution_count": 10,
     "metadata": {},
     "output_type": "execute_result"
    }
   ],
   "source": [
    "# Xem kiểu dữ liệu của các cột\n",
    "train_X_df.dtypes"
   ]
  },
  {
   "cell_type": "markdown",
   "metadata": {},
   "source": [
    "Các cột đều có kiểu dữ liệu phù hợp."
   ]
  },
  {
   "cell_type": "code",
   "execution_count": 11,
   "metadata": {},
   "outputs": [
    {
     "data": {
      "text/html": [
       "<div>\n",
       "<style scoped>\n",
       "    .dataframe tbody tr th:only-of-type {\n",
       "        vertical-align: middle;\n",
       "    }\n",
       "\n",
       "    .dataframe tbody tr th {\n",
       "        vertical-align: top;\n",
       "    }\n",
       "\n",
       "    .dataframe thead th {\n",
       "        text-align: right;\n",
       "    }\n",
       "</style>\n",
       "<table border=\"1\" class=\"dataframe\">\n",
       "  <thead>\n",
       "    <tr style=\"text-align: right;\">\n",
       "      <th></th>\n",
       "      <th>cores</th>\n",
       "      <th>core base speed (GHz)</th>\n",
       "      <th>ram cap (GB)</th>\n",
       "      <th>ssd (GB)</th>\n",
       "      <th>hdd (GB)</th>\n",
       "      <th>gpu size (MB)</th>\n",
       "      <th>screen size (inch)</th>\n",
       "      <th>weight (kg)</th>\n",
       "    </tr>\n",
       "  </thead>\n",
       "  <tbody>\n",
       "    <tr>\n",
       "      <th>missing_ratio</th>\n",
       "      <td>0.0</td>\n",
       "      <td>0.0</td>\n",
       "      <td>0.0</td>\n",
       "      <td>0.0</td>\n",
       "      <td>0.0</td>\n",
       "      <td>0.0</td>\n",
       "      <td>0.0</td>\n",
       "      <td>0.00</td>\n",
       "    </tr>\n",
       "    <tr>\n",
       "      <th>min</th>\n",
       "      <td>2.0</td>\n",
       "      <td>1.0</td>\n",
       "      <td>4.0</td>\n",
       "      <td>0.0</td>\n",
       "      <td>0.0</td>\n",
       "      <td>128.0</td>\n",
       "      <td>11.6</td>\n",
       "      <td>0.85</td>\n",
       "    </tr>\n",
       "    <tr>\n",
       "      <th>lower_quartile</th>\n",
       "      <td>4.0</td>\n",
       "      <td>1.6</td>\n",
       "      <td>8.0</td>\n",
       "      <td>0.0</td>\n",
       "      <td>256.0</td>\n",
       "      <td>1700.0</td>\n",
       "      <td>14.0</td>\n",
       "      <td>1.40</td>\n",
       "    </tr>\n",
       "    <tr>\n",
       "      <th>median</th>\n",
       "      <td>4.0</td>\n",
       "      <td>2.1</td>\n",
       "      <td>12.0</td>\n",
       "      <td>0.0</td>\n",
       "      <td>512.0</td>\n",
       "      <td>3072.0</td>\n",
       "      <td>15.6</td>\n",
       "      <td>1.80</td>\n",
       "    </tr>\n",
       "    <tr>\n",
       "      <th>upper_quartile</th>\n",
       "      <td>6.0</td>\n",
       "      <td>2.6</td>\n",
       "      <td>16.0</td>\n",
       "      <td>0.0</td>\n",
       "      <td>512.0</td>\n",
       "      <td>6144.0</td>\n",
       "      <td>15.6</td>\n",
       "      <td>2.20</td>\n",
       "    </tr>\n",
       "    <tr>\n",
       "      <th>max</th>\n",
       "      <td>8.0</td>\n",
       "      <td>3.0</td>\n",
       "      <td>128.0</td>\n",
       "      <td>2000.0</td>\n",
       "      <td>8192.0</td>\n",
       "      <td>16384.0</td>\n",
       "      <td>17.3</td>\n",
       "      <td>4.70</td>\n",
       "    </tr>\n",
       "  </tbody>\n",
       "</table>\n",
       "</div>"
      ],
      "text/plain": [
       "                cores  core base speed (GHz)  ram cap (GB)  ssd (GB)  \\\n",
       "missing_ratio     0.0                    0.0           0.0       0.0   \n",
       "min               2.0                    1.0           4.0       0.0   \n",
       "lower_quartile    4.0                    1.6           8.0       0.0   \n",
       "median            4.0                    2.1          12.0       0.0   \n",
       "upper_quartile    6.0                    2.6          16.0       0.0   \n",
       "max               8.0                    3.0         128.0    2000.0   \n",
       "\n",
       "                hdd (GB)  gpu size (MB)  screen size (inch)  weight (kg)  \n",
       "missing_ratio        0.0            0.0                 0.0         0.00  \n",
       "min                  0.0          128.0                11.6         0.85  \n",
       "lower_quartile     256.0         1700.0                14.0         1.40  \n",
       "median             512.0         3072.0                15.6         1.80  \n",
       "upper_quartile     512.0         6144.0                15.6         2.20  \n",
       "max               8192.0        16384.0                17.3         4.70  "
      ]
     },
     "execution_count": 11,
     "metadata": {},
     "output_type": "execute_result"
    }
   ],
   "source": [
    "# Xét sự phân bố giá trị của các thuộc tính dạng số\n",
    "num_cols = ['cores', 'core base speed (GHz)', \n",
    "            'ram cap (GB)',\n",
    "            'ssd (GB)', 'hdd (GB)', \n",
    "            'gpu size (MB)', \n",
    "            'screen size (inch)',\n",
    "            'weight (kg)']\n",
    "\n",
    "df = train_X_df[num_cols]\n",
    "def missing_ratio(df):\n",
    "    return (df.isna().mean() * 100).round(1)\n",
    "def lower_quartile(df):\n",
    "    return df.quantile(0.25).round(1)\n",
    "def median(df):\n",
    "    return df.quantile(0.5).round(1)\n",
    "def upper_quartile(df):\n",
    "    return df.quantile(0.75).round(1)\n",
    "df.agg([missing_ratio, 'min', lower_quartile, median, upper_quartile, 'max'])"
   ]
  },
  {
   "cell_type": "code",
   "execution_count": 12,
   "metadata": {},
   "outputs": [
    {
     "data": {
      "text/html": [
       "<div>\n",
       "<style scoped>\n",
       "    .dataframe tbody tr th:only-of-type {\n",
       "        vertical-align: middle;\n",
       "    }\n",
       "\n",
       "    .dataframe tbody tr th {\n",
       "        vertical-align: top;\n",
       "    }\n",
       "\n",
       "    .dataframe thead th {\n",
       "        text-align: right;\n",
       "    }\n",
       "</style>\n",
       "<table border=\"1\" class=\"dataframe\">\n",
       "  <thead>\n",
       "    <tr style=\"text-align: right;\">\n",
       "      <th></th>\n",
       "      <th>gpu prod</th>\n",
       "      <th>producer</th>\n",
       "      <th>screen type</th>\n",
       "      <th>os</th>\n",
       "      <th>processor prod</th>\n",
       "      <th>processor model</th>\n",
       "      <th>ram type</th>\n",
       "    </tr>\n",
       "  </thead>\n",
       "  <tbody>\n",
       "    <tr>\n",
       "      <th>missing_ratio</th>\n",
       "      <td>0</td>\n",
       "      <td>0</td>\n",
       "      <td>0</td>\n",
       "      <td>0</td>\n",
       "      <td>0</td>\n",
       "      <td>0</td>\n",
       "      <td>0</td>\n",
       "    </tr>\n",
       "    <tr>\n",
       "      <th>num_values</th>\n",
       "      <td>3</td>\n",
       "      <td>7</td>\n",
       "      <td>3</td>\n",
       "      <td>6</td>\n",
       "      <td>2</td>\n",
       "      <td>6</td>\n",
       "      <td>2</td>\n",
       "    </tr>\n",
       "    <tr>\n",
       "      <th>value_ratios</th>\n",
       "      <td>{'intel': 56.6, 'nvidia': 33.3, 'amd': 10.0}</td>\n",
       "      <td>{'hp': 23.5, 'lenovo': 23.3, 'asus': 20.7, 'dell': 19.4, 'acer': 8.1, 'lg': 2.6, 'apple': 2.4}</td>\n",
       "      <td>{'led ips': 88.7, 'led tn': 10.0, 'oled': 1.3}</td>\n",
       "      <td>{'windows home 10.00': 57.5, 'windows pro 10.00': 35.1, 'macos  11.00': 2.4, 'chrome os  0.00': 2.2, 'linux ubuntu 0.00': 1.5, 'no os  0.00': 1.3}</td>\n",
       "      <td>{'intel': 86.9, 'amd': 13.1}</td>\n",
       "      <td>{'i5': 38.3, 'i7': 38.1, 'i3': 10.5, 'ryzen 5': 7.8, 'ryzen 7': 3.9, 'ryzen 3': 1.3}</td>\n",
       "      <td>{'ddr4': 96.1, 'ddr3': 3.9}</td>\n",
       "    </tr>\n",
       "  </tbody>\n",
       "</table>\n",
       "</div>"
      ],
      "text/plain": [
       "                                                   gpu prod  \\\n",
       "missing_ratio                                             0   \n",
       "num_values                                                3   \n",
       "value_ratios   {'intel': 56.6, 'nvidia': 33.3, 'amd': 10.0}   \n",
       "\n",
       "                                                                                                     producer  \\\n",
       "missing_ratio                                                                                               0   \n",
       "num_values                                                                                                  7   \n",
       "value_ratios   {'hp': 23.5, 'lenovo': 23.3, 'asus': 20.7, 'dell': 19.4, 'acer': 8.1, 'lg': 2.6, 'apple': 2.4}   \n",
       "\n",
       "                                                  screen type  \\\n",
       "missing_ratio                                               0   \n",
       "num_values                                                  3   \n",
       "value_ratios   {'led ips': 88.7, 'led tn': 10.0, 'oled': 1.3}   \n",
       "\n",
       "                                                                                                                                                               os  \\\n",
       "missing_ratio                                                                                                                                                   0   \n",
       "num_values                                                                                                                                                      6   \n",
       "value_ratios   {'windows home 10.00': 57.5, 'windows pro 10.00': 35.1, 'macos  11.00': 2.4, 'chrome os  0.00': 2.2, 'linux ubuntu 0.00': 1.5, 'no os  0.00': 1.3}   \n",
       "\n",
       "                             processor prod  \\\n",
       "missing_ratio                             0   \n",
       "num_values                                2   \n",
       "value_ratios   {'intel': 86.9, 'amd': 13.1}   \n",
       "\n",
       "                                                                                    processor model  \\\n",
       "missing_ratio                                                                                     0   \n",
       "num_values                                                                                        6   \n",
       "value_ratios   {'i5': 38.3, 'i7': 38.1, 'i3': 10.5, 'ryzen 5': 7.8, 'ryzen 7': 3.9, 'ryzen 3': 1.3}   \n",
       "\n",
       "                                  ram type  \n",
       "missing_ratio                            0  \n",
       "num_values                               2  \n",
       "value_ratios   {'ddr4': 96.1, 'ddr3': 3.9}  "
      ]
     },
     "execution_count": 12,
     "metadata": {},
     "output_type": "execute_result"
    }
   ],
   "source": [
    "# Xét sự phân bố giá trị của các thuộc tính không phải dạng số\n",
    "pd.set_option('display.max_colwidth', 200) # Để nhìn rõ hơn\n",
    "cat_cols = list(set(train_X_df.columns) - set(num_cols))\n",
    "df = train_X_df[cat_cols]\n",
    "def missing_ratio(df):\n",
    "    return (df.isna().mean() * 100).round(1)\n",
    "def num_values(df):\n",
    "    return df.nunique()\n",
    "def value_ratios(c):\n",
    "    return dict((c.value_counts(normalize=True) * 100).round(1))\n",
    "df.agg([missing_ratio, num_values, value_ratios])"
   ]
  },
  {
   "cell_type": "code",
   "execution_count": 13,
   "metadata": {},
   "outputs": [
    {
     "data": {
      "text/plain": [
       "missing_ratio        0.0\n",
       "min                319.0\n",
       "lower_quartile     779.5\n",
       "median            1137.0\n",
       "upper_quartile    1599.8\n",
       "max               4930.0\n",
       "Name: price(USD), dtype: float64"
      ]
     },
     "execution_count": 13,
     "metadata": {},
     "output_type": "execute_result"
    }
   ],
   "source": [
    "# Xét sự phân bố giá trị của Output\n",
    "train_y_sr.agg([missing_ratio, 'min', lower_quartile, median, upper_quartile, 'max'])"
   ]
  },
  {
   "cell_type": "markdown",
   "metadata": {},
   "source": [
    "Kết luận: Có vẻ là không có gì bất thường."
   ]
  },
  {
   "cell_type": "markdown",
   "metadata": {},
   "source": [
    "---"
   ]
  },
  {
   "cell_type": "markdown",
   "metadata": {},
   "source": [
    "## Tiền xử lý (tập huấn luyện)"
   ]
  },
  {
   "cell_type": "markdown",
   "metadata": {},
   "source": [
    "Các bước tiền xử lý:\n",
    "- Tách `processor model` ra thành 2 cột: 1 cột gồm các processor của intel, 1 cột gồm các processor của amd; do cách tách này nên cột `processor prod` không còn cần thiết nữa.\n",
    "- 2 cột `producer` và `os` có nhiều giá trị khác nhau nên sẽ chọn các giá trị xuất hiện nhiều nhất theo `num_top_producer` và `num_top_os` các giá trị khác được thay bằng giá trị \"others\"."
   ]
  },
  {
   "cell_type": "code",
   "execution_count": 14,
   "metadata": {},
   "outputs": [
    {
     "data": {
      "text/html": [
       "<div>\n",
       "<style scoped>\n",
       "    .dataframe tbody tr th:only-of-type {\n",
       "        vertical-align: middle;\n",
       "    }\n",
       "\n",
       "    .dataframe tbody tr th {\n",
       "        vertical-align: top;\n",
       "    }\n",
       "\n",
       "    .dataframe thead th {\n",
       "        text-align: right;\n",
       "    }\n",
       "</style>\n",
       "<table border=\"1\" class=\"dataframe\">\n",
       "  <thead>\n",
       "    <tr style=\"text-align: right;\">\n",
       "      <th></th>\n",
       "      <th>producer</th>\n",
       "      <th>processor prod</th>\n",
       "      <th>processor model</th>\n",
       "      <th>cores</th>\n",
       "      <th>core base speed (GHz)</th>\n",
       "      <th>ram type</th>\n",
       "      <th>ram cap (GB)</th>\n",
       "      <th>ssd (GB)</th>\n",
       "      <th>hdd (GB)</th>\n",
       "      <th>gpu prod</th>\n",
       "      <th>gpu size (MB)</th>\n",
       "      <th>screen type</th>\n",
       "      <th>screen size (inch)</th>\n",
       "      <th>weight (kg)</th>\n",
       "      <th>os</th>\n",
       "    </tr>\n",
       "  </thead>\n",
       "  <tbody>\n",
       "    <tr>\n",
       "      <th>607</th>\n",
       "      <td>acer</td>\n",
       "      <td>intel</td>\n",
       "      <td>i5</td>\n",
       "      <td>4</td>\n",
       "      <td>1.0</td>\n",
       "      <td>ddr4</td>\n",
       "      <td>8</td>\n",
       "      <td>0</td>\n",
       "      <td>512</td>\n",
       "      <td>intel</td>\n",
       "      <td>8192</td>\n",
       "      <td>led ips</td>\n",
       "      <td>14.0</td>\n",
       "      <td>1.19</td>\n",
       "      <td>windows home 10.00</td>\n",
       "    </tr>\n",
       "    <tr>\n",
       "      <th>369</th>\n",
       "      <td>lenovo</td>\n",
       "      <td>intel</td>\n",
       "      <td>i5</td>\n",
       "      <td>4</td>\n",
       "      <td>1.6</td>\n",
       "      <td>ddr4</td>\n",
       "      <td>8</td>\n",
       "      <td>0</td>\n",
       "      <td>256</td>\n",
       "      <td>nvidia</td>\n",
       "      <td>2048</td>\n",
       "      <td>led ips</td>\n",
       "      <td>15.6</td>\n",
       "      <td>1.75</td>\n",
       "      <td>windows pro 10.00</td>\n",
       "    </tr>\n",
       "    <tr>\n",
       "      <th>44</th>\n",
       "      <td>asus</td>\n",
       "      <td>intel</td>\n",
       "      <td>i7</td>\n",
       "      <td>6</td>\n",
       "      <td>2.6</td>\n",
       "      <td>ddr4</td>\n",
       "      <td>16</td>\n",
       "      <td>0</td>\n",
       "      <td>1024</td>\n",
       "      <td>nvidia</td>\n",
       "      <td>6144</td>\n",
       "      <td>oled</td>\n",
       "      <td>15.6</td>\n",
       "      <td>2.50</td>\n",
       "      <td>windows pro 10.00</td>\n",
       "    </tr>\n",
       "    <tr>\n",
       "      <th>66</th>\n",
       "      <td>asus</td>\n",
       "      <td>intel</td>\n",
       "      <td>i7</td>\n",
       "      <td>4</td>\n",
       "      <td>1.8</td>\n",
       "      <td>ddr4</td>\n",
       "      <td>16</td>\n",
       "      <td>1000</td>\n",
       "      <td>128</td>\n",
       "      <td>intel</td>\n",
       "      <td>1700</td>\n",
       "      <td>led ips</td>\n",
       "      <td>15.6</td>\n",
       "      <td>1.90</td>\n",
       "      <td>windows home 10.00</td>\n",
       "    </tr>\n",
       "    <tr>\n",
       "      <th>93</th>\n",
       "      <td>asus</td>\n",
       "      <td>amd</td>\n",
       "      <td>ryzen 7</td>\n",
       "      <td>8</td>\n",
       "      <td>2.9</td>\n",
       "      <td>ddr4</td>\n",
       "      <td>8</td>\n",
       "      <td>0</td>\n",
       "      <td>512</td>\n",
       "      <td>nvidia</td>\n",
       "      <td>4096</td>\n",
       "      <td>led ips</td>\n",
       "      <td>14.0</td>\n",
       "      <td>1.60</td>\n",
       "      <td>windows home 10.00</td>\n",
       "    </tr>\n",
       "  </tbody>\n",
       "</table>\n",
       "</div>"
      ],
      "text/plain": [
       "    producer processor prod processor model  cores  core base speed (GHz)  \\\n",
       "607     acer          intel              i5      4                    1.0   \n",
       "369   lenovo          intel              i5      4                    1.6   \n",
       "44      asus          intel              i7      6                    2.6   \n",
       "66      asus          intel              i7      4                    1.8   \n",
       "93      asus            amd         ryzen 7      8                    2.9   \n",
       "\n",
       "    ram type  ram cap (GB)  ssd (GB)  hdd (GB) gpu prod  gpu size (MB)  \\\n",
       "607     ddr4             8         0       512    intel           8192   \n",
       "369     ddr4             8         0       256   nvidia           2048   \n",
       "44      ddr4            16         0      1024   nvidia           6144   \n",
       "66      ddr4            16      1000       128    intel           1700   \n",
       "93      ddr4             8         0       512   nvidia           4096   \n",
       "\n",
       "    screen type  screen size (inch)  weight (kg)                  os  \n",
       "607     led ips                14.0         1.19  windows home 10.00  \n",
       "369     led ips                15.6         1.75   windows pro 10.00  \n",
       "44         oled                15.6         2.50   windows pro 10.00  \n",
       "66      led ips                15.6         1.90  windows home 10.00  \n",
       "93      led ips                14.0         1.60  windows home 10.00  "
      ]
     },
     "execution_count": 14,
     "metadata": {},
     "output_type": "execute_result"
    }
   ],
   "source": [
    "train_X_df.head()"
   ]
  },
  {
   "cell_type": "code",
   "execution_count": 15,
   "metadata": {},
   "outputs": [],
   "source": [
    "# Hàm định nghĩa transformer tách giá trị của thuộc tính processor_model thành 2 cột: \n",
    "# - 1 cột gồm các processor của intel\n",
    "# - 1 cột gồm các processor của amd\n",
    "# Và chuyển về dạng số bằng phương pháp ranking\n",
    "# Đồng thời xóa 2 cột \"processor prod\" và \"processor model\"\n",
    "def split_processor_model(X):\n",
    "    intel_processor_rank = {'i3': 1,\n",
    "                            'i5': 2,\n",
    "                            'i7': 3,\n",
    "                            'ryzen 3': 0,\n",
    "                            'ryzen 5': 0,\n",
    "                            'ryzen 7': 0}\n",
    "    intel_processor_model = X['processor model'].replace(intel_processor_rank)\n",
    "\n",
    "\n",
    "    amd_processor_rank = {'i3': 0,\n",
    "                          'i5': 0,\n",
    "                          'i7': 0,\n",
    "                          'ryzen 3': 1,\n",
    "                          'ryzen 5': 2,\n",
    "                          'ryzen 7': 3}\n",
    "    amd_processor_model = X['processor model'].replace(amd_processor_rank)\n",
    "    \n",
    "    return X.assign(intel_processor_model=intel_processor_model, amd_processor_model=amd_processor_model).drop([\"processor prod\", \"processor model\"], axis=1)"
   ]
  },
  {
   "cell_type": "code",
   "execution_count": 16,
   "metadata": {},
   "outputs": [
    {
     "data": {
      "text/html": [
       "<div>\n",
       "<style scoped>\n",
       "    .dataframe tbody tr th:only-of-type {\n",
       "        vertical-align: middle;\n",
       "    }\n",
       "\n",
       "    .dataframe tbody tr th {\n",
       "        vertical-align: top;\n",
       "    }\n",
       "\n",
       "    .dataframe thead th {\n",
       "        text-align: right;\n",
       "    }\n",
       "</style>\n",
       "<table border=\"1\" class=\"dataframe\">\n",
       "  <thead>\n",
       "    <tr style=\"text-align: right;\">\n",
       "      <th></th>\n",
       "      <th>producer</th>\n",
       "      <th>cores</th>\n",
       "      <th>core base speed (GHz)</th>\n",
       "      <th>ram type</th>\n",
       "      <th>ram cap (GB)</th>\n",
       "      <th>ssd (GB)</th>\n",
       "      <th>hdd (GB)</th>\n",
       "      <th>gpu prod</th>\n",
       "      <th>gpu size (MB)</th>\n",
       "      <th>screen type</th>\n",
       "      <th>screen size (inch)</th>\n",
       "      <th>weight (kg)</th>\n",
       "      <th>os</th>\n",
       "      <th>intel_processor_model</th>\n",
       "      <th>amd_processor_model</th>\n",
       "    </tr>\n",
       "  </thead>\n",
       "  <tbody>\n",
       "    <tr>\n",
       "      <th>607</th>\n",
       "      <td>acer</td>\n",
       "      <td>4</td>\n",
       "      <td>1.0</td>\n",
       "      <td>ddr4</td>\n",
       "      <td>8</td>\n",
       "      <td>0</td>\n",
       "      <td>512</td>\n",
       "      <td>intel</td>\n",
       "      <td>8192</td>\n",
       "      <td>led ips</td>\n",
       "      <td>14.0</td>\n",
       "      <td>1.19</td>\n",
       "      <td>windows home 10.00</td>\n",
       "      <td>2</td>\n",
       "      <td>0</td>\n",
       "    </tr>\n",
       "    <tr>\n",
       "      <th>369</th>\n",
       "      <td>lenovo</td>\n",
       "      <td>4</td>\n",
       "      <td>1.6</td>\n",
       "      <td>ddr4</td>\n",
       "      <td>8</td>\n",
       "      <td>0</td>\n",
       "      <td>256</td>\n",
       "      <td>nvidia</td>\n",
       "      <td>2048</td>\n",
       "      <td>led ips</td>\n",
       "      <td>15.6</td>\n",
       "      <td>1.75</td>\n",
       "      <td>windows pro 10.00</td>\n",
       "      <td>2</td>\n",
       "      <td>0</td>\n",
       "    </tr>\n",
       "    <tr>\n",
       "      <th>44</th>\n",
       "      <td>asus</td>\n",
       "      <td>6</td>\n",
       "      <td>2.6</td>\n",
       "      <td>ddr4</td>\n",
       "      <td>16</td>\n",
       "      <td>0</td>\n",
       "      <td>1024</td>\n",
       "      <td>nvidia</td>\n",
       "      <td>6144</td>\n",
       "      <td>oled</td>\n",
       "      <td>15.6</td>\n",
       "      <td>2.50</td>\n",
       "      <td>windows pro 10.00</td>\n",
       "      <td>3</td>\n",
       "      <td>0</td>\n",
       "    </tr>\n",
       "    <tr>\n",
       "      <th>66</th>\n",
       "      <td>asus</td>\n",
       "      <td>4</td>\n",
       "      <td>1.8</td>\n",
       "      <td>ddr4</td>\n",
       "      <td>16</td>\n",
       "      <td>1000</td>\n",
       "      <td>128</td>\n",
       "      <td>intel</td>\n",
       "      <td>1700</td>\n",
       "      <td>led ips</td>\n",
       "      <td>15.6</td>\n",
       "      <td>1.90</td>\n",
       "      <td>windows home 10.00</td>\n",
       "      <td>3</td>\n",
       "      <td>0</td>\n",
       "    </tr>\n",
       "    <tr>\n",
       "      <th>93</th>\n",
       "      <td>asus</td>\n",
       "      <td>8</td>\n",
       "      <td>2.9</td>\n",
       "      <td>ddr4</td>\n",
       "      <td>8</td>\n",
       "      <td>0</td>\n",
       "      <td>512</td>\n",
       "      <td>nvidia</td>\n",
       "      <td>4096</td>\n",
       "      <td>led ips</td>\n",
       "      <td>14.0</td>\n",
       "      <td>1.60</td>\n",
       "      <td>windows home 10.00</td>\n",
       "      <td>0</td>\n",
       "      <td>3</td>\n",
       "    </tr>\n",
       "  </tbody>\n",
       "</table>\n",
       "</div>"
      ],
      "text/plain": [
       "    producer  cores  core base speed (GHz) ram type  ram cap (GB)  ssd (GB)  \\\n",
       "607     acer      4                    1.0     ddr4             8         0   \n",
       "369   lenovo      4                    1.6     ddr4             8         0   \n",
       "44      asus      6                    2.6     ddr4            16         0   \n",
       "66      asus      4                    1.8     ddr4            16      1000   \n",
       "93      asus      8                    2.9     ddr4             8         0   \n",
       "\n",
       "     hdd (GB) gpu prod  gpu size (MB) screen type  screen size (inch)  \\\n",
       "607       512    intel           8192     led ips                14.0   \n",
       "369       256   nvidia           2048     led ips                15.6   \n",
       "44       1024   nvidia           6144        oled                15.6   \n",
       "66        128    intel           1700     led ips                15.6   \n",
       "93        512   nvidia           4096     led ips                14.0   \n",
       "\n",
       "     weight (kg)                  os  intel_processor_model  \\\n",
       "607         1.19  windows home 10.00                      2   \n",
       "369         1.75   windows pro 10.00                      2   \n",
       "44          2.50   windows pro 10.00                      3   \n",
       "66          1.90  windows home 10.00                      3   \n",
       "93          1.60  windows home 10.00                      0   \n",
       "\n",
       "     amd_processor_model  \n",
       "607                    0  \n",
       "369                    0  \n",
       "44                     0  \n",
       "66                     0  \n",
       "93                     3  "
      ]
     },
     "execution_count": 16,
     "metadata": {},
     "output_type": "execute_result"
    }
   ],
   "source": [
    "# TEST\n",
    "split_processor_model(train_X_df).head()"
   ]
  },
  {
   "cell_type": "code",
   "execution_count": 17,
   "metadata": {},
   "outputs": [],
   "source": [
    "# Hàm chọn các giá trị xuất hiện nhiều nhất theo \"num_top_producer\" đối với cột \"producer\" và \"num_top_os\" đối với cột \"os\"\n",
    "# và các giá trị khác được thay bằng giá trị \"others\"\n",
    "class ColAdderDropper(BaseEstimator, TransformerMixin):\n",
    "    def __init__(self, num_top_producers=1, num_top_os=1):\n",
    "        self.num_top_producers = num_top_producers\n",
    "        self.num_top_os = num_top_os\n",
    "    def fit(self, X_df, y=None):\n",
    "        producer_col = X_df.producer\n",
    "        self.producer_counts_ = producer_col.value_counts()\n",
    "        producers = list(self.producer_counts_.index)\n",
    "        self.top_producers_ = producers[:max(1, min(self.num_top_producers, len(producers)))]\n",
    "        \n",
    "        os_col = X_df.os\n",
    "        self.os_counts_ = os_col.value_counts()\n",
    "        os = list(self.os_counts_.index)\n",
    "        self.top_os_ = os[:max(1, min(self.num_top_os, len(os)))]\n",
    "        \n",
    "        return self\n",
    "    def transform(self, X_df, y=None):\n",
    "        X = X_df.copy()\n",
    "        X.loc[:, \"producer\"].replace(list(set(X.producer.unique())-set(self.top_producers_)), 'others', inplace=True)\n",
    "        X.loc[:, \"os\"].replace(list(set(X.os.unique())-set(self.top_os_)), 'others', inplace=True)\n",
    "        return X"
   ]
  },
  {
   "cell_type": "code",
   "execution_count": 18,
   "metadata": {},
   "outputs": [
    {
     "name": "stdout",
     "output_type": "stream",
     "text": [
      "hp        108\n",
      "lenovo    107\n",
      "asus       95\n",
      "dell       89\n",
      "acer       37\n",
      "lg         12\n",
      "apple      11\n",
      "Name: producer, dtype: int64\n",
      "\n",
      "['hp', 'lenovo', 'asus', 'dell']\n",
      "\n",
      "windows home 10.00    264\n",
      "windows pro 10.00     161\n",
      "macos  11.00           11\n",
      "chrome os  0.00        10\n",
      "linux ubuntu 0.00       7\n",
      "no os  0.00             6\n",
      "Name: os, dtype: int64\n",
      "\n",
      "['windows home 10.00', 'windows pro 10.00', 'macos  11.00', 'chrome os  0.00']\n"
     ]
    }
   ],
   "source": [
    "# TEST\n",
    "col_adderdropper = ColAdderDropper(num_top_producers=4, num_top_os=4)\n",
    "col_adderdropper.fit(split_processor_model(train_X_df))\n",
    "print(col_adderdropper.producer_counts_)\n",
    "print()\n",
    "print(col_adderdropper.top_producers_)\n",
    "print()\n",
    "print(col_adderdropper.os_counts_)\n",
    "print()\n",
    "print(col_adderdropper.top_os_)"
   ]
  },
  {
   "cell_type": "code",
   "execution_count": 19,
   "metadata": {},
   "outputs": [],
   "source": [
    "fewer_cols_train_X_df = col_adderdropper.transform(split_processor_model(train_X_df))"
   ]
  },
  {
   "cell_type": "code",
   "execution_count": 20,
   "metadata": {},
   "outputs": [
    {
     "data": {
      "text/plain": [
       "array(['windows home 10.00', 'windows pro 10.00', 'macos  11.00',\n",
       "       'chrome os  0.00', 'others'], dtype=object)"
      ]
     },
     "execution_count": 20,
     "metadata": {},
     "output_type": "execute_result"
    }
   ],
   "source": [
    "fewer_cols_train_X_df.os.unique()"
   ]
  },
  {
   "cell_type": "code",
   "execution_count": 21,
   "metadata": {},
   "outputs": [
    {
     "data": {
      "text/plain": [
       "array(['others', 'lenovo', 'asus', 'hp', 'dell'], dtype=object)"
      ]
     },
     "execution_count": 21,
     "metadata": {},
     "output_type": "execute_result"
    }
   ],
   "source": [
    "fewer_cols_train_X_df.producer.unique()"
   ]
  },
  {
   "cell_type": "code",
   "execution_count": 22,
   "metadata": {},
   "outputs": [
    {
     "data": {
      "text/html": [
       "<div>\n",
       "<style scoped>\n",
       "    .dataframe tbody tr th:only-of-type {\n",
       "        vertical-align: middle;\n",
       "    }\n",
       "\n",
       "    .dataframe tbody tr th {\n",
       "        vertical-align: top;\n",
       "    }\n",
       "\n",
       "    .dataframe thead th {\n",
       "        text-align: right;\n",
       "    }\n",
       "</style>\n",
       "<table border=\"1\" class=\"dataframe\">\n",
       "  <thead>\n",
       "    <tr style=\"text-align: right;\">\n",
       "      <th></th>\n",
       "      <th>producer</th>\n",
       "      <th>cores</th>\n",
       "      <th>core base speed (GHz)</th>\n",
       "      <th>ram type</th>\n",
       "      <th>ram cap (GB)</th>\n",
       "      <th>ssd (GB)</th>\n",
       "      <th>hdd (GB)</th>\n",
       "      <th>gpu prod</th>\n",
       "      <th>gpu size (MB)</th>\n",
       "      <th>screen type</th>\n",
       "      <th>screen size (inch)</th>\n",
       "      <th>weight (kg)</th>\n",
       "      <th>os</th>\n",
       "      <th>intel_processor_model</th>\n",
       "      <th>amd_processor_model</th>\n",
       "    </tr>\n",
       "  </thead>\n",
       "  <tbody>\n",
       "    <tr>\n",
       "      <th>607</th>\n",
       "      <td>others</td>\n",
       "      <td>4</td>\n",
       "      <td>1.0</td>\n",
       "      <td>ddr4</td>\n",
       "      <td>8</td>\n",
       "      <td>0</td>\n",
       "      <td>512</td>\n",
       "      <td>intel</td>\n",
       "      <td>8192</td>\n",
       "      <td>led ips</td>\n",
       "      <td>14.0</td>\n",
       "      <td>1.19</td>\n",
       "      <td>windows home 10.00</td>\n",
       "      <td>2</td>\n",
       "      <td>0</td>\n",
       "    </tr>\n",
       "    <tr>\n",
       "      <th>369</th>\n",
       "      <td>lenovo</td>\n",
       "      <td>4</td>\n",
       "      <td>1.6</td>\n",
       "      <td>ddr4</td>\n",
       "      <td>8</td>\n",
       "      <td>0</td>\n",
       "      <td>256</td>\n",
       "      <td>nvidia</td>\n",
       "      <td>2048</td>\n",
       "      <td>led ips</td>\n",
       "      <td>15.6</td>\n",
       "      <td>1.75</td>\n",
       "      <td>windows pro 10.00</td>\n",
       "      <td>2</td>\n",
       "      <td>0</td>\n",
       "    </tr>\n",
       "    <tr>\n",
       "      <th>44</th>\n",
       "      <td>asus</td>\n",
       "      <td>6</td>\n",
       "      <td>2.6</td>\n",
       "      <td>ddr4</td>\n",
       "      <td>16</td>\n",
       "      <td>0</td>\n",
       "      <td>1024</td>\n",
       "      <td>nvidia</td>\n",
       "      <td>6144</td>\n",
       "      <td>oled</td>\n",
       "      <td>15.6</td>\n",
       "      <td>2.50</td>\n",
       "      <td>windows pro 10.00</td>\n",
       "      <td>3</td>\n",
       "      <td>0</td>\n",
       "    </tr>\n",
       "    <tr>\n",
       "      <th>66</th>\n",
       "      <td>asus</td>\n",
       "      <td>4</td>\n",
       "      <td>1.8</td>\n",
       "      <td>ddr4</td>\n",
       "      <td>16</td>\n",
       "      <td>1000</td>\n",
       "      <td>128</td>\n",
       "      <td>intel</td>\n",
       "      <td>1700</td>\n",
       "      <td>led ips</td>\n",
       "      <td>15.6</td>\n",
       "      <td>1.90</td>\n",
       "      <td>windows home 10.00</td>\n",
       "      <td>3</td>\n",
       "      <td>0</td>\n",
       "    </tr>\n",
       "    <tr>\n",
       "      <th>93</th>\n",
       "      <td>asus</td>\n",
       "      <td>8</td>\n",
       "      <td>2.9</td>\n",
       "      <td>ddr4</td>\n",
       "      <td>8</td>\n",
       "      <td>0</td>\n",
       "      <td>512</td>\n",
       "      <td>nvidia</td>\n",
       "      <td>4096</td>\n",
       "      <td>led ips</td>\n",
       "      <td>14.0</td>\n",
       "      <td>1.60</td>\n",
       "      <td>windows home 10.00</td>\n",
       "      <td>0</td>\n",
       "      <td>3</td>\n",
       "    </tr>\n",
       "  </tbody>\n",
       "</table>\n",
       "</div>"
      ],
      "text/plain": [
       "    producer  cores  core base speed (GHz) ram type  ram cap (GB)  ssd (GB)  \\\n",
       "607   others      4                    1.0     ddr4             8         0   \n",
       "369   lenovo      4                    1.6     ddr4             8         0   \n",
       "44      asus      6                    2.6     ddr4            16         0   \n",
       "66      asus      4                    1.8     ddr4            16      1000   \n",
       "93      asus      8                    2.9     ddr4             8         0   \n",
       "\n",
       "     hdd (GB) gpu prod  gpu size (MB) screen type  screen size (inch)  \\\n",
       "607       512    intel           8192     led ips                14.0   \n",
       "369       256   nvidia           2048     led ips                15.6   \n",
       "44       1024   nvidia           6144        oled                15.6   \n",
       "66        128    intel           1700     led ips                15.6   \n",
       "93        512   nvidia           4096     led ips                14.0   \n",
       "\n",
       "     weight (kg)                  os  intel_processor_model  \\\n",
       "607         1.19  windows home 10.00                      2   \n",
       "369         1.75   windows pro 10.00                      2   \n",
       "44          2.50   windows pro 10.00                      3   \n",
       "66          1.90  windows home 10.00                      3   \n",
       "93          1.60  windows home 10.00                      0   \n",
       "\n",
       "     amd_processor_model  \n",
       "607                    0  \n",
       "369                    0  \n",
       "44                     0  \n",
       "66                     0  \n",
       "93                     3  "
      ]
     },
     "execution_count": 22,
     "metadata": {},
     "output_type": "execute_result"
    }
   ],
   "source": [
    "fewer_cols_train_X_df.head()"
   ]
  },
  {
   "cell_type": "markdown",
   "metadata": {},
   "source": [
    "\n",
    "Các bước tiền xử lý tiếp theo: (như Bài tập 3)\n",
    "- Với các cột dạng số (`nume_cols`), ta sẽ điền giá trị thiếu bằng giá trị mean của cột (dùng `SimpleImputer`). Với *tất cả* các cột dạng số trong tập huấn luyện, ta đều cần tính mean, vì ta không biết được cột nào sẽ bị thiếu giá trị khi dự đoán với các véc-tơ input mới. \n",
    "- Với các cột không phải dạng số và không có thứ tự (`unorder_cate_cols`):\n",
    "    - Ta sẽ điền giá trị thiếu bằng giá trị mode (giá trị xuất hiện nhiều nhất) của cột (dùng `SimpleImputer`). Với *tất cả* các cột không có dạng số và không có thứ tự, ta đều cần tính mode, vì ta không biết được cột nào sẽ bị thiếu giá trị khi dự đoán với các véc-tơ input mới.\n",
    "    - Sau đó, ta sẽ chuyển sang dạng số bằng phương pháp mã hóa one-hot (dùng `OneHotEncoder`).\n",
    "- Với cột không phải dạng số và có thứ tự (`order_cate_cols`):\n",
    "    - Ta sẽ điền giá trị thiếu bằng giá trị mode (giá trị xuất hiện nhiều nhất) của cột.\n",
    "    - Cột này đã được chuyển sang dạng số rồi nên ta không cần chuyển nữa.\n",
    "- Cuối cùng, khi tất cả các cột đã được điền giá trị thiếu và đã có dạng số, ta sẽ tiến hành chuẩn hóa bằng cách trừ đi mean và chia cho độ lệch chuẩn của cột để giúp cho các thuật toán cực tiểu hóa như Gradient Descent, LBFGS, ... hội tụ nhanh hơn (dùng `StandardScaler`)."
   ]
  },
  {
   "cell_type": "code",
   "execution_count": 23,
   "metadata": {},
   "outputs": [],
   "source": [
    "nume_cols = ['cores', 'core base speed (GHz)', 'ram cap (GB)', 'ssd (GB)', 'hdd (GB)', 'gpu size (MB)', 'screen size (inch)', 'weight (kg)']\n",
    "unorder_cate_cols = ['producer', 'ram type', 'gpu prod', 'screen type', 'os']\n",
    "order_cate_cols = ['intel_processor_model', 'amd_processor_model']\n",
    "\n",
    "unorder_cate_cols_transformer = make_pipeline(SimpleImputer(strategy='most_frequent'), OneHotEncoder(handle_unknown='ignore'))\n",
    "column_transformer = make_column_transformer((SimpleImputer(strategy='mean'), nume_cols),\n",
    "                                            (unorder_cate_cols_transformer, unorder_cate_cols),\n",
    "                                            (SimpleImputer(strategy='most_frequent'), order_cate_cols))\n",
    "preprocess_pipeline = make_pipeline(FunctionTransformer(split_processor_model), \n",
    "                                    ColAdderDropper(num_top_producers=4, num_top_os=4),\n",
    "                                    column_transformer, StandardScaler())\n",
    "\n",
    "preprocessed_train_X = preprocess_pipeline.fit_transform(train_X_df)"
   ]
  },
  {
   "cell_type": "code",
   "execution_count": 24,
   "metadata": {},
   "outputs": [
    {
     "data": {
      "text/plain": [
       "array([[-0.32130204, -2.04938144, -0.54461986, ..., -0.73502956,\n",
       "        -0.01518628, -0.37218703],\n",
       "       [-0.32130204, -0.92709143, -0.54461986, ...,  1.3604895 ,\n",
       "        -0.01518628, -0.37218703],\n",
       "       [ 1.08996721,  0.94339193,  0.0910585 , ...,  1.3604895 ,\n",
       "         0.98059951, -0.37218703],\n",
       "       ...,\n",
       "       [-0.32130204, -0.92709143, -0.54461986, ...,  1.3604895 ,\n",
       "        -0.01518628, -0.37218703],\n",
       "       [ 1.08996721,  0.94339193,  1.36241522, ..., -0.73502956,\n",
       "         0.98059951, -0.37218703],\n",
       "       [-0.32130204, -2.04938144, -0.22678068, ..., -0.73502956,\n",
       "        -0.01518628, -0.37218703]])"
      ]
     },
     "execution_count": 24,
     "metadata": {},
     "output_type": "execute_result"
    }
   ],
   "source": [
    "preprocessed_train_X"
   ]
  },
  {
   "cell_type": "code",
   "execution_count": 25,
   "metadata": {
    "scrolled": true
   },
   "outputs": [
    {
     "data": {
      "text/html": [
       "<style>div.sk-top-container {color: black;background-color: white;}div.sk-toggleable {background-color: white;}label.sk-toggleable__label {cursor: pointer;display: block;width: 100%;margin-bottom: 0;padding: 0.2em 0.3em;box-sizing: border-box;text-align: center;}div.sk-toggleable__content {max-height: 0;max-width: 0;overflow: hidden;text-align: left;background-color: #f0f8ff;}div.sk-toggleable__content pre {margin: 0.2em;color: black;border-radius: 0.25em;background-color: #f0f8ff;}input.sk-toggleable__control:checked~div.sk-toggleable__content {max-height: 200px;max-width: 100%;overflow: auto;}div.sk-estimator input.sk-toggleable__control:checked~label.sk-toggleable__label {background-color: #d4ebff;}div.sk-label input.sk-toggleable__control:checked~label.sk-toggleable__label {background-color: #d4ebff;}input.sk-hidden--visually {border: 0;clip: rect(1px 1px 1px 1px);clip: rect(1px, 1px, 1px, 1px);height: 1px;margin: -1px;overflow: hidden;padding: 0;position: absolute;width: 1px;}div.sk-estimator {font-family: monospace;background-color: #f0f8ff;margin: 0.25em 0.25em;border: 1px dotted black;border-radius: 0.25em;box-sizing: border-box;}div.sk-estimator:hover {background-color: #d4ebff;}div.sk-parallel-item::after {content: \"\";width: 100%;border-bottom: 1px solid gray;flex-grow: 1;}div.sk-label:hover label.sk-toggleable__label {background-color: #d4ebff;}div.sk-serial::before {content: \"\";position: absolute;border-left: 1px solid gray;box-sizing: border-box;top: 2em;bottom: 0;left: 50%;}div.sk-serial {display: flex;flex-direction: column;align-items: center;background-color: white;}div.sk-item {z-index: 1;}div.sk-parallel {display: flex;align-items: stretch;justify-content: center;background-color: white;}div.sk-parallel-item {display: flex;flex-direction: column;position: relative;background-color: white;}div.sk-parallel-item:first-child::after {align-self: flex-end;width: 50%;}div.sk-parallel-item:last-child::after {align-self: flex-start;width: 50%;}div.sk-parallel-item:only-child::after {width: 0;}div.sk-dashed-wrapped {border: 1px dashed gray;margin: 0.2em;box-sizing: border-box;padding-bottom: 0.1em;background-color: white;position: relative;}div.sk-label label {font-family: monospace;font-weight: bold;background-color: white;display: inline-block;line-height: 1.2em;}div.sk-label-container {position: relative;z-index: 2;text-align: center;}div.sk-container {display: inline-block;position: relative;}</style><div class=\"sk-top-container\"><div class=\"sk-container\"><div class=\"sk-item sk-dashed-wrapped\"><div class=\"sk-label-container\"><div class=\"sk-label sk-toggleable\"><input class=\"sk-toggleable__control sk-hidden--visually\" id=\"231c1aae-d447-4125-9a98-bcaf471b52fb\" type=\"checkbox\" ><label class=\"sk-toggleable__label\" for=\"231c1aae-d447-4125-9a98-bcaf471b52fb\">Pipeline</label><div class=\"sk-toggleable__content\"><pre>Pipeline(steps=[('functiontransformer',\n",
       "                 FunctionTransformer(func=<function split_processor_model at 0x0000022FCDF5AD30>)),\n",
       "                ('coladderdropper',\n",
       "                 ColAdderDropper(num_top_os=4, num_top_producers=4)),\n",
       "                ('columntransformer',\n",
       "                 ColumnTransformer(transformers=[('simpleimputer-1',\n",
       "                                                  SimpleImputer(),\n",
       "                                                  ['cores',\n",
       "                                                   'core base speed (GHz)',\n",
       "                                                   'ram cap (GB)', 'ssd (GB)',\n",
       "                                                   'hdd (GB)', 'gpu size (MB...\n",
       "                                                   'weight (kg)']),\n",
       "                                                 ('pipeline',\n",
       "                                                  Pipeline(steps=[('simpleimputer',\n",
       "                                                                   SimpleImputer(strategy='most_frequent')),\n",
       "                                                                  ('onehotencoder',\n",
       "                                                                   OneHotEncoder(handle_unknown='ignore'))]),\n",
       "                                                  ['producer', 'ram type',\n",
       "                                                   'gpu prod', 'screen type',\n",
       "                                                   'os']),\n",
       "                                                 ('simpleimputer-2',\n",
       "                                                  SimpleImputer(strategy='most_frequent'),\n",
       "                                                  ['intel_processor_model',\n",
       "                                                   'amd_processor_model'])])),\n",
       "                ('standardscaler', StandardScaler())])</pre></div></div></div><div class=\"sk-serial\"><div class=\"sk-item\"><div class=\"sk-estimator sk-toggleable\"><input class=\"sk-toggleable__control sk-hidden--visually\" id=\"c77c84e7-86ed-4aa5-9c2d-950dcf56ff5d\" type=\"checkbox\" ><label class=\"sk-toggleable__label\" for=\"c77c84e7-86ed-4aa5-9c2d-950dcf56ff5d\">FunctionTransformer</label><div class=\"sk-toggleable__content\"><pre>FunctionTransformer(func=<function split_processor_model at 0x0000022FCDF5AD30>)</pre></div></div></div><div class=\"sk-item\"><div class=\"sk-estimator sk-toggleable\"><input class=\"sk-toggleable__control sk-hidden--visually\" id=\"9a2da83e-06cb-4c02-821d-57f08a88b3da\" type=\"checkbox\" ><label class=\"sk-toggleable__label\" for=\"9a2da83e-06cb-4c02-821d-57f08a88b3da\">ColAdderDropper</label><div class=\"sk-toggleable__content\"><pre>ColAdderDropper(num_top_os=4, num_top_producers=4)</pre></div></div></div><div class=\"sk-item sk-dashed-wrapped\"><div class=\"sk-label-container\"><div class=\"sk-label sk-toggleable\"><input class=\"sk-toggleable__control sk-hidden--visually\" id=\"eead81cc-3ee1-497c-9054-35244e95cd81\" type=\"checkbox\" ><label class=\"sk-toggleable__label\" for=\"eead81cc-3ee1-497c-9054-35244e95cd81\">columntransformer: ColumnTransformer</label><div class=\"sk-toggleable__content\"><pre>ColumnTransformer(transformers=[('simpleimputer-1', SimpleImputer(),\n",
       "                                 ['cores', 'core base speed (GHz)',\n",
       "                                  'ram cap (GB)', 'ssd (GB)', 'hdd (GB)',\n",
       "                                  'gpu size (MB)', 'screen size (inch)',\n",
       "                                  'weight (kg)']),\n",
       "                                ('pipeline',\n",
       "                                 Pipeline(steps=[('simpleimputer',\n",
       "                                                  SimpleImputer(strategy='most_frequent')),\n",
       "                                                 ('onehotencoder',\n",
       "                                                  OneHotEncoder(handle_unknown='ignore'))]),\n",
       "                                 ['producer', 'ram type', 'gpu prod',\n",
       "                                  'screen type', 'os']),\n",
       "                                ('simpleimputer-2',\n",
       "                                 SimpleImputer(strategy='most_frequent'),\n",
       "                                 ['intel_processor_model',\n",
       "                                  'amd_processor_model'])])</pre></div></div></div><div class=\"sk-parallel\"><div class=\"sk-parallel-item\"><div class=\"sk-item\"><div class=\"sk-label-container\"><div class=\"sk-label sk-toggleable\"><input class=\"sk-toggleable__control sk-hidden--visually\" id=\"2937de86-496c-4207-bc6f-2b99e0423d0b\" type=\"checkbox\" ><label class=\"sk-toggleable__label\" for=\"2937de86-496c-4207-bc6f-2b99e0423d0b\">simpleimputer-1</label><div class=\"sk-toggleable__content\"><pre>['cores', 'core base speed (GHz)', 'ram cap (GB)', 'ssd (GB)', 'hdd (GB)', 'gpu size (MB)', 'screen size (inch)', 'weight (kg)']</pre></div></div></div><div class=\"sk-serial\"><div class=\"sk-item\"><div class=\"sk-estimator sk-toggleable\"><input class=\"sk-toggleable__control sk-hidden--visually\" id=\"b9d5070c-5c19-49a2-9a23-de0547c30dbc\" type=\"checkbox\" ><label class=\"sk-toggleable__label\" for=\"b9d5070c-5c19-49a2-9a23-de0547c30dbc\">SimpleImputer</label><div class=\"sk-toggleable__content\"><pre>SimpleImputer()</pre></div></div></div></div></div></div><div class=\"sk-parallel-item\"><div class=\"sk-item\"><div class=\"sk-label-container\"><div class=\"sk-label sk-toggleable\"><input class=\"sk-toggleable__control sk-hidden--visually\" id=\"e1a2a970-8acc-4e94-b5af-215d99cc669e\" type=\"checkbox\" ><label class=\"sk-toggleable__label\" for=\"e1a2a970-8acc-4e94-b5af-215d99cc669e\">pipeline</label><div class=\"sk-toggleable__content\"><pre>['producer', 'ram type', 'gpu prod', 'screen type', 'os']</pre></div></div></div><div class=\"sk-serial\"><div class=\"sk-item\"><div class=\"sk-serial\"><div class=\"sk-item\"><div class=\"sk-estimator sk-toggleable\"><input class=\"sk-toggleable__control sk-hidden--visually\" id=\"faf14a15-3b0f-4228-91ac-ec98f0293cda\" type=\"checkbox\" ><label class=\"sk-toggleable__label\" for=\"faf14a15-3b0f-4228-91ac-ec98f0293cda\">SimpleImputer</label><div class=\"sk-toggleable__content\"><pre>SimpleImputer(strategy='most_frequent')</pre></div></div></div><div class=\"sk-item\"><div class=\"sk-estimator sk-toggleable\"><input class=\"sk-toggleable__control sk-hidden--visually\" id=\"65e384f7-7ff6-4a50-9fca-c83903f27efe\" type=\"checkbox\" ><label class=\"sk-toggleable__label\" for=\"65e384f7-7ff6-4a50-9fca-c83903f27efe\">OneHotEncoder</label><div class=\"sk-toggleable__content\"><pre>OneHotEncoder(handle_unknown='ignore')</pre></div></div></div></div></div></div></div></div><div class=\"sk-parallel-item\"><div class=\"sk-item\"><div class=\"sk-label-container\"><div class=\"sk-label sk-toggleable\"><input class=\"sk-toggleable__control sk-hidden--visually\" id=\"6e71fb30-8fa0-41ee-9b8f-a4f08302a809\" type=\"checkbox\" ><label class=\"sk-toggleable__label\" for=\"6e71fb30-8fa0-41ee-9b8f-a4f08302a809\">simpleimputer-2</label><div class=\"sk-toggleable__content\"><pre>['intel_processor_model', 'amd_processor_model']</pre></div></div></div><div class=\"sk-serial\"><div class=\"sk-item\"><div class=\"sk-estimator sk-toggleable\"><input class=\"sk-toggleable__control sk-hidden--visually\" id=\"e17b1591-ccf4-49bc-bd6f-6150acaaeaa7\" type=\"checkbox\" ><label class=\"sk-toggleable__label\" for=\"e17b1591-ccf4-49bc-bd6f-6150acaaeaa7\">SimpleImputer</label><div class=\"sk-toggleable__content\"><pre>SimpleImputer(strategy='most_frequent')</pre></div></div></div></div></div></div></div></div><div class=\"sk-item\"><div class=\"sk-estimator sk-toggleable\"><input class=\"sk-toggleable__control sk-hidden--visually\" id=\"575f73c4-3e56-4d77-94f0-2167631787a7\" type=\"checkbox\" ><label class=\"sk-toggleable__label\" for=\"575f73c4-3e56-4d77-94f0-2167631787a7\">StandardScaler</label><div class=\"sk-toggleable__content\"><pre>StandardScaler()</pre></div></div></div></div></div></div></div>"
      ],
      "text/plain": [
       "Pipeline(steps=[('functiontransformer',\n",
       "                 FunctionTransformer(func=<function split_processor_model at 0x0000022FCDF5AD30>)),\n",
       "                ('coladderdropper',\n",
       "                 ColAdderDropper(num_top_os=4, num_top_producers=4)),\n",
       "                ('columntransformer',\n",
       "                 ColumnTransformer(transformers=[('simpleimputer-1',\n",
       "                                                  SimpleImputer(),\n",
       "                                                  ['cores',\n",
       "                                                   'core base speed (GHz)',\n",
       "                                                   'ram cap (GB)', 'ssd (GB)',\n",
       "                                                   'hdd (GB)', 'gpu size (MB...\n",
       "                                                   'weight (kg)']),\n",
       "                                                 ('pipeline',\n",
       "                                                  Pipeline(steps=[('simpleimputer',\n",
       "                                                                   SimpleImputer(strategy='most_frequent')),\n",
       "                                                                  ('onehotencoder',\n",
       "                                                                   OneHotEncoder(handle_unknown='ignore'))]),\n",
       "                                                  ['producer', 'ram type',\n",
       "                                                   'gpu prod', 'screen type',\n",
       "                                                   'os']),\n",
       "                                                 ('simpleimputer-2',\n",
       "                                                  SimpleImputer(strategy='most_frequent'),\n",
       "                                                  ['intel_processor_model',\n",
       "                                                   'amd_processor_model'])])),\n",
       "                ('standardscaler', StandardScaler())])"
      ]
     },
     "execution_count": 25,
     "metadata": {},
     "output_type": "execute_result"
    }
   ],
   "source": [
    "preprocess_pipeline"
   ]
  },
  {
   "cell_type": "markdown",
   "metadata": {},
   "source": [
    "---"
   ]
  },
  {
   "cell_type": "markdown",
   "metadata": {},
   "source": [
    "## Mô hình hóa"
   ]
  },
  {
   "cell_type": "markdown",
   "metadata": {},
   "source": [
    "Sử dụng thuật toán Stochastic Gradient Descent cho bài toán Linear Regression\n",
    "Chạy thử nghiệm các siêu tham số:\n",
    "- `alpha`\n",
    "- `num_top_producers`\n",
    "- `num_top_os`\n",
    "\n",
    "Chọn các giá trị của các siêu tham số cho độ lỗi nhỏ nhất trên tập validation"
   ]
  },
  {
   "cell_type": "code",
   "execution_count": 26,
   "metadata": {},
   "outputs": [],
   "source": [
    "from sklearn.linear_model import SGDRegressor"
   ]
  },
  {
   "cell_type": "code",
   "execution_count": 27,
   "metadata": {},
   "outputs": [],
   "source": [
    "# Tính độ đo r^2 trên tập huấn luyện\n",
    "def compute_mse(y, preds):\n",
    "    return ((y - preds) ** 2).mean()\n",
    "def compute_rr(y, preds, baseline_preds):\n",
    "    return 1 - compute_mse(y, preds) / compute_mse(y, baseline_preds)\n",
    "baseline_preds = train_y_sr.mean()"
   ]
  },
  {
   "cell_type": "code",
   "execution_count": 28,
   "metadata": {},
   "outputs": [],
   "source": [
    "full_pipeline = make_pipeline(FunctionTransformer(split_processor_model), \n",
    "                              ColAdderDropper(num_top_producers=4, num_top_os=4),\n",
    "                              column_transformer, StandardScaler(),\n",
    "                              SGDRegressor(penalty='l1', random_state=0))\n",
    "\n",
    "train_errs = []\n",
    "val_errs = []\n",
    "alphas = [0.001, 0.01, 0.1, 1, 10]\n",
    "num_top_producers_s = range(1, 8)\n",
    "num_top_os_s = range(1, 7)\n",
    "best_val_err = float('inf'); best_num_top_os = None; best_num_top_producers = None; best_alpha = None\n",
    "for alpha in alphas:\n",
    "    for num_top_producers in num_top_producers_s:\n",
    "        for num_top_os in num_top_os_s:\n",
    "            # YOUR CODE HERE\n",
    "            full_pipeline.set_params(coladderdropper__num_top_producers=num_top_producers, coladderdropper__num_top_os=num_top_os, sgdregressor__alpha=alpha)\n",
    "            full_pipeline.fit(train_X_df, train_y_sr)\n",
    "            train_errs.append(100 - compute_rr(train_y_sr, full_pipeline.predict(train_X_df), baseline_preds) * 100)\n",
    "            val_errs.append(100 - compute_rr(val_y_sr, full_pipeline.predict(val_X_df), baseline_preds) * 100)\n",
    "            if val_errs[-1] < best_val_err:\n",
    "                best_val_err = val_errs[-1]\n",
    "                best_alpha = alpha\n",
    "                best_num_top_producers = num_top_producers\n",
    "                best_num_top_os = num_top_os"
   ]
  },
  {
   "cell_type": "code",
   "execution_count": 29,
   "metadata": {},
   "outputs": [
    {
     "name": "stdout",
     "output_type": "stream",
     "text": [
      "31.2696165003118\n",
      "10\n",
      "2\n",
      "5\n"
     ]
    }
   ],
   "source": [
    "print(best_val_err)\n",
    "print(best_alpha)\n",
    "print(best_num_top_producers)\n",
    "print(best_num_top_os)"
   ]
  },
  {
   "cell_type": "markdown",
   "metadata": {},
   "source": [
    "## Đánh giá mô hình tìm được"
   ]
  },
  {
   "cell_type": "markdown",
   "metadata": {},
   "source": [
    "Huấn luyện lại `full_pipeline` trên `X_df` và `y_sr` (tập huấn luyện + tập validation) với `best_alpha`\n",
    ", `best_num_top_producers` và `best_num_top_os` tìm được ở trên để ra được mô hình cụ thể cuối cùng."
   ]
  },
  {
   "cell_type": "code",
   "execution_count": 30,
   "metadata": {
    "scrolled": true
   },
   "outputs": [
    {
     "data": {
      "text/html": [
       "<style>div.sk-top-container {color: black;background-color: white;}div.sk-toggleable {background-color: white;}label.sk-toggleable__label {cursor: pointer;display: block;width: 100%;margin-bottom: 0;padding: 0.2em 0.3em;box-sizing: border-box;text-align: center;}div.sk-toggleable__content {max-height: 0;max-width: 0;overflow: hidden;text-align: left;background-color: #f0f8ff;}div.sk-toggleable__content pre {margin: 0.2em;color: black;border-radius: 0.25em;background-color: #f0f8ff;}input.sk-toggleable__control:checked~div.sk-toggleable__content {max-height: 200px;max-width: 100%;overflow: auto;}div.sk-estimator input.sk-toggleable__control:checked~label.sk-toggleable__label {background-color: #d4ebff;}div.sk-label input.sk-toggleable__control:checked~label.sk-toggleable__label {background-color: #d4ebff;}input.sk-hidden--visually {border: 0;clip: rect(1px 1px 1px 1px);clip: rect(1px, 1px, 1px, 1px);height: 1px;margin: -1px;overflow: hidden;padding: 0;position: absolute;width: 1px;}div.sk-estimator {font-family: monospace;background-color: #f0f8ff;margin: 0.25em 0.25em;border: 1px dotted black;border-radius: 0.25em;box-sizing: border-box;}div.sk-estimator:hover {background-color: #d4ebff;}div.sk-parallel-item::after {content: \"\";width: 100%;border-bottom: 1px solid gray;flex-grow: 1;}div.sk-label:hover label.sk-toggleable__label {background-color: #d4ebff;}div.sk-serial::before {content: \"\";position: absolute;border-left: 1px solid gray;box-sizing: border-box;top: 2em;bottom: 0;left: 50%;}div.sk-serial {display: flex;flex-direction: column;align-items: center;background-color: white;}div.sk-item {z-index: 1;}div.sk-parallel {display: flex;align-items: stretch;justify-content: center;background-color: white;}div.sk-parallel-item {display: flex;flex-direction: column;position: relative;background-color: white;}div.sk-parallel-item:first-child::after {align-self: flex-end;width: 50%;}div.sk-parallel-item:last-child::after {align-self: flex-start;width: 50%;}div.sk-parallel-item:only-child::after {width: 0;}div.sk-dashed-wrapped {border: 1px dashed gray;margin: 0.2em;box-sizing: border-box;padding-bottom: 0.1em;background-color: white;position: relative;}div.sk-label label {font-family: monospace;font-weight: bold;background-color: white;display: inline-block;line-height: 1.2em;}div.sk-label-container {position: relative;z-index: 2;text-align: center;}div.sk-container {display: inline-block;position: relative;}</style><div class=\"sk-top-container\"><div class=\"sk-container\"><div class=\"sk-item sk-dashed-wrapped\"><div class=\"sk-label-container\"><div class=\"sk-label sk-toggleable\"><input class=\"sk-toggleable__control sk-hidden--visually\" id=\"68cf55f8-15e9-4a83-ba1e-0f09e2d94c19\" type=\"checkbox\" ><label class=\"sk-toggleable__label\" for=\"68cf55f8-15e9-4a83-ba1e-0f09e2d94c19\">Pipeline</label><div class=\"sk-toggleable__content\"><pre>Pipeline(steps=[('functiontransformer',\n",
       "                 FunctionTransformer(func=<function split_processor_model at 0x0000022FCDF5AD30>)),\n",
       "                ('coladderdropper',\n",
       "                 ColAdderDropper(num_top_os=6, num_top_producers=7)),\n",
       "                ('columntransformer',\n",
       "                 ColumnTransformer(transformers=[('simpleimputer-1',\n",
       "                                                  SimpleImputer(),\n",
       "                                                  ['cores',\n",
       "                                                   'core base speed (GHz)',\n",
       "                                                   'ram cap (GB)', 'ssd (GB)',\n",
       "                                                   'hdd (GB)', 'gpu size (MB...\n",
       "                                                                   SimpleImputer(strategy='most_frequent')),\n",
       "                                                                  ('onehotencoder',\n",
       "                                                                   OneHotEncoder(handle_unknown='ignore'))]),\n",
       "                                                  ['producer', 'ram type',\n",
       "                                                   'gpu prod', 'screen type',\n",
       "                                                   'os']),\n",
       "                                                 ('simpleimputer-2',\n",
       "                                                  SimpleImputer(strategy='most_frequent'),\n",
       "                                                  ['intel_processor_model',\n",
       "                                                   'amd_processor_model'])])),\n",
       "                ('standardscaler', StandardScaler()),\n",
       "                ('sgdregressor',\n",
       "                 SGDRegressor(alpha=10, penalty='l1', random_state=0))])</pre></div></div></div><div class=\"sk-serial\"><div class=\"sk-item\"><div class=\"sk-estimator sk-toggleable\"><input class=\"sk-toggleable__control sk-hidden--visually\" id=\"585041cf-612c-4d90-885e-86ca55f4d8c3\" type=\"checkbox\" ><label class=\"sk-toggleable__label\" for=\"585041cf-612c-4d90-885e-86ca55f4d8c3\">FunctionTransformer</label><div class=\"sk-toggleable__content\"><pre>FunctionTransformer(func=<function split_processor_model at 0x0000022FCDF5AD30>)</pre></div></div></div><div class=\"sk-item\"><div class=\"sk-estimator sk-toggleable\"><input class=\"sk-toggleable__control sk-hidden--visually\" id=\"9bba0827-2d6e-4098-8d4c-3340e13b625c\" type=\"checkbox\" ><label class=\"sk-toggleable__label\" for=\"9bba0827-2d6e-4098-8d4c-3340e13b625c\">ColAdderDropper</label><div class=\"sk-toggleable__content\"><pre>ColAdderDropper(num_top_os=6, num_top_producers=7)</pre></div></div></div><div class=\"sk-item sk-dashed-wrapped\"><div class=\"sk-label-container\"><div class=\"sk-label sk-toggleable\"><input class=\"sk-toggleable__control sk-hidden--visually\" id=\"81bcc8b7-4bdb-490b-8505-a55464d240db\" type=\"checkbox\" ><label class=\"sk-toggleable__label\" for=\"81bcc8b7-4bdb-490b-8505-a55464d240db\">columntransformer: ColumnTransformer</label><div class=\"sk-toggleable__content\"><pre>ColumnTransformer(transformers=[('simpleimputer-1', SimpleImputer(),\n",
       "                                 ['cores', 'core base speed (GHz)',\n",
       "                                  'ram cap (GB)', 'ssd (GB)', 'hdd (GB)',\n",
       "                                  'gpu size (MB)', 'screen size (inch)',\n",
       "                                  'weight (kg)']),\n",
       "                                ('pipeline',\n",
       "                                 Pipeline(steps=[('simpleimputer',\n",
       "                                                  SimpleImputer(strategy='most_frequent')),\n",
       "                                                 ('onehotencoder',\n",
       "                                                  OneHotEncoder(handle_unknown='ignore'))]),\n",
       "                                 ['producer', 'ram type', 'gpu prod',\n",
       "                                  'screen type', 'os']),\n",
       "                                ('simpleimputer-2',\n",
       "                                 SimpleImputer(strategy='most_frequent'),\n",
       "                                 ['intel_processor_model',\n",
       "                                  'amd_processor_model'])])</pre></div></div></div><div class=\"sk-parallel\"><div class=\"sk-parallel-item\"><div class=\"sk-item\"><div class=\"sk-label-container\"><div class=\"sk-label sk-toggleable\"><input class=\"sk-toggleable__control sk-hidden--visually\" id=\"d407bf5b-b72d-4555-841e-665cc317c79c\" type=\"checkbox\" ><label class=\"sk-toggleable__label\" for=\"d407bf5b-b72d-4555-841e-665cc317c79c\">simpleimputer-1</label><div class=\"sk-toggleable__content\"><pre>['cores', 'core base speed (GHz)', 'ram cap (GB)', 'ssd (GB)', 'hdd (GB)', 'gpu size (MB)', 'screen size (inch)', 'weight (kg)']</pre></div></div></div><div class=\"sk-serial\"><div class=\"sk-item\"><div class=\"sk-estimator sk-toggleable\"><input class=\"sk-toggleable__control sk-hidden--visually\" id=\"a8d9fe4b-628a-4b60-ad40-bae169e8c83f\" type=\"checkbox\" ><label class=\"sk-toggleable__label\" for=\"a8d9fe4b-628a-4b60-ad40-bae169e8c83f\">SimpleImputer</label><div class=\"sk-toggleable__content\"><pre>SimpleImputer()</pre></div></div></div></div></div></div><div class=\"sk-parallel-item\"><div class=\"sk-item\"><div class=\"sk-label-container\"><div class=\"sk-label sk-toggleable\"><input class=\"sk-toggleable__control sk-hidden--visually\" id=\"16b667c2-d9dd-4927-9ccd-1a5b00a08f28\" type=\"checkbox\" ><label class=\"sk-toggleable__label\" for=\"16b667c2-d9dd-4927-9ccd-1a5b00a08f28\">pipeline</label><div class=\"sk-toggleable__content\"><pre>['producer', 'ram type', 'gpu prod', 'screen type', 'os']</pre></div></div></div><div class=\"sk-serial\"><div class=\"sk-item\"><div class=\"sk-serial\"><div class=\"sk-item\"><div class=\"sk-estimator sk-toggleable\"><input class=\"sk-toggleable__control sk-hidden--visually\" id=\"9392ed19-fbd7-4303-b5c9-c7c89e6cf24c\" type=\"checkbox\" ><label class=\"sk-toggleable__label\" for=\"9392ed19-fbd7-4303-b5c9-c7c89e6cf24c\">SimpleImputer</label><div class=\"sk-toggleable__content\"><pre>SimpleImputer(strategy='most_frequent')</pre></div></div></div><div class=\"sk-item\"><div class=\"sk-estimator sk-toggleable\"><input class=\"sk-toggleable__control sk-hidden--visually\" id=\"1ab7fe77-dcf3-4a47-8a60-e5a3180980bd\" type=\"checkbox\" ><label class=\"sk-toggleable__label\" for=\"1ab7fe77-dcf3-4a47-8a60-e5a3180980bd\">OneHotEncoder</label><div class=\"sk-toggleable__content\"><pre>OneHotEncoder(handle_unknown='ignore')</pre></div></div></div></div></div></div></div></div><div class=\"sk-parallel-item\"><div class=\"sk-item\"><div class=\"sk-label-container\"><div class=\"sk-label sk-toggleable\"><input class=\"sk-toggleable__control sk-hidden--visually\" id=\"82810536-4d7a-44eb-86f8-874ac75a6259\" type=\"checkbox\" ><label class=\"sk-toggleable__label\" for=\"82810536-4d7a-44eb-86f8-874ac75a6259\">simpleimputer-2</label><div class=\"sk-toggleable__content\"><pre>['intel_processor_model', 'amd_processor_model']</pre></div></div></div><div class=\"sk-serial\"><div class=\"sk-item\"><div class=\"sk-estimator sk-toggleable\"><input class=\"sk-toggleable__control sk-hidden--visually\" id=\"d53d158b-dcb8-46e7-90b6-10c1967735f6\" type=\"checkbox\" ><label class=\"sk-toggleable__label\" for=\"d53d158b-dcb8-46e7-90b6-10c1967735f6\">SimpleImputer</label><div class=\"sk-toggleable__content\"><pre>SimpleImputer(strategy='most_frequent')</pre></div></div></div></div></div></div></div></div><div class=\"sk-item\"><div class=\"sk-estimator sk-toggleable\"><input class=\"sk-toggleable__control sk-hidden--visually\" id=\"3c2ff1c4-0934-404f-a84d-967f49ee85a2\" type=\"checkbox\" ><label class=\"sk-toggleable__label\" for=\"3c2ff1c4-0934-404f-a84d-967f49ee85a2\">StandardScaler</label><div class=\"sk-toggleable__content\"><pre>StandardScaler()</pre></div></div></div><div class=\"sk-item\"><div class=\"sk-estimator sk-toggleable\"><input class=\"sk-toggleable__control sk-hidden--visually\" id=\"6b760b7f-0f00-4d7a-9830-6f909e9d2ec6\" type=\"checkbox\" ><label class=\"sk-toggleable__label\" for=\"6b760b7f-0f00-4d7a-9830-6f909e9d2ec6\">SGDRegressor</label><div class=\"sk-toggleable__content\"><pre>SGDRegressor(alpha=10, penalty='l1', random_state=0)</pre></div></div></div></div></div></div></div>"
      ],
      "text/plain": [
       "Pipeline(steps=[('functiontransformer',\n",
       "                 FunctionTransformer(func=<function split_processor_model at 0x0000022FCDF5AD30>)),\n",
       "                ('coladderdropper',\n",
       "                 ColAdderDropper(num_top_os=6, num_top_producers=7)),\n",
       "                ('columntransformer',\n",
       "                 ColumnTransformer(transformers=[('simpleimputer-1',\n",
       "                                                  SimpleImputer(),\n",
       "                                                  ['cores',\n",
       "                                                   'core base speed (GHz)',\n",
       "                                                   'ram cap (GB)', 'ssd (GB)',\n",
       "                                                   'hdd (GB)', 'gpu size (MB...\n",
       "                                                                   SimpleImputer(strategy='most_frequent')),\n",
       "                                                                  ('onehotencoder',\n",
       "                                                                   OneHotEncoder(handle_unknown='ignore'))]),\n",
       "                                                  ['producer', 'ram type',\n",
       "                                                   'gpu prod', 'screen type',\n",
       "                                                   'os']),\n",
       "                                                 ('simpleimputer-2',\n",
       "                                                  SimpleImputer(strategy='most_frequent'),\n",
       "                                                  ['intel_processor_model',\n",
       "                                                   'amd_processor_model'])])),\n",
       "                ('standardscaler', StandardScaler()),\n",
       "                ('sgdregressor',\n",
       "                 SGDRegressor(alpha=10, penalty='l1', random_state=0))])"
      ]
     },
     "execution_count": 30,
     "metadata": {},
     "output_type": "execute_result"
    }
   ],
   "source": [
    "full_pipeline.set_params(coladderdropper__num_top_producers=num_top_producers, coladderdropper__num_top_os=num_top_os, sgdregressor__alpha=alpha)\n",
    "full_pipeline.fit(X_df, y_sr)"
   ]
  },
  {
   "cell_type": "code",
   "execution_count": 31,
   "metadata": {},
   "outputs": [
    {
     "data": {
      "text/plain": [
       "37.197251555037035"
      ]
     },
     "execution_count": 31,
     "metadata": {},
     "output_type": "execute_result"
    }
   ],
   "source": [
    "# Độ lỗi trên tập test\n",
    "# Đặt lại baseline_preds\n",
    "baseline_preds = y_sr.mean()\n",
    "100 - compute_rr(test_y_sr, full_pipeline.predict(test_X_df), baseline_preds) * 100"
   ]
  }
 ],
 "metadata": {
  "kernelspec": {
   "display_name": "Python 3",
   "language": "python",
   "name": "python3"
  },
  "language_info": {
   "codemirror_mode": {
    "name": "ipython",
    "version": 3
   },
   "file_extension": ".py",
   "mimetype": "text/x-python",
   "name": "python",
   "nbconvert_exporter": "python",
   "pygments_lexer": "ipython3",
   "version": "3.8.3"
  }
 },
 "nbformat": 4,
 "nbformat_minor": 4
}
