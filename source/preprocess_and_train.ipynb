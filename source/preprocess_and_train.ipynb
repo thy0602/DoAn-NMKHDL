{
 "cells": [
  {
   "cell_type": "markdown",
   "metadata": {},
   "source": [
    "# ĐỒ ÁN CUỐI KỲ - NHẬP MÔN KHOA HỌC DỮ LIỆU\n",
    "\n",
    "## Đề tài: Ước lượng giá laptop\n",
    "\n",
    "### Sinh viên:\n",
    "        1. MSSV: 18120058        Tên: Phạm Công Minh\n",
    "        2. MSSV: 18120090        Tên: Phạm Nguyên Minh Thy"
   ]
  },
  {
   "cell_type": "markdown",
   "metadata": {},
   "source": [
    "---"
   ]
  },
  {
   "cell_type": "markdown",
   "metadata": {},
   "source": [
    "## Import"
   ]
  },
  {
   "cell_type": "code",
   "execution_count": 1,
   "metadata": {},
   "outputs": [],
   "source": [
    "import pandas as pd\n",
    "import numpy as np\n",
    "\n",
    "from sklearn.model_selection import train_test_split\n",
    "from sklearn.preprocessing import OneHotEncoder, StandardScaler, FunctionTransformer\n",
    "from sklearn.impute import SimpleImputer\n",
    "from sklearn.base import BaseEstimator, TransformerMixin\n",
    "from sklearn.pipeline import Pipeline, make_pipeline\n",
    "from sklearn.compose import ColumnTransformer, make_column_transformer\n",
    "#from sklearn.neural_network import MLPRegressor\n",
    "from sklearn import set_config\n",
    "set_config(display='diagram') # Để trực quan hóa pipeline"
   ]
  },
  {
   "cell_type": "code",
   "execution_count": 2,
   "metadata": {},
   "outputs": [
    {
     "data": {
      "text/plain": [
       "'0.23.1'"
      ]
     },
     "execution_count": 2,
     "metadata": {},
     "output_type": "execute_result"
    }
   ],
   "source": [
    "import sklearn\n",
    "sklearn.__version__"
   ]
  },
  {
   "cell_type": "markdown",
   "metadata": {},
   "source": [
    "## Đọc dữ liệu"
   ]
  },
  {
   "cell_type": "code",
   "execution_count": 3,
   "metadata": {
    "scrolled": true
   },
   "outputs": [
    {
     "data": {
      "text/html": [
       "<div>\n",
       "<style scoped>\n",
       "    .dataframe tbody tr th:only-of-type {\n",
       "        vertical-align: middle;\n",
       "    }\n",
       "\n",
       "    .dataframe tbody tr th {\n",
       "        vertical-align: top;\n",
       "    }\n",
       "\n",
       "    .dataframe thead th {\n",
       "        text-align: right;\n",
       "    }\n",
       "</style>\n",
       "<table border=\"1\" class=\"dataframe\">\n",
       "  <thead>\n",
       "    <tr style=\"text-align: right;\">\n",
       "      <th></th>\n",
       "      <th>producer</th>\n",
       "      <th>processor prod</th>\n",
       "      <th>processor model</th>\n",
       "      <th>cores</th>\n",
       "      <th>core base speed (GHz)</th>\n",
       "      <th>core boost speed (GHz)</th>\n",
       "      <th>ram type</th>\n",
       "      <th>ram cap (GB)</th>\n",
       "      <th>ssd (GB)</th>\n",
       "      <th>hdd (GB)</th>\n",
       "      <th>...</th>\n",
       "      <th>gpu boost speed (GHz)</th>\n",
       "      <th>screen type</th>\n",
       "      <th>screen size (inch)</th>\n",
       "      <th>screen horizontal resolution</th>\n",
       "      <th>screen vertical resolution</th>\n",
       "      <th>sRGB (%)</th>\n",
       "      <th>weight (kg)</th>\n",
       "      <th>os</th>\n",
       "      <th>battery capacity (WHr)</th>\n",
       "      <th>price(USD)</th>\n",
       "    </tr>\n",
       "  </thead>\n",
       "  <tbody>\n",
       "    <tr>\n",
       "      <th>299</th>\n",
       "      <td>dell</td>\n",
       "      <td>intel</td>\n",
       "      <td>i5</td>\n",
       "      <td>4</td>\n",
       "      <td>1.6</td>\n",
       "      <td>4.2</td>\n",
       "      <td>ddr3</td>\n",
       "      <td>8</td>\n",
       "      <td>0</td>\n",
       "      <td>256</td>\n",
       "      <td>...</td>\n",
       "      <td>1100</td>\n",
       "      <td>led ips</td>\n",
       "      <td>13.3</td>\n",
       "      <td>1920</td>\n",
       "      <td>1080</td>\n",
       "      <td>90</td>\n",
       "      <td>1.24</td>\n",
       "      <td>windows home 10.00</td>\n",
       "      <td>45.0</td>\n",
       "      <td>723.0</td>\n",
       "    </tr>\n",
       "    <tr>\n",
       "      <th>500</th>\n",
       "      <td>hp</td>\n",
       "      <td>intel</td>\n",
       "      <td>i7</td>\n",
       "      <td>4</td>\n",
       "      <td>1.8</td>\n",
       "      <td>4.9</td>\n",
       "      <td>ddr4</td>\n",
       "      <td>8</td>\n",
       "      <td>0</td>\n",
       "      <td>512</td>\n",
       "      <td>...</td>\n",
       "      <td>1150</td>\n",
       "      <td>led ips</td>\n",
       "      <td>15.6</td>\n",
       "      <td>1920</td>\n",
       "      <td>1080</td>\n",
       "      <td>60</td>\n",
       "      <td>2.05</td>\n",
       "      <td>windows home 10.00</td>\n",
       "      <td>53.2</td>\n",
       "      <td>885.5</td>\n",
       "    </tr>\n",
       "    <tr>\n",
       "      <th>303</th>\n",
       "      <td>dell</td>\n",
       "      <td>intel</td>\n",
       "      <td>i5</td>\n",
       "      <td>4</td>\n",
       "      <td>2.4</td>\n",
       "      <td>4.2</td>\n",
       "      <td>ddr4</td>\n",
       "      <td>8</td>\n",
       "      <td>0</td>\n",
       "      <td>256</td>\n",
       "      <td>...</td>\n",
       "      <td>1300</td>\n",
       "      <td>led ips</td>\n",
       "      <td>14.5</td>\n",
       "      <td>2560</td>\n",
       "      <td>1600</td>\n",
       "      <td>100</td>\n",
       "      <td>1.26</td>\n",
       "      <td>windows home 10.00</td>\n",
       "      <td>52.0</td>\n",
       "      <td>730.0</td>\n",
       "    </tr>\n",
       "    <tr>\n",
       "      <th>40</th>\n",
       "      <td>acer</td>\n",
       "      <td>intel</td>\n",
       "      <td>i7</td>\n",
       "      <td>4</td>\n",
       "      <td>1.8</td>\n",
       "      <td>4.6</td>\n",
       "      <td>ddr3</td>\n",
       "      <td>8</td>\n",
       "      <td>0</td>\n",
       "      <td>256</td>\n",
       "      <td>...</td>\n",
       "      <td>1468</td>\n",
       "      <td>led ips</td>\n",
       "      <td>14.0</td>\n",
       "      <td>1920</td>\n",
       "      <td>1080</td>\n",
       "      <td>100</td>\n",
       "      <td>1.35</td>\n",
       "      <td>windows home 10.00</td>\n",
       "      <td>48.0</td>\n",
       "      <td>949.0</td>\n",
       "    </tr>\n",
       "    <tr>\n",
       "      <th>495</th>\n",
       "      <td>hp</td>\n",
       "      <td>intel</td>\n",
       "      <td>i7</td>\n",
       "      <td>4</td>\n",
       "      <td>1.8</td>\n",
       "      <td>4.6</td>\n",
       "      <td>ddr4</td>\n",
       "      <td>8</td>\n",
       "      <td>0</td>\n",
       "      <td>256</td>\n",
       "      <td>...</td>\n",
       "      <td>1150</td>\n",
       "      <td>led tn</td>\n",
       "      <td>17.3</td>\n",
       "      <td>1600</td>\n",
       "      <td>900</td>\n",
       "      <td>80</td>\n",
       "      <td>2.45</td>\n",
       "      <td>windows home 10.00</td>\n",
       "      <td>41.0</td>\n",
       "      <td>830.0</td>\n",
       "    </tr>\n",
       "  </tbody>\n",
       "</table>\n",
       "<p>5 rows × 23 columns</p>\n",
       "</div>"
      ],
      "text/plain": [
       "    producer processor prod processor model  cores  core base speed (GHz)  \\\n",
       "299     dell          intel              i5      4                    1.6   \n",
       "500       hp          intel              i7      4                    1.8   \n",
       "303     dell          intel              i5      4                    2.4   \n",
       "40      acer          intel              i7      4                    1.8   \n",
       "495       hp          intel              i7      4                    1.8   \n",
       "\n",
       "     core boost speed (GHz) ram type  ram cap (GB)  ssd (GB)  hdd (GB)  ...  \\\n",
       "299                     4.2     ddr3             8         0       256  ...   \n",
       "500                     4.9     ddr4             8         0       512  ...   \n",
       "303                     4.2     ddr4             8         0       256  ...   \n",
       "40                      4.6     ddr3             8         0       256  ...   \n",
       "495                     4.6     ddr4             8         0       256  ...   \n",
       "\n",
       "    gpu boost speed (GHz)  screen type  screen size (inch)  \\\n",
       "299                  1100      led ips                13.3   \n",
       "500                  1150      led ips                15.6   \n",
       "303                  1300      led ips                14.5   \n",
       "40                   1468      led ips                14.0   \n",
       "495                  1150       led tn                17.3   \n",
       "\n",
       "     screen horizontal resolution screen vertical resolution  sRGB (%)  \\\n",
       "299                          1920                       1080        90   \n",
       "500                          1920                       1080        60   \n",
       "303                          2560                       1600       100   \n",
       "40                           1920                       1080       100   \n",
       "495                          1600                        900        80   \n",
       "\n",
       "     weight (kg)                  os  battery capacity (WHr)  price(USD)  \n",
       "299         1.24  windows home 10.00                    45.0       723.0  \n",
       "500         2.05  windows home 10.00                    53.2       885.5  \n",
       "303         1.26  windows home 10.00                    52.0       730.0  \n",
       "40          1.35  windows home 10.00                    48.0       949.0  \n",
       "495         2.45  windows home 10.00                    41.0       830.0  \n",
       "\n",
       "[5 rows x 23 columns]"
      ]
     },
     "execution_count": 3,
     "metadata": {},
     "output_type": "execute_result"
    }
   ],
   "source": [
    "# Do data lấy theo tứ tự producer nên cần phải shuffle\n",
    "from sklearn.utils import shuffle\n",
    "data_df = pd.read_csv('data.csv')\n",
    "data_df = shuffle(data_df, random_state=0)\n",
    "data_df.head()"
   ]
  },
  {
   "cell_type": "markdown",
   "metadata": {},
   "source": [
    "## Ý nghĩa các cột"
   ]
  },
  {
   "cell_type": "markdown",
   "metadata": {},
   "source": [
    "    1. producer                         tên nhà sản xuất laptop\n",
    "    2. processor prod                   nhà sản xuất CPU\n",
    "    3. processor model                  dòng CPU\n",
    "    4. cores                            số nhân của CPU\n",
    "    5. core base speed (GHz)            tốc độ xung nhịp cơ bản của CPU\n",
    "    6. core boost speed (GHz)           tốc độ xung nhịp tối đa của CPU\n",
    "    7. ram type                         loại RAM\n",
    "    8. ram cap (GB)                     dung lượng RAM\n",
    "    9. ssd (GB)                         dung lượng SSD\n",
    "    10. hdd (GB)                        dung lượng HDD\n",
    "    11. gpu prod                        nhà sản xuất card màn hình\n",
    "    12. gpu size (MB)                   dung lượng card màn hình\n",
    "    13. gpu base speed (GHz)            tốc độ xung nhịp cơ bản của GPU\n",
    "    14. gpu boost speed (GHz)           tốc độ xung nhịp tối đa của GPU\n",
    "    15. screen type                     loại màn hình\n",
    "    16. screen size (inch)              kích thước màn hình\n",
    "    17. creen horizontal resolution     độ phân giải màn hình theo chiều ngang\n",
    "    18. screen vertical resolution      độ phân giải màn hình theo chiều dọc\n",
    "    19. sRGB (%)                        độ phủ màu của màn hình dựa trên tiêu chuẩn sRGB\n",
    "    20. weight (kg)                     trọng lượng máy\n",
    "    21. os                              hệ điều hành\n",
    "    22. battery capacity (Whr)          dung lượng pin\n",
    "    23. price(USD)                      giá"
   ]
  },
  {
   "cell_type": "markdown",
   "metadata": {},
   "source": [
    "---"
   ]
  },
  {
   "cell_type": "markdown",
   "metadata": {},
   "source": [
    "# Khám phá dữ liệu"
   ]
  },
  {
   "cell_type": "code",
   "execution_count": 4,
   "metadata": {},
   "outputs": [
    {
     "data": {
      "text/plain": [
       "(800, 23)"
      ]
     },
     "execution_count": 4,
     "metadata": {},
     "output_type": "execute_result"
    }
   ],
   "source": [
    "# Dữ liệu có bao nhiêu dòng, bao nhiêu cột?\n",
    "data_df.shape"
   ]
  },
  {
   "cell_type": "code",
   "execution_count": 5,
   "metadata": {},
   "outputs": [
    {
     "data": {
      "text/plain": [
       "0"
      ]
     },
     "execution_count": 5,
     "metadata": {},
     "output_type": "execute_result"
    }
   ],
   "source": [
    "# Dữ liệu có dòng bị lặp không?\n",
    "data_df.index.duplicated().sum()"
   ]
  },
  {
   "cell_type": "code",
   "execution_count": 6,
   "metadata": {},
   "outputs": [
    {
     "data": {
      "text/plain": [
       "dtype('float64')"
      ]
     },
     "execution_count": 6,
     "metadata": {},
     "output_type": "execute_result"
    }
   ],
   "source": [
    "# Cột output hiện có kiểu dữ liệu gì?\n",
    "data_df[\"price(USD)\"].dtype"
   ]
  },
  {
   "cell_type": "code",
   "execution_count": 7,
   "metadata": {},
   "outputs": [
    {
     "data": {
      "text/plain": [
       "0"
      ]
     },
     "execution_count": 7,
     "metadata": {},
     "output_type": "execute_result"
    }
   ],
   "source": [
    "# Cột output có giá trị thiếu không?\n",
    "data_df[\"price(USD)\"].isna().sum()"
   ]
  },
  {
   "cell_type": "markdown",
   "metadata": {},
   "source": [
    "## Câu hỏi cần trả lời:"
   ]
  },
  {
   "cell_type": "markdown",
   "metadata": {},
   "source": [
    "**Câu hỏi có dạng:** *Tính giá tiền laptop (`price(USD)`) dựa trên các thuộc tính của laptop*\n",
    "\n",
    "**Lợi ích khi trả lời câu hỏi:** Dự đoán giá laptop dựa trên các thuộc tính giúp cho việc lựa chọn mẫu khi có dự định mua laptop, có 2 hướng đưa ra quyết định:\n",
    "- Chọn trước các mẫu phù hợp túi tiền rồi lấy cấu hình tính ra giá dự đoán và so sánh với giá niêm yết của cửa hàng => chọn mẫu laptop có tỷ lệ giá thực tế/giá dự đoán thấp nhất.\n",
    "- Đưa ra những cấu hình mong muốn để dự đoán giá của máy tính rồi từ khoảng giá tiền đó tìm những mẫu máy tính có những thuộc tính gần với mong muốn.\n",
    "\n",
    "** Đây chỉ là một trong nhiều yếu tố để quyết định việc chọn mẫu laptop phù hợp.*\n",
    "\n",
    "**Nguồn cảm hứng của câu hỏi:**\n",
    "- Việc chọn cách định giá một sản phẩm nào đó lấy cảm hứng từ các bài làm khác đã thấy qua (qua thầy giới thiệu việc tính giá nhà, các bài tập Machine Learning trên mạng,...).\n",
    "- Việc chọn laptop để dự đoán giá lấy cảm hứng từ chính bản thân khi đã từng phân vân trong việc chọn mẫu laptop để mua và chưa có những cơ sở đủ mạnh để đưa ra quyết định."
   ]
  },
  {
   "cell_type": "markdown",
   "metadata": {},
   "source": [
    "---"
   ]
  },
  {
   "cell_type": "markdown",
   "metadata": {},
   "source": [
    "# Tiền xử lý"
   ]
  },
  {
   "cell_type": "markdown",
   "metadata": {},
   "source": [
    "## Tách các tập"
   ]
  },
  {
   "cell_type": "code",
   "execution_count": 8,
   "metadata": {},
   "outputs": [],
   "source": [
    "# Tách X và y\n",
    "y_sr = data_df[\"price(USD)\"]\n",
    "X_df = data_df.drop(\"price(USD)\", axis=1)"
   ]
  },
  {
   "cell_type": "code",
   "execution_count": 9,
   "metadata": {},
   "outputs": [],
   "source": [
    "# Tách từ dữ liệu ra tập test theo tỉ lệ 50%:50%\n",
    "X_df, test_X_df, y_sr, test_y_sr = train_test_split(X_df, y_sr, test_size=0.5, random_state=0)\n",
    "# Từ 70% dữ liệu còn lại tách tập train và tập validation theo tỉ lệ 70%:30%\n",
    "train_X_df, val_X_df, train_y_sr, val_y_sr = train_test_split(X_df, y_sr, test_size=0.3, random_state=0)"
   ]
  },
  {
   "cell_type": "markdown",
   "metadata": {},
   "source": [
    "---"
   ]
  },
  {
   "cell_type": "markdown",
   "metadata": {},
   "source": [
    "## Khám phá dữ liệu (tập huấn luyện)"
   ]
  },
  {
   "cell_type": "code",
   "execution_count": 10,
   "metadata": {},
   "outputs": [
    {
     "data": {
      "text/plain": [
       "producer                         object\n",
       "processor prod                   object\n",
       "processor model                  object\n",
       "cores                             int64\n",
       "core base speed (GHz)           float64\n",
       "core boost speed (GHz)          float64\n",
       "ram type                         object\n",
       "ram cap (GB)                      int64\n",
       "ssd (GB)                          int64\n",
       "hdd (GB)                          int64\n",
       "gpu prod                         object\n",
       "gpu size (MB)                     int64\n",
       "gpu base speed (GHz)              int64\n",
       "gpu boost speed (GHz)             int64\n",
       "screen type                      object\n",
       "screen size (inch)              float64\n",
       "screen horizontal resolution      int64\n",
       "screen vertical resolution        int64\n",
       "sRGB (%)                          int64\n",
       "weight (kg)                     float64\n",
       "os                               object\n",
       "battery capacity (WHr)          float64\n",
       "dtype: object"
      ]
     },
     "execution_count": 10,
     "metadata": {},
     "output_type": "execute_result"
    }
   ],
   "source": [
    "# Xem kiểu dữ liệu của các cột\n",
    "train_X_df.dtypes"
   ]
  },
  {
   "cell_type": "markdown",
   "metadata": {},
   "source": [
    "Các cột đều có kiểu dữ liệu phù hợp."
   ]
  },
  {
   "cell_type": "markdown",
   "metadata": {},
   "source": [
    "##### Xét sự phân bố giá trị của các thuộc tính dạng số"
   ]
  },
  {
   "cell_type": "code",
   "execution_count": 11,
   "metadata": {},
   "outputs": [
    {
     "data": {
      "text/html": [
       "<div>\n",
       "<style scoped>\n",
       "    .dataframe tbody tr th:only-of-type {\n",
       "        vertical-align: middle;\n",
       "    }\n",
       "\n",
       "    .dataframe tbody tr th {\n",
       "        vertical-align: top;\n",
       "    }\n",
       "\n",
       "    .dataframe thead th {\n",
       "        text-align: right;\n",
       "    }\n",
       "</style>\n",
       "<table border=\"1\" class=\"dataframe\">\n",
       "  <thead>\n",
       "    <tr style=\"text-align: right;\">\n",
       "      <th></th>\n",
       "      <th>cores</th>\n",
       "      <th>core base speed (GHz)</th>\n",
       "      <th>core boost speed (GHz)</th>\n",
       "      <th>ram cap (GB)</th>\n",
       "      <th>ssd (GB)</th>\n",
       "      <th>hdd (GB)</th>\n",
       "      <th>gpu size (MB)</th>\n",
       "      <th>gpu base speed (GHz)</th>\n",
       "      <th>gpu boost speed (GHz)</th>\n",
       "      <th>screen size (inch)</th>\n",
       "      <th>screen horizontal resolution</th>\n",
       "      <th>screen vertical resolution</th>\n",
       "      <th>sRGB (%)</th>\n",
       "      <th>weight (kg)</th>\n",
       "      <th>battery capacity (WHr)</th>\n",
       "    </tr>\n",
       "  </thead>\n",
       "  <tbody>\n",
       "    <tr>\n",
       "      <th>missing_ratio</th>\n",
       "      <td>0.0</td>\n",
       "      <td>0.0</td>\n",
       "      <td>0.0</td>\n",
       "      <td>0.0</td>\n",
       "      <td>0.0</td>\n",
       "      <td>0.0</td>\n",
       "      <td>0.0</td>\n",
       "      <td>0.0</td>\n",
       "      <td>0.0</td>\n",
       "      <td>0.0</td>\n",
       "      <td>0.0</td>\n",
       "      <td>0.0</td>\n",
       "      <td>0.0</td>\n",
       "      <td>0.00</td>\n",
       "      <td>0.0</td>\n",
       "    </tr>\n",
       "    <tr>\n",
       "      <th>min</th>\n",
       "      <td>2.0</td>\n",
       "      <td>1.0</td>\n",
       "      <td>3.0</td>\n",
       "      <td>4.0</td>\n",
       "      <td>0.0</td>\n",
       "      <td>0.0</td>\n",
       "      <td>128.0</td>\n",
       "      <td>200.0</td>\n",
       "      <td>500.0</td>\n",
       "      <td>12.3</td>\n",
       "      <td>1366.0</td>\n",
       "      <td>768.0</td>\n",
       "      <td>0.0</td>\n",
       "      <td>0.85</td>\n",
       "      <td>30.0</td>\n",
       "    </tr>\n",
       "    <tr>\n",
       "      <th>lower_quartile</th>\n",
       "      <td>4.0</td>\n",
       "      <td>1.6</td>\n",
       "      <td>3.9</td>\n",
       "      <td>8.0</td>\n",
       "      <td>0.0</td>\n",
       "      <td>256.0</td>\n",
       "      <td>1700.0</td>\n",
       "      <td>300.0</td>\n",
       "      <td>1100.0</td>\n",
       "      <td>14.0</td>\n",
       "      <td>1920.0</td>\n",
       "      <td>1080.0</td>\n",
       "      <td>60.0</td>\n",
       "      <td>1.40</td>\n",
       "      <td>45.0</td>\n",
       "    </tr>\n",
       "    <tr>\n",
       "      <th>median</th>\n",
       "      <td>4.0</td>\n",
       "      <td>2.1</td>\n",
       "      <td>4.2</td>\n",
       "      <td>8.0</td>\n",
       "      <td>0.0</td>\n",
       "      <td>256.0</td>\n",
       "      <td>2048.0</td>\n",
       "      <td>400.0</td>\n",
       "      <td>1170.0</td>\n",
       "      <td>15.6</td>\n",
       "      <td>1920.0</td>\n",
       "      <td>1080.0</td>\n",
       "      <td>90.0</td>\n",
       "      <td>1.80</td>\n",
       "      <td>52.5</td>\n",
       "    </tr>\n",
       "    <tr>\n",
       "      <th>upper_quartile</th>\n",
       "      <td>6.0</td>\n",
       "      <td>2.6</td>\n",
       "      <td>4.5</td>\n",
       "      <td>16.0</td>\n",
       "      <td>0.0</td>\n",
       "      <td>512.0</td>\n",
       "      <td>6144.0</td>\n",
       "      <td>1100.0</td>\n",
       "      <td>1442.0</td>\n",
       "      <td>15.6</td>\n",
       "      <td>1920.0</td>\n",
       "      <td>1080.0</td>\n",
       "      <td>100.0</td>\n",
       "      <td>2.10</td>\n",
       "      <td>66.0</td>\n",
       "    </tr>\n",
       "    <tr>\n",
       "      <th>max</th>\n",
       "      <td>8.0</td>\n",
       "      <td>3.0</td>\n",
       "      <td>5.1</td>\n",
       "      <td>128.0</td>\n",
       "      <td>2000.0</td>\n",
       "      <td>6144.0</td>\n",
       "      <td>16384.0</td>\n",
       "      <td>1531.0</td>\n",
       "      <td>1725.0</td>\n",
       "      <td>17.3</td>\n",
       "      <td>3840.0</td>\n",
       "      <td>2400.0</td>\n",
       "      <td>100.0</td>\n",
       "      <td>4.70</td>\n",
       "      <td>100.0</td>\n",
       "    </tr>\n",
       "  </tbody>\n",
       "</table>\n",
       "</div>"
      ],
      "text/plain": [
       "                cores  core base speed (GHz)  core boost speed (GHz)  \\\n",
       "missing_ratio     0.0                    0.0                     0.0   \n",
       "min               2.0                    1.0                     3.0   \n",
       "lower_quartile    4.0                    1.6                     3.9   \n",
       "median            4.0                    2.1                     4.2   \n",
       "upper_quartile    6.0                    2.6                     4.5   \n",
       "max               8.0                    3.0                     5.1   \n",
       "\n",
       "                ram cap (GB)  ssd (GB)  hdd (GB)  gpu size (MB)  \\\n",
       "missing_ratio            0.0       0.0       0.0            0.0   \n",
       "min                      4.0       0.0       0.0          128.0   \n",
       "lower_quartile           8.0       0.0     256.0         1700.0   \n",
       "median                   8.0       0.0     256.0         2048.0   \n",
       "upper_quartile          16.0       0.0     512.0         6144.0   \n",
       "max                    128.0    2000.0    6144.0        16384.0   \n",
       "\n",
       "                gpu base speed (GHz)  gpu boost speed (GHz)  \\\n",
       "missing_ratio                    0.0                    0.0   \n",
       "min                            200.0                  500.0   \n",
       "lower_quartile                 300.0                 1100.0   \n",
       "median                         400.0                 1170.0   \n",
       "upper_quartile                1100.0                 1442.0   \n",
       "max                           1531.0                 1725.0   \n",
       "\n",
       "                screen size (inch)  screen horizontal resolution  \\\n",
       "missing_ratio                  0.0                           0.0   \n",
       "min                           12.3                        1366.0   \n",
       "lower_quartile                14.0                        1920.0   \n",
       "median                        15.6                        1920.0   \n",
       "upper_quartile                15.6                        1920.0   \n",
       "max                           17.3                        3840.0   \n",
       "\n",
       "                screen vertical resolution  sRGB (%)  weight (kg)  \\\n",
       "missing_ratio                          0.0       0.0         0.00   \n",
       "min                                  768.0       0.0         0.85   \n",
       "lower_quartile                      1080.0      60.0         1.40   \n",
       "median                              1080.0      90.0         1.80   \n",
       "upper_quartile                      1080.0     100.0         2.10   \n",
       "max                                 2400.0     100.0         4.70   \n",
       "\n",
       "                battery capacity (WHr)  \n",
       "missing_ratio                      0.0  \n",
       "min                               30.0  \n",
       "lower_quartile                    45.0  \n",
       "median                            52.5  \n",
       "upper_quartile                    66.0  \n",
       "max                              100.0  "
      ]
     },
     "execution_count": 11,
     "metadata": {},
     "output_type": "execute_result"
    }
   ],
   "source": [
    "num_cols = ['cores',\n",
    "            'core base speed (GHz)', \n",
    "            'core boost speed (GHz)',\n",
    "            'ram cap (GB)',\n",
    "            'ssd (GB)', 'hdd (GB)', \n",
    "            'gpu size (MB)', \n",
    "            'gpu base speed (GHz)',\n",
    "            'gpu boost speed (GHz)',\n",
    "            'screen size (inch)',\n",
    "            'screen horizontal resolution',\n",
    "            'screen vertical resolution',\n",
    "            'sRGB (%)',\n",
    "            'weight (kg)',\n",
    "            'battery capacity (WHr)']\n",
    "\n",
    "df = train_X_df[num_cols]\n",
    "def missing_ratio(df):\n",
    "    return (df.isna().mean() * 100).round(1)\n",
    "def lower_quartile(df):\n",
    "    return df.quantile(0.25).round(1)\n",
    "def median(df):\n",
    "    return df.quantile(0.5).round(1)\n",
    "def upper_quartile(df):\n",
    "    return df.quantile(0.75).round(1)\n",
    "df.agg([missing_ratio, 'min', lower_quartile, median, upper_quartile, 'max'])"
   ]
  },
  {
   "cell_type": "markdown",
   "metadata": {},
   "source": [
    "##### Xét sự phân bố giá trị của các thuộc tính không phải dạng số"
   ]
  },
  {
   "cell_type": "code",
   "execution_count": 12,
   "metadata": {},
   "outputs": [
    {
     "data": {
      "text/html": [
       "<div>\n",
       "<style scoped>\n",
       "    .dataframe tbody tr th:only-of-type {\n",
       "        vertical-align: middle;\n",
       "    }\n",
       "\n",
       "    .dataframe tbody tr th {\n",
       "        vertical-align: top;\n",
       "    }\n",
       "\n",
       "    .dataframe thead th {\n",
       "        text-align: right;\n",
       "    }\n",
       "</style>\n",
       "<table border=\"1\" class=\"dataframe\">\n",
       "  <thead>\n",
       "    <tr style=\"text-align: right;\">\n",
       "      <th></th>\n",
       "      <th>processor prod</th>\n",
       "      <th>processor model</th>\n",
       "      <th>ram type</th>\n",
       "      <th>screen type</th>\n",
       "      <th>producer</th>\n",
       "      <th>gpu prod</th>\n",
       "      <th>os</th>\n",
       "    </tr>\n",
       "  </thead>\n",
       "  <tbody>\n",
       "    <tr>\n",
       "      <th>missing_ratio</th>\n",
       "      <td>0</td>\n",
       "      <td>0</td>\n",
       "      <td>0</td>\n",
       "      <td>0</td>\n",
       "      <td>0</td>\n",
       "      <td>0</td>\n",
       "      <td>0</td>\n",
       "    </tr>\n",
       "    <tr>\n",
       "      <th>num_values</th>\n",
       "      <td>2</td>\n",
       "      <td>6</td>\n",
       "      <td>2</td>\n",
       "      <td>4</td>\n",
       "      <td>6</td>\n",
       "      <td>3</td>\n",
       "      <td>6</td>\n",
       "    </tr>\n",
       "    <tr>\n",
       "      <th>value_ratios</th>\n",
       "      <td>{'intel': 86.4, 'amd': 13.6}</td>\n",
       "      <td>{'i7': 42.5, 'i5': 37.5, 'ryzen5': 9.6, 'i3': 6.4, 'ryzen3': 2.1, 'ryzen7': 1.8}</td>\n",
       "      <td>{'ddr4': 96.4, 'ddr3': 3.6}</td>\n",
       "      <td>{'led ips': 88.2, 'led tn': 10.0, 'oled': 1.4, 'led tn wva': 0.4}</td>\n",
       "      <td>{'lenovo': 28.2, 'dell': 21.1, 'asus': 20.7, 'hp': 19.6, 'acer': 8.9, 'apple': 1.4}</td>\n",
       "      <td>{'intel': 53.2, 'nvidia': 33.9, 'amd': 12.9}</td>\n",
       "      <td>{'windows home 10.00': 62.1, 'windows pro 10.00': 32.5, 'linux ubuntu 0.00': 2.5, 'macos  11.00': 1.4, 'no os  0.00': 1.1, 'chrome os  0.00': 0.4}</td>\n",
       "    </tr>\n",
       "  </tbody>\n",
       "</table>\n",
       "</div>"
      ],
      "text/plain": [
       "                             processor prod  \\\n",
       "missing_ratio                             0   \n",
       "num_values                                2   \n",
       "value_ratios   {'intel': 86.4, 'amd': 13.6}   \n",
       "\n",
       "                                                                                processor model  \\\n",
       "missing_ratio                                                                                 0   \n",
       "num_values                                                                                    6   \n",
       "value_ratios   {'i7': 42.5, 'i5': 37.5, 'ryzen5': 9.6, 'i3': 6.4, 'ryzen3': 2.1, 'ryzen7': 1.8}   \n",
       "\n",
       "                                  ram type  \\\n",
       "missing_ratio                            0   \n",
       "num_values                               2   \n",
       "value_ratios   {'ddr4': 96.4, 'ddr3': 3.6}   \n",
       "\n",
       "                                                                     screen type  \\\n",
       "missing_ratio                                                                  0   \n",
       "num_values                                                                     4   \n",
       "value_ratios   {'led ips': 88.2, 'led tn': 10.0, 'oled': 1.4, 'led tn wva': 0.4}   \n",
       "\n",
       "                                                                                          producer  \\\n",
       "missing_ratio                                                                                    0   \n",
       "num_values                                                                                       6   \n",
       "value_ratios   {'lenovo': 28.2, 'dell': 21.1, 'asus': 20.7, 'hp': 19.6, 'acer': 8.9, 'apple': 1.4}   \n",
       "\n",
       "                                                   gpu prod  \\\n",
       "missing_ratio                                             0   \n",
       "num_values                                                3   \n",
       "value_ratios   {'intel': 53.2, 'nvidia': 33.9, 'amd': 12.9}   \n",
       "\n",
       "                                                                                                                                                               os  \n",
       "missing_ratio                                                                                                                                                   0  \n",
       "num_values                                                                                                                                                      6  \n",
       "value_ratios   {'windows home 10.00': 62.1, 'windows pro 10.00': 32.5, 'linux ubuntu 0.00': 2.5, 'macos  11.00': 1.4, 'no os  0.00': 1.1, 'chrome os  0.00': 0.4}  "
      ]
     },
     "execution_count": 12,
     "metadata": {},
     "output_type": "execute_result"
    }
   ],
   "source": [
    "pd.set_option('display.max_colwidth', 200) # Để nhìn rõ hơn\n",
    "cat_cols = list(set(train_X_df.columns) - set(num_cols))\n",
    "df = train_X_df[cat_cols]\n",
    "def missing_ratio(df):\n",
    "    return (df.isna().mean() * 100).round(1)\n",
    "def num_values(df):\n",
    "    return df.nunique()\n",
    "def value_ratios(c):\n",
    "    return dict((c.value_counts(normalize=True) * 100).round(1))\n",
    "df.agg([missing_ratio, num_values, value_ratios])"
   ]
  },
  {
   "cell_type": "markdown",
   "metadata": {},
   "source": [
    "##### Xét sự phân bố giá trị của Output"
   ]
  },
  {
   "cell_type": "code",
   "execution_count": 13,
   "metadata": {},
   "outputs": [
    {
     "data": {
      "text/plain": [
       "missing_ratio        0.0\n",
       "min                319.0\n",
       "lower_quartile     750.5\n",
       "median            1000.0\n",
       "upper_quartile    1399.6\n",
       "max               4300.0\n",
       "Name: price(USD), dtype: float64"
      ]
     },
     "execution_count": 13,
     "metadata": {},
     "output_type": "execute_result"
    }
   ],
   "source": [
    "train_y_sr.agg([missing_ratio, 'min', lower_quartile, median, upper_quartile, 'max'])"
   ]
  },
  {
   "cell_type": "markdown",
   "metadata": {},
   "source": [
    "Kết luận: Có vẻ là không có gì bất thường."
   ]
  },
  {
   "cell_type": "markdown",
   "metadata": {},
   "source": [
    "## Tiền xử lý (tập huấn luyện)"
   ]
  },
  {
   "cell_type": "markdown",
   "metadata": {},
   "source": [
    "Các bước tiền xử lý đầu tiền (tách, xóa cột):\n",
    "- Tách `processor model` ra thành 2 cột: 1 cột gồm các processor của intel, 1 cột gồm các processor của amd; do cách tách này nên cột `processor prod` không còn cần thiết nữa. Vì muốn chuyển cột `processor model` thành thuộc tính dạng số có **thứ tự** mà các giá trị gồm các dòng chip của 2 nhà sản xuất khác nhau nên việc sắp thứ tự chung với nhau là điều không hợp lý => tách ra thành 2 cột của từng nhà sản xuất rồi mới đánh thứ tự với từng cột \n",
    "- 2 cột `producer` và `os` có nhiều giá trị khác nhau nên sẽ chọn các giá trị xuất hiện nhiều nhất theo `num_top_producer` và `num_top_os` các giá trị khác được thay bằng giá trị \"others\".\n",
    "- Do đã chọn thuộc tính từ trước ở bước thu thập dữ liệu nên không có thuộc tính nào không cần thiết"
   ]
  },
  {
   "cell_type": "code",
   "execution_count": 14,
   "metadata": {},
   "outputs": [
    {
     "data": {
      "text/html": [
       "<div>\n",
       "<style scoped>\n",
       "    .dataframe tbody tr th:only-of-type {\n",
       "        vertical-align: middle;\n",
       "    }\n",
       "\n",
       "    .dataframe tbody tr th {\n",
       "        vertical-align: top;\n",
       "    }\n",
       "\n",
       "    .dataframe thead th {\n",
       "        text-align: right;\n",
       "    }\n",
       "</style>\n",
       "<table border=\"1\" class=\"dataframe\">\n",
       "  <thead>\n",
       "    <tr style=\"text-align: right;\">\n",
       "      <th></th>\n",
       "      <th>producer</th>\n",
       "      <th>processor prod</th>\n",
       "      <th>processor model</th>\n",
       "      <th>cores</th>\n",
       "      <th>core base speed (GHz)</th>\n",
       "      <th>core boost speed (GHz)</th>\n",
       "      <th>ram type</th>\n",
       "      <th>ram cap (GB)</th>\n",
       "      <th>ssd (GB)</th>\n",
       "      <th>hdd (GB)</th>\n",
       "      <th>...</th>\n",
       "      <th>gpu base speed (GHz)</th>\n",
       "      <th>gpu boost speed (GHz)</th>\n",
       "      <th>screen type</th>\n",
       "      <th>screen size (inch)</th>\n",
       "      <th>screen horizontal resolution</th>\n",
       "      <th>screen vertical resolution</th>\n",
       "      <th>sRGB (%)</th>\n",
       "      <th>weight (kg)</th>\n",
       "      <th>os</th>\n",
       "      <th>battery capacity (WHr)</th>\n",
       "    </tr>\n",
       "  </thead>\n",
       "  <tbody>\n",
       "    <tr>\n",
       "      <th>495</th>\n",
       "      <td>hp</td>\n",
       "      <td>intel</td>\n",
       "      <td>i7</td>\n",
       "      <td>4</td>\n",
       "      <td>1.8</td>\n",
       "      <td>4.6</td>\n",
       "      <td>ddr4</td>\n",
       "      <td>8</td>\n",
       "      <td>0</td>\n",
       "      <td>256</td>\n",
       "      <td>...</td>\n",
       "      <td>300</td>\n",
       "      <td>1150</td>\n",
       "      <td>led tn</td>\n",
       "      <td>17.3</td>\n",
       "      <td>1600</td>\n",
       "      <td>900</td>\n",
       "      <td>80</td>\n",
       "      <td>2.45</td>\n",
       "      <td>windows home 10.00</td>\n",
       "      <td>41.0</td>\n",
       "    </tr>\n",
       "    <tr>\n",
       "      <th>73</th>\n",
       "      <td>acer</td>\n",
       "      <td>intel</td>\n",
       "      <td>i7</td>\n",
       "      <td>6</td>\n",
       "      <td>2.6</td>\n",
       "      <td>4.5</td>\n",
       "      <td>ddr4</td>\n",
       "      <td>32</td>\n",
       "      <td>0</td>\n",
       "      <td>1024</td>\n",
       "      <td>...</td>\n",
       "      <td>1380</td>\n",
       "      <td>1590</td>\n",
       "      <td>led ips</td>\n",
       "      <td>17.3</td>\n",
       "      <td>3840</td>\n",
       "      <td>2160</td>\n",
       "      <td>100</td>\n",
       "      <td>4.50</td>\n",
       "      <td>windows pro 10.00</td>\n",
       "      <td>72.0</td>\n",
       "    </tr>\n",
       "    <tr>\n",
       "      <th>39</th>\n",
       "      <td>acer</td>\n",
       "      <td>intel</td>\n",
       "      <td>i5</td>\n",
       "      <td>4</td>\n",
       "      <td>1.1</td>\n",
       "      <td>3.7</td>\n",
       "      <td>ddr4</td>\n",
       "      <td>16</td>\n",
       "      <td>0</td>\n",
       "      <td>512</td>\n",
       "      <td>...</td>\n",
       "      <td>300</td>\n",
       "      <td>1050</td>\n",
       "      <td>led ips</td>\n",
       "      <td>13.5</td>\n",
       "      <td>2256</td>\n",
       "      <td>1504</td>\n",
       "      <td>90</td>\n",
       "      <td>1.20</td>\n",
       "      <td>windows home 10.00</td>\n",
       "      <td>56.0</td>\n",
       "    </tr>\n",
       "    <tr>\n",
       "      <th>541</th>\n",
       "      <td>hp</td>\n",
       "      <td>intel</td>\n",
       "      <td>i7</td>\n",
       "      <td>4</td>\n",
       "      <td>1.8</td>\n",
       "      <td>4.9</td>\n",
       "      <td>ddr4</td>\n",
       "      <td>16</td>\n",
       "      <td>0</td>\n",
       "      <td>512</td>\n",
       "      <td>...</td>\n",
       "      <td>1519</td>\n",
       "      <td>1582</td>\n",
       "      <td>led ips</td>\n",
       "      <td>15.6</td>\n",
       "      <td>3840</td>\n",
       "      <td>2160</td>\n",
       "      <td>90</td>\n",
       "      <td>2.18</td>\n",
       "      <td>windows home 10.00</td>\n",
       "      <td>84.0</td>\n",
       "    </tr>\n",
       "    <tr>\n",
       "      <th>600</th>\n",
       "      <td>lenovo</td>\n",
       "      <td>intel</td>\n",
       "      <td>i5</td>\n",
       "      <td>4</td>\n",
       "      <td>1.0</td>\n",
       "      <td>3.6</td>\n",
       "      <td>ddr4</td>\n",
       "      <td>8</td>\n",
       "      <td>0</td>\n",
       "      <td>256</td>\n",
       "      <td>...</td>\n",
       "      <td>300</td>\n",
       "      <td>1050</td>\n",
       "      <td>led ips</td>\n",
       "      <td>14.0</td>\n",
       "      <td>1920</td>\n",
       "      <td>1080</td>\n",
       "      <td>60</td>\n",
       "      <td>1.50</td>\n",
       "      <td>windows home 10.00</td>\n",
       "      <td>57.0</td>\n",
       "    </tr>\n",
       "  </tbody>\n",
       "</table>\n",
       "<p>5 rows × 22 columns</p>\n",
       "</div>"
      ],
      "text/plain": [
       "    producer processor prod processor model  cores  core base speed (GHz)  \\\n",
       "495       hp          intel              i7      4                    1.8   \n",
       "73      acer          intel              i7      6                    2.6   \n",
       "39      acer          intel              i5      4                    1.1   \n",
       "541       hp          intel              i7      4                    1.8   \n",
       "600   lenovo          intel              i5      4                    1.0   \n",
       "\n",
       "     core boost speed (GHz) ram type  ram cap (GB)  ssd (GB)  hdd (GB)  ...  \\\n",
       "495                     4.6     ddr4             8         0       256  ...   \n",
       "73                      4.5     ddr4            32         0      1024  ...   \n",
       "39                      3.7     ddr4            16         0       512  ...   \n",
       "541                     4.9     ddr4            16         0       512  ...   \n",
       "600                     3.6     ddr4             8         0       256  ...   \n",
       "\n",
       "    gpu base speed (GHz)  gpu boost speed (GHz)  screen type  \\\n",
       "495                  300                   1150       led tn   \n",
       "73                  1380                   1590      led ips   \n",
       "39                   300                   1050      led ips   \n",
       "541                 1519                   1582      led ips   \n",
       "600                  300                   1050      led ips   \n",
       "\n",
       "     screen size (inch) screen horizontal resolution  \\\n",
       "495                17.3                         1600   \n",
       "73                 17.3                         3840   \n",
       "39                 13.5                         2256   \n",
       "541                15.6                         3840   \n",
       "600                14.0                         1920   \n",
       "\n",
       "     screen vertical resolution  sRGB (%)  weight (kg)                  os  \\\n",
       "495                         900        80         2.45  windows home 10.00   \n",
       "73                         2160       100         4.50   windows pro 10.00   \n",
       "39                         1504        90         1.20  windows home 10.00   \n",
       "541                        2160        90         2.18  windows home 10.00   \n",
       "600                        1080        60         1.50  windows home 10.00   \n",
       "\n",
       "     battery capacity (WHr)  \n",
       "495                    41.0  \n",
       "73                     72.0  \n",
       "39                     56.0  \n",
       "541                    84.0  \n",
       "600                    57.0  \n",
       "\n",
       "[5 rows x 22 columns]"
      ]
     },
     "execution_count": 14,
     "metadata": {},
     "output_type": "execute_result"
    }
   ],
   "source": [
    "train_X_df.head()"
   ]
  },
  {
   "cell_type": "code",
   "execution_count": 15,
   "metadata": {},
   "outputs": [],
   "source": [
    "# Hàm định nghĩa transformer tách giá trị của thuộc tính processor_model thành 2 cột: \n",
    "# - 1 cột gồm các processor của intel\n",
    "# - 1 cột gồm các processor của amd\n",
    "# Và chuyển về dạng số bằng phương pháp ranking\n",
    "# Đồng thời xóa 2 cột \"processor prod\" và \"processor model\"\n",
    "def split_processor_model(X):\n",
    "    intel_processor_rank = {'i3': 1,\n",
    "                            'i5': 2,\n",
    "                            'i7': 3,\n",
    "                            'ryzen3': 0,\n",
    "                            'ryzen5': 0,\n",
    "                            'ryzen7': 0}\n",
    "    intel_processor_model = X['processor model'].replace(intel_processor_rank)\n",
    "\n",
    "\n",
    "    amd_processor_rank = {'i3': 0,\n",
    "                          'i5': 0,\n",
    "                          'i7': 0,\n",
    "                          'ryzen3': 1,\n",
    "                          'ryzen5': 2,\n",
    "                          'ryzen7': 3}\n",
    "    amd_processor_model = X['processor model'].replace(amd_processor_rank)\n",
    "    \n",
    "    return X.assign(intel_processor_model=intel_processor_model, amd_processor_model=amd_processor_model).drop([\"processor prod\", \"processor model\"], axis=1)"
   ]
  },
  {
   "cell_type": "code",
   "execution_count": 16,
   "metadata": {},
   "outputs": [
    {
     "data": {
      "text/html": [
       "<div>\n",
       "<style scoped>\n",
       "    .dataframe tbody tr th:only-of-type {\n",
       "        vertical-align: middle;\n",
       "    }\n",
       "\n",
       "    .dataframe tbody tr th {\n",
       "        vertical-align: top;\n",
       "    }\n",
       "\n",
       "    .dataframe thead th {\n",
       "        text-align: right;\n",
       "    }\n",
       "</style>\n",
       "<table border=\"1\" class=\"dataframe\">\n",
       "  <thead>\n",
       "    <tr style=\"text-align: right;\">\n",
       "      <th></th>\n",
       "      <th>producer</th>\n",
       "      <th>cores</th>\n",
       "      <th>core base speed (GHz)</th>\n",
       "      <th>core boost speed (GHz)</th>\n",
       "      <th>ram type</th>\n",
       "      <th>ram cap (GB)</th>\n",
       "      <th>ssd (GB)</th>\n",
       "      <th>hdd (GB)</th>\n",
       "      <th>gpu prod</th>\n",
       "      <th>gpu size (MB)</th>\n",
       "      <th>...</th>\n",
       "      <th>screen type</th>\n",
       "      <th>screen size (inch)</th>\n",
       "      <th>screen horizontal resolution</th>\n",
       "      <th>screen vertical resolution</th>\n",
       "      <th>sRGB (%)</th>\n",
       "      <th>weight (kg)</th>\n",
       "      <th>os</th>\n",
       "      <th>battery capacity (WHr)</th>\n",
       "      <th>intel_processor_model</th>\n",
       "      <th>amd_processor_model</th>\n",
       "    </tr>\n",
       "  </thead>\n",
       "  <tbody>\n",
       "    <tr>\n",
       "      <th>495</th>\n",
       "      <td>hp</td>\n",
       "      <td>4</td>\n",
       "      <td>1.8</td>\n",
       "      <td>4.6</td>\n",
       "      <td>ddr4</td>\n",
       "      <td>8</td>\n",
       "      <td>0</td>\n",
       "      <td>256</td>\n",
       "      <td>intel</td>\n",
       "      <td>1700</td>\n",
       "      <td>...</td>\n",
       "      <td>led tn</td>\n",
       "      <td>17.3</td>\n",
       "      <td>1600</td>\n",
       "      <td>900</td>\n",
       "      <td>80</td>\n",
       "      <td>2.45</td>\n",
       "      <td>windows home 10.00</td>\n",
       "      <td>41.0</td>\n",
       "      <td>3</td>\n",
       "      <td>0</td>\n",
       "    </tr>\n",
       "    <tr>\n",
       "      <th>73</th>\n",
       "      <td>acer</td>\n",
       "      <td>6</td>\n",
       "      <td>2.6</td>\n",
       "      <td>4.5</td>\n",
       "      <td>ddr4</td>\n",
       "      <td>32</td>\n",
       "      <td>0</td>\n",
       "      <td>1024</td>\n",
       "      <td>nvidia</td>\n",
       "      <td>8192</td>\n",
       "      <td>...</td>\n",
       "      <td>led ips</td>\n",
       "      <td>17.3</td>\n",
       "      <td>3840</td>\n",
       "      <td>2160</td>\n",
       "      <td>100</td>\n",
       "      <td>4.50</td>\n",
       "      <td>windows pro 10.00</td>\n",
       "      <td>72.0</td>\n",
       "      <td>3</td>\n",
       "      <td>0</td>\n",
       "    </tr>\n",
       "    <tr>\n",
       "      <th>39</th>\n",
       "      <td>acer</td>\n",
       "      <td>4</td>\n",
       "      <td>1.1</td>\n",
       "      <td>3.7</td>\n",
       "      <td>ddr4</td>\n",
       "      <td>16</td>\n",
       "      <td>0</td>\n",
       "      <td>512</td>\n",
       "      <td>intel</td>\n",
       "      <td>8192</td>\n",
       "      <td>...</td>\n",
       "      <td>led ips</td>\n",
       "      <td>13.5</td>\n",
       "      <td>2256</td>\n",
       "      <td>1504</td>\n",
       "      <td>90</td>\n",
       "      <td>1.20</td>\n",
       "      <td>windows home 10.00</td>\n",
       "      <td>56.0</td>\n",
       "      <td>2</td>\n",
       "      <td>0</td>\n",
       "    </tr>\n",
       "    <tr>\n",
       "      <th>541</th>\n",
       "      <td>hp</td>\n",
       "      <td>4</td>\n",
       "      <td>1.8</td>\n",
       "      <td>4.9</td>\n",
       "      <td>ddr4</td>\n",
       "      <td>16</td>\n",
       "      <td>0</td>\n",
       "      <td>512</td>\n",
       "      <td>nvidia</td>\n",
       "      <td>2048</td>\n",
       "      <td>...</td>\n",
       "      <td>led ips</td>\n",
       "      <td>15.6</td>\n",
       "      <td>3840</td>\n",
       "      <td>2160</td>\n",
       "      <td>90</td>\n",
       "      <td>2.18</td>\n",
       "      <td>windows home 10.00</td>\n",
       "      <td>84.0</td>\n",
       "      <td>3</td>\n",
       "      <td>0</td>\n",
       "    </tr>\n",
       "    <tr>\n",
       "      <th>600</th>\n",
       "      <td>lenovo</td>\n",
       "      <td>4</td>\n",
       "      <td>1.0</td>\n",
       "      <td>3.6</td>\n",
       "      <td>ddr4</td>\n",
       "      <td>8</td>\n",
       "      <td>0</td>\n",
       "      <td>256</td>\n",
       "      <td>intel</td>\n",
       "      <td>8192</td>\n",
       "      <td>...</td>\n",
       "      <td>led ips</td>\n",
       "      <td>14.0</td>\n",
       "      <td>1920</td>\n",
       "      <td>1080</td>\n",
       "      <td>60</td>\n",
       "      <td>1.50</td>\n",
       "      <td>windows home 10.00</td>\n",
       "      <td>57.0</td>\n",
       "      <td>2</td>\n",
       "      <td>0</td>\n",
       "    </tr>\n",
       "  </tbody>\n",
       "</table>\n",
       "<p>5 rows × 22 columns</p>\n",
       "</div>"
      ],
      "text/plain": [
       "    producer  cores  core base speed (GHz)  core boost speed (GHz) ram type  \\\n",
       "495       hp      4                    1.8                     4.6     ddr4   \n",
       "73      acer      6                    2.6                     4.5     ddr4   \n",
       "39      acer      4                    1.1                     3.7     ddr4   \n",
       "541       hp      4                    1.8                     4.9     ddr4   \n",
       "600   lenovo      4                    1.0                     3.6     ddr4   \n",
       "\n",
       "     ram cap (GB)  ssd (GB)  hdd (GB) gpu prod  gpu size (MB)  ...  \\\n",
       "495             8         0       256    intel           1700  ...   \n",
       "73             32         0      1024   nvidia           8192  ...   \n",
       "39             16         0       512    intel           8192  ...   \n",
       "541            16         0       512   nvidia           2048  ...   \n",
       "600             8         0       256    intel           8192  ...   \n",
       "\n",
       "     screen type  screen size (inch) screen horizontal resolution  \\\n",
       "495       led tn                17.3                         1600   \n",
       "73       led ips                17.3                         3840   \n",
       "39       led ips                13.5                         2256   \n",
       "541      led ips                15.6                         3840   \n",
       "600      led ips                14.0                         1920   \n",
       "\n",
       "     screen vertical resolution  sRGB (%)  weight (kg)                  os  \\\n",
       "495                         900        80         2.45  windows home 10.00   \n",
       "73                         2160       100         4.50   windows pro 10.00   \n",
       "39                         1504        90         1.20  windows home 10.00   \n",
       "541                        2160        90         2.18  windows home 10.00   \n",
       "600                        1080        60         1.50  windows home 10.00   \n",
       "\n",
       "     battery capacity (WHr) intel_processor_model  amd_processor_model  \n",
       "495                    41.0                     3                    0  \n",
       "73                     72.0                     3                    0  \n",
       "39                     56.0                     2                    0  \n",
       "541                    84.0                     3                    0  \n",
       "600                    57.0                     2                    0  \n",
       "\n",
       "[5 rows x 22 columns]"
      ]
     },
     "execution_count": 16,
     "metadata": {},
     "output_type": "execute_result"
    }
   ],
   "source": [
    "# TEST\n",
    "split_processor_model(train_X_df).head()"
   ]
  },
  {
   "cell_type": "code",
   "execution_count": 17,
   "metadata": {},
   "outputs": [],
   "source": [
    "# Hàm chọn các giá trị xuất hiện nhiều nhất theo \"num_top_producer\" đối với cột \"producer\" và \"num_top_os\" đối với cột \"os\"\n",
    "# và các giá trị khác được thay bằng giá trị \"others\"\n",
    "class ColAdderDropper(BaseEstimator, TransformerMixin):\n",
    "    def __init__(self, num_top_producers=1, num_top_os=1):\n",
    "        self.num_top_producers = num_top_producers\n",
    "        self.num_top_os = num_top_os\n",
    "    def fit(self, X_df, y=None):\n",
    "        producer_col = X_df.producer\n",
    "        self.producer_counts_ = producer_col.value_counts()\n",
    "        producers = list(self.producer_counts_.index)\n",
    "        self.top_producers_ = producers[:max(1, min(self.num_top_producers, len(producers)))]\n",
    "        \n",
    "        os_col = X_df.os\n",
    "        self.os_counts_ = os_col.value_counts()\n",
    "        os = list(self.os_counts_.index)\n",
    "        self.top_os_ = os[:max(1, min(self.num_top_os, len(os)))]\n",
    "        \n",
    "        return self\n",
    "    def transform(self, X_df, y=None):\n",
    "        X = X_df.copy()\n",
    "        X.loc[:, \"producer\"].replace(list(set(X.producer.unique())-set(self.top_producers_)), 'others', inplace=True)\n",
    "        X.loc[:, \"os\"].replace(list(set(X.os.unique())-set(self.top_os_)), 'others', inplace=True)\n",
    "        return X"
   ]
  },
  {
   "cell_type": "code",
   "execution_count": 18,
   "metadata": {},
   "outputs": [
    {
     "name": "stdout",
     "output_type": "stream",
     "text": [
      "lenovo    79\n",
      "dell      59\n",
      "asus      58\n",
      "hp        55\n",
      "acer      25\n",
      "apple      4\n",
      "Name: producer, dtype: int64\n",
      "\n",
      "['lenovo', 'dell', 'asus', 'hp']\n",
      "\n",
      "windows home 10.00    174\n",
      "windows pro 10.00      91\n",
      "linux ubuntu 0.00       7\n",
      "macos  11.00            4\n",
      "no os  0.00             3\n",
      "chrome os  0.00         1\n",
      "Name: os, dtype: int64\n",
      "\n",
      "['windows home 10.00', 'windows pro 10.00', 'linux ubuntu 0.00', 'macos  11.00']\n"
     ]
    }
   ],
   "source": [
    "# TEST\n",
    "col_adderdropper = ColAdderDropper(num_top_producers=4, num_top_os=4)\n",
    "col_adderdropper.fit(split_processor_model(train_X_df))\n",
    "print(col_adderdropper.producer_counts_)\n",
    "print()\n",
    "print(col_adderdropper.top_producers_)\n",
    "print()\n",
    "print(col_adderdropper.os_counts_)\n",
    "print()\n",
    "print(col_adderdropper.top_os_)"
   ]
  },
  {
   "cell_type": "code",
   "execution_count": 19,
   "metadata": {},
   "outputs": [],
   "source": [
    "fewer_cols_train_X_df = col_adderdropper.transform(split_processor_model(train_X_df))"
   ]
  },
  {
   "cell_type": "code",
   "execution_count": 20,
   "metadata": {},
   "outputs": [
    {
     "data": {
      "text/plain": [
       "array(['windows home 10.00', 'windows pro 10.00', 'linux ubuntu 0.00',\n",
       "       'macos  11.00', 'others'], dtype=object)"
      ]
     },
     "execution_count": 20,
     "metadata": {},
     "output_type": "execute_result"
    }
   ],
   "source": [
    "# Kiểm tra lại cột \"os\" đã xử lý đúng chưa\n",
    "fewer_cols_train_X_df.os.unique()"
   ]
  },
  {
   "cell_type": "code",
   "execution_count": 21,
   "metadata": {},
   "outputs": [
    {
     "data": {
      "text/plain": [
       "array(['hp', 'others', 'lenovo', 'dell', 'asus'], dtype=object)"
      ]
     },
     "execution_count": 21,
     "metadata": {},
     "output_type": "execute_result"
    }
   ],
   "source": [
    "# Kiểm tra lại cột \"producer\" đã xử lý đúng chưa\n",
    "fewer_cols_train_X_df.producer.unique()"
   ]
  },
  {
   "cell_type": "code",
   "execution_count": 22,
   "metadata": {},
   "outputs": [
    {
     "data": {
      "text/html": [
       "<div>\n",
       "<style scoped>\n",
       "    .dataframe tbody tr th:only-of-type {\n",
       "        vertical-align: middle;\n",
       "    }\n",
       "\n",
       "    .dataframe tbody tr th {\n",
       "        vertical-align: top;\n",
       "    }\n",
       "\n",
       "    .dataframe thead th {\n",
       "        text-align: right;\n",
       "    }\n",
       "</style>\n",
       "<table border=\"1\" class=\"dataframe\">\n",
       "  <thead>\n",
       "    <tr style=\"text-align: right;\">\n",
       "      <th></th>\n",
       "      <th>producer</th>\n",
       "      <th>cores</th>\n",
       "      <th>core base speed (GHz)</th>\n",
       "      <th>core boost speed (GHz)</th>\n",
       "      <th>ram type</th>\n",
       "      <th>ram cap (GB)</th>\n",
       "      <th>ssd (GB)</th>\n",
       "      <th>hdd (GB)</th>\n",
       "      <th>gpu prod</th>\n",
       "      <th>gpu size (MB)</th>\n",
       "      <th>...</th>\n",
       "      <th>screen type</th>\n",
       "      <th>screen size (inch)</th>\n",
       "      <th>screen horizontal resolution</th>\n",
       "      <th>screen vertical resolution</th>\n",
       "      <th>sRGB (%)</th>\n",
       "      <th>weight (kg)</th>\n",
       "      <th>os</th>\n",
       "      <th>battery capacity (WHr)</th>\n",
       "      <th>intel_processor_model</th>\n",
       "      <th>amd_processor_model</th>\n",
       "    </tr>\n",
       "  </thead>\n",
       "  <tbody>\n",
       "    <tr>\n",
       "      <th>495</th>\n",
       "      <td>hp</td>\n",
       "      <td>4</td>\n",
       "      <td>1.8</td>\n",
       "      <td>4.6</td>\n",
       "      <td>ddr4</td>\n",
       "      <td>8</td>\n",
       "      <td>0</td>\n",
       "      <td>256</td>\n",
       "      <td>intel</td>\n",
       "      <td>1700</td>\n",
       "      <td>...</td>\n",
       "      <td>led tn</td>\n",
       "      <td>17.3</td>\n",
       "      <td>1600</td>\n",
       "      <td>900</td>\n",
       "      <td>80</td>\n",
       "      <td>2.45</td>\n",
       "      <td>windows home 10.00</td>\n",
       "      <td>41.0</td>\n",
       "      <td>3</td>\n",
       "      <td>0</td>\n",
       "    </tr>\n",
       "    <tr>\n",
       "      <th>73</th>\n",
       "      <td>others</td>\n",
       "      <td>6</td>\n",
       "      <td>2.6</td>\n",
       "      <td>4.5</td>\n",
       "      <td>ddr4</td>\n",
       "      <td>32</td>\n",
       "      <td>0</td>\n",
       "      <td>1024</td>\n",
       "      <td>nvidia</td>\n",
       "      <td>8192</td>\n",
       "      <td>...</td>\n",
       "      <td>led ips</td>\n",
       "      <td>17.3</td>\n",
       "      <td>3840</td>\n",
       "      <td>2160</td>\n",
       "      <td>100</td>\n",
       "      <td>4.50</td>\n",
       "      <td>windows pro 10.00</td>\n",
       "      <td>72.0</td>\n",
       "      <td>3</td>\n",
       "      <td>0</td>\n",
       "    </tr>\n",
       "    <tr>\n",
       "      <th>39</th>\n",
       "      <td>others</td>\n",
       "      <td>4</td>\n",
       "      <td>1.1</td>\n",
       "      <td>3.7</td>\n",
       "      <td>ddr4</td>\n",
       "      <td>16</td>\n",
       "      <td>0</td>\n",
       "      <td>512</td>\n",
       "      <td>intel</td>\n",
       "      <td>8192</td>\n",
       "      <td>...</td>\n",
       "      <td>led ips</td>\n",
       "      <td>13.5</td>\n",
       "      <td>2256</td>\n",
       "      <td>1504</td>\n",
       "      <td>90</td>\n",
       "      <td>1.20</td>\n",
       "      <td>windows home 10.00</td>\n",
       "      <td>56.0</td>\n",
       "      <td>2</td>\n",
       "      <td>0</td>\n",
       "    </tr>\n",
       "    <tr>\n",
       "      <th>541</th>\n",
       "      <td>hp</td>\n",
       "      <td>4</td>\n",
       "      <td>1.8</td>\n",
       "      <td>4.9</td>\n",
       "      <td>ddr4</td>\n",
       "      <td>16</td>\n",
       "      <td>0</td>\n",
       "      <td>512</td>\n",
       "      <td>nvidia</td>\n",
       "      <td>2048</td>\n",
       "      <td>...</td>\n",
       "      <td>led ips</td>\n",
       "      <td>15.6</td>\n",
       "      <td>3840</td>\n",
       "      <td>2160</td>\n",
       "      <td>90</td>\n",
       "      <td>2.18</td>\n",
       "      <td>windows home 10.00</td>\n",
       "      <td>84.0</td>\n",
       "      <td>3</td>\n",
       "      <td>0</td>\n",
       "    </tr>\n",
       "    <tr>\n",
       "      <th>600</th>\n",
       "      <td>lenovo</td>\n",
       "      <td>4</td>\n",
       "      <td>1.0</td>\n",
       "      <td>3.6</td>\n",
       "      <td>ddr4</td>\n",
       "      <td>8</td>\n",
       "      <td>0</td>\n",
       "      <td>256</td>\n",
       "      <td>intel</td>\n",
       "      <td>8192</td>\n",
       "      <td>...</td>\n",
       "      <td>led ips</td>\n",
       "      <td>14.0</td>\n",
       "      <td>1920</td>\n",
       "      <td>1080</td>\n",
       "      <td>60</td>\n",
       "      <td>1.50</td>\n",
       "      <td>windows home 10.00</td>\n",
       "      <td>57.0</td>\n",
       "      <td>2</td>\n",
       "      <td>0</td>\n",
       "    </tr>\n",
       "  </tbody>\n",
       "</table>\n",
       "<p>5 rows × 22 columns</p>\n",
       "</div>"
      ],
      "text/plain": [
       "    producer  cores  core base speed (GHz)  core boost speed (GHz) ram type  \\\n",
       "495       hp      4                    1.8                     4.6     ddr4   \n",
       "73    others      6                    2.6                     4.5     ddr4   \n",
       "39    others      4                    1.1                     3.7     ddr4   \n",
       "541       hp      4                    1.8                     4.9     ddr4   \n",
       "600   lenovo      4                    1.0                     3.6     ddr4   \n",
       "\n",
       "     ram cap (GB)  ssd (GB)  hdd (GB) gpu prod  gpu size (MB)  ...  \\\n",
       "495             8         0       256    intel           1700  ...   \n",
       "73             32         0      1024   nvidia           8192  ...   \n",
       "39             16         0       512    intel           8192  ...   \n",
       "541            16         0       512   nvidia           2048  ...   \n",
       "600             8         0       256    intel           8192  ...   \n",
       "\n",
       "     screen type  screen size (inch) screen horizontal resolution  \\\n",
       "495       led tn                17.3                         1600   \n",
       "73       led ips                17.3                         3840   \n",
       "39       led ips                13.5                         2256   \n",
       "541      led ips                15.6                         3840   \n",
       "600      led ips                14.0                         1920   \n",
       "\n",
       "     screen vertical resolution  sRGB (%)  weight (kg)                  os  \\\n",
       "495                         900        80         2.45  windows home 10.00   \n",
       "73                         2160       100         4.50   windows pro 10.00   \n",
       "39                         1504        90         1.20  windows home 10.00   \n",
       "541                        2160        90         2.18  windows home 10.00   \n",
       "600                        1080        60         1.50  windows home 10.00   \n",
       "\n",
       "     battery capacity (WHr) intel_processor_model  amd_processor_model  \n",
       "495                    41.0                     3                    0  \n",
       "73                     72.0                     3                    0  \n",
       "39                     56.0                     2                    0  \n",
       "541                    84.0                     3                    0  \n",
       "600                    57.0                     2                    0  \n",
       "\n",
       "[5 rows x 22 columns]"
      ]
     },
     "execution_count": 22,
     "metadata": {},
     "output_type": "execute_result"
    }
   ],
   "source": [
    "fewer_cols_train_X_df.head()"
   ]
  },
  {
   "cell_type": "markdown",
   "metadata": {},
   "source": [
    "   \n",
    "\n",
    "Các bước tiền xử lý tiếp theo: (như Bài tập 3)\n",
    "- Với các cột dạng số (`nume_cols`), ta sẽ điền giá trị thiếu bằng giá trị mean của cột (dùng `SimpleImputer`). Với *tất cả* các cột dạng số trong tập huấn luyện, ta đều cần tính mean, vì ta không biết được cột nào sẽ bị thiếu giá trị khi dự đoán với các véc-tơ input mới. \n",
    "- Với các cột không phải dạng số và không có thứ tự (`unorder_cate_cols`):\n",
    "    - Ta sẽ điền giá trị thiếu bằng giá trị mode (giá trị xuất hiện nhiều nhất) của cột (dùng `SimpleImputer`). Với *tất cả* các cột không có dạng số và không có thứ tự, ta đều cần tính mode, vì ta không biết được cột nào sẽ bị thiếu giá trị khi dự đoán với các véc-tơ input mới.\n",
    "    - Sau đó, ta sẽ chuyển sang dạng số bằng phương pháp mã hóa one-hot (dùng `OneHotEncoder`).\n",
    "- Với cột không phải dạng số và có thứ tự (`order_cate_cols`):\n",
    "    - Ta sẽ điền giá trị thiếu bằng giá trị mode (giá trị xuất hiện nhiều nhất) của cột.\n",
    "    - Cột này đã được chuyển sang dạng số rồi nên ta không cần chuyển nữa.\n",
    "- Cuối cùng, khi tất cả các cột đã được điền giá trị thiếu và đã có dạng số, ta sẽ tiến hành chuẩn hóa bằng cách trừ đi mean và chia cho độ lệch chuẩn của cột để giúp cho các thuật toán cực tiểu hóa như Gradient Descent, LBFGS, ... hội tụ nhanh hơn (dùng `StandardScaler`)."
   ]
  },
  {
   "cell_type": "code",
   "execution_count": 23,
   "metadata": {},
   "outputs": [],
   "source": [
    "nume_cols = ['cores',\n",
    "            'core base speed (GHz)', \n",
    "            'core boost speed (GHz)',\n",
    "            'ram cap (GB)',\n",
    "            'ssd (GB)', 'hdd (GB)', \n",
    "            'gpu size (MB)', \n",
    "            'gpu base speed (GHz)',\n",
    "            'gpu boost speed (GHz)',\n",
    "            'screen size (inch)',\n",
    "            'screen horizontal resolution',\n",
    "            'screen vertical resolution',\n",
    "            'sRGB (%)',\n",
    "            'weight (kg)',\n",
    "            'battery capacity (WHr)']\n",
    "unorder_cate_cols = ['producer', 'ram type', 'gpu prod', 'screen type', 'os']\n",
    "order_cate_cols = ['intel_processor_model', 'amd_processor_model']\n",
    "\n",
    "unorder_cate_cols_transformer = make_pipeline(SimpleImputer(strategy='most_frequent'), OneHotEncoder(handle_unknown='ignore'))\n",
    "column_transformer = make_column_transformer((SimpleImputer(strategy='mean'), nume_cols),\n",
    "                                            (unorder_cate_cols_transformer, unorder_cate_cols),\n",
    "                                            (SimpleImputer(strategy='most_frequent'), order_cate_cols))\n",
    "preprocess_pipeline = make_pipeline(FunctionTransformer(split_processor_model), \n",
    "                                    ColAdderDropper(num_top_producers=4, num_top_os=4),\n",
    "                                    column_transformer, StandardScaler())\n",
    "\n",
    "preprocessed_train_X = preprocess_pipeline.fit_transform(train_X_df)"
   ]
  },
  {
   "cell_type": "code",
   "execution_count": 24,
   "metadata": {},
   "outputs": [
    {
     "data": {
      "text/plain": [
       "array([[-0.38641678, -0.52661079,  0.7947706 , ..., -0.69388867,\n",
       "         0.89990348, -0.38028954],\n",
       "       [ 1.21649728,  1.03785628,  0.57681196, ...,  1.44115338,\n",
       "         0.89990348, -0.38028954],\n",
       "       [-0.38641678, -1.89551948, -1.16685713, ..., -0.69388867,\n",
       "        -0.08822583, -0.38028954],\n",
       "       ...,\n",
       "       [ 0.41504025, -1.30884433, -2.69256758, ...,  1.44115338,\n",
       "        -0.08822583, -0.38028954],\n",
       "       [-0.38641678, -0.91772756, -0.73093985, ...,  1.44115338,\n",
       "        -0.08822583, -0.38028954],\n",
       "       [ 1.21649728,  0.45118113,  0.7947706 , ..., -0.69388867,\n",
       "         0.89990348, -0.38028954]])"
      ]
     },
     "execution_count": 24,
     "metadata": {},
     "output_type": "execute_result"
    }
   ],
   "source": [
    "preprocessed_train_X"
   ]
  },
  {
   "cell_type": "markdown",
   "metadata": {},
   "source": [
    "##### Trực quan hóa pipeline tiền xử lý"
   ]
  },
  {
   "cell_type": "code",
   "execution_count": 25,
   "metadata": {
    "scrolled": true
   },
   "outputs": [
    {
     "data": {
      "text/html": [
       "<style>div.sk-top-container {color: black;background-color: white;}div.sk-toggleable {background-color: white;}label.sk-toggleable__label {cursor: pointer;display: block;width: 100%;margin-bottom: 0;padding: 0.2em 0.3em;box-sizing: border-box;text-align: center;}div.sk-toggleable__content {max-height: 0;max-width: 0;overflow: hidden;text-align: left;background-color: #f0f8ff;}div.sk-toggleable__content pre {margin: 0.2em;color: black;border-radius: 0.25em;background-color: #f0f8ff;}input.sk-toggleable__control:checked~div.sk-toggleable__content {max-height: 200px;max-width: 100%;overflow: auto;}div.sk-estimator input.sk-toggleable__control:checked~label.sk-toggleable__label {background-color: #d4ebff;}div.sk-label input.sk-toggleable__control:checked~label.sk-toggleable__label {background-color: #d4ebff;}input.sk-hidden--visually {border: 0;clip: rect(1px 1px 1px 1px);clip: rect(1px, 1px, 1px, 1px);height: 1px;margin: -1px;overflow: hidden;padding: 0;position: absolute;width: 1px;}div.sk-estimator {font-family: monospace;background-color: #f0f8ff;margin: 0.25em 0.25em;border: 1px dotted black;border-radius: 0.25em;box-sizing: border-box;}div.sk-estimator:hover {background-color: #d4ebff;}div.sk-parallel-item::after {content: \"\";width: 100%;border-bottom: 1px solid gray;flex-grow: 1;}div.sk-label:hover label.sk-toggleable__label {background-color: #d4ebff;}div.sk-serial::before {content: \"\";position: absolute;border-left: 1px solid gray;box-sizing: border-box;top: 2em;bottom: 0;left: 50%;}div.sk-serial {display: flex;flex-direction: column;align-items: center;background-color: white;}div.sk-item {z-index: 1;}div.sk-parallel {display: flex;align-items: stretch;justify-content: center;background-color: white;}div.sk-parallel-item {display: flex;flex-direction: column;position: relative;background-color: white;}div.sk-parallel-item:first-child::after {align-self: flex-end;width: 50%;}div.sk-parallel-item:last-child::after {align-self: flex-start;width: 50%;}div.sk-parallel-item:only-child::after {width: 0;}div.sk-dashed-wrapped {border: 1px dashed gray;margin: 0.2em;box-sizing: border-box;padding-bottom: 0.1em;background-color: white;position: relative;}div.sk-label label {font-family: monospace;font-weight: bold;background-color: white;display: inline-block;line-height: 1.2em;}div.sk-label-container {position: relative;z-index: 2;text-align: center;}div.sk-container {display: inline-block;position: relative;}</style><div class=\"sk-top-container\"><div class=\"sk-container\"><div class=\"sk-item sk-dashed-wrapped\"><div class=\"sk-label-container\"><div class=\"sk-label sk-toggleable\"><input class=\"sk-toggleable__control sk-hidden--visually\" id=\"0134503a-fc1e-4987-a355-721adb1e72b1\" type=\"checkbox\" ><label class=\"sk-toggleable__label\" for=\"0134503a-fc1e-4987-a355-721adb1e72b1\">Pipeline</label><div class=\"sk-toggleable__content\"><pre>Pipeline(steps=[('functiontransformer',\n",
       "                 FunctionTransformer(func=<function split_processor_model at 0x000001E46DB6BDC0>)),\n",
       "                ('coladderdropper',\n",
       "                 ColAdderDropper(num_top_os=4, num_top_producers=4)),\n",
       "                ('columntransformer',\n",
       "                 ColumnTransformer(transformers=[('simpleimputer-1',\n",
       "                                                  SimpleImputer(),\n",
       "                                                  ['cores',\n",
       "                                                   'core base speed (GHz)',\n",
       "                                                   'core boost speed (GHz)',\n",
       "                                                   'ram cap (GB)', 'ssd (GB)'...\n",
       "                                                   'battery capacity (WHr)']),\n",
       "                                                 ('pipeline',\n",
       "                                                  Pipeline(steps=[('simpleimputer',\n",
       "                                                                   SimpleImputer(strategy='most_frequent')),\n",
       "                                                                  ('onehotencoder',\n",
       "                                                                   OneHotEncoder(handle_unknown='ignore'))]),\n",
       "                                                  ['producer', 'ram type',\n",
       "                                                   'gpu prod', 'screen type',\n",
       "                                                   'os']),\n",
       "                                                 ('simpleimputer-2',\n",
       "                                                  SimpleImputer(strategy='most_frequent'),\n",
       "                                                  ['intel_processor_model',\n",
       "                                                   'amd_processor_model'])])),\n",
       "                ('standardscaler', StandardScaler())])</pre></div></div></div><div class=\"sk-serial\"><div class=\"sk-item\"><div class=\"sk-estimator sk-toggleable\"><input class=\"sk-toggleable__control sk-hidden--visually\" id=\"50e974cc-4cb3-449b-8416-479360218a21\" type=\"checkbox\" ><label class=\"sk-toggleable__label\" for=\"50e974cc-4cb3-449b-8416-479360218a21\">FunctionTransformer</label><div class=\"sk-toggleable__content\"><pre>FunctionTransformer(func=<function split_processor_model at 0x000001E46DB6BDC0>)</pre></div></div></div><div class=\"sk-item\"><div class=\"sk-estimator sk-toggleable\"><input class=\"sk-toggleable__control sk-hidden--visually\" id=\"98d3affd-3a16-43a6-baba-b346a3dd93ce\" type=\"checkbox\" ><label class=\"sk-toggleable__label\" for=\"98d3affd-3a16-43a6-baba-b346a3dd93ce\">ColAdderDropper</label><div class=\"sk-toggleable__content\"><pre>ColAdderDropper(num_top_os=4, num_top_producers=4)</pre></div></div></div><div class=\"sk-item sk-dashed-wrapped\"><div class=\"sk-label-container\"><div class=\"sk-label sk-toggleable\"><input class=\"sk-toggleable__control sk-hidden--visually\" id=\"0d496146-6a75-4907-a670-67d05f659bc1\" type=\"checkbox\" ><label class=\"sk-toggleable__label\" for=\"0d496146-6a75-4907-a670-67d05f659bc1\">columntransformer: ColumnTransformer</label><div class=\"sk-toggleable__content\"><pre>ColumnTransformer(transformers=[('simpleimputer-1', SimpleImputer(),\n",
       "                                 ['cores', 'core base speed (GHz)',\n",
       "                                  'core boost speed (GHz)', 'ram cap (GB)',\n",
       "                                  'ssd (GB)', 'hdd (GB)', 'gpu size (MB)',\n",
       "                                  'gpu base speed (GHz)',\n",
       "                                  'gpu boost speed (GHz)', 'screen size (inch)',\n",
       "                                  'screen horizontal resolution',\n",
       "                                  'screen vertical resolution', 'sRGB (%)',\n",
       "                                  'weight (kg)', 'battery capacity (WHr)']),\n",
       "                                ('pipeline',\n",
       "                                 Pipeline(steps=[('simpleimputer',\n",
       "                                                  SimpleImputer(strategy='most_frequent')),\n",
       "                                                 ('onehotencoder',\n",
       "                                                  OneHotEncoder(handle_unknown='ignore'))]),\n",
       "                                 ['producer', 'ram type', 'gpu prod',\n",
       "                                  'screen type', 'os']),\n",
       "                                ('simpleimputer-2',\n",
       "                                 SimpleImputer(strategy='most_frequent'),\n",
       "                                 ['intel_processor_model',\n",
       "                                  'amd_processor_model'])])</pre></div></div></div><div class=\"sk-parallel\"><div class=\"sk-parallel-item\"><div class=\"sk-item\"><div class=\"sk-label-container\"><div class=\"sk-label sk-toggleable\"><input class=\"sk-toggleable__control sk-hidden--visually\" id=\"bbb291ed-ba9c-44ab-bf39-e1bb41bd5570\" type=\"checkbox\" ><label class=\"sk-toggleable__label\" for=\"bbb291ed-ba9c-44ab-bf39-e1bb41bd5570\">simpleimputer-1</label><div class=\"sk-toggleable__content\"><pre>['cores', 'core base speed (GHz)', 'core boost speed (GHz)', 'ram cap (GB)', 'ssd (GB)', 'hdd (GB)', 'gpu size (MB)', 'gpu base speed (GHz)', 'gpu boost speed (GHz)', 'screen size (inch)', 'screen horizontal resolution', 'screen vertical resolution', 'sRGB (%)', 'weight (kg)', 'battery capacity (WHr)']</pre></div></div></div><div class=\"sk-serial\"><div class=\"sk-item\"><div class=\"sk-estimator sk-toggleable\"><input class=\"sk-toggleable__control sk-hidden--visually\" id=\"053086f6-1da9-4457-a730-8104d7125bb4\" type=\"checkbox\" ><label class=\"sk-toggleable__label\" for=\"053086f6-1da9-4457-a730-8104d7125bb4\">SimpleImputer</label><div class=\"sk-toggleable__content\"><pre>SimpleImputer()</pre></div></div></div></div></div></div><div class=\"sk-parallel-item\"><div class=\"sk-item\"><div class=\"sk-label-container\"><div class=\"sk-label sk-toggleable\"><input class=\"sk-toggleable__control sk-hidden--visually\" id=\"902d5f5f-5192-49bf-88ed-f7d9da87fe84\" type=\"checkbox\" ><label class=\"sk-toggleable__label\" for=\"902d5f5f-5192-49bf-88ed-f7d9da87fe84\">pipeline</label><div class=\"sk-toggleable__content\"><pre>['producer', 'ram type', 'gpu prod', 'screen type', 'os']</pre></div></div></div><div class=\"sk-serial\"><div class=\"sk-item\"><div class=\"sk-serial\"><div class=\"sk-item\"><div class=\"sk-estimator sk-toggleable\"><input class=\"sk-toggleable__control sk-hidden--visually\" id=\"759da973-3dc5-44ca-888b-abeff9ee641a\" type=\"checkbox\" ><label class=\"sk-toggleable__label\" for=\"759da973-3dc5-44ca-888b-abeff9ee641a\">SimpleImputer</label><div class=\"sk-toggleable__content\"><pre>SimpleImputer(strategy='most_frequent')</pre></div></div></div><div class=\"sk-item\"><div class=\"sk-estimator sk-toggleable\"><input class=\"sk-toggleable__control sk-hidden--visually\" id=\"5ec55e6b-dd3a-48ff-9edc-81bdff354a79\" type=\"checkbox\" ><label class=\"sk-toggleable__label\" for=\"5ec55e6b-dd3a-48ff-9edc-81bdff354a79\">OneHotEncoder</label><div class=\"sk-toggleable__content\"><pre>OneHotEncoder(handle_unknown='ignore')</pre></div></div></div></div></div></div></div></div><div class=\"sk-parallel-item\"><div class=\"sk-item\"><div class=\"sk-label-container\"><div class=\"sk-label sk-toggleable\"><input class=\"sk-toggleable__control sk-hidden--visually\" id=\"d2b77160-8013-4734-b1be-544434a58c04\" type=\"checkbox\" ><label class=\"sk-toggleable__label\" for=\"d2b77160-8013-4734-b1be-544434a58c04\">simpleimputer-2</label><div class=\"sk-toggleable__content\"><pre>['intel_processor_model', 'amd_processor_model']</pre></div></div></div><div class=\"sk-serial\"><div class=\"sk-item\"><div class=\"sk-estimator sk-toggleable\"><input class=\"sk-toggleable__control sk-hidden--visually\" id=\"5238e7bf-e669-45eb-8bbf-0b907b28055f\" type=\"checkbox\" ><label class=\"sk-toggleable__label\" for=\"5238e7bf-e669-45eb-8bbf-0b907b28055f\">SimpleImputer</label><div class=\"sk-toggleable__content\"><pre>SimpleImputer(strategy='most_frequent')</pre></div></div></div></div></div></div></div></div><div class=\"sk-item\"><div class=\"sk-estimator sk-toggleable\"><input class=\"sk-toggleable__control sk-hidden--visually\" id=\"c4e81e0c-6e31-4dd4-a890-da70b0632d4e\" type=\"checkbox\" ><label class=\"sk-toggleable__label\" for=\"c4e81e0c-6e31-4dd4-a890-da70b0632d4e\">StandardScaler</label><div class=\"sk-toggleable__content\"><pre>StandardScaler()</pre></div></div></div></div></div></div></div>"
      ],
      "text/plain": [
       "Pipeline(steps=[('functiontransformer',\n",
       "                 FunctionTransformer(func=<function split_processor_model at 0x000001E46DB6BDC0>)),\n",
       "                ('coladderdropper',\n",
       "                 ColAdderDropper(num_top_os=4, num_top_producers=4)),\n",
       "                ('columntransformer',\n",
       "                 ColumnTransformer(transformers=[('simpleimputer-1',\n",
       "                                                  SimpleImputer(),\n",
       "                                                  ['cores',\n",
       "                                                   'core base speed (GHz)',\n",
       "                                                   'core boost speed (GHz)',\n",
       "                                                   'ram cap (GB)', 'ssd (GB)'...\n",
       "                                                   'battery capacity (WHr)']),\n",
       "                                                 ('pipeline',\n",
       "                                                  Pipeline(steps=[('simpleimputer',\n",
       "                                                                   SimpleImputer(strategy='most_frequent')),\n",
       "                                                                  ('onehotencoder',\n",
       "                                                                   OneHotEncoder(handle_unknown='ignore'))]),\n",
       "                                                  ['producer', 'ram type',\n",
       "                                                   'gpu prod', 'screen type',\n",
       "                                                   'os']),\n",
       "                                                 ('simpleimputer-2',\n",
       "                                                  SimpleImputer(strategy='most_frequent'),\n",
       "                                                  ['intel_processor_model',\n",
       "                                                   'amd_processor_model'])])),\n",
       "                ('standardscaler', StandardScaler())])"
      ]
     },
     "execution_count": 25,
     "metadata": {},
     "output_type": "execute_result"
    }
   ],
   "source": [
    "preprocess_pipeline"
   ]
  },
  {
   "cell_type": "markdown",
   "metadata": {},
   "source": [
    "---"
   ]
  },
  {
   "cell_type": "markdown",
   "metadata": {},
   "source": [
    "# Mô hình hóa"
   ]
  },
  {
   "cell_type": "markdown",
   "metadata": {},
   "source": [
    "## Sử dụng mô hình Linear Regression (hàm cực tiểu hóa là Stochastic Gradient Descent)\n",
    "\n",
    "Sử dụng thuật toán Stochastic Gradient Descent cho bài toán Linear Regression\n",
    "\n",
    "Chạy thử nghiệm các siêu tham số:\n",
    "- `alpha`\n",
    "- `num_top_producers`\n",
    "- `num_top_os`\n",
    "\n",
    "Chọn các giá trị của các siêu tham số cho độ lỗi nhỏ nhất trên tập validation"
   ]
  },
  {
   "cell_type": "code",
   "execution_count": 26,
   "metadata": {},
   "outputs": [],
   "source": [
    "from sklearn.linear_model import SGDRegressor"
   ]
  },
  {
   "cell_type": "code",
   "execution_count": 27,
   "metadata": {},
   "outputs": [],
   "source": [
    "# Hàm tính độ đo r^2\n",
    "def compute_mse(y, preds):\n",
    "    return ((y - preds) ** 2).mean()\n",
    "def compute_rr(y, preds, baseline_preds):\n",
    "    return 1 - compute_mse(y, preds) / compute_mse(y, baseline_preds)\n",
    "baseline_preds = train_y_sr.mean()"
   ]
  },
  {
   "cell_type": "code",
   "execution_count": 28,
   "metadata": {},
   "outputs": [],
   "source": [
    "full_pipeline = make_pipeline(FunctionTransformer(split_processor_model), \n",
    "                              ColAdderDropper(num_top_producers=4, num_top_os=4),\n",
    "                              column_transformer, StandardScaler(),\n",
    "                              SGDRegressor(penalty='l2', random_state=0))\n",
    "\n",
    "train_errs = []\n",
    "val_errs = []\n",
    "alphas = [0.01, 0.1, 1, 10, 100]\n",
    "num_top_producers_s = range(1, 8)\n",
    "num_top_os_s = range(1, 7)\n",
    "best_val_err = float('inf'); best_num_top_os = None; best_num_top_producers = None; best_alpha = None\n",
    "for alpha in alphas:\n",
    "    for num_top_producers in num_top_producers_s:\n",
    "        for num_top_os in num_top_os_s:\n",
    "            full_pipeline.set_params(coladderdropper__num_top_producers=num_top_producers, coladderdropper__num_top_os=num_top_os, sgdregressor__alpha=alpha)\n",
    "            full_pipeline.fit(train_X_df, train_y_sr)\n",
    "            train_errs.append(round(100 - compute_rr(train_y_sr, full_pipeline.predict(train_X_df), baseline_preds) * 100, 2))\n",
    "            val_errs.append(round(100 - compute_rr(val_y_sr, full_pipeline.predict(val_X_df), baseline_preds) * 100, 2))\n",
    "            if val_errs[-1] < best_val_err:\n",
    "                best_val_err = val_errs[-1]\n",
    "                best_alpha = alpha\n",
    "                best_num_top_producers = num_top_producers\n",
    "                best_num_top_os = num_top_os"
   ]
  },
  {
   "cell_type": "code",
   "execution_count": 29,
   "metadata": {
    "scrolled": true
   },
   "outputs": [
    {
     "name": "stdout",
     "output_type": "stream",
     "text": [
      "val_errs:\n",
      "[30.83, 30.6, 30.62, 30.65, 30.61, 30.61, 30.83, 30.59, 30.6, 30.62, 30.59, 30.59, 31.04, 30.9, 30.95, 30.96, 30.93, 30.93, 30.82, 30.75, 30.81, 30.94, 30.9, 30.9, 30.73, 30.78, 30.96, 30.99, 30.95, 30.95, 30.73, 30.78, 30.96, 30.99, 30.95, 30.95, 30.73, 30.78, 30.96, 30.99, 30.95, 30.95, 30.34, 30.0, 30.09, 30.0, 29.99, 29.99, 30.35, 30.0, 30.08, 29.99, 29.99, 29.99, 30.56, 30.29, 30.42, 30.33, 30.33, 30.33, 29.79, 30.06, 30.2, 30.18, 30.18, 30.18, 30.19, 30.08, 30.19, 30.22, 30.21, 30.21, 30.19, 30.08, 30.19, 30.22, 30.21, 30.21, 30.19, 30.08, 30.19, 30.22, 30.21, 30.21, 32.36, 32.05, 31.97, 31.46, 31.46, 31.46, 32.38, 32.07, 31.99, 31.49, 31.49, 31.49, 32.66, 32.38, 32.31, 31.89, 31.88, 31.88, 32.3, 32.07, 32.03, 31.68, 31.68, 31.68, 31.89, 31.88, 31.81, 31.75, 31.74, 31.74, 31.89, 31.88, 31.81, 31.75, 31.74, 31.74, 31.89, 31.88, 31.81, 31.75, 31.74, 31.74, 60.79, 60.65, 60.55, 60.02, 60.0, 60.0, 60.72, 60.57, 60.47, 59.95, 59.93, 59.93, 60.85, 60.69, 60.59, 60.06, 60.04, 60.04, 60.77, 60.61, 60.52, 60.01, 59.99, 59.99, 59.83, 59.72, 59.65, 59.24, 59.22, 59.22, 59.83, 59.72, 59.65, 59.24, 59.22, 59.22, 59.83, 59.72, 59.65, 59.24, 59.22, 59.22, 89.21, 89.18, 89.17, 89.19, 89.18, 89.18, 89.14, 89.11, 89.1, 89.12, 89.11, 89.11, 89.14, 89.11, 89.1, 89.12, 89.11, 89.11, 89.16, 89.13, 89.12, 89.14, 89.13, 89.13, 89.13, 89.1, 89.09, 89.11, 89.1, 89.1, 89.13, 89.1, 89.09, 89.11, 89.1, 89.1, 89.13, 89.1, 89.09, 89.11, 89.1, 89.1]\n"
     ]
    }
   ],
   "source": [
    "print(\"val_errs:\")\n",
    "print(val_errs)"
   ]
  },
  {
   "cell_type": "code",
   "execution_count": 30,
   "metadata": {},
   "outputs": [],
   "source": [
    "full_pipeline = make_pipeline(FunctionTransformer(split_processor_model), \n",
    "                              ColAdderDropper(num_top_producers=4, num_top_os=4),\n",
    "                              column_transformer, StandardScaler(),\n",
    "                              SGDRegressor(penalty='l1', random_state=0))\n",
    "\n",
    "train_errs = []\n",
    "val_errs = []\n",
    "alphas = [0.01, 0.1, 1, 10, 100]\n",
    "num_top_producers_s = range(1, 8)\n",
    "num_top_os_s = range(1, 7)\n",
    "best_val_err = float('inf'); best_num_top_os = None; best_num_top_producers = None; best_alpha = None\n",
    "for alpha in alphas:\n",
    "    for num_top_producers in num_top_producers_s:\n",
    "        for num_top_os in num_top_os_s:\n",
    "            full_pipeline.set_params(coladderdropper__num_top_producers=num_top_producers, coladderdropper__num_top_os=num_top_os, sgdregressor__alpha=alpha)\n",
    "            full_pipeline.fit(train_X_df, train_y_sr)\n",
    "            train_errs.append(round(100 - compute_rr(train_y_sr, full_pipeline.predict(train_X_df), baseline_preds) * 100, 2))\n",
    "            val_errs.append(round(100 - compute_rr(val_y_sr, full_pipeline.predict(val_X_df), baseline_preds) * 100, 2))\n",
    "            if val_errs[-1] < best_val_err:\n",
    "                best_val_err = val_errs[-1]\n",
    "                best_alpha = alpha\n",
    "                best_num_top_producers = num_top_producers\n",
    "                best_num_top_os = num_top_os"
   ]
  },
  {
   "cell_type": "code",
   "execution_count": 31,
   "metadata": {},
   "outputs": [
    {
     "name": "stdout",
     "output_type": "stream",
     "text": [
      "val_errs:\n",
      "[30.99, 30.77, 30.78, 30.83, 30.79, 30.79, 30.99, 30.76, 30.76, 30.81, 30.77, 30.77, 31.2, 31.08, 31.12, 31.16, 31.12, 31.12, 31.0, 30.94, 30.99, 31.16, 31.12, 31.12, 30.91, 30.99, 31.19, 31.21, 31.17, 31.17, 30.91, 30.99, 31.19, 31.21, 31.17, 31.17, 30.91, 30.99, 31.19, 31.21, 31.17, 31.17, 30.95, 30.75, 30.77, 30.82, 30.78, 30.78, 30.98, 30.74, 30.75, 30.8, 30.76, 30.76, 31.19, 31.06, 31.11, 31.14, 31.1, 31.1, 30.98, 30.91, 30.89, 31.13, 31.09, 31.09, 30.88, 30.95, 31.15, 31.18, 31.14, 31.14, 30.88, 30.95, 31.15, 31.18, 31.14, 31.14, 30.88, 30.95, 31.15, 31.18, 31.14, 31.14, 30.82, 30.57, 30.64, 30.65, 30.6, 30.6, 30.84, 30.57, 30.62, 30.63, 30.59, 30.59, 31.03, 30.88, 30.99, 30.98, 30.95, 30.95, 30.84, 30.67, 30.79, 30.9, 30.85, 30.85, 30.74, 30.73, 30.87, 30.94, 30.9, 30.9, 30.74, 30.73, 30.87, 30.94, 30.9, 30.9, 30.74, 30.73, 30.87, 30.94, 30.9, 30.9, 30.94, 30.5, 30.7, 30.57, 30.52, 30.52, 30.96, 30.53, 30.7, 30.58, 30.55, 30.55, 31.05, 30.66, 30.49, 30.73, 30.31, 30.31, 30.63, 30.36, 30.24, 30.15, 30.12, 30.12, 30.63, 30.43, 30.27, 30.19, 30.16, 30.16, 30.63, 30.43, 30.27, 30.19, 30.16, 30.16, 30.63, 30.43, 30.27, 30.19, 30.16, 30.16, 36.73, 36.75, 36.75, 36.75, 36.75, 36.75, 36.73, 36.75, 36.75, 36.74, 36.74, 36.74, 36.73, 36.74, 36.74, 36.74, 36.74, 36.74, 36.73, 36.75, 36.74, 36.74, 36.74, 36.74, 36.73, 36.74, 36.74, 36.74, 36.74, 36.74, 36.73, 36.74, 36.74, 36.74, 36.74, 36.74, 36.73, 36.74, 36.74, 36.74, 36.74, 36.74]\n"
     ]
    }
   ],
   "source": [
    "print(\"val_errs:\")\n",
    "print(val_errs)"
   ]
  },
  {
   "cell_type": "markdown",
   "metadata": {},
   "source": [
    "##### Lựa chọn mô hình"
   ]
  },
  {
   "cell_type": "markdown",
   "metadata": {},
   "source": [
    "Rút ra nhận xét và chọn mô hình khi thử nghiệm với tham số `penalty` khác nhau (`l2` (mặc định của SGD) và `l1`): L2 xuất hiện các err rất cao (lên tới 100%), còn L1 thì các err không chênh lệch nhiều \n",
    "=> Cho thấy L2 xử lý vấn đề overfitting không tốt bằng L1\n",
    "\n",
    "Vậy chọn`penalty` = L1 "
   ]
  },
  {
   "cell_type": "code",
   "execution_count": 32,
   "metadata": {},
   "outputs": [
    {
     "name": "stdout",
     "output_type": "stream",
     "text": [
      "Độ lỗi tốt nhất trên tập validation:\n",
      "30.12\n",
      "best_alpha:\n",
      "10\n",
      "best_num_top_producers:\n",
      "4\n",
      "best_num_top_os:\n",
      "5\n"
     ]
    }
   ],
   "source": [
    "print(\"Độ lỗi tốt nhất trên tập validation:\")\n",
    "print(best_val_err)\n",
    "print(\"best_alpha:\")\n",
    "print(best_alpha)\n",
    "print(\"best_num_top_producers:\")\n",
    "print(best_num_top_producers)\n",
    "print(\"best_num_top_os:\")\n",
    "print(best_num_top_os)"
   ]
  },
  {
   "cell_type": "markdown",
   "metadata": {},
   "source": [
    "## Đánh giá mô hình tìm được"
   ]
  },
  {
   "cell_type": "markdown",
   "metadata": {},
   "source": [
    "Huấn luyện lại `full_pipeline` trên `X_df` và `y_sr` (tập huấn luyện + tập validation) với `best_alpha`\n",
    ", `best_num_top_producers` và `best_num_top_os` tìm được ở trên để ra được mô hình cụ thể cuối cùng"
   ]
  },
  {
   "cell_type": "code",
   "execution_count": 33,
   "metadata": {
    "scrolled": true
   },
   "outputs": [
    {
     "data": {
      "text/html": [
       "<style>div.sk-top-container {color: black;background-color: white;}div.sk-toggleable {background-color: white;}label.sk-toggleable__label {cursor: pointer;display: block;width: 100%;margin-bottom: 0;padding: 0.2em 0.3em;box-sizing: border-box;text-align: center;}div.sk-toggleable__content {max-height: 0;max-width: 0;overflow: hidden;text-align: left;background-color: #f0f8ff;}div.sk-toggleable__content pre {margin: 0.2em;color: black;border-radius: 0.25em;background-color: #f0f8ff;}input.sk-toggleable__control:checked~div.sk-toggleable__content {max-height: 200px;max-width: 100%;overflow: auto;}div.sk-estimator input.sk-toggleable__control:checked~label.sk-toggleable__label {background-color: #d4ebff;}div.sk-label input.sk-toggleable__control:checked~label.sk-toggleable__label {background-color: #d4ebff;}input.sk-hidden--visually {border: 0;clip: rect(1px 1px 1px 1px);clip: rect(1px, 1px, 1px, 1px);height: 1px;margin: -1px;overflow: hidden;padding: 0;position: absolute;width: 1px;}div.sk-estimator {font-family: monospace;background-color: #f0f8ff;margin: 0.25em 0.25em;border: 1px dotted black;border-radius: 0.25em;box-sizing: border-box;}div.sk-estimator:hover {background-color: #d4ebff;}div.sk-parallel-item::after {content: \"\";width: 100%;border-bottom: 1px solid gray;flex-grow: 1;}div.sk-label:hover label.sk-toggleable__label {background-color: #d4ebff;}div.sk-serial::before {content: \"\";position: absolute;border-left: 1px solid gray;box-sizing: border-box;top: 2em;bottom: 0;left: 50%;}div.sk-serial {display: flex;flex-direction: column;align-items: center;background-color: white;}div.sk-item {z-index: 1;}div.sk-parallel {display: flex;align-items: stretch;justify-content: center;background-color: white;}div.sk-parallel-item {display: flex;flex-direction: column;position: relative;background-color: white;}div.sk-parallel-item:first-child::after {align-self: flex-end;width: 50%;}div.sk-parallel-item:last-child::after {align-self: flex-start;width: 50%;}div.sk-parallel-item:only-child::after {width: 0;}div.sk-dashed-wrapped {border: 1px dashed gray;margin: 0.2em;box-sizing: border-box;padding-bottom: 0.1em;background-color: white;position: relative;}div.sk-label label {font-family: monospace;font-weight: bold;background-color: white;display: inline-block;line-height: 1.2em;}div.sk-label-container {position: relative;z-index: 2;text-align: center;}div.sk-container {display: inline-block;position: relative;}</style><div class=\"sk-top-container\"><div class=\"sk-container\"><div class=\"sk-item sk-dashed-wrapped\"><div class=\"sk-label-container\"><div class=\"sk-label sk-toggleable\"><input class=\"sk-toggleable__control sk-hidden--visually\" id=\"58161d23-961f-4b03-a8e6-e55487bdd768\" type=\"checkbox\" ><label class=\"sk-toggleable__label\" for=\"58161d23-961f-4b03-a8e6-e55487bdd768\">Pipeline</label><div class=\"sk-toggleable__content\"><pre>Pipeline(steps=[('functiontransformer',\n",
       "                 FunctionTransformer(func=<function split_processor_model at 0x000001E46DB6BDC0>)),\n",
       "                ('coladderdropper',\n",
       "                 ColAdderDropper(num_top_os=6, num_top_producers=7)),\n",
       "                ('columntransformer',\n",
       "                 ColumnTransformer(transformers=[('simpleimputer-1',\n",
       "                                                  SimpleImputer(),\n",
       "                                                  ['cores',\n",
       "                                                   'core base speed (GHz)',\n",
       "                                                   'core boost speed (GHz)',\n",
       "                                                   'ram cap (GB)', 'ssd (GB)'...\n",
       "                                                                   SimpleImputer(strategy='most_frequent')),\n",
       "                                                                  ('onehotencoder',\n",
       "                                                                   OneHotEncoder(handle_unknown='ignore'))]),\n",
       "                                                  ['producer', 'ram type',\n",
       "                                                   'gpu prod', 'screen type',\n",
       "                                                   'os']),\n",
       "                                                 ('simpleimputer-2',\n",
       "                                                  SimpleImputer(strategy='most_frequent'),\n",
       "                                                  ['intel_processor_model',\n",
       "                                                   'amd_processor_model'])])),\n",
       "                ('standardscaler', StandardScaler()),\n",
       "                ('sgdregressor',\n",
       "                 SGDRegressor(alpha=100, penalty='l1', random_state=0))])</pre></div></div></div><div class=\"sk-serial\"><div class=\"sk-item\"><div class=\"sk-estimator sk-toggleable\"><input class=\"sk-toggleable__control sk-hidden--visually\" id=\"d51de75f-023e-45fe-8901-fa6a12a1ff11\" type=\"checkbox\" ><label class=\"sk-toggleable__label\" for=\"d51de75f-023e-45fe-8901-fa6a12a1ff11\">FunctionTransformer</label><div class=\"sk-toggleable__content\"><pre>FunctionTransformer(func=<function split_processor_model at 0x000001E46DB6BDC0>)</pre></div></div></div><div class=\"sk-item\"><div class=\"sk-estimator sk-toggleable\"><input class=\"sk-toggleable__control sk-hidden--visually\" id=\"c8fec57b-b18c-4332-9b0f-fea8a310ec68\" type=\"checkbox\" ><label class=\"sk-toggleable__label\" for=\"c8fec57b-b18c-4332-9b0f-fea8a310ec68\">ColAdderDropper</label><div class=\"sk-toggleable__content\"><pre>ColAdderDropper(num_top_os=6, num_top_producers=7)</pre></div></div></div><div class=\"sk-item sk-dashed-wrapped\"><div class=\"sk-label-container\"><div class=\"sk-label sk-toggleable\"><input class=\"sk-toggleable__control sk-hidden--visually\" id=\"68049bed-458e-431b-9321-231e08b432be\" type=\"checkbox\" ><label class=\"sk-toggleable__label\" for=\"68049bed-458e-431b-9321-231e08b432be\">columntransformer: ColumnTransformer</label><div class=\"sk-toggleable__content\"><pre>ColumnTransformer(transformers=[('simpleimputer-1', SimpleImputer(),\n",
       "                                 ['cores', 'core base speed (GHz)',\n",
       "                                  'core boost speed (GHz)', 'ram cap (GB)',\n",
       "                                  'ssd (GB)', 'hdd (GB)', 'gpu size (MB)',\n",
       "                                  'gpu base speed (GHz)',\n",
       "                                  'gpu boost speed (GHz)', 'screen size (inch)',\n",
       "                                  'screen horizontal resolution',\n",
       "                                  'screen vertical resolution', 'sRGB (%)',\n",
       "                                  'weight (kg)', 'battery capacity (WHr)']),\n",
       "                                ('pipeline',\n",
       "                                 Pipeline(steps=[('simpleimputer',\n",
       "                                                  SimpleImputer(strategy='most_frequent')),\n",
       "                                                 ('onehotencoder',\n",
       "                                                  OneHotEncoder(handle_unknown='ignore'))]),\n",
       "                                 ['producer', 'ram type', 'gpu prod',\n",
       "                                  'screen type', 'os']),\n",
       "                                ('simpleimputer-2',\n",
       "                                 SimpleImputer(strategy='most_frequent'),\n",
       "                                 ['intel_processor_model',\n",
       "                                  'amd_processor_model'])])</pre></div></div></div><div class=\"sk-parallel\"><div class=\"sk-parallel-item\"><div class=\"sk-item\"><div class=\"sk-label-container\"><div class=\"sk-label sk-toggleable\"><input class=\"sk-toggleable__control sk-hidden--visually\" id=\"7a07dbd5-cfa7-45d1-8168-696d7b839b72\" type=\"checkbox\" ><label class=\"sk-toggleable__label\" for=\"7a07dbd5-cfa7-45d1-8168-696d7b839b72\">simpleimputer-1</label><div class=\"sk-toggleable__content\"><pre>['cores', 'core base speed (GHz)', 'core boost speed (GHz)', 'ram cap (GB)', 'ssd (GB)', 'hdd (GB)', 'gpu size (MB)', 'gpu base speed (GHz)', 'gpu boost speed (GHz)', 'screen size (inch)', 'screen horizontal resolution', 'screen vertical resolution', 'sRGB (%)', 'weight (kg)', 'battery capacity (WHr)']</pre></div></div></div><div class=\"sk-serial\"><div class=\"sk-item\"><div class=\"sk-estimator sk-toggleable\"><input class=\"sk-toggleable__control sk-hidden--visually\" id=\"bcdea422-3228-4f13-ac02-1394ba090e01\" type=\"checkbox\" ><label class=\"sk-toggleable__label\" for=\"bcdea422-3228-4f13-ac02-1394ba090e01\">SimpleImputer</label><div class=\"sk-toggleable__content\"><pre>SimpleImputer()</pre></div></div></div></div></div></div><div class=\"sk-parallel-item\"><div class=\"sk-item\"><div class=\"sk-label-container\"><div class=\"sk-label sk-toggleable\"><input class=\"sk-toggleable__control sk-hidden--visually\" id=\"1db9ca64-374e-4485-ab78-1643699a6799\" type=\"checkbox\" ><label class=\"sk-toggleable__label\" for=\"1db9ca64-374e-4485-ab78-1643699a6799\">pipeline</label><div class=\"sk-toggleable__content\"><pre>['producer', 'ram type', 'gpu prod', 'screen type', 'os']</pre></div></div></div><div class=\"sk-serial\"><div class=\"sk-item\"><div class=\"sk-serial\"><div class=\"sk-item\"><div class=\"sk-estimator sk-toggleable\"><input class=\"sk-toggleable__control sk-hidden--visually\" id=\"f23d786f-6592-4cba-aa1c-47b3c1ed3a6f\" type=\"checkbox\" ><label class=\"sk-toggleable__label\" for=\"f23d786f-6592-4cba-aa1c-47b3c1ed3a6f\">SimpleImputer</label><div class=\"sk-toggleable__content\"><pre>SimpleImputer(strategy='most_frequent')</pre></div></div></div><div class=\"sk-item\"><div class=\"sk-estimator sk-toggleable\"><input class=\"sk-toggleable__control sk-hidden--visually\" id=\"8e59fe10-725b-4b8e-b944-aab5821fc00b\" type=\"checkbox\" ><label class=\"sk-toggleable__label\" for=\"8e59fe10-725b-4b8e-b944-aab5821fc00b\">OneHotEncoder</label><div class=\"sk-toggleable__content\"><pre>OneHotEncoder(handle_unknown='ignore')</pre></div></div></div></div></div></div></div></div><div class=\"sk-parallel-item\"><div class=\"sk-item\"><div class=\"sk-label-container\"><div class=\"sk-label sk-toggleable\"><input class=\"sk-toggleable__control sk-hidden--visually\" id=\"1fc966c8-a220-4629-957b-3cb4a11abd34\" type=\"checkbox\" ><label class=\"sk-toggleable__label\" for=\"1fc966c8-a220-4629-957b-3cb4a11abd34\">simpleimputer-2</label><div class=\"sk-toggleable__content\"><pre>['intel_processor_model', 'amd_processor_model']</pre></div></div></div><div class=\"sk-serial\"><div class=\"sk-item\"><div class=\"sk-estimator sk-toggleable\"><input class=\"sk-toggleable__control sk-hidden--visually\" id=\"1205bd68-70c7-4002-85e7-461aab55b2c4\" type=\"checkbox\" ><label class=\"sk-toggleable__label\" for=\"1205bd68-70c7-4002-85e7-461aab55b2c4\">SimpleImputer</label><div class=\"sk-toggleable__content\"><pre>SimpleImputer(strategy='most_frequent')</pre></div></div></div></div></div></div></div></div><div class=\"sk-item\"><div class=\"sk-estimator sk-toggleable\"><input class=\"sk-toggleable__control sk-hidden--visually\" id=\"0a764d23-31dc-40b3-ad4e-18abe0d4c393\" type=\"checkbox\" ><label class=\"sk-toggleable__label\" for=\"0a764d23-31dc-40b3-ad4e-18abe0d4c393\">StandardScaler</label><div class=\"sk-toggleable__content\"><pre>StandardScaler()</pre></div></div></div><div class=\"sk-item\"><div class=\"sk-estimator sk-toggleable\"><input class=\"sk-toggleable__control sk-hidden--visually\" id=\"aba8432a-7be9-43b7-ac24-913d21c9550c\" type=\"checkbox\" ><label class=\"sk-toggleable__label\" for=\"aba8432a-7be9-43b7-ac24-913d21c9550c\">SGDRegressor</label><div class=\"sk-toggleable__content\"><pre>SGDRegressor(alpha=100, penalty='l1', random_state=0)</pre></div></div></div></div></div></div></div>"
      ],
      "text/plain": [
       "Pipeline(steps=[('functiontransformer',\n",
       "                 FunctionTransformer(func=<function split_processor_model at 0x000001E46DB6BDC0>)),\n",
       "                ('coladderdropper',\n",
       "                 ColAdderDropper(num_top_os=6, num_top_producers=7)),\n",
       "                ('columntransformer',\n",
       "                 ColumnTransformer(transformers=[('simpleimputer-1',\n",
       "                                                  SimpleImputer(),\n",
       "                                                  ['cores',\n",
       "                                                   'core base speed (GHz)',\n",
       "                                                   'core boost speed (GHz)',\n",
       "                                                   'ram cap (GB)', 'ssd (GB)'...\n",
       "                                                                   SimpleImputer(strategy='most_frequent')),\n",
       "                                                                  ('onehotencoder',\n",
       "                                                                   OneHotEncoder(handle_unknown='ignore'))]),\n",
       "                                                  ['producer', 'ram type',\n",
       "                                                   'gpu prod', 'screen type',\n",
       "                                                   'os']),\n",
       "                                                 ('simpleimputer-2',\n",
       "                                                  SimpleImputer(strategy='most_frequent'),\n",
       "                                                  ['intel_processor_model',\n",
       "                                                   'amd_processor_model'])])),\n",
       "                ('standardscaler', StandardScaler()),\n",
       "                ('sgdregressor',\n",
       "                 SGDRegressor(alpha=100, penalty='l1', random_state=0))])"
      ]
     },
     "execution_count": 33,
     "metadata": {},
     "output_type": "execute_result"
    }
   ],
   "source": [
    "full_pipeline = make_pipeline(FunctionTransformer(split_processor_model), \n",
    "                              ColAdderDropper(num_top_producers=4, num_top_os=4),\n",
    "                              column_transformer, StandardScaler(),\n",
    "                              SGDRegressor(penalty='l1', random_state=0))\n",
    "full_pipeline.set_params(coladderdropper__num_top_producers=num_top_producers, coladderdropper__num_top_os=num_top_os, sgdregressor__alpha=alpha)\n",
    "full_pipeline.fit(X_df, y_sr)"
   ]
  },
  {
   "cell_type": "markdown",
   "metadata": {},
   "source": [
    "#### Độ lỗi trên tập Test"
   ]
  },
  {
   "cell_type": "code",
   "execution_count": 34,
   "metadata": {},
   "outputs": [
    {
     "data": {
      "text/plain": [
       "32.978945109747855"
      ]
     },
     "execution_count": 34,
     "metadata": {},
     "output_type": "execute_result"
    }
   ],
   "source": [
    "# Đặt lại baseline_preds\n",
    "baseline_preds = y_sr.mean()\n",
    "100 - compute_rr(test_y_sr, full_pipeline.predict(test_X_df), baseline_preds) * 100"
   ]
  },
  {
   "cell_type": "markdown",
   "metadata": {},
   "source": [
    "---"
   ]
  },
  {
   "cell_type": "markdown",
   "metadata": {},
   "source": [
    "# NHÌN LẠI QUÁ TRÌNH LÀM ĐỒ ÁN"
   ]
  },
  {
   "cell_type": "markdown",
   "metadata": {},
   "source": [
    "### Những khó khăn đã gặp phải:\n",
    "- Trong quá trình tìm chủ đề: phải chọn được chủ đề phù hợp với khả năng (phải lấy được dữ liệu và tìm hiểu về các thuộc tính để xử lý dữ liệu)\n",
    "- Trong quá trình thu thập dữ liệu: khó khăn trong việc tìm kiếm API (phải tìm được API đáng tin cậy, dữ liệu rõ ràng) và lấy dữ liệu tự động từ API - số lượt request tối đa mỗi ngày chỉ có 1000 lần (1000 lần thì chỉ lấy được khoảng 400-500 mẫu) dẫn đến tốn thời gian trong việc thu thập dữ liệu\n",
    "- Trong quá trình tiền xử lý: không có khó khăn\n",
    "- Trong quá trình mô hình hóa: Khó khăn trong việc lựa chọn mô hình và các tham số cho mô hình cần phải tìm hiểu để chọn cho hợp lý: Mô hình MLP không hội tụ được và cho độ lỗi quá cao, Mô hình SGD với tham số penalty mặc định (L2) thì gặp phải vấn đề overfitting"
   ]
  },
  {
   "cell_type": "markdown",
   "metadata": {},
   "source": [
    "### Những gì đã học được:\n",
    "- Hiểu rõ thêm về quy trình thu thập, xử lý và mô hình hóa dữ liệu\n",
    "- Học được cách làm việc nhóm trên Github\n",
    "- Cách code để thu thập dữ liệu tự động từ API\n",
    "- Hiểu thêm về các thuật toán mô hình hóa và các tham số\n",
    "- Không phải model có độ lỗi trên tập validation thấp thì sẽ tốt khi chạy trên tập kiểm tra"
   ]
  },
  {
   "cell_type": "markdown",
   "metadata": {},
   "source": [
    "### Những cải thiện nếu có thêm thời gian:\n",
    "- Cải thiện mô hình:\n",
    "    - Thu thập thêm dữ liệu\n",
    "    - kiểm tra lại dữ liệu đã thu thập, bỏ những mẫu dữ liệu nhiễu, không chính xác\n",
    "    - Tìm hiểu thêm để lựa chọn thêm thuộc tính hoặc xóa bỏ các thuộc tính không cần thiết\n",
    "    - Tìm hiểu thêm về các thuật toán mô hình hóa để lựa chọn và đặt các tham số phù hợp với bài toán hơn\n",
    "- Viết slide báo cáo hoàn chỉnh hơn\n",
    "- Tìm hiểu thêm về Github để làm việc nhóm hiệu quả hơn"
   ]
  },
  {
   "cell_type": "markdown",
   "metadata": {},
   "source": [
    "---"
   ]
  },
  {
   "cell_type": "markdown",
   "metadata": {},
   "source": [
    "# TÀI LIỆU THAM KHẢO"
   ]
  },
  {
   "cell_type": "markdown",
   "metadata": {},
   "source": [
    "1. scikit-learn.org\n",
    "2. Slide bài giảng môn \"Nhập môn Khoa học Dữ liệu\" của thầy Nguyễn Trần Trung Kiên\n",
    "3. Các bài tập và các file Demo môn \"Nhập môn Khoa học Dữ liệu\" của thầy Nguyễn Trần Trung Kiên"
   ]
  }
 ],
 "metadata": {
  "kernelspec": {
   "display_name": "Python 3",
   "language": "python",
   "name": "python3"
  },
  "language_info": {
   "codemirror_mode": {
    "name": "ipython",
    "version": 3
   },
   "file_extension": ".py",
   "mimetype": "text/x-python",
   "name": "python",
   "nbconvert_exporter": "python",
   "pygments_lexer": "ipython3",
   "version": "3.8.3"
  }
 },
 "nbformat": 4,
 "nbformat_minor": 4
}
